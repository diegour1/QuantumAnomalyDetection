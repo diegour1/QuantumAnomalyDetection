{
  "cells": [
    {
      "cell_type": "markdown",
      "metadata": {
        "id": "Gjduwd_1mBcJ"
      },
      "source": [
        "# Density Estimation with Adaptative RFF and DMKDE quantum circuit in quantum simulator"
      ]
    },
    {
      "cell_type": "markdown",
      "metadata": {
        "id": "mwEUszsNJoX0"
      },
      "source": [
        "## Libraries"
      ]
    },
    {
      "cell_type": "code",
      "execution_count": 1,
      "metadata": {
        "colab": {
          "base_uri": "https://localhost:8080/"
        },
        "id": "ktqWG1v8mKjc",
        "outputId": "238021c5-904a-4942-a376-50c7019b372f"
      },
      "outputs": [
        {
          "output_type": "stream",
          "name": "stdout",
          "text": [
            "Looking in indexes: https://pypi.org/simple, https://us-python.pkg.dev/colab-wheels/public/simple/\n",
            "Collecting qiskit\n",
            "  Downloading qiskit-0.36.2.tar.gz (13 kB)\n",
            "Collecting qiskit-terra==0.20.2\n",
            "  Downloading qiskit_terra-0.20.2-cp37-cp37m-manylinux_2_17_x86_64.manylinux2014_x86_64.whl (6.5 MB)\n",
            "\u001b[K     |████████████████████████████████| 6.5 MB 6.1 MB/s \n",
            "\u001b[?25hCollecting qiskit-aer==0.10.4\n",
            "  Downloading qiskit_aer-0.10.4-cp37-cp37m-manylinux_2_12_x86_64.manylinux2010_x86_64.whl (18.0 MB)\n",
            "\u001b[K     |████████████████████████████████| 18.0 MB 161 kB/s \n",
            "\u001b[?25hCollecting qiskit-ibmq-provider==0.19.1\n",
            "  Downloading qiskit_ibmq_provider-0.19.1-py3-none-any.whl (240 kB)\n",
            "\u001b[K     |████████████████████████████████| 240 kB 18.0 MB/s \n",
            "\u001b[?25hCollecting qiskit-ignis==0.7.1\n",
            "  Downloading qiskit_ignis-0.7.1-py3-none-any.whl (198 kB)\n",
            "\u001b[K     |████████████████████████████████| 198 kB 46.5 MB/s \n",
            "\u001b[?25hRequirement already satisfied: scipy>=1.0 in /usr/local/lib/python3.7/dist-packages (from qiskit-aer==0.10.4->qiskit) (1.4.1)\n",
            "Requirement already satisfied: numpy>=1.16.3 in /usr/local/lib/python3.7/dist-packages (from qiskit-aer==0.10.4->qiskit) (1.21.6)\n",
            "Requirement already satisfied: urllib3>=1.21.1 in /usr/local/lib/python3.7/dist-packages (from qiskit-ibmq-provider==0.19.1->qiskit) (1.24.3)\n",
            "Collecting websocket-client>=1.0.1\n",
            "  Downloading websocket_client-1.3.2-py3-none-any.whl (54 kB)\n",
            "\u001b[K     |████████████████████████████████| 54 kB 2.1 MB/s \n",
            "\u001b[?25hRequirement already satisfied: requests>=2.19 in /usr/local/lib/python3.7/dist-packages (from qiskit-ibmq-provider==0.19.1->qiskit) (2.23.0)\n",
            "Collecting requests-ntlm>=1.1.0\n",
            "  Downloading requests_ntlm-1.1.0-py2.py3-none-any.whl (5.7 kB)\n",
            "Requirement already satisfied: python-dateutil>=2.8.0 in /usr/local/lib/python3.7/dist-packages (from qiskit-ibmq-provider==0.19.1->qiskit) (2.8.2)\n",
            "Collecting websockets>=10.0\n",
            "  Downloading websockets-10.3-cp37-cp37m-manylinux_2_5_x86_64.manylinux1_x86_64.manylinux_2_12_x86_64.manylinux2010_x86_64.whl (112 kB)\n",
            "\u001b[K     |████████████████████████████████| 112 kB 49.8 MB/s \n",
            "\u001b[?25hRequirement already satisfied: setuptools>=40.1.0 in /usr/local/lib/python3.7/dist-packages (from qiskit-ignis==0.7.1->qiskit) (57.4.0)\n",
            "Collecting retworkx>=0.8.0\n",
            "  Downloading retworkx-0.11.0-cp37-cp37m-manylinux_2_5_x86_64.manylinux1_x86_64.manylinux_2_12_x86_64.manylinux2010_x86_64.whl (1.6 MB)\n",
            "\u001b[K     |████████████████████████████████| 1.6 MB 38.5 MB/s \n",
            "\u001b[?25hRequirement already satisfied: dill>=0.3 in /usr/local/lib/python3.7/dist-packages (from qiskit-terra==0.20.2->qiskit) (0.3.5.1)\n",
            "Collecting symengine>=0.9\n",
            "  Downloading symengine-0.9.2-cp37-cp37m-manylinux2010_x86_64.whl (37.5 MB)\n",
            "\u001b[K     |████████████████████████████████| 37.5 MB 4.5 MB/s \n",
            "\u001b[?25hCollecting python-constraint>=1.4\n",
            "  Downloading python-constraint-1.4.0.tar.bz2 (18 kB)\n",
            "Collecting tweedledum<2.0,>=1.1\n",
            "  Downloading tweedledum-1.1.1-cp37-cp37m-manylinux_2_12_x86_64.manylinux2010_x86_64.whl (943 kB)\n",
            "\u001b[K     |████████████████████████████████| 943 kB 19.3 MB/s \n",
            "\u001b[?25hRequirement already satisfied: psutil>=5 in /usr/local/lib/python3.7/dist-packages (from qiskit-terra==0.20.2->qiskit) (5.4.8)\n",
            "Collecting ply>=3.10\n",
            "  Downloading ply-3.11-py2.py3-none-any.whl (49 kB)\n",
            "\u001b[K     |████████████████████████████████| 49 kB 3.9 MB/s \n",
            "\u001b[?25hCollecting stevedore>=3.0.0\n",
            "  Downloading stevedore-3.5.0-py3-none-any.whl (49 kB)\n",
            "\u001b[K     |████████████████████████████████| 49 kB 2.9 MB/s \n",
            "\u001b[?25hCollecting scipy>=1.0\n",
            "  Downloading scipy-1.7.3-cp37-cp37m-manylinux_2_12_x86_64.manylinux2010_x86_64.whl (38.1 MB)\n",
            "\u001b[K     |████████████████████████████████| 38.1 MB 62.2 MB/s \n",
            "\u001b[?25hRequirement already satisfied: sympy>=1.3 in /usr/local/lib/python3.7/dist-packages (from qiskit-terra==0.20.2->qiskit) (1.7.1)\n",
            "Requirement already satisfied: six>=1.5 in /usr/local/lib/python3.7/dist-packages (from python-dateutil>=2.8.0->qiskit-ibmq-provider==0.19.1->qiskit) (1.15.0)\n",
            "Requirement already satisfied: certifi>=2017.4.17 in /usr/local/lib/python3.7/dist-packages (from requests>=2.19->qiskit-ibmq-provider==0.19.1->qiskit) (2022.5.18.1)\n",
            "Requirement already satisfied: chardet<4,>=3.0.2 in /usr/local/lib/python3.7/dist-packages (from requests>=2.19->qiskit-ibmq-provider==0.19.1->qiskit) (3.0.4)\n",
            "Requirement already satisfied: idna<3,>=2.5 in /usr/local/lib/python3.7/dist-packages (from requests>=2.19->qiskit-ibmq-provider==0.19.1->qiskit) (2.10)\n",
            "Collecting ntlm-auth>=1.0.2\n",
            "  Downloading ntlm_auth-1.5.0-py2.py3-none-any.whl (29 kB)\n",
            "Collecting cryptography>=1.3\n",
            "  Downloading cryptography-37.0.2-cp36-abi3-manylinux_2_24_x86_64.whl (4.0 MB)\n",
            "\u001b[K     |████████████████████████████████| 4.0 MB 8.9 MB/s \n",
            "\u001b[?25hRequirement already satisfied: cffi>=1.12 in /usr/local/lib/python3.7/dist-packages (from cryptography>=1.3->requests-ntlm>=1.1.0->qiskit-ibmq-provider==0.19.1->qiskit) (1.15.0)\n",
            "Requirement already satisfied: pycparser in /usr/local/lib/python3.7/dist-packages (from cffi>=1.12->cryptography>=1.3->requests-ntlm>=1.1.0->qiskit-ibmq-provider==0.19.1->qiskit) (2.21)\n",
            "Requirement already satisfied: importlib-metadata>=1.7.0 in /usr/local/lib/python3.7/dist-packages (from stevedore>=3.0.0->qiskit-terra==0.20.2->qiskit) (4.11.4)\n",
            "Collecting pbr!=2.1.0,>=2.0.0\n",
            "  Downloading pbr-5.9.0-py2.py3-none-any.whl (112 kB)\n",
            "\u001b[K     |████████████████████████████████| 112 kB 52.5 MB/s \n",
            "\u001b[?25hRequirement already satisfied: typing-extensions>=3.6.4 in /usr/local/lib/python3.7/dist-packages (from importlib-metadata>=1.7.0->stevedore>=3.0.0->qiskit-terra==0.20.2->qiskit) (4.2.0)\n",
            "Requirement already satisfied: zipp>=0.5 in /usr/local/lib/python3.7/dist-packages (from importlib-metadata>=1.7.0->stevedore>=3.0.0->qiskit-terra==0.20.2->qiskit) (3.8.0)\n",
            "Requirement already satisfied: mpmath>=0.19 in /usr/local/lib/python3.7/dist-packages (from sympy>=1.3->qiskit-terra==0.20.2->qiskit) (1.2.1)\n",
            "Building wheels for collected packages: qiskit, python-constraint\n",
            "  Building wheel for qiskit (setup.py) ... \u001b[?25l\u001b[?25hdone\n",
            "  Created wheel for qiskit: filename=qiskit-0.36.2-py3-none-any.whl size=11933 sha256=f047dcecd5b6fdc6c30f13b5a79270dbbffd6df2ee10a1290c7d5612e9b0798a\n",
            "  Stored in directory: /root/.cache/pip/wheels/36/f7/83/e2755ad17aa35bc145fce34e184aaf394a265a978d95caaabf\n",
            "  Building wheel for python-constraint (setup.py) ... \u001b[?25l\u001b[?25hdone\n",
            "  Created wheel for python-constraint: filename=python_constraint-1.4.0-py2.py3-none-any.whl size=24081 sha256=07d2193ac69c8759d69c542c836a0b002380c8bbcbbb9c4906566a73156e89dc\n",
            "  Stored in directory: /root/.cache/pip/wheels/07/27/db/1222c80eb1e431f3d2199c12569cb1cac60f562a451fe30479\n",
            "Successfully built qiskit python-constraint\n",
            "Installing collected packages: pbr, tweedledum, symengine, stevedore, scipy, retworkx, python-constraint, ply, ntlm-auth, cryptography, websockets, websocket-client, requests-ntlm, qiskit-terra, qiskit-ignis, qiskit-ibmq-provider, qiskit-aer, qiskit\n",
            "  Attempting uninstall: scipy\n",
            "    Found existing installation: scipy 1.4.1\n",
            "    Uninstalling scipy-1.4.1:\n",
            "      Successfully uninstalled scipy-1.4.1\n",
            "\u001b[31mERROR: pip's dependency resolver does not currently take into account all the packages that are installed. This behaviour is the source of the following dependency conflicts.\n",
            "albumentations 0.1.12 requires imgaug<0.2.7,>=0.2.5, but you have imgaug 0.2.9 which is incompatible.\u001b[0m\n",
            "Successfully installed cryptography-37.0.2 ntlm-auth-1.5.0 pbr-5.9.0 ply-3.11 python-constraint-1.4.0 qiskit-0.36.2 qiskit-aer-0.10.4 qiskit-ibmq-provider-0.19.1 qiskit-ignis-0.7.1 qiskit-terra-0.20.2 requests-ntlm-1.1.0 retworkx-0.11.0 scipy-1.7.3 stevedore-3.5.0 symengine-0.9.2 tweedledum-1.1.1 websocket-client-1.3.2 websockets-10.3\n",
            "Looking in indexes: https://pypi.org/simple, https://us-python.pkg.dev/colab-wheels/public/simple/\n",
            "Collecting pylatexenc\n",
            "  Downloading pylatexenc-2.10.tar.gz (162 kB)\n",
            "\u001b[K     |████████████████████████████████| 162 kB 8.1 MB/s \n",
            "\u001b[?25hBuilding wheels for collected packages: pylatexenc\n",
            "  Building wheel for pylatexenc (setup.py) ... \u001b[?25l\u001b[?25hdone\n",
            "  Created wheel for pylatexenc: filename=pylatexenc-2.10-py3-none-any.whl size=136835 sha256=50d5aa77775511dc4b8f724a76061588dfdd5dc7b2cae743cd16950b6c9e3344\n",
            "  Stored in directory: /root/.cache/pip/wheels/f1/8a/f5/33ee79d4473eb201b519fa40f989b842e373237395a3421f52\n",
            "Successfully built pylatexenc\n",
            "Installing collected packages: pylatexenc\n",
            "Successfully installed pylatexenc-2.10\n"
          ]
        }
      ],
      "source": [
        "!pip install qiskit\n",
        "!pip install pylatexenc"
      ]
    },
    {
      "cell_type": "code",
      "execution_count": 2,
      "metadata": {
        "id": "xl1ZExdyqGNk"
      },
      "outputs": [],
      "source": [
        "from qiskit import QuantumCircuit, transpile\n",
        "from qiskit.quantum_info import Statevector\n",
        "from qiskit.visualization import plot_bloch_multivector\n",
        "from qiskit import QuantumCircuit, Aer, execute\n",
        "from qiskit.extensions import Initialize\n",
        "from qiskit.visualization import plot_histogram\n",
        "from qiskit.providers.aer import StatevectorSimulator\n",
        "import tensorflow as tf\n",
        "\n",
        "import numpy as np\n",
        "backend = Aer.get_backend('qasm_simulator')"
      ]
    },
    {
      "cell_type": "markdown",
      "metadata": {
        "id": "bg5HouMNCobX"
      },
      "source": [
        "## Clone the QMC from GitHUB"
      ]
    },
    {
      "cell_type": "code",
      "execution_count": 3,
      "metadata": {
        "colab": {
          "base_uri": "https://localhost:8080/"
        },
        "id": "iz_g0LI9CBLc",
        "outputId": "aa050790-4532-4ef9-cdbd-00cd7b95c6ea"
      },
      "outputs": [
        {
          "output_type": "stream",
          "name": "stdout",
          "text": [
            "Looking in indexes: https://pypi.org/simple, https://us-python.pkg.dev/colab-wheels/public/simple/\n",
            "Collecting git+https://github.com/fagonzalezo/qmc.git\n",
            "  Cloning https://github.com/fagonzalezo/qmc.git to /tmp/pip-req-build-718702nv\n",
            "  Running command git clone -q https://github.com/fagonzalezo/qmc.git /tmp/pip-req-build-718702nv\n",
            "Requirement already satisfied: scipy in /usr/local/lib/python3.7/dist-packages (from qmc==0.0.1) (1.7.3)\n",
            "Requirement already satisfied: numpy>=1.19.2 in /usr/local/lib/python3.7/dist-packages (from qmc==0.0.1) (1.21.6)\n",
            "Requirement already satisfied: scikit-learn in /usr/local/lib/python3.7/dist-packages (from qmc==0.0.1) (1.0.2)\n",
            "Requirement already satisfied: tensorflow>=2.2.0 in /usr/local/lib/python3.7/dist-packages (from qmc==0.0.1) (2.8.2+zzzcolab20220527125636)\n",
            "Requirement already satisfied: typeguard in /usr/local/lib/python3.7/dist-packages (from qmc==0.0.1) (2.7.1)\n",
            "Requirement already satisfied: six>=1.12.0 in /usr/local/lib/python3.7/dist-packages (from tensorflow>=2.2.0->qmc==0.0.1) (1.15.0)\n",
            "Requirement already satisfied: libclang>=9.0.1 in /usr/local/lib/python3.7/dist-packages (from tensorflow>=2.2.0->qmc==0.0.1) (14.0.1)\n",
            "Requirement already satisfied: tensorboard<2.9,>=2.8 in /usr/local/lib/python3.7/dist-packages (from tensorflow>=2.2.0->qmc==0.0.1) (2.8.0)\n",
            "Requirement already satisfied: setuptools in /usr/local/lib/python3.7/dist-packages (from tensorflow>=2.2.0->qmc==0.0.1) (57.4.0)\n",
            "Requirement already satisfied: astunparse>=1.6.0 in /usr/local/lib/python3.7/dist-packages (from tensorflow>=2.2.0->qmc==0.0.1) (1.6.3)\n",
            "Requirement already satisfied: tensorflow-estimator<2.9,>=2.8 in /usr/local/lib/python3.7/dist-packages (from tensorflow>=2.2.0->qmc==0.0.1) (2.8.0)\n",
            "Requirement already satisfied: opt-einsum>=2.3.2 in /usr/local/lib/python3.7/dist-packages (from tensorflow>=2.2.0->qmc==0.0.1) (3.3.0)\n",
            "Requirement already satisfied: termcolor>=1.1.0 in /usr/local/lib/python3.7/dist-packages (from tensorflow>=2.2.0->qmc==0.0.1) (1.1.0)\n",
            "Requirement already satisfied: absl-py>=0.4.0 in /usr/local/lib/python3.7/dist-packages (from tensorflow>=2.2.0->qmc==0.0.1) (1.0.0)\n",
            "Requirement already satisfied: keras-preprocessing>=1.1.1 in /usr/local/lib/python3.7/dist-packages (from tensorflow>=2.2.0->qmc==0.0.1) (1.1.2)\n",
            "Requirement already satisfied: h5py>=2.9.0 in /usr/local/lib/python3.7/dist-packages (from tensorflow>=2.2.0->qmc==0.0.1) (3.1.0)\n",
            "Requirement already satisfied: typing-extensions>=3.6.6 in /usr/local/lib/python3.7/dist-packages (from tensorflow>=2.2.0->qmc==0.0.1) (4.2.0)\n",
            "Requirement already satisfied: wrapt>=1.11.0 in /usr/local/lib/python3.7/dist-packages (from tensorflow>=2.2.0->qmc==0.0.1) (1.14.1)\n",
            "Requirement already satisfied: google-pasta>=0.1.1 in /usr/local/lib/python3.7/dist-packages (from tensorflow>=2.2.0->qmc==0.0.1) (0.2.0)\n",
            "Requirement already satisfied: keras<2.9,>=2.8.0rc0 in /usr/local/lib/python3.7/dist-packages (from tensorflow>=2.2.0->qmc==0.0.1) (2.8.0)\n",
            "Requirement already satisfied: gast>=0.2.1 in /usr/local/lib/python3.7/dist-packages (from tensorflow>=2.2.0->qmc==0.0.1) (0.5.3)\n",
            "Requirement already satisfied: protobuf<3.20,>=3.9.2 in /usr/local/lib/python3.7/dist-packages (from tensorflow>=2.2.0->qmc==0.0.1) (3.17.3)\n",
            "Requirement already satisfied: tensorflow-io-gcs-filesystem>=0.23.1 in /usr/local/lib/python3.7/dist-packages (from tensorflow>=2.2.0->qmc==0.0.1) (0.26.0)\n",
            "Requirement already satisfied: flatbuffers>=1.12 in /usr/local/lib/python3.7/dist-packages (from tensorflow>=2.2.0->qmc==0.0.1) (2.0)\n",
            "Requirement already satisfied: grpcio<2.0,>=1.24.3 in /usr/local/lib/python3.7/dist-packages (from tensorflow>=2.2.0->qmc==0.0.1) (1.46.3)\n",
            "Requirement already satisfied: wheel<1.0,>=0.23.0 in /usr/local/lib/python3.7/dist-packages (from astunparse>=1.6.0->tensorflow>=2.2.0->qmc==0.0.1) (0.37.1)\n",
            "Requirement already satisfied: cached-property in /usr/local/lib/python3.7/dist-packages (from h5py>=2.9.0->tensorflow>=2.2.0->qmc==0.0.1) (1.5.2)\n",
            "Requirement already satisfied: google-auth-oauthlib<0.5,>=0.4.1 in /usr/local/lib/python3.7/dist-packages (from tensorboard<2.9,>=2.8->tensorflow>=2.2.0->qmc==0.0.1) (0.4.6)\n",
            "Requirement already satisfied: werkzeug>=0.11.15 in /usr/local/lib/python3.7/dist-packages (from tensorboard<2.9,>=2.8->tensorflow>=2.2.0->qmc==0.0.1) (1.0.1)\n",
            "Requirement already satisfied: google-auth<3,>=1.6.3 in /usr/local/lib/python3.7/dist-packages (from tensorboard<2.9,>=2.8->tensorflow>=2.2.0->qmc==0.0.1) (1.35.0)\n",
            "Requirement already satisfied: tensorboard-data-server<0.7.0,>=0.6.0 in /usr/local/lib/python3.7/dist-packages (from tensorboard<2.9,>=2.8->tensorflow>=2.2.0->qmc==0.0.1) (0.6.1)\n",
            "Requirement already satisfied: tensorboard-plugin-wit>=1.6.0 in /usr/local/lib/python3.7/dist-packages (from tensorboard<2.9,>=2.8->tensorflow>=2.2.0->qmc==0.0.1) (1.8.1)\n",
            "Requirement already satisfied: markdown>=2.6.8 in /usr/local/lib/python3.7/dist-packages (from tensorboard<2.9,>=2.8->tensorflow>=2.2.0->qmc==0.0.1) (3.3.7)\n",
            "Requirement already satisfied: requests<3,>=2.21.0 in /usr/local/lib/python3.7/dist-packages (from tensorboard<2.9,>=2.8->tensorflow>=2.2.0->qmc==0.0.1) (2.23.0)\n",
            "Requirement already satisfied: rsa<5,>=3.1.4 in /usr/local/lib/python3.7/dist-packages (from google-auth<3,>=1.6.3->tensorboard<2.9,>=2.8->tensorflow>=2.2.0->qmc==0.0.1) (4.8)\n",
            "Requirement already satisfied: cachetools<5.0,>=2.0.0 in /usr/local/lib/python3.7/dist-packages (from google-auth<3,>=1.6.3->tensorboard<2.9,>=2.8->tensorflow>=2.2.0->qmc==0.0.1) (4.2.4)\n",
            "Requirement already satisfied: pyasn1-modules>=0.2.1 in /usr/local/lib/python3.7/dist-packages (from google-auth<3,>=1.6.3->tensorboard<2.9,>=2.8->tensorflow>=2.2.0->qmc==0.0.1) (0.2.8)\n",
            "Requirement already satisfied: requests-oauthlib>=0.7.0 in /usr/local/lib/python3.7/dist-packages (from google-auth-oauthlib<0.5,>=0.4.1->tensorboard<2.9,>=2.8->tensorflow>=2.2.0->qmc==0.0.1) (1.3.1)\n",
            "Requirement already satisfied: importlib-metadata>=4.4 in /usr/local/lib/python3.7/dist-packages (from markdown>=2.6.8->tensorboard<2.9,>=2.8->tensorflow>=2.2.0->qmc==0.0.1) (4.11.4)\n",
            "Requirement already satisfied: zipp>=0.5 in /usr/local/lib/python3.7/dist-packages (from importlib-metadata>=4.4->markdown>=2.6.8->tensorboard<2.9,>=2.8->tensorflow>=2.2.0->qmc==0.0.1) (3.8.0)\n",
            "Requirement already satisfied: pyasn1<0.5.0,>=0.4.6 in /usr/local/lib/python3.7/dist-packages (from pyasn1-modules>=0.2.1->google-auth<3,>=1.6.3->tensorboard<2.9,>=2.8->tensorflow>=2.2.0->qmc==0.0.1) (0.4.8)\n",
            "Requirement already satisfied: idna<3,>=2.5 in /usr/local/lib/python3.7/dist-packages (from requests<3,>=2.21.0->tensorboard<2.9,>=2.8->tensorflow>=2.2.0->qmc==0.0.1) (2.10)\n",
            "Requirement already satisfied: urllib3!=1.25.0,!=1.25.1,<1.26,>=1.21.1 in /usr/local/lib/python3.7/dist-packages (from requests<3,>=2.21.0->tensorboard<2.9,>=2.8->tensorflow>=2.2.0->qmc==0.0.1) (1.24.3)\n",
            "Requirement already satisfied: certifi>=2017.4.17 in /usr/local/lib/python3.7/dist-packages (from requests<3,>=2.21.0->tensorboard<2.9,>=2.8->tensorflow>=2.2.0->qmc==0.0.1) (2022.5.18.1)\n",
            "Requirement already satisfied: chardet<4,>=3.0.2 in /usr/local/lib/python3.7/dist-packages (from requests<3,>=2.21.0->tensorboard<2.9,>=2.8->tensorflow>=2.2.0->qmc==0.0.1) (3.0.4)\n",
            "Requirement already satisfied: oauthlib>=3.0.0 in /usr/local/lib/python3.7/dist-packages (from requests-oauthlib>=0.7.0->google-auth-oauthlib<0.5,>=0.4.1->tensorboard<2.9,>=2.8->tensorflow>=2.2.0->qmc==0.0.1) (3.2.0)\n",
            "Requirement already satisfied: threadpoolctl>=2.0.0 in /usr/local/lib/python3.7/dist-packages (from scikit-learn->qmc==0.0.1) (3.1.0)\n",
            "Requirement already satisfied: joblib>=0.11 in /usr/local/lib/python3.7/dist-packages (from scikit-learn->qmc==0.0.1) (1.1.0)\n",
            "Building wheels for collected packages: qmc\n",
            "  Building wheel for qmc (setup.py) ... \u001b[?25l\u001b[?25hdone\n",
            "  Created wheel for qmc: filename=qmc-0.0.1-py3-none-any.whl size=12757 sha256=bb8286974afae88a2c8bcaea7fb3d5c8c284ffd0fb4226a7fe007d1771466606\n",
            "  Stored in directory: /tmp/pip-ephem-wheel-cache-1qpfxf24/wheels/b2/d2/8d/5870208920445c46dfe694f549251e5f63d7afbee56c01f720\n",
            "Successfully built qmc\n",
            "Installing collected packages: qmc\n",
            "Successfully installed qmc-0.0.1\n"
          ]
        }
      ],
      "source": [
        "!pip install git+https://github.com/fagonzalezo/qmc.git"
      ]
    },
    {
      "cell_type": "code",
      "execution_count": 4,
      "metadata": {
        "id": "kmwZ_WBj9lq_"
      },
      "outputs": [],
      "source": [
        "import tensorflow as tf\n",
        "import numpy as np\n",
        "import qmc.tf.layers as layers\n",
        "import qmc.tf.models as models\n",
        "import matplotlib.pyplot as plt\n",
        "from time import time\n",
        "\n",
        "from scipy.stats import norm\n"
      ]
    },
    {
      "cell_type": "markdown",
      "metadata": {
        "id": "4yl1bBNQYzOu"
      },
      "source": [
        "## Mount Google Drive"
      ]
    },
    {
      "cell_type": "code",
      "execution_count": 5,
      "metadata": {
        "colab": {
          "base_uri": "https://localhost:8080/"
        },
        "id": "6wJYWE1nUlre",
        "outputId": "8ac1d611-59ca-4201-a79d-663090ba8bfa"
      },
      "outputs": [
        {
          "output_type": "stream",
          "name": "stdout",
          "text": [
            "Mounted at /content/drive\n"
          ]
        }
      ],
      "source": [
        "from google.colab import drive\n",
        "drive.mount('/content/drive')"
      ]
    },
    {
      "cell_type": "markdown",
      "metadata": {
        "id": "Q9AmgRvr3mtQ"
      },
      "source": [
        "## One dimensional approximation"
      ]
    },
    {
      "cell_type": "code",
      "execution_count": 20,
      "metadata": {
        "colab": {
          "base_uri": "https://localhost:8080/",
          "height": 345
        },
        "id": "_LSTSeBZ3kfK",
        "outputId": "695275f4-ccf5-4c03-bac4-a0729bbfe15b"
      },
      "outputs": [
        {
          "output_type": "stream",
          "name": "stdout",
          "text": [
            "2.0\n"
          ]
        },
        {
          "output_type": "execute_result",
          "data": {
            "text/plain": [
              "<matplotlib.legend.Legend at 0x7fcffa9476d0>"
            ]
          },
          "metadata": {},
          "execution_count": 20
        },
        {
          "output_type": "display_data",
          "data": {
            "text/plain": [
              "<Figure size 396x324 with 1 Axes>"
            ],
            "image/png": "[encoded data removed]"
          },
          "metadata": {
            "needs_background": "light"
          }
        }
      ],
      "source": [
        "import pylab as pl\n",
        "from sklearn.kernel_approximation import RBFSampler\n",
        "\n",
        "def rff_map(x, gamma, n_components, random_state=0):\n",
        "    rbf_feature = RBFSampler(gamma=gamma, n_components=n_components, random_state=random_state)\n",
        "    return rbf_feature.fit_transform(x)\n",
        "\n",
        "def gauss_kernel(x, y, gamma):\n",
        "    return np.exp(-gamma * (x - y) ** 2)\n",
        "\n",
        "mean = np.array([[2.]])\n",
        "sigma = 0.5\n",
        "gamma = 1/(2 * sigma ** 2)\n",
        "print(gamma)\n",
        "\n",
        "n_rffs = 16\n",
        "x = np.linspace(-5.,10.,100)[:, np.newaxis]\n",
        "x_rff = rff_map(x, gamma, n_rffs)\n",
        "mean_rff = rff_map(mean, gamma, n_rffs)\n",
        "gauss_pdf = gauss_kernel(x, mean[0, 0], gamma)\n",
        "rff_pdf = x_rff @ mean_rff.T\n",
        "pl.plot(x, gauss_pdf, 'r-',  alpha=0.6, label='Gaussian kernel')\n",
        "pl.plot(x, rff_pdf, 'b-',  alpha=0.6, label='rff kernel')\n",
        "pl.title(\"$dim = \"+str(n_rffs)+\"$\")\n",
        "pl.legend()"
      ]
    },
    {
      "cell_type": "code",
      "execution_count": 21,
      "metadata": {
        "colab": {
          "base_uri": "https://localhost:8080/",
          "height": 327
        },
        "id": "7opihyAT7c20",
        "outputId": "fac61dcf-930c-4d86-9a48-0cccf0016530"
      },
      "outputs": [
        {
          "output_type": "execute_result",
          "data": {
            "text/plain": [
              "<matplotlib.legend.Legend at 0x7fcffa8b7350>"
            ]
          },
          "metadata": {},
          "execution_count": 21
        },
        {
          "output_type": "display_data",
          "data": {
            "text/plain": [
              "<Figure size 396x324 with 1 Axes>"
            ],
            "image/png": "[encoded data removed]"
          },
          "metadata": {
            "needs_background": "light"
          }
        }
      ],
      "source": [
        "import tensorflow as tf\n",
        "\n",
        "class QFeatureMapAdaptRFF(layers.QFeatureMapRFF):\n",
        "    def __init__(\n",
        "                 self,\n",
        "                 gamma_trainable=True,\n",
        "                 weights_trainable=True,\n",
        "                 **kwargs\n",
        "                 ):\n",
        "        self.g_trainable = gamma_trainable\n",
        "        self.w_trainable = weights_trainable\n",
        "        super().__init__(**kwargs)\n",
        "\n",
        "    def build(self, input_shape):\n",
        "        rbf_sampler = RBFSampler(\n",
        "            gamma=0.5,\n",
        "            n_components=self.dim,\n",
        "            random_state=self.random_state)\n",
        "        x = np.zeros(shape=(1, self.input_dim))\n",
        "        rbf_sampler.fit(x)\n",
        "        self.gamma_val = tf.Variable(\n",
        "            initial_value=self.gamma,\n",
        "            dtype=tf.float32,\n",
        "            trainable=self.g_trainable,\n",
        "            name=\"rff_gamma\")\n",
        "        self.rff_weights = tf.Variable(\n",
        "            initial_value=rbf_sampler.random_weights_,\n",
        "            dtype=tf.float32,\n",
        "            trainable=self.w_trainable,\n",
        "            name=\"rff_weights\")\n",
        "        self.offset = tf.Variable(\n",
        "            initial_value=rbf_sampler.random_offset_,\n",
        "            dtype=tf.float32,\n",
        "            trainable=self.w_trainable,\n",
        "            name=\"offset\")\n",
        "        self.built = True\n",
        "\n",
        "    def call(self, inputs):\n",
        "        vals = tf.sqrt(2 * self.gamma_val) * tf.matmul(inputs, self.rff_weights) + self.offset # original code\n",
        "        vals = tf.cos(vals)\n",
        "        vals = vals * tf.sqrt(2. / self.dim)\n",
        "        norms = tf.linalg.norm(vals, axis=-1)\n",
        "        psi = vals / tf.expand_dims(norms, axis=-1)\n",
        "        return psi\n",
        "\n",
        "class DMRFF(tf.keras.Model):\n",
        "    def __init__(self,\n",
        "                 dim_x,\n",
        "                 num_rff,\n",
        "                 gamma=1,\n",
        "                 random_state=None):\n",
        "        super().__init__()\n",
        "        self.rff_layer = QFeatureMapAdaptRFF(input_dim=dim_x, dim=num_rff, gamma=gamma, random_state=random_state, gamma_trainable=False) #old framework \n",
        "\n",
        "    def call(self, inputs):\n",
        "        x1 = inputs[:, 0]\n",
        "        x2 = inputs[:, 1]\n",
        "        phi1 = self.rff_layer(x1)\n",
        "        phi2 = self.rff_layer(x2)\n",
        "        dot = tf.einsum('...i,...i->...', phi1, phi2) ** 2\n",
        "        return dot\n",
        "\n",
        "def calc_rbf(dmrff, x1, x2):\n",
        "    return dmrff.predict(np.concatenate([x1[:, np.newaxis, ...], \n",
        "                                         x2[:, np.newaxis, ...]], \n",
        "                                        axis=1),\n",
        "                         batch_size=256)\n",
        "\n",
        "dmrff = DMRFF(dim_x=1, num_rff=n_rffs, gamma=gamma / 2, random_state=np.random.randint(10000))\n",
        "dm_rff_pdf = calc_rbf(dmrff, np.broadcast_to(mean, x.shape), x)\n",
        "pl.plot(x, gauss_pdf, 'r-',  alpha=0.6, label='Gaussian kernel')\n",
        "pl.plot(x, dm_rff_pdf, 'b-',  alpha=0.6, label='dmrff kernel')\n",
        "pl.title(\"$dim = \"+str(n_rffs)+\"$\")\n",
        "pl.legend()"
      ]
    },
    {
      "cell_type": "code",
      "execution_count": 22,
      "metadata": {
        "colab": {
          "base_uri": "https://localhost:8080/"
        },
        "id": "KJS1KeM0xDz9",
        "outputId": "76309919-0596-4520-fee4-a381a4be74d7"
      },
      "outputs": [
        {
          "output_type": "stream",
          "name": "stdout",
          "text": [
            "Mean: [-0.3307618]\n",
            "Std: [1.0826544]\n",
            "Gamma: 1.0\n"
          ]
        }
      ],
      "source": [
        "print(f'Mean: {np.mean(dmrff.rff_layer.rff_weights, axis=1)}')\n",
        "print(f'Std: {np.std(dmrff.rff_layer.rff_weights, axis=1)}')\n",
        "print(f'Gamma: {dmrff.rff_layer.gamma_val.numpy()}')"
      ]
    },
    {
      "cell_type": "code",
      "execution_count": 23,
      "metadata": {
        "colab": {
          "base_uri": "https://localhost:8080/"
        },
        "id": "rDrmpPiOUWAz",
        "outputId": "f953aa93-1994-4e4e-968e-719527d3e143"
      },
      "outputs": [
        {
          "output_type": "stream",
          "name": "stdout",
          "text": [
            "2.0\n"
          ]
        }
      ],
      "source": [
        "num_samples = 2000\n",
        "rnd_idx1 = np.random.randint(x.shape[0],size=(num_samples, ))\n",
        "rnd_idx2 = np.random.randint(x.shape[0],size=(num_samples, ))\n",
        "x_train = np.concatenate([x[rnd_idx1][:, np.newaxis, ...], \n",
        "                          x[rnd_idx2][:, np.newaxis, ...]], \n",
        "                         axis=1) \n",
        "\n",
        "print(gamma)\n",
        "y_train = gauss_kernel(x_train[:, 0, ...], x_train[:, 1, ...], gamma=gamma)"
      ]
    },
    {
      "cell_type": "code",
      "execution_count": 24,
      "metadata": {
        "colab": {
          "base_uri": "https://localhost:8080/"
        },
        "id": "0z4ayA9ObSlj",
        "outputId": "33c8186d-5f8b-48f9-df30-b88a50071ff6"
      },
      "outputs": [
        {
          "output_type": "stream",
          "name": "stdout",
          "text": [
            "Epoch 1/100\n",
            "63/63 [==============================] - 1s 1ms/step - loss: 0.0062\n",
            "Epoch 2/100\n",
            "63/63 [==============================] - 0s 1ms/step - loss: 0.0037\n",
            "Epoch 3/100\n",
            "63/63 [==============================] - 0s 1ms/step - loss: 0.0028\n",
            "Epoch 4/100\n",
            "63/63 [==============================] - 0s 1ms/step - loss: 0.0024\n",
            "Epoch 5/100\n",
            "63/63 [==============================] - 0s 1ms/step - loss: 0.0022\n",
            "Epoch 6/100\n",
            "63/63 [==============================] - 0s 2ms/step - loss: 0.0021\n",
            "Epoch 7/100\n",
            "63/63 [==============================] - 0s 1ms/step - loss: 0.0020\n",
            "Epoch 8/100\n",
            "63/63 [==============================] - 0s 2ms/step - loss: 0.0019\n",
            "Epoch 9/100\n",
            "63/63 [==============================] - 0s 1ms/step - loss: 0.0018\n",
            "Epoch 10/100\n",
            "63/63 [==============================] - 0s 2ms/step - loss: 0.0017\n",
            "Epoch 11/100\n",
            "63/63 [==============================] - 0s 1ms/step - loss: 0.0016\n",
            "Epoch 12/100\n",
            "63/63 [==============================] - 0s 1ms/step - loss: 0.0015\n",
            "Epoch 13/100\n",
            "63/63 [==============================] - 0s 1ms/step - loss: 0.0013\n",
            "Epoch 14/100\n",
            "63/63 [==============================] - 0s 2ms/step - loss: 0.0012\n",
            "Epoch 15/100\n",
            "63/63 [==============================] - 0s 1ms/step - loss: 0.0011\n",
            "Epoch 16/100\n",
            "63/63 [==============================] - 0s 2ms/step - loss: 9.7958e-04\n",
            "Epoch 17/100\n",
            "63/63 [==============================] - 0s 1ms/step - loss: 8.8667e-04\n",
            "Epoch 18/100\n",
            "63/63 [==============================] - 0s 1ms/step - loss: 8.2074e-04\n",
            "Epoch 19/100\n",
            "63/63 [==============================] - 0s 1ms/step - loss: 7.7381e-04\n",
            "Epoch 20/100\n",
            "63/63 [==============================] - 0s 1ms/step - loss: 7.3749e-04\n",
            "Epoch 21/100\n",
            "63/63 [==============================] - 0s 1ms/step - loss: 7.0465e-04\n",
            "Epoch 22/100\n",
            "63/63 [==============================] - 0s 1ms/step - loss: 6.8058e-04\n",
            "Epoch 23/100\n",
            "63/63 [==============================] - 0s 1ms/step - loss: 6.6457e-04\n",
            "Epoch 24/100\n",
            "63/63 [==============================] - 0s 1ms/step - loss: 6.4814e-04\n",
            "Epoch 25/100\n",
            "63/63 [==============================] - 0s 1ms/step - loss: 6.3599e-04\n",
            "Epoch 26/100\n",
            "63/63 [==============================] - 0s 2ms/step - loss: 6.2530e-04\n",
            "Epoch 27/100\n",
            "63/63 [==============================] - 0s 1ms/step - loss: 6.1650e-04\n",
            "Epoch 28/100\n",
            "63/63 [==============================] - 0s 1ms/step - loss: 6.0768e-04\n",
            "Epoch 29/100\n",
            "63/63 [==============================] - 0s 2ms/step - loss: 6.0238e-04\n",
            "Epoch 30/100\n",
            "63/63 [==============================] - 0s 1ms/step - loss: 5.9527e-04\n",
            "Epoch 31/100\n",
            "63/63 [==============================] - 0s 1ms/step - loss: 5.8674e-04\n",
            "Epoch 32/100\n",
            "63/63 [==============================] - 0s 1ms/step - loss: 5.8191e-04\n",
            "Epoch 33/100\n",
            "63/63 [==============================] - 0s 2ms/step - loss: 5.7402e-04\n",
            "Epoch 34/100\n",
            "63/63 [==============================] - 0s 3ms/step - loss: 5.6547e-04\n",
            "Epoch 35/100\n",
            "63/63 [==============================] - 0s 2ms/step - loss: 5.5832e-04\n",
            "Epoch 36/100\n",
            "63/63 [==============================] - 0s 2ms/step - loss: 5.5377e-04\n",
            "Epoch 37/100\n",
            "63/63 [==============================] - 0s 2ms/step - loss: 5.3941e-04\n",
            "Epoch 38/100\n",
            "63/63 [==============================] - 0s 3ms/step - loss: 5.2479e-04\n",
            "Epoch 39/100\n",
            "63/63 [==============================] - 0s 2ms/step - loss: 5.0666e-04\n",
            "Epoch 40/100\n",
            "63/63 [==============================] - 0s 3ms/step - loss: 4.8322e-04\n",
            "Epoch 41/100\n",
            "63/63 [==============================] - 0s 3ms/step - loss: 4.6961e-04\n",
            "Epoch 42/100\n",
            "63/63 [==============================] - 0s 3ms/step - loss: 4.5749e-04\n",
            "Epoch 43/100\n",
            "63/63 [==============================] - 0s 3ms/step - loss: 4.5103e-04\n",
            "Epoch 44/100\n",
            "63/63 [==============================] - 0s 2ms/step - loss: 4.4861e-04\n",
            "Epoch 45/100\n",
            "63/63 [==============================] - 0s 3ms/step - loss: 4.4401e-04\n",
            "Epoch 46/100\n",
            "63/63 [==============================] - 0s 2ms/step - loss: 4.4642e-04\n",
            "Epoch 47/100\n",
            "63/63 [==============================] - 0s 2ms/step - loss: 4.4388e-04\n",
            "Epoch 48/100\n",
            "63/63 [==============================] - 0s 2ms/step - loss: 4.4393e-04\n",
            "Epoch 49/100\n",
            "63/63 [==============================] - 0s 2ms/step - loss: 4.3903e-04\n",
            "Epoch 50/100\n",
            "63/63 [==============================] - 0s 2ms/step - loss: 4.3873e-04\n",
            "Epoch 51/100\n",
            "63/63 [==============================] - 0s 2ms/step - loss: 4.3836e-04\n",
            "Epoch 52/100\n",
            "63/63 [==============================] - 0s 3ms/step - loss: 4.3532e-04\n",
            "Epoch 53/100\n",
            "63/63 [==============================] - 0s 4ms/step - loss: 4.3723e-04\n",
            "Epoch 54/100\n",
            "63/63 [==============================] - 0s 2ms/step - loss: 4.3398e-04\n",
            "Epoch 55/100\n",
            "63/63 [==============================] - 0s 2ms/step - loss: 4.3512e-04\n",
            "Epoch 56/100\n",
            "63/63 [==============================] - 0s 2ms/step - loss: 4.3301e-04\n",
            "Epoch 57/100\n",
            "63/63 [==============================] - 0s 2ms/step - loss: 4.3527e-04\n",
            "Epoch 58/100\n",
            "63/63 [==============================] - 0s 3ms/step - loss: 4.3440e-04\n",
            "Epoch 59/100\n",
            "63/63 [==============================] - 0s 2ms/step - loss: 4.3230e-04\n",
            "Epoch 60/100\n",
            "63/63 [==============================] - 0s 3ms/step - loss: 4.3183e-04\n",
            "Epoch 61/100\n",
            "63/63 [==============================] - 0s 3ms/step - loss: 4.3705e-04\n",
            "Epoch 62/100\n",
            "63/63 [==============================] - 0s 3ms/step - loss: 4.3521e-04\n",
            "Epoch 63/100\n",
            "63/63 [==============================] - 0s 2ms/step - loss: 4.3061e-04\n",
            "Epoch 64/100\n",
            "63/63 [==============================] - 0s 2ms/step - loss: 4.3210e-04\n",
            "Epoch 65/100\n",
            "63/63 [==============================] - 0s 2ms/step - loss: 4.3261e-04\n",
            "Epoch 66/100\n",
            "63/63 [==============================] - 0s 2ms/step - loss: 4.3153e-04\n",
            "Epoch 67/100\n",
            "63/63 [==============================] - 0s 2ms/step - loss: 4.2933e-04\n",
            "Epoch 68/100\n",
            "63/63 [==============================] - 0s 2ms/step - loss: 4.2911e-04\n",
            "Epoch 69/100\n",
            "63/63 [==============================] - 0s 3ms/step - loss: 4.3176e-04\n",
            "Epoch 70/100\n",
            "63/63 [==============================] - 0s 3ms/step - loss: 4.3173e-04\n",
            "Epoch 71/100\n",
            "63/63 [==============================] - 0s 3ms/step - loss: 4.2840e-04\n",
            "Epoch 72/100\n",
            "63/63 [==============================] - 0s 4ms/step - loss: 4.2867e-04\n",
            "Epoch 73/100\n",
            "63/63 [==============================] - 0s 4ms/step - loss: 4.3041e-04\n",
            "Epoch 74/100\n",
            "63/63 [==============================] - 0s 2ms/step - loss: 4.2801e-04\n",
            "Epoch 75/100\n",
            "63/63 [==============================] - 0s 4ms/step - loss: 4.2928e-04\n",
            "Epoch 76/100\n",
            "63/63 [==============================] - 0s 4ms/step - loss: 4.3024e-04\n",
            "Epoch 77/100\n",
            "63/63 [==============================] - 0s 3ms/step - loss: 4.2569e-04\n",
            "Epoch 78/100\n",
            "63/63 [==============================] - 0s 1ms/step - loss: 4.2779e-04\n",
            "Epoch 79/100\n",
            "63/63 [==============================] - 0s 1ms/step - loss: 4.3306e-04\n",
            "Epoch 80/100\n",
            "63/63 [==============================] - 0s 1ms/step - loss: 4.2662e-04\n",
            "Epoch 81/100\n",
            "63/63 [==============================] - 0s 2ms/step - loss: 4.3114e-04\n",
            "Epoch 82/100\n",
            "63/63 [==============================] - 0s 2ms/step - loss: 4.3206e-04\n",
            "Epoch 83/100\n",
            "63/63 [==============================] - 0s 1ms/step - loss: 4.2791e-04\n",
            "Epoch 84/100\n",
            "63/63 [==============================] - 0s 1ms/step - loss: 4.2663e-04\n",
            "Epoch 85/100\n",
            "63/63 [==============================] - 0s 1ms/step - loss: 4.2859e-04\n",
            "Epoch 86/100\n",
            "63/63 [==============================] - 0s 1ms/step - loss: 4.2976e-04\n",
            "Epoch 87/100\n",
            "63/63 [==============================] - 0s 1ms/step - loss: 4.2584e-04\n",
            "Epoch 88/100\n",
            "63/63 [==============================] - 0s 1ms/step - loss: 4.2347e-04\n",
            "Epoch 89/100\n",
            "63/63 [==============================] - 0s 2ms/step - loss: 4.2853e-04\n",
            "Epoch 90/100\n",
            "63/63 [==============================] - 0s 1ms/step - loss: 4.2702e-04\n",
            "Epoch 91/100\n",
            "63/63 [==============================] - 0s 1ms/step - loss: 4.2463e-04\n",
            "Epoch 92/100\n",
            "63/63 [==============================] - 0s 2ms/step - loss: 4.2412e-04\n",
            "Epoch 93/100\n",
            "63/63 [==============================] - 0s 1ms/step - loss: 4.2351e-04\n",
            "Epoch 94/100\n",
            "63/63 [==============================] - 0s 1ms/step - loss: 4.2610e-04\n",
            "Epoch 95/100\n",
            "63/63 [==============================] - 0s 2ms/step - loss: 4.2809e-04\n",
            "Epoch 96/100\n",
            "63/63 [==============================] - 0s 1ms/step - loss: 4.2522e-04\n",
            "Epoch 97/100\n",
            "63/63 [==============================] - 0s 2ms/step - loss: 4.2314e-04\n",
            "Epoch 98/100\n",
            "63/63 [==============================] - 0s 1ms/step - loss: 4.2730e-04\n",
            "Epoch 99/100\n",
            "63/63 [==============================] - 0s 1ms/step - loss: 4.2173e-04\n",
            "Epoch 100/100\n",
            "63/63 [==============================] - 0s 1ms/step - loss: 4.2623e-04\n"
          ]
        },
        {
          "output_type": "execute_result",
          "data": {
            "text/plain": [
              "<keras.callbacks.History at 0x7fcffa78e5d0>"
            ]
          },
          "metadata": {},
          "execution_count": 24
        }
      ],
      "source": [
        "ephocs = 20 # original ephocs = 20\n",
        "dmrff.compile(optimizer=\"adam\", loss='mse')\n",
        "dmrff.fit(x_train, y_train, epochs=100)"
      ]
    },
    {
      "cell_type": "code",
      "execution_count": 25,
      "metadata": {
        "colab": {
          "base_uri": "https://localhost:8080/",
          "height": 327
        },
        "id": "i6HZ9WEWbyLu",
        "outputId": "090a3ee1-29b9-44f8-9b24-03c282d9cebf"
      },
      "outputs": [
        {
          "output_type": "execute_result",
          "data": {
            "text/plain": [
              "<matplotlib.legend.Legend at 0x7fcffa643550>"
            ]
          },
          "metadata": {},
          "execution_count": 25
        },
        {
          "output_type": "display_data",
          "data": {
            "text/plain": [
              "<Figure size 396x324 with 1 Axes>"
            ],
            "image/png": "[encoded data removed]"
          },
          "metadata": {
            "needs_background": "light"
          }
        }
      ],
      "source": [
        "dm_rff_pdf = calc_rbf(dmrff, np.broadcast_to(mean, x.shape), x)\n",
        "pl.plot(x, gauss_pdf, 'r-',  alpha=0.6, label='Gaussian kernel')\n",
        "pl.plot(x, dm_rff_pdf, 'b-',  alpha=0.6, label='dmrff kernel')\n",
        "pl.title(\"$dim = \"+str(n_rffs)+\"$\")\n",
        "pl.legend()"
      ]
    },
    {
      "cell_type": "code",
      "execution_count": 26,
      "metadata": {
        "colab": {
          "base_uri": "https://localhost:8080/"
        },
        "id": "z3OXpjMZyR80",
        "outputId": "6e93fa4e-aef7-4afd-cc10-b162780cf34e"
      },
      "outputs": [
        {
          "output_type": "stream",
          "name": "stdout",
          "text": [
            "Mean: [-0.29038265]\n",
            "Std: [0.96020234]\n",
            "Gamma: 1.0\n"
          ]
        }
      ],
      "source": [
        "print(f'Mean: {np.mean(dmrff.rff_layer.rff_weights, axis=1)}')\n",
        "print(f'Std: {np.std(dmrff.rff_layer.rff_weights, axis=1)}')\n",
        "print(f'Gamma: {dmrff.rff_layer.gamma_val.numpy()}')"
      ]
    },
    {
      "cell_type": "code",
      "execution_count": 27,
      "metadata": {
        "colab": {
          "base_uri": "https://localhost:8080/"
        },
        "id": "oMM4g0ysysho",
        "outputId": "715abfa3-035b-4c96-be19-b1d0bdbf4d0b"
      },
      "outputs": [
        {
          "output_type": "execute_result",
          "data": {
            "text/plain": [
              "(array([0.00890563, 0.0021974 , 0.0088729 , ..., 0.00714422, 0.00501961,\n",
              "        0.01040566], dtype=float32), (2000, 2, 1))"
            ]
          },
          "metadata": {},
          "execution_count": 27
        }
      ],
      "source": [
        "dmrff.predict(x_train), x_train.shape"
      ]
    },
    {
      "cell_type": "markdown",
      "metadata": {
        "id": "V0XE_PB0z3Y8"
      },
      "source": [
        "## DMKDE for pdf Estimation"
      ]
    },
    {
      "cell_type": "markdown",
      "metadata": {
        "id": "TYNwcpHGwN-1"
      },
      "source": [
        "### (16x16) DMKDE Mixed State"
      ]
    },
    {
      "cell_type": "code",
      "execution_count": 28,
      "metadata": {
        "id": "D9lj4rSeFK13"
      },
      "outputs": [],
      "source": [
        "def calculate_constant_qmkde(gamma=1):\n",
        "  constant_kernel = (2*np.pi)**(-1/2)\n",
        "  sigma = (4*gamma)**(-1/2)\n",
        "  constant_outside = 1/(sigma)\n",
        "  return constant_kernel * constant_outside"
      ]
    },
    {
      "cell_type": "code",
      "execution_count": 29,
      "metadata": {
        "id": "q299kfEfwh69"
      },
      "outputs": [],
      "source": [
        "# ----------------------------------------------------------------------\n",
        "# Plot a 1D density example\n",
        "N = 1000\n",
        "np.random.seed(0)\n",
        "X = np.concatenate((np.random.normal(-1, 1, int(0.65 * N)),\n",
        "                    np.random.normal(3, 1, int(0.35 * N))))[:, np.newaxis]\n",
        "\n",
        "X_plot = np.linspace(-7, 7, 250)[:, np.newaxis]\n",
        "\n",
        "true_dens = (0.65 * norm(-1, 1).pdf(X_plot[:, 0])\n",
        "             + 0.35 * norm(3, 1).pdf(X_plot[:, 0]))"
      ]
    },
    {
      "cell_type": "markdown",
      "metadata": {
        "id": "jqUPObBXGxHU"
      },
      "source": [
        "### DMKDE Tensorflow"
      ]
    },
    {
      "cell_type": "code",
      "execution_count": 39,
      "metadata": {
        "colab": {
          "base_uri": "https://localhost:8080/"
        },
        "id": "W7EvmzsOKAyR",
        "outputId": "302d0157-0437-46e5-f70d-6a42f3c970bd"
      },
      "outputs": [
        {
          "output_type": "stream",
          "name": "stdout",
          "text": [
            "32/32 [==============================] - 0s 2ms/step\n"
          ]
        }
      ],
      "source": [
        "qmkdc_dig = models.QMDensity(fm_x = dmrff.rff_layer, dim_x=n_rffs)\n",
        "qmkdc_dig.compile()\n",
        "qmkdc_dig.fit(X, epochs=1)\n",
        "out = qmkdc_dig.predict(X_plot)"
      ]
    },
    {
      "cell_type": "code",
      "execution_count": 40,
      "metadata": {
        "id": "-hps52if6nw5"
      },
      "outputs": [],
      "source": [
        "prob_expected_mixed = calculate_constant_qmkde(dmrff.rff_layer.gamma_val.numpy()) * out"
      ]
    },
    {
      "cell_type": "code",
      "execution_count": 41,
      "metadata": {
        "colab": {
          "base_uri": "https://localhost:8080/",
          "height": 310
        },
        "id": "IzSAbSIk9zCd",
        "outputId": "e20f5eee-6f1b-4acc-f80f-4a5095a3079a"
      },
      "outputs": [
        {
          "output_type": "execute_result",
          "data": {
            "text/plain": [
              "Text(0, 0.5, 'Probability')"
            ]
          },
          "metadata": {},
          "execution_count": 41
        },
        {
          "output_type": "display_data",
          "data": {
            "text/plain": [
              "<Figure size 396x324 with 1 Axes>"
            ],
            "image/png": "[encoded data removed]"
          },
          "metadata": {
            "needs_background": "light"
          }
        }
      ],
      "source": [
        "params = {\n",
        "   'axes.labelsize': 8,\n",
        "   'legend.fontsize': 10,\n",
        "   'xtick.labelsize': 10,\n",
        "   'ytick.labelsize': 10,\n",
        "   'text.usetex': False,\n",
        "   'figure.figsize': [5.5, 4.5]\n",
        "   }\n",
        "plt.rcParams.update(params)\n",
        "\n",
        "plt.plot(X_plot[:, 0], true_dens, \"maroon\", label='True pdf')\n",
        "colors = ['navy']\n",
        "kernels = ['gaussian']\n",
        "lw = 2\n",
        "plt.plot(X_plot[:, 0], prob_expected_mixed, color='#006BB2', lw=lw,\n",
        "            linestyle='-', label=\"DMKDE Mixed AdpRFF\")    \n",
        "plt.text(4, 0.25, f\"DM {n_rffs}x{n_rffs}\")\n",
        "plt.legend(loc='upper left')\n",
        "plt.xlabel('')\n",
        "plt.ylabel('Probability')"
      ]
    },
    {
      "cell_type": "markdown",
      "metadata": {
        "id": "tRpRhfXk2ww9"
      },
      "source": [
        "### DMKDE Numpy"
      ]
    },
    {
      "cell_type": "code",
      "execution_count": 42,
      "metadata": {
        "colab": {
          "base_uri": "https://localhost:8080/"
        },
        "id": "QtzJ5cyl63xd",
        "outputId": "fb1862a2-a883-4835-b16b-a07e984b7476"
      },
      "outputs": [
        {
          "output_type": "execute_result",
          "data": {
            "text/plain": [
              "((1000, 16), (250, 16))"
            ]
          },
          "metadata": {},
          "execution_count": 42
        }
      ],
      "source": [
        "X_feat_train = dmrff.rff_layer.call(tf.cast(X, tf.float32))\n",
        "X_feat_test = dmrff.rff_layer.call(tf.cast(X_plot, tf.float32))\n",
        "\n",
        "X_feat_train = np.float64((X_feat_train).numpy())\n",
        "X_feat_test = np.float64((X_feat_test).numpy())\n",
        "\n",
        "X_feat_train = X_feat_train / np.linalg.norm(X_feat_train, axis = 1).reshape(-1, 1)\n",
        "X_feat_test = X_feat_test / np.linalg.norm(X_feat_test, axis = 1).reshape(-1, 1)\n",
        "\n",
        "X_feat_train.shape, X_feat_test.shape"
      ]
    },
    {
      "cell_type": "code",
      "execution_count": 43,
      "metadata": {
        "colab": {
          "base_uri": "https://localhost:8080/"
        },
        "id": "_UDcjOUUm2Lf",
        "outputId": "e63a525d-031a-4e9a-83f5-7211d6bba004"
      },
      "outputs": [
        {
          "output_type": "execute_result",
          "data": {
            "text/plain": [
              "16"
            ]
          },
          "metadata": {},
          "execution_count": 43
        }
      ],
      "source": [
        "n_rffs"
      ]
    },
    {
      "cell_type": "code",
      "execution_count": 44,
      "metadata": {
        "colab": {
          "base_uri": "https://localhost:8080/"
        },
        "id": "sNrzQP3HxPgO",
        "outputId": "aed32830-bbc6-43b0-98e6-001912c972ce"
      },
      "outputs": [
        {
          "output_type": "execute_result",
          "data": {
            "text/plain": [
              "1.0000000000000002"
            ]
          },
          "metadata": {},
          "execution_count": 44
        }
      ],
      "source": [
        "## Training\n",
        "\n",
        "rho_train = np.zeros((n_rffs, n_rffs))\n",
        "\n",
        "for i in range(len(X_feat_train)):\n",
        "  rho_train += np.outer(X_feat_train[i], X_feat_train[i])\n",
        "\n",
        "rho_train = rho_train / len(X_feat_train)\n",
        "\n",
        "(X_feat_train[0]**2).sum()"
      ]
    },
    {
      "cell_type": "code",
      "execution_count": 45,
      "metadata": {
        "colab": {
          "base_uri": "https://localhost:8080/"
        },
        "id": "weRAiMwx9N4L",
        "outputId": "ec60558c-9116-4585-c016-30998ce90160"
      },
      "outputs": [
        {
          "output_type": "execute_result",
          "data": {
            "text/plain": [
              "(250,)"
            ]
          },
          "metadata": {},
          "execution_count": 45
        }
      ],
      "source": [
        "## Expected result\n",
        "\n",
        "prob_expected_mixed = np.zeros(250)\n",
        "\n",
        "for i in range(len(prob_expected_mixed)):\n",
        "  prob_expected_mixed[i] = X_feat_test[i].T @ rho_train @ X_feat_test[i]\n",
        "\n",
        "prob_expected_mixed = calculate_constant_qmkde(dmrff.rff_layer.gamma_val.numpy()) * prob_expected_mixed\n",
        "\n",
        "prob_expected_mixed.shape"
      ]
    },
    {
      "cell_type": "code",
      "execution_count": 46,
      "metadata": {
        "colab": {
          "base_uri": "https://localhost:8080/"
        },
        "id": "JaZ1CRpH2pxy",
        "outputId": "a590a20e-cafc-4983-9ced-0206a561ebe7"
      },
      "outputs": [
        {
          "output_type": "execute_result",
          "data": {
            "text/plain": [
              "(250,)"
            ]
          },
          "metadata": {},
          "execution_count": 46
        }
      ],
      "source": [
        "## Expected result\n",
        "\n",
        "prob_expected_mixed = np.zeros(len(X_plot))\n",
        "\n",
        "for i in range(len(prob_expected_mixed)):\n",
        "  prob_expected_mixed[i] = X_feat_test[i].T @ rho_train @ X_feat_test[i]\n",
        "\n",
        "prob_expected_mixed = calculate_constant_qmkde(2**(0)) * prob_expected_mixed\n",
        "\n",
        "prob_expected_mixed.shape"
      ]
    },
    {
      "cell_type": "code",
      "execution_count": 47,
      "metadata": {
        "colab": {
          "base_uri": "https://localhost:8080/",
          "height": 310
        },
        "id": "vX7S9qEC2pxz",
        "outputId": "c037c277-62a6-476c-b6e1-f74ac9d0c6d6"
      },
      "outputs": [
        {
          "output_type": "execute_result",
          "data": {
            "text/plain": [
              "Text(0, 0.5, 'Probability')"
            ]
          },
          "metadata": {},
          "execution_count": 47
        },
        {
          "output_type": "display_data",
          "data": {
            "text/plain": [
              "<Figure size 396x324 with 1 Axes>"
            ],
            "image/png": "[encoded data removed]"
          },
          "metadata": {
            "needs_background": "light"
          }
        }
      ],
      "source": [
        "params = {\n",
        "   'axes.labelsize': 8,\n",
        "   'legend.fontsize': 10,\n",
        "   'xtick.labelsize': 10,\n",
        "   'ytick.labelsize': 10,\n",
        "   'text.usetex': False,\n",
        "   'figure.figsize': [5.5, 4.5]\n",
        "   }\n",
        "plt.rcParams.update(params)\n",
        "\n",
        "plt.plot(X_plot[:, 0], true_dens, \"maroon\", label='True pdf')\n",
        "colors = ['navy']\n",
        "kernels = ['gaussian']\n",
        "lw = 2\n",
        "plt.plot(X_plot[:, 0], prob_expected_mixed, color='#006BB2', lw=lw,\n",
        "            linestyle='-', label=\"DMKDE Mixed AdpRFF\")    \n",
        "plt.text(4, 0.25, f\"DM 16x16\")\n",
        "plt.legend(loc='upper left')\n",
        "plt.xlabel('')\n",
        "plt.ylabel('Probability')"
      ]
    },
    {
      "cell_type": "markdown",
      "metadata": {
        "id": "ZCoxLl-Q3fiv"
      },
      "source": [
        "### DMKDE Mixed State Qiskit"
      ]
    },
    {
      "cell_type": "code",
      "execution_count": null,
      "metadata": {
        "colab": {
          "base_uri": "https://localhost:8080/"
        },
        "id": "WVV0V-_myDbp",
        "outputId": "2099f83b-4e7b-41a9-e2bf-6f240cefdef1"
      },
      "outputs": [
        {
          "data": {
            "text/plain": [
              "(array([6.80651707e-16, 3.25733538e-11, 3.43821700e-10, 4.68417752e-07,\n",
              "        1.88598303e-06, 3.55037925e-04, 4.89704657e-04, 9.11103166e-03,\n",
              "        1.47662353e-02, 4.37572433e-02, 6.89238924e-02, 8.98806843e-02,\n",
              "        1.04689434e-01, 1.64473339e-01, 1.80093822e-01, 3.23457221e-01]),\n",
              " array([[ 7.60689595e-04, -2.36704122e-03, -9.92419295e-02,\n",
              "         -4.83644199e-02,  4.85418033e-01,  3.06581543e-01,\n",
              "         -1.60602383e-01,  4.22217017e-01, -1.25971723e-01,\n",
              "          6.62341560e-02, -1.24919210e-01,  3.69976208e-01,\n",
              "         -2.50184499e-01,  4.51692558e-01,  8.60622389e-02,\n",
              "         -8.57571875e-02],\n",
              "        [ 4.30658093e-02,  6.52261138e-01, -1.52123887e-01,\n",
              "         -4.34176532e-02, -7.98206397e-02, -2.28285461e-01,\n",
              "         -2.00585258e-01, -2.65206960e-02, -4.06462886e-01,\n",
              "         -5.97904157e-02, -1.29643010e-01,  3.80663078e-01,\n",
              "          9.35867104e-02, -2.79557932e-01,  3.03555501e-02,\n",
              "         -1.72972151e-01],\n",
              "        [ 6.13271762e-01, -1.78804671e-01, -1.55021417e-01,\n",
              "         -1.22514171e-01, -2.51621919e-01,  9.24994065e-02,\n",
              "         -2.30921841e-01,  2.98940732e-01, -9.21425233e-03,\n",
              "         -3.37839720e-01,  1.08451995e-01, -3.02538979e-02,\n",
              "         -1.08063508e-01, -1.96757019e-01,  3.61132459e-01,\n",
              "          1.74984782e-01],\n",
              "        [ 1.34583157e-05, -1.48330284e-03, -6.31897462e-03,\n",
              "          1.80098465e-02,  1.11813902e-01,  2.02138049e-01,\n",
              "         -4.50315442e-01, -4.86982117e-01,  9.42951509e-02,\n",
              "         -3.64750309e-02,  3.62483319e-01,  6.20062554e-02,\n",
              "         -5.34123240e-01, -1.65404175e-01, -1.81419104e-01,\n",
              "         -1.23756993e-01],\n",
              "        [ 4.93143658e-01,  4.35527058e-01,  3.71350412e-03,\n",
              "          4.44168540e-01,  3.60503675e-02,  1.79520457e-01,\n",
              "          1.56149264e-01, -2.30879620e-02,  1.13836404e-01,\n",
              "          9.20335429e-02, -1.36291273e-01, -1.69236958e-01,\n",
              "         -1.12906336e-01,  1.45396296e-01, -3.51669376e-01,\n",
              "          2.91853610e-01],\n",
              "        [ 5.25048339e-05,  2.51392389e-03, -9.31517163e-03,\n",
              "         -4.72663918e-02,  8.41878072e-02,  3.51974053e-01,\n",
              "          5.82928260e-03, -1.82437297e-01, -5.58102330e-01,\n",
              "         -2.46706982e-01,  4.17216753e-01, -1.41305264e-01,\n",
              "          4.22349620e-01,  2.31066824e-01, -1.01899081e-01,\n",
              "          1.57632742e-01],\n",
              "        [ 6.13035505e-01, -1.98792466e-01,  2.16663360e-01,\n",
              "         -1.97129341e-01,  2.39211388e-01, -2.04367333e-01,\n",
              "          1.29870148e-01, -2.72166491e-01, -4.00238624e-02,\n",
              "          2.54107361e-01,  3.12229582e-02,  1.48721703e-01,\n",
              "          1.99847252e-01,  8.48264747e-02, -3.98533612e-02,\n",
              "         -4.13459628e-01],\n",
              "        [-3.94133597e-03, -8.48089569e-02,  2.03824689e-01,\n",
              "          3.74163991e-01, -3.83010540e-01, -2.31727444e-01,\n",
              "         -2.84908346e-01, -9.71730588e-02, -3.39686914e-01,\n",
              "          2.61151418e-01, -3.19331137e-02, -1.21887825e-01,\n",
              "         -1.73086279e-01,  4.36411763e-01,  3.13376017e-01,\n",
              "         -4.64372358e-02],\n",
              "        [-4.94504012e-03, -4.20593547e-01, -1.71885004e-01,\n",
              "          5.33328008e-01,  9.55192889e-02,  6.70299660e-02,\n",
              "          1.99603568e-01, -1.85036230e-01, -1.96177151e-01,\n",
              "          3.33680183e-02, -1.05823570e-01,  4.70966481e-01,\n",
              "          3.79884093e-02, -3.16162291e-01,  7.50309729e-02,\n",
              "          2.04348086e-01],\n",
              "        [ 9.86129113e-05, -4.28234603e-03, -2.58562716e-02,\n",
              "          2.53011979e-02,  2.56102701e-01,  2.34075402e-01,\n",
              "         -4.97540822e-01,  3.82296927e-03,  3.95746455e-02,\n",
              "          4.81982668e-01, -2.07620028e-01, -2.91045442e-01,\n",
              "          3.66893928e-01, -3.02101636e-01,  1.68615911e-01,\n",
              "          1.21394954e-01],\n",
              "        [ 2.36134578e-05,  2.75064748e-02,  1.88236938e-02,\n",
              "         -2.04084185e-01, -1.08386117e-01,  4.64155871e-01,\n",
              "          3.59381037e-01, -2.07080692e-01, -3.05541926e-01,\n",
              "          3.14775575e-02, -4.21614629e-01, -2.53035546e-01,\n",
              "         -3.14352481e-01, -1.52968291e-01,  2.19052063e-01,\n",
              "         -2.27332724e-01],\n",
              "        [ 3.85028044e-02, -2.60190602e-01,  2.98780766e-02,\n",
              "         -3.73538574e-01,  1.40617524e-03, -2.65736212e-01,\n",
              "         -1.70012115e-01, -2.67629647e-02, -3.31628211e-01,\n",
              "          3.32889429e-02, -3.49532408e-01, -2.03082303e-02,\n",
              "         -1.88628914e-01,  1.12749535e-03, -4.71457192e-01,\n",
              "          4.45681228e-01],\n",
              "        [-3.28621154e-02,  1.88798905e-01,  6.45308365e-01,\n",
              "         -3.41690293e-02,  3.85308829e-01, -1.50000243e-01,\n",
              "          1.14822583e-01, -5.34756872e-02, -4.05045908e-02,\n",
              "         -1.35411337e-01,  8.26151389e-02,  1.61145931e-02,\n",
              "         -1.45755596e-01, -1.45571370e-01,  3.81574160e-01,\n",
              "          3.78921436e-01],\n",
              "        [-1.87914143e-03,  9.50423957e-02,  2.06560336e-01,\n",
              "         -3.01721898e-01, -4.50833216e-01,  3.52688738e-01,\n",
              "          3.48806929e-02, -1.09440730e-01,  1.97009903e-01,\n",
              "          3.46239909e-01,  8.05437575e-02,  4.89518280e-01,\n",
              "          1.05144170e-01,  1.06439027e-01,  3.65546363e-02,\n",
              "          2.96470980e-01],\n",
              "        [ 1.20809523e-06, -4.26428697e-04, -1.05075367e-03,\n",
              "          1.03935686e-02,  3.02443812e-02,  4.37403085e-02,\n",
              "         -2.40043884e-01, -4.32891296e-01,  2.85426205e-01,\n",
              "         -5.01293991e-01, -4.92549191e-01,  1.01242546e-01,\n",
              "          2.36676737e-01,  3.02500162e-01,  1.34800925e-01,\n",
              "          2.71063264e-02],\n",
              "        [ 2.08180026e-02,  1.26980552e-01, -6.03157127e-01,\n",
              "         -2.08545566e-01,  1.75457750e-01, -2.42399013e-01,\n",
              "          1.94778552e-01, -3.11601010e-01,  5.66578737e-02,\n",
              "          2.22335871e-01,  1.40137057e-01, -8.23156909e-02,\n",
              "         -1.09043891e-01,  2.02275586e-01,  3.53654724e-01,\n",
              "          3.07637662e-01]]))"
            ]
          },
          "execution_count": 68,
          "metadata": {},
          "output_type": "execute_result"
        }
      ],
      "source": [
        "# Find eigenvectors and eigenvalues\n",
        "lambda_train, U_train = np.linalg.eigh(rho_train)\n",
        "\n",
        "lambda_train, U_train"
      ]
    },
    {
      "cell_type": "code",
      "execution_count": null,
      "metadata": {
        "colab": {
          "base_uri": "https://localhost:8080/"
        },
        "id": "wEeoxSwLyE3j",
        "outputId": "43afdd4e-46d0-46ee-cbd2-8425ef512acd"
      },
      "outputs": [
        {
          "name": "stdout",
          "output_type": "stream",
          "text": [
            "0\n",
            "10.688226222991943\n",
            "10\n",
            "103.42297601699829\n",
            "20\n",
            "109.86266803741455\n",
            "30\n",
            "96.10453081130981\n",
            "40\n",
            "96.6865611076355\n",
            "50\n",
            "96.590580701828\n",
            "60\n",
            "96.68273520469666\n",
            "70\n",
            "96.83170461654663\n",
            "80\n",
            "97.2377872467041\n",
            "90\n",
            "97.10063123703003\n",
            "100\n",
            "97.02487874031067\n",
            "110\n",
            "97.39143204689026\n",
            "120\n",
            "97.23411917686462\n",
            "130\n",
            "96.87007737159729\n",
            "140\n",
            "97.3459005355835\n",
            "150\n",
            "96.93035173416138\n",
            "160\n",
            "100.31564593315125\n",
            "170\n",
            "100.93188953399658\n",
            "180\n",
            "111.45109796524048\n",
            "190\n",
            "126.73202610015869\n",
            "200\n",
            "99.8668897151947\n",
            "210\n",
            "98.30355381965637\n",
            "220\n",
            "97.12805819511414\n",
            "230\n",
            "97.61074328422546\n",
            "240\n",
            "96.87469434738159\n"
          ]
        }
      ],
      "source": [
        "# Predict with the quantum circuit\n",
        "backend = Aer.get_backend('qasm_simulator')\n",
        "prob_test_mixed = np.zeros(250)\n",
        "\n",
        "exp_time = time()\n",
        "for i in range(len(prob_test_mixed)):\n",
        "  qc = QuantumCircuit(8, 4)\n",
        "  qc.initialize(X_feat_test[i], [0, 1, 2, 3])\n",
        "  qc.initialize(np.sqrt(lambda_train, dtype = np.float64), [4, 5, 6, 7])\n",
        "  qc.isometry(U_train.T, [], [0, 1, 2, 3]) # ArbRot as a isometry\n",
        "  qc.cnot(7, 3)\n",
        "  qc.cnot(6, 2)\n",
        "  qc.cnot(5, 1)\n",
        "  qc.cnot(4, 0)\n",
        "  qc.measure(0, 0)\n",
        "  qc.measure(1, 1)\n",
        "  qc.measure(2, 2)\n",
        "  qc.measure(3, 3)\n",
        "  counts = execute(qc, backend, shots=10000).result().get_counts()\n",
        "  prob_zero = (counts[\"0000\"]/10000)\n",
        "  prob_test_mixed[i] = prob_zero\n",
        "  if i % 10 == 0:\n",
        "    print(i)\n",
        "    print(time() - exp_time)\n",
        "    exp_time = time()"
      ]
    },
    {
      "cell_type": "code",
      "execution_count": null,
      "metadata": {
        "id": "T-7vzR6j5Bt9"
      },
      "outputs": [],
      "source": [
        "prob_test_mixed_2 = calculate_constant_qmkde(dmrff.rff_layer.gamma_val.numpy()) * prob_test_mixed"
      ]
    },
    {
      "cell_type": "code",
      "execution_count": null,
      "metadata": {
        "colab": {
          "base_uri": "https://localhost:8080/",
          "height": 327
        },
        "id": "yGatBLFaKVIu",
        "outputId": "1689d082-abfa-4b49-cf0b-bf24f6de6d0d"
      },
      "outputs": [
        {
          "data": {
            "text/plain": [
              "Text(0, 0.5, 'Probability Density')"
            ]
          },
          "execution_count": 81,
          "metadata": {},
          "output_type": "execute_result"
        },
        {
          "data": {
            "image/png": "[encoded data removed]",
            "text/plain": [
              "<Figure size 396x324 with 1 Axes>"
            ]
          },
          "metadata": {},
          "output_type": "display_data"
        }
      ],
      "source": [
        "params = {\n",
        "   'axes.labelsize': 8,\n",
        "   'legend.fontsize': 10,\n",
        "   'xtick.labelsize': 10,\n",
        "   'ytick.labelsize': 10,\n",
        "   'text.usetex': False,\n",
        "   'figure.figsize': [5.5, 4.5]\n",
        "   }\n",
        "plt.rcParams.update(params)\n",
        "\n",
        "plt.plot(X_plot[:, 0], true_dens, \"maroon\", label='True pdf')\n",
        "colors = ['navy']\n",
        "kernels = ['gaussian']\n",
        "lw = 2\n",
        "plt.plot(X_plot[:, 0], prob_test_mixed_2, color='#006BB2', lw=lw,\n",
        "            linestyle='-', label=\"DMKDE Mixed \\n AFF\")    \n",
        "plt.text(4, 0.25, f\"DM 16x16\")\n",
        "plt.legend(loc='upper left')\n",
        "plt.xlabel('X', fontsize=12)\n",
        "plt.ylabel('Probability Density', fontsize=10)"
      ]
    },
    {
      "cell_type": "code",
      "execution_count": null,
      "metadata": {
        "id": "1NeEoZkU-baC"
      },
      "outputs": [],
      "source": [
        "#np.save(\"/content/drive/MyDrive/TesisMaestria/ResearchData/mixedstate_qubits_16comp_adpRFF_gamma1fixed.npy\", prob_test_mixed_2)\n",
        "prob_test_mixed_3 = np.load(\"/content/drive/MyDrive/TesisMaestria/ResearchData/mixedstate_qubits_16comp_adpRFF_gamma1fixed.npy\")"
      ]
    },
    {
      "cell_type": "markdown",
      "metadata": {
        "id": "qpo9AFrrHEGF"
      },
      "source": [
        "### DMKDE Pure State Qiskit"
      ]
    },
    {
      "cell_type": "code",
      "execution_count": null,
      "metadata": {
        "id": "BI1Mwjh_EZ5b"
      },
      "outputs": [],
      "source": [
        "def calculate_constant_qmkde_pure(gamma=1):\n",
        "  constant_kernel = (2*np.pi)**(-1/2)\n",
        "  sigma = (2*gamma)**(-1/2)\n",
        "  constant_outside = 1/(sigma)\n",
        "  return constant_kernel * constant_outside"
      ]
    },
    {
      "cell_type": "code",
      "execution_count": null,
      "metadata": {
        "id": "6TTZqQc6Gptw"
      },
      "outputs": [],
      "source": [
        "# Given the eigenvalues this function return a Unitary gate which converts the |0> -> |lambda>\n",
        "def create_U_train(x_train_param, seed=0):\n",
        "  #np.random.seed(seed)\n",
        "  size_U = len(x_train_param)\n",
        "  U_train = np.zeros((size_U, size_U))\n",
        "  x_1 = x_train_param\n",
        "  U_train[:, 0] = x_1\n",
        "  for i in range(1, size_U):\n",
        "    x_i = np.random.randn(size_U)\n",
        "    for j in range(0, i):\n",
        "      x_i -= x_i.dot(U_train[:, j]) * U_train[:, j]\n",
        "    x_i = x_i/np.linalg.norm(x_i)\n",
        "    U_train[:, i] = x_i\n",
        "  \n",
        "  return U_train"
      ]
    },
    {
      "cell_type": "code",
      "execution_count": null,
      "metadata": {
        "colab": {
          "base_uri": "https://localhost:8080/"
        },
        "id": "-Ir7-Wp7GLug",
        "outputId": "33ee1313-6b77-472b-e2e2-572b094cf469"
      },
      "outputs": [
        {
          "data": {
            "text/plain": [
              "1.0"
            ]
          },
          "execution_count": 84,
          "metadata": {},
          "output_type": "execute_result"
        }
      ],
      "source": [
        "## Training pure state and create the Unitary matrix to initialize such state\n",
        "\n",
        "psi_train = X_feat_train.sum(axis = 0)\n",
        "psi_train = psi_train / np.linalg.norm(psi_train)\n",
        "\n",
        "U_train = create_U_train(psi_train)\n",
        "\n",
        "(psi_train**2).sum()"
      ]
    },
    {
      "cell_type": "code",
      "execution_count": null,
      "metadata": {
        "colab": {
          "base_uri": "https://localhost:8080/"
        },
        "id": "Jx6_xah6fO5o",
        "outputId": "e6df74d0-0280-49d3-d862-2c2113a7c6aa"
      },
      "outputs": [
        {
          "data": {
            "text/plain": [
              "((16, 1), (250, 16), (250, 1))"
            ]
          },
          "execution_count": 85,
          "metadata": {},
          "output_type": "execute_result"
        }
      ],
      "source": [
        "## Expected result \n",
        "psi_train_total = (X_feat_train.sum(axis = 0) / np.linalg.norm(X_feat_train.sum(axis = 0))).reshape(-1, 1)\n",
        "prob_test_16_expected = X_feat_test @ psi_train_total\n",
        "prob_test_16_expected = calculate_constant_qmkde_pure(dmrff.rff_layer.gamma_val.numpy()) * np.sqrt(prob_test_16_expected**2) * np.linalg.norm(X_feat_train.sum(axis = 0)) / 1000\n",
        "psi_train_total.shape, X_feat_test.shape, prob_test_16_expected.shape"
      ]
    },
    {
      "cell_type": "code",
      "execution_count": null,
      "metadata": {
        "colab": {
          "base_uri": "https://localhost:8080/",
          "height": 327
        },
        "id": "pNOJBuEygWfu",
        "outputId": "4249e74e-2d87-4d54-9855-dae12cd584c2"
      },
      "outputs": [
        {
          "data": {
            "text/plain": [
              "Text(0, 0.5, 'Probability Density')"
            ]
          },
          "execution_count": 87,
          "metadata": {},
          "output_type": "execute_result"
        },
        {
          "data": {
            "image/png": "[encoded data removed]",
            "text/plain": [
              "<Figure size 396x324 with 1 Axes>"
            ]
          },
          "metadata": {},
          "output_type": "display_data"
        }
      ],
      "source": [
        "# Expected result in a classical computer\n",
        "params = {\n",
        "   'axes.labelsize': 8,\n",
        "   'legend.fontsize': 10,\n",
        "   'xtick.labelsize': 10,\n",
        "   'ytick.labelsize': 10,\n",
        "   'text.usetex': False,\n",
        "   'figure.figsize': [5.5, 4.5]\n",
        "   }\n",
        "plt.rcParams.update(params)\n",
        "\n",
        "plt.plot(X_plot[:, 0], true_dens, \"maroon\", label='True pdf')\n",
        "colors = ['navy']\n",
        "kernels = ['gaussian']\n",
        "lw = 2\n",
        "#plt.plot(X_plot[:, 0], prob_test_16_expected.ravel(), color='green', lw=lw,\n",
        "            # linestyle='-', label=\"DMKDE Pure\")  \n",
        "plt.plot(X_plot[:, 0], prob_test_16_expected.ravel(), label=\"DMKDE Pure AdpRFF\") \n",
        "plt.text(4, 0.25, f\"DM 16x16\")\n",
        "plt.legend(loc='upper left')\n",
        "plt.xlabel('X', fontsize=12)\n",
        "plt.ylabel('Probability Density', fontsize=10)"
      ]
    },
    {
      "cell_type": "code",
      "execution_count": null,
      "metadata": {
        "id": "OzuuhkBHHckj"
      },
      "outputs": [],
      "source": [
        ""
      ]
    },
    {
      "cell_type": "code",
      "execution_count": null,
      "metadata": {
        "colab": {
          "base_uri": "https://localhost:8080/"
        },
        "id": "fGPuxb9_HDUE",
        "outputId": "1d88319c-528b-4b6a-be70-1792c3682f03"
      },
      "outputs": [
        {
          "name": "stdout",
          "output_type": "stream",
          "text": [
            "0\n",
            "2.1645090579986572\n",
            "10\n",
            "19.241626977920532\n",
            "20\n",
            "24.76967477798462\n",
            "30\n",
            "18.77110481262207\n",
            "40\n",
            "18.345872402191162\n",
            "50\n",
            "18.968117713928223\n",
            "60\n",
            "20.73809838294983\n",
            "70\n",
            "18.633424282073975\n",
            "80\n",
            "18.55515480041504\n",
            "90\n",
            "18.838902950286865\n",
            "100\n",
            "18.662621021270752\n",
            "110\n",
            "17.629656076431274\n",
            "120\n",
            "17.81453800201416\n",
            "130\n",
            "18.075623750686646\n",
            "140\n",
            "17.940595626831055\n",
            "150\n",
            "17.309056520462036\n",
            "160\n",
            "18.008583545684814\n",
            "170\n",
            "18.015706300735474\n",
            "180\n",
            "18.119516372680664\n",
            "190\n",
            "17.9002902507782\n",
            "200\n",
            "18.359500408172607\n",
            "210\n",
            "18.22488260269165\n",
            "220\n",
            "17.942532539367676\n",
            "230\n",
            "17.79218864440918\n",
            "240\n",
            "17.64289903640747\n"
          ]
        }
      ],
      "source": [
        "# Predict with the pure state quantum circuit\n",
        "prob_test = np.zeros(250)\n",
        "backend = Aer.get_backend('qasm_simulator')\n",
        "exp_time = time()\n",
        "\n",
        "for i in range(len(prob_test)):\n",
        "  #\"\"\"\n",
        "  qc = QuantumCircuit(4, 4)\n",
        "  qc.initialize(X_feat_test[i], [0, 1, 2, 3])\n",
        "  qc.isometry(U_train.T, [], [0, 1, 2, 3]) # ArbRot as a isometry\n",
        "  qc.measure(0, 0)\n",
        "  qc.measure(1, 1)\n",
        "  qc.measure(2, 2)\n",
        "  qc.measure(3, 3)\n",
        "  counts = execute(qc, backend, shots=10000).result().get_counts()\n",
        "  try:\n",
        "    prob_zero = (counts[\"0000\"]/10000)\n",
        "  except:\n",
        "    prob_zero = 0\n",
        "  prob_test[i] = prob_zero\n",
        "  if i % 10 == 0:\n",
        "    print(i)\n",
        "    print(time() - exp_time)\n",
        "    exp_time = time()"
      ]
    },
    {
      "cell_type": "code",
      "execution_count": null,
      "metadata": {
        "id": "KkQ5tKtkIQo7"
      },
      "outputs": [],
      "source": [
        "prob_test_pure = calculate_constant_qmkde_pure(dmrff.rff_layer.gamma_val.numpy()) * np.sqrt(prob_test) * (1/1000) * np.linalg.norm(X_feat_train.sum(axis = 0))"
      ]
    },
    {
      "cell_type": "code",
      "execution_count": null,
      "metadata": {
        "colab": {
          "base_uri": "https://localhost:8080/",
          "height": 327
        },
        "id": "ek-VvdixIQpF",
        "outputId": "1ce4d1a1-ebf3-450c-bec1-574cf7ba8960"
      },
      "outputs": [
        {
          "data": {
            "text/plain": [
              "Text(0, 0.5, 'Probability Density')"
            ]
          },
          "execution_count": 94,
          "metadata": {},
          "output_type": "execute_result"
        },
        {
          "data": {
            "image/png": "[encoded data removed]",
            "text/plain": [
              "<Figure size 396x324 with 1 Axes>"
            ]
          },
          "metadata": {},
          "output_type": "display_data"
        }
      ],
      "source": [
        "params = {\n",
        "   'axes.labelsize': 8,\n",
        "   'legend.fontsize': 10,\n",
        "   'xtick.labelsize': 10,\n",
        "   'ytick.labelsize': 10,\n",
        "   'text.usetex': False,\n",
        "   'figure.figsize': [5.5, 4.5]\n",
        "   }\n",
        "plt.rcParams.update(params)\n",
        "\n",
        "plt.plot(X_plot[:, 0], true_dens, \"maroon\", label='True pdf')\n",
        "colors = ['navy']\n",
        "kernels = ['gaussian']\n",
        "lw = 2\n",
        "plt.plot(X_plot[:, 0], prob_test_pure_3, color='green', lw=lw,\n",
        "            linestyle='-', label=\"DMKDE Pure\")    \n",
        "#plt.text(4, 0.25, f\"DM 16x16\")\n",
        "plt.legend(loc='upper left')\n",
        "plt.xlabel('X', fontsize=12)\n",
        "plt.ylabel('Probability Density', fontsize=10)"
      ]
    },
    {
      "cell_type": "code",
      "execution_count": null,
      "metadata": {
        "id": "o206-3NAKf6O"
      },
      "outputs": [],
      "source": [
        "#np.save(\"/content/drive/MyDrive/TesisMaestria/ResearchData/purestate_qubits_16comp_adpRFF_gamma1fixed.npy\", prob_test_pure)\n",
        "prob_test_pure_3 = np.load(\"/content/drive/MyDrive/TesisMaestria/ResearchData/purestate_qubits_16comp_adpRFF_gamma1fixed.npy\")"
      ]
    },
    {
      "cell_type": "markdown",
      "metadata": {
        "id": "3VtwF7_jV74w"
      },
      "source": [
        "### Summary of Mixed and Pure Qiskit"
      ]
    },
    {
      "cell_type": "code",
      "source": [
        "prob_test_pure_3 = np.load(\"/content/drive/MyDrive/TesisMaestria/ResearchData/purestate_qubits_16comp_adpRFF_gamma1fixed.npy\")\n",
        "prob_test_mixed_3 = np.load(\"/content/drive/MyDrive/TesisMaestria/ResearchData/mixedstate_qubits_16comp_adpRFF_gamma1fixed.npy\")"
      ],
      "metadata": {
        "id": "zW2y7o_lNJNo"
      },
      "execution_count": null,
      "outputs": []
    },
    {
      "cell_type": "code",
      "execution_count": null,
      "metadata": {
        "colab": {
          "base_uri": "https://localhost:8080/",
          "height": 327
        },
        "id": "9zz13ZbBNTTu",
        "outputId": "4d239af6-865e-4e14-9ac2-64217097b65d"
      },
      "outputs": [
        {
          "output_type": "execute_result",
          "data": {
            "text/plain": [
              "Text(0, 0.5, 'Probability Density')"
            ]
          },
          "metadata": {},
          "execution_count": 11
        },
        {
          "output_type": "display_data",
          "data": {
            "text/plain": [
              "<Figure size 396x324 with 1 Axes>"
            ],
            "image/png": "[encoded data removed]"
          },
          "metadata": {
            "needs_background": "light"
          }
        }
      ],
      "source": [
        "params = {\n",
        "   'axes.labelsize': 10,\n",
        "   'legend.fontsize': 10,\n",
        "   'xtick.labelsize': 10,\n",
        "   'ytick.labelsize': 10,\n",
        "   'text.usetex': False,\n",
        "   'figure.figsize': [5.5, 4.5]\n",
        "   }\n",
        "plt.rcParams.update(params)\n",
        "\n",
        "plt.plot(X_plot[:, 0], true_dens, \"maroon\", label='True pdf')\n",
        "colors = ['navy']\n",
        "kernels = ['gaussian']\n",
        "lw = 2\n",
        "plt.plot(X_plot[:, 0], prob_test_pure_3, color='green', lw=lw,\n",
        "            linestyle='-', label=\"DMKDE Pure \\n AFF\")  \n",
        "plt.plot(X_plot[:, 0], prob_test_mixed_3, color='#006BB2', lw=lw,\n",
        "            linestyle='-', label=\"DMKDE Mixed \\n AFF\") \n",
        "#plt.text(4, 0.25, f\"DM 16x16\")\n",
        "plt.legend(loc='upper left')\n",
        "plt.xlabel('X', fontsize=12)\n",
        "plt.ylabel('Probability Density', fontsize=10)"
      ]
    },
    {
      "cell_type": "code",
      "execution_count": null,
      "metadata": {
        "id": "FcccF4m-K3X_"
      },
      "outputs": [],
      "source": [
        ""
      ]
    }
  ],
  "metadata": {
    "colab": {
      "collapsed_sections": [],
      "name": "Density Estimation Adaptive RFF Quantum Simulator.ipynb",
      "toc_visible": true,
      "provenance": []
    },
    "kernelspec": {
      "display_name": "Python 3",
      "name": "python3"
    },
    "language_info": {
      "name": "python"
    }
  },
  "nbformat": 4,
  "nbformat_minor": 0
}