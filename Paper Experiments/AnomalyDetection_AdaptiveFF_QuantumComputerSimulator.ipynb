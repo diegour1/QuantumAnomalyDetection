{
  "nbformat": 4,
  "nbformat_minor": 0,
  "metadata": {
    "colab": {
      "name": "AnomalyDetection_AdaptiveFF_QuantumComputerSimulator.ipynb",
      "provenance": []
    },
    "kernelspec": {
      "name": "python3",
      "display_name": "Python 3"
    },
    "language_info": {
      "name": "python"
    }
  },
  "cells": [
    {
      "cell_type": "code",
      "execution_count": 1,
      "metadata": {
        "colab": {
          "base_uri": "https://localhost:8080/"
        },
        "id": "IezDXx2y6WcQ",
        "outputId": "ac2786b7-1409-4e79-8e2a-e671354838eb"
      },
      "outputs": [
        {
          "output_type": "stream",
          "name": "stdout",
          "text": [
            "Looking in indexes: https://pypi.org/simple, https://us-python.pkg.dev/colab-wheels/public/simple/\n",
            "Collecting qiskit\n",
            "  Downloading qiskit-0.36.2.tar.gz (13 kB)\n",
            "Collecting qiskit-terra==0.20.2\n",
            "  Downloading qiskit_terra-0.20.2-cp37-cp37m-manylinux_2_17_x86_64.manylinux2014_x86_64.whl (6.5 MB)\n",
            "\u001b[K     |████████████████████████████████| 6.5 MB 10.1 MB/s \n",
            "\u001b[?25hCollecting qiskit-aer==0.10.4\n",
            "  Downloading qiskit_aer-0.10.4-cp37-cp37m-manylinux_2_12_x86_64.manylinux2010_x86_64.whl (18.0 MB)\n",
            "\u001b[K     |████████████████████████████████| 18.0 MB 136 kB/s \n",
            "\u001b[?25hCollecting qiskit-ibmq-provider==0.19.1\n",
            "  Downloading qiskit_ibmq_provider-0.19.1-py3-none-any.whl (240 kB)\n",
            "\u001b[K     |████████████████████████████████| 240 kB 46.9 MB/s \n",
            "\u001b[?25hCollecting qiskit-ignis==0.7.1\n",
            "  Downloading qiskit_ignis-0.7.1-py3-none-any.whl (198 kB)\n",
            "\u001b[K     |████████████████████████████████| 198 kB 14.0 MB/s \n",
            "\u001b[?25hRequirement already satisfied: scipy>=1.0 in /usr/local/lib/python3.7/dist-packages (from qiskit-aer==0.10.4->qiskit) (1.4.1)\n",
            "Requirement already satisfied: numpy>=1.16.3 in /usr/local/lib/python3.7/dist-packages (from qiskit-aer==0.10.4->qiskit) (1.21.6)\n",
            "Collecting websocket-client>=1.0.1\n",
            "  Downloading websocket_client-1.3.2-py3-none-any.whl (54 kB)\n",
            "\u001b[K     |████████████████████████████████| 54 kB 2.0 MB/s \n",
            "\u001b[?25hRequirement already satisfied: requests>=2.19 in /usr/local/lib/python3.7/dist-packages (from qiskit-ibmq-provider==0.19.1->qiskit) (2.23.0)\n",
            "Requirement already satisfied: urllib3>=1.21.1 in /usr/local/lib/python3.7/dist-packages (from qiskit-ibmq-provider==0.19.1->qiskit) (1.24.3)\n",
            "Collecting websockets>=10.0\n",
            "  Downloading websockets-10.3-cp37-cp37m-manylinux_2_5_x86_64.manylinux1_x86_64.manylinux_2_12_x86_64.manylinux2010_x86_64.whl (112 kB)\n",
            "\u001b[K     |████████████████████████████████| 112 kB 29.9 MB/s \n",
            "\u001b[?25hCollecting requests-ntlm>=1.1.0\n",
            "  Downloading requests_ntlm-1.1.0-py2.py3-none-any.whl (5.7 kB)\n",
            "Requirement already satisfied: python-dateutil>=2.8.0 in /usr/local/lib/python3.7/dist-packages (from qiskit-ibmq-provider==0.19.1->qiskit) (2.8.2)\n",
            "Requirement already satisfied: setuptools>=40.1.0 in /usr/local/lib/python3.7/dist-packages (from qiskit-ignis==0.7.1->qiskit) (57.4.0)\n",
            "Collecting retworkx>=0.8.0\n",
            "  Downloading retworkx-0.11.0-cp37-cp37m-manylinux_2_5_x86_64.manylinux1_x86_64.manylinux_2_12_x86_64.manylinux2010_x86_64.whl (1.6 MB)\n",
            "\u001b[K     |████████████████████████████████| 1.6 MB 44.2 MB/s \n",
            "\u001b[?25hCollecting python-constraint>=1.4\n",
            "  Downloading python-constraint-1.4.0.tar.bz2 (18 kB)\n",
            "Collecting ply>=3.10\n",
            "  Downloading ply-3.11-py2.py3-none-any.whl (49 kB)\n",
            "\u001b[K     |████████████████████████████████| 49 kB 4.1 MB/s \n",
            "\u001b[?25hRequirement already satisfied: dill>=0.3 in /usr/local/lib/python3.7/dist-packages (from qiskit-terra==0.20.2->qiskit) (0.3.5.1)\n",
            "Requirement already satisfied: sympy>=1.3 in /usr/local/lib/python3.7/dist-packages (from qiskit-terra==0.20.2->qiskit) (1.7.1)\n",
            "Collecting tweedledum<2.0,>=1.1\n",
            "  Downloading tweedledum-1.1.1-cp37-cp37m-manylinux_2_12_x86_64.manylinux2010_x86_64.whl (943 kB)\n",
            "\u001b[K     |████████████████████████████████| 943 kB 37.6 MB/s \n",
            "\u001b[?25hRequirement already satisfied: psutil>=5 in /usr/local/lib/python3.7/dist-packages (from qiskit-terra==0.20.2->qiskit) (5.4.8)\n",
            "Collecting stevedore>=3.0.0\n",
            "  Downloading stevedore-3.5.0-py3-none-any.whl (49 kB)\n",
            "\u001b[K     |████████████████████████████████| 49 kB 4.4 MB/s \n",
            "\u001b[?25hCollecting scipy>=1.0\n",
            "  Downloading scipy-1.7.3-cp37-cp37m-manylinux_2_12_x86_64.manylinux2010_x86_64.whl (38.1 MB)\n",
            "\u001b[K     |████████████████████████████████| 38.1 MB 1.4 MB/s \n",
            "\u001b[?25hCollecting symengine>=0.9\n",
            "  Downloading symengine-0.9.2-cp37-cp37m-manylinux2010_x86_64.whl (37.5 MB)\n",
            "\u001b[K     |████████████████████████████████| 37.5 MB 2.3 MB/s \n",
            "\u001b[?25hRequirement already satisfied: six>=1.5 in /usr/local/lib/python3.7/dist-packages (from python-dateutil>=2.8.0->qiskit-ibmq-provider==0.19.1->qiskit) (1.15.0)\n",
            "Requirement already satisfied: chardet<4,>=3.0.2 in /usr/local/lib/python3.7/dist-packages (from requests>=2.19->qiskit-ibmq-provider==0.19.1->qiskit) (3.0.4)\n",
            "Requirement already satisfied: idna<3,>=2.5 in /usr/local/lib/python3.7/dist-packages (from requests>=2.19->qiskit-ibmq-provider==0.19.1->qiskit) (2.10)\n",
            "Requirement already satisfied: certifi>=2017.4.17 in /usr/local/lib/python3.7/dist-packages (from requests>=2.19->qiskit-ibmq-provider==0.19.1->qiskit) (2022.5.18.1)\n",
            "Collecting cryptography>=1.3\n",
            "  Downloading cryptography-37.0.2-cp36-abi3-manylinux_2_24_x86_64.whl (4.0 MB)\n",
            "\u001b[K     |████████████████████████████████| 4.0 MB 30.8 MB/s \n",
            "\u001b[?25hCollecting ntlm-auth>=1.0.2\n",
            "  Downloading ntlm_auth-1.5.0-py2.py3-none-any.whl (29 kB)\n",
            "Requirement already satisfied: cffi>=1.12 in /usr/local/lib/python3.7/dist-packages (from cryptography>=1.3->requests-ntlm>=1.1.0->qiskit-ibmq-provider==0.19.1->qiskit) (1.15.0)\n",
            "Requirement already satisfied: pycparser in /usr/local/lib/python3.7/dist-packages (from cffi>=1.12->cryptography>=1.3->requests-ntlm>=1.1.0->qiskit-ibmq-provider==0.19.1->qiskit) (2.21)\n",
            "Requirement already satisfied: importlib-metadata>=1.7.0 in /usr/local/lib/python3.7/dist-packages (from stevedore>=3.0.0->qiskit-terra==0.20.2->qiskit) (4.11.4)\n",
            "Collecting pbr!=2.1.0,>=2.0.0\n",
            "  Downloading pbr-5.9.0-py2.py3-none-any.whl (112 kB)\n",
            "\u001b[K     |████████████████████████████████| 112 kB 23.2 MB/s \n",
            "\u001b[?25hRequirement already satisfied: zipp>=0.5 in /usr/local/lib/python3.7/dist-packages (from importlib-metadata>=1.7.0->stevedore>=3.0.0->qiskit-terra==0.20.2->qiskit) (3.8.0)\n",
            "Requirement already satisfied: typing-extensions>=3.6.4 in /usr/local/lib/python3.7/dist-packages (from importlib-metadata>=1.7.0->stevedore>=3.0.0->qiskit-terra==0.20.2->qiskit) (4.2.0)\n",
            "Requirement already satisfied: mpmath>=0.19 in /usr/local/lib/python3.7/dist-packages (from sympy>=1.3->qiskit-terra==0.20.2->qiskit) (1.2.1)\n",
            "Building wheels for collected packages: qiskit, python-constraint\n",
            "  Building wheel for qiskit (setup.py) ... \u001b[?25l\u001b[?25hdone\n",
            "  Created wheel for qiskit: filename=qiskit-0.36.2-py3-none-any.whl size=11933 sha256=f328a0a9daac65747c9017451e44f3d6e38699a8c51d97d27dd61c76a135e017\n",
            "  Stored in directory: /root/.cache/pip/wheels/36/f7/83/e2755ad17aa35bc145fce34e184aaf394a265a978d95caaabf\n",
            "  Building wheel for python-constraint (setup.py) ... \u001b[?25l\u001b[?25hdone\n",
            "  Created wheel for python-constraint: filename=python_constraint-1.4.0-py2.py3-none-any.whl size=24081 sha256=9c5d3724a5c23ee297b81fd58e0dd810d1a7e0a2f487509c28d0e023e127485b\n",
            "  Stored in directory: /root/.cache/pip/wheels/07/27/db/1222c80eb1e431f3d2199c12569cb1cac60f562a451fe30479\n",
            "Successfully built qiskit python-constraint\n",
            "Installing collected packages: pbr, tweedledum, symengine, stevedore, scipy, retworkx, python-constraint, ply, ntlm-auth, cryptography, websockets, websocket-client, requests-ntlm, qiskit-terra, qiskit-ignis, qiskit-ibmq-provider, qiskit-aer, qiskit\n",
            "  Attempting uninstall: scipy\n",
            "    Found existing installation: scipy 1.4.1\n",
            "    Uninstalling scipy-1.4.1:\n",
            "      Successfully uninstalled scipy-1.4.1\n",
            "\u001b[31mERROR: pip's dependency resolver does not currently take into account all the packages that are installed. This behaviour is the source of the following dependency conflicts.\n",
            "albumentations 0.1.12 requires imgaug<0.2.7,>=0.2.5, but you have imgaug 0.2.9 which is incompatible.\u001b[0m\n",
            "Successfully installed cryptography-37.0.2 ntlm-auth-1.5.0 pbr-5.9.0 ply-3.11 python-constraint-1.4.0 qiskit-0.36.2 qiskit-aer-0.10.4 qiskit-ibmq-provider-0.19.1 qiskit-ignis-0.7.1 qiskit-terra-0.20.2 requests-ntlm-1.1.0 retworkx-0.11.0 scipy-1.7.3 stevedore-3.5.0 symengine-0.9.2 tweedledum-1.1.1 websocket-client-1.3.2 websockets-10.3\n",
            "Looking in indexes: https://pypi.org/simple, https://us-python.pkg.dev/colab-wheels/public/simple/\n",
            "Collecting pylatexenc\n",
            "  Downloading pylatexenc-2.10.tar.gz (162 kB)\n",
            "\u001b[K     |████████████████████████████████| 162 kB 9.5 MB/s \n",
            "\u001b[?25hBuilding wheels for collected packages: pylatexenc\n",
            "  Building wheel for pylatexenc (setup.py) ... \u001b[?25l\u001b[?25hdone\n",
            "  Created wheel for pylatexenc: filename=pylatexenc-2.10-py3-none-any.whl size=136835 sha256=72c407dbd89b799f918d13f84eeaac5cdf4b20bdf3f3af40e1608b1f9ccc0002\n",
            "  Stored in directory: /root/.cache/pip/wheels/f1/8a/f5/33ee79d4473eb201b519fa40f989b842e373237395a3421f52\n",
            "Successfully built pylatexenc\n",
            "Installing collected packages: pylatexenc\n",
            "Successfully installed pylatexenc-2.10\n"
          ]
        }
      ],
      "source": [
        "!pip install qiskit\n",
        "!pip install pylatexenc"
      ]
    },
    {
      "cell_type": "markdown",
      "metadata": {
        "id": "kNux_IB_p_if"
      },
      "source": [
        "gamma = 1, percentile = 9.54, test val train"
      ]
    },
    {
      "cell_type": "markdown",
      "metadata": {
        "id": "4yl1bBNQYzOu"
      },
      "source": [
        "## Mount Google Drive"
      ]
    },
    {
      "cell_type": "code",
      "execution_count": 2,
      "metadata": {
        "id": "6wJYWE1nUlre",
        "colab": {
          "base_uri": "https://localhost:8080/"
        },
        "outputId": "abde2951-553e-4e1b-806a-1de2fd22fa2a"
      },
      "outputs": [
        {
          "output_type": "stream",
          "name": "stdout",
          "text": [
            "Mounted at /content/drive\n"
          ]
        }
      ],
      "source": [
        "from google.colab import drive\n",
        "drive.mount('/content/drive')"
      ]
    },
    {
      "cell_type": "markdown",
      "metadata": {
        "id": "UGBO-xTsz4mf"
      },
      "source": [
        "Load from Drive"
      ]
    },
    {
      "cell_type": "markdown",
      "metadata": {
        "id": "XTETuV1FZ8U8"
      },
      "source": [
        "Load from drive .mat file"
      ]
    },
    {
      "cell_type": "code",
      "execution_count": 3,
      "metadata": {
        "colab": {
          "base_uri": "https://localhost:8080/"
        },
        "id": "q1liTjaGb5zO",
        "outputId": "27707333-8e3b-496f-9a8d-07ae95a4c316"
      },
      "outputs": [
        {
          "output_type": "stream",
          "name": "stdout",
          "text": [
            "Looking in indexes: https://pypi.org/simple, https://us-python.pkg.dev/colab-wheels/public/simple/\n",
            "Requirement already satisfied: gdown in /usr/local/lib/python3.7/dist-packages (4.4.0)\n",
            "Requirement already satisfied: tqdm in /usr/local/lib/python3.7/dist-packages (from gdown) (4.64.0)\n",
            "Requirement already satisfied: filelock in /usr/local/lib/python3.7/dist-packages (from gdown) (3.7.0)\n",
            "Requirement already satisfied: requests[socks] in /usr/local/lib/python3.7/dist-packages (from gdown) (2.23.0)\n",
            "Requirement already satisfied: six in /usr/local/lib/python3.7/dist-packages (from gdown) (1.15.0)\n",
            "Requirement already satisfied: beautifulsoup4 in /usr/local/lib/python3.7/dist-packages (from gdown) (4.6.3)\n",
            "Requirement already satisfied: certifi>=2017.4.17 in /usr/local/lib/python3.7/dist-packages (from requests[socks]->gdown) (2022.5.18.1)\n",
            "Requirement already satisfied: urllib3!=1.25.0,!=1.25.1,<1.26,>=1.21.1 in /usr/local/lib/python3.7/dist-packages (from requests[socks]->gdown) (1.24.3)\n",
            "Requirement already satisfied: chardet<4,>=3.0.2 in /usr/local/lib/python3.7/dist-packages (from requests[socks]->gdown) (3.0.4)\n",
            "Requirement already satisfied: idna<3,>=2.5 in /usr/local/lib/python3.7/dist-packages (from requests[socks]->gdown) (2.10)\n",
            "Requirement already satisfied: PySocks!=1.5.7,>=1.5.6 in /usr/local/lib/python3.7/dist-packages (from requests[socks]->gdown) (1.7.1)\n"
          ]
        }
      ],
      "source": [
        "!pip install --upgrade --no-cache-dir gdown"
      ]
    },
    {
      "cell_type": "code",
      "execution_count": 4,
      "metadata": {
        "colab": {
          "base_uri": "https://localhost:8080/"
        },
        "id": "alx4TXl9ZwTS",
        "outputId": "8dd3b9d3-77a7-46de-d559-817dd2e424b7"
      },
      "outputs": [
        {
          "output_type": "stream",
          "name": "stdout",
          "text": [
            "/usr/local/lib/python3.7/dist-packages/gdown/cli.py:131: FutureWarning: Option `--id` was deprecated in version 4.3.1 and will be removed in 5.0. You don't need to pass it anymore to use a file ID.\n",
            "  category=FutureWarning,\n",
            "Downloading...\n",
            "From: https://drive.google.com/uc?id=1j4qIus2Bl44Om0UiOu4o4f__wVwUeDfP\n",
            "To: /content/cardio.mat\n",
            "100% 68.3k/68.3k [00:00<00:00, 64.3MB/s]\n"
          ]
        }
      ],
      "source": [
        "#Loading .mat Cardiotocography dataset file\n",
        "!gdown --id 1j4qIus2Bl44Om0UiOu4o4f__wVwUeDfP"
      ]
    },
    {
      "cell_type": "code",
      "execution_count": 8,
      "metadata": {
        "colab": {
          "base_uri": "https://localhost:8080/"
        },
        "id": "aZRgeliPz_z8",
        "outputId": "d3d5ed20-6a8f-47bc-bc3e-7adf10f37b7e"
      },
      "outputs": [
        {
          "output_type": "execute_result",
          "data": {
            "text/plain": [
              "((1831, 21), (1831, 1))"
            ]
          },
          "metadata": {},
          "execution_count": 8
        }
      ],
      "source": [
        "import numpy as np\n",
        "from time import time\n",
        "from sklearn.kernel_approximation import RBFSampler\n",
        "from sklearn.metrics import roc_auc_score\n",
        "import matplotlib.pyplot as plt\n",
        "\n",
        "\n",
        "from scipy import io\n",
        "\n",
        "cardio = io.loadmat(\"cardio.mat\")\n",
        "\n",
        "cardio[\"X\"].shape, cardio[\"y\"].shape"
      ]
    },
    {
      "cell_type": "code",
      "execution_count": 9,
      "metadata": {
        "id": "QZhPY8X5DIaM"
      },
      "outputs": [],
      "source": [
        "from qiskit import QuantumRegister, ClassicalRegister, QuantumCircuit\n",
        "from qiskit import Aer, execute"
      ]
    },
    {
      "cell_type": "markdown",
      "metadata": {
        "id": "zn-jB3En0Ha_"
      },
      "source": [
        "Preprocessing\n",
        "\n",
        "np.load object --> X, y (scaled)\n",
        "\n",
        "normal: '1'  \n",
        "anomalies: '0'"
      ]
    },
    {
      "cell_type": "code",
      "execution_count": 10,
      "metadata": {
        "colab": {
          "base_uri": "https://localhost:8080/"
        },
        "id": "M67oIQRQ298k",
        "outputId": "16ebde3c-18e1-45c6-dac7-c8b6ba9a7808"
      },
      "outputs": [
        {
          "output_type": "execute_result",
          "data": {
            "text/plain": [
              "((1831, 21), (1831, 1))"
            ]
          },
          "metadata": {},
          "execution_count": 10
        }
      ],
      "source": [
        "from sklearn.preprocessing import MinMaxScaler\n",
        "from scipy.stats import zscore\n",
        "\n",
        "def preprocessing_cardio(data):\n",
        "  features, labels = cardio[\"X\"], cardio[\"y\"]\n",
        "  labels = 1 - labels\n",
        "  return features, labels\n",
        "\n",
        "cardio_X, cardio_y = preprocessing_cardio(cardio)\n",
        "\n",
        "cardio_X.shape, cardio_y.shape"
      ]
    },
    {
      "cell_type": "markdown",
      "metadata": {
        "id": "T_dh3TrN0WFR"
      },
      "source": [
        "Random fourier features\n",
        "\n",
        "parameters: gamma, dimensions, random_state\n",
        "\n",
        "X --> rff(X)"
      ]
    },
    {
      "cell_type": "code",
      "execution_count": 11,
      "metadata": {
        "id": "9O-_tfbC2DEi"
      },
      "outputs": [],
      "source": [
        "from sklearn.kernel_approximation import RBFSampler\n",
        "\"\"\"\n",
        "  Code from https://arxiv.org/abs/2004.01227\n",
        "\"\"\"\n",
        "class QFeatureMap: \n",
        "\n",
        "  def get_dim(self, num_features):\n",
        "    pass\n",
        "\n",
        "  def batch2wf(self, X):\n",
        "    pass\n",
        "\n",
        "  def batch2dm(self, X):\n",
        "    psi = self.batch2wf(X)\n",
        "    rho = np.einsum('...i,...j', psi, np.conj(psi))\n",
        "    return rho\n",
        "\n",
        "class QFeatureMap_rff(QFeatureMap):\n",
        "\n",
        "  def __init__(self, rbf_sampler):\n",
        "    self.rbf_sampler = rbf_sampler\n",
        "    self.weights = np.array(rbf_sampler.random_weights_)\n",
        "    self.offset = np.array(rbf_sampler.random_offset_)\n",
        "    self.dim = rbf_sampler.get_params()['n_components']\n",
        "\n",
        "  def get_dim(self, num_features):\n",
        "    return self.dim\n",
        "\n",
        "  def batch2wf(self, X):\n",
        "    vals = np.dot(X, self.weights) + self.offset\n",
        "    vals = np.cos(vals)\n",
        "    vals *= np.sqrt(2.) / np.sqrt(self.dim)\n",
        "    norms = np.linalg.norm(vals, axis=1)\n",
        "    psi = vals / norms[:, np.newaxis]\n",
        "    return psi"
      ]
    },
    {
      "cell_type": "code",
      "execution_count": 12,
      "metadata": {
        "id": "opFX2jGW2G7d"
      },
      "outputs": [],
      "source": [
        "# Create the RandomFourierFeature map\n",
        "def rff(X, dim, gamma): \n",
        "    feature_map_fourier = RBFSampler(gamma=gamma, n_components=dim, random_state=None)\n",
        "    X_feat_train = feature_map_fourier.fit(cardio_X)\n",
        "\n",
        "    rffmap = QFeatureMap_rff(rbf_sampler=feature_map_fourier)\n",
        "    Crff = rffmap.batch2wf(cardio_X)\n",
        "\n",
        "    return Crff"
      ]
    },
    {
      "cell_type": "markdown",
      "metadata": {
        "id": "5prTAAs-6215"
      },
      "source": [
        "Train test split"
      ]
    },
    {
      "cell_type": "code",
      "execution_count": 13,
      "metadata": {
        "colab": {
          "base_uri": "https://localhost:8080/"
        },
        "id": "M7sq1ptSJnHs",
        "outputId": "6e4e669e-bbcf-42e5-b1f4-075a37e2e37e"
      },
      "outputs": [
        {
          "output_type": "stream",
          "name": "stdout",
          "text": [
            "shape of X_train: (1098, 21) X_test: (367, 21) X_val (366, 21)\n",
            "classes: 0: 35 1: 332 %-anomalies: 0.09536784741144415\n"
          ]
        }
      ],
      "source": [
        "from sklearn.model_selection import train_test_split\n",
        "\n",
        "X_train, X_test, y_train, y_test = train_test_split(cardio_X, cardio_y, test_size=0.2, stratify=cardio_y, random_state=42)\n",
        "X_train, X_val, y_train, y_val = train_test_split(X_train, y_train, test_size=0.25, stratify=y_train, random_state=42)\n",
        "\n",
        "print(f\"shape of X_train: {X_train.shape} X_test: {X_test.shape} X_val {X_val.shape}\")\n",
        "n_classes = np.bincount(y_test.ravel().astype(np.int64))\n",
        "\n",
        "print(f\"classes: 0: {n_classes[0]} 1: {n_classes[1]} %-anomalies: {n_classes[0] / (n_classes[0] + n_classes[1])}\")\n",
        "#print(f\"classes: 0: {n_classes[0]} 1: {n_classes[1]} %-anomalies: {n_classes[1] / (n_classes[0] + n_classes[1])}\")"
      ]
    },
    {
      "cell_type": "markdown",
      "metadata": {
        "id": "99zg2Ps8WgK5"
      },
      "source": [
        "## Quantum Prediction"
      ]
    },
    {
      "cell_type": "markdown",
      "metadata": {
        "id": "axoxfK4h5i5_"
      },
      "source": [
        "Density Matrix Build\n",
        "\n",
        "Pure State: x_train --> U (matrix)\n",
        "\n",
        "Mixed State: X_train --> lambda (vec) , U (matrix)"
      ]
    },
    {
      "cell_type": "code",
      "execution_count": 14,
      "metadata": {
        "id": "07II8vchI3oZ"
      },
      "outputs": [],
      "source": [
        "def pure_state(Ctrain):\n",
        "    phi_train = np.sum(Ctrain, axis=0)\n",
        "    phi_train = phi_train / np.linalg.norm(phi_train)\n",
        "\n",
        "    size_U = len(phi_train)\n",
        "    U_train = np.zeros((size_U, size_U))\n",
        "    x_1 = phi_train\n",
        "    U_train[:, 0] = x_1\n",
        "    for i in range(1, size_U):\n",
        "        x_i = np.random.randn(size_U)\n",
        "        for j in range(0, i):\n",
        "            x_i -= x_i.dot(U_train[:, j]) * U_train[:, j]\n",
        "        x_i = x_i / np.linalg.norm(x_i)\n",
        "        U_train[:, i] = x_i\n",
        "\n",
        "    return U_train"
      ]
    },
    {
      "cell_type": "code",
      "execution_count": 15,
      "metadata": {
        "id": "G67FoafZ57Hl"
      },
      "outputs": [],
      "source": [
        "import copy\n",
        "\n",
        "def mixed_state(Ctrain):\n",
        "    \n",
        "    Z_train = np.outer(Ctrain[0], Ctrain[0])\n",
        "    for i in range(1, len(Ctrain)):\n",
        "        Z_train += np.outer(Ctrain[i], Ctrain[i])\n",
        "\n",
        "\n",
        "    Z_train *= 1/len(Ctrain)\n",
        "\n",
        "    lambda_P1_temp, U_train = np.linalg.eigh(Z_train)\n",
        "\n",
        "    return lambda_P1_temp, U_train"
      ]
    },
    {
      "cell_type": "markdown",
      "metadata": {
        "id": "efh2Fvxd8d0r"
      },
      "source": [
        "Running the Quantum Circuits\n",
        "\n",
        "parameters: eigvals, U, n_shots\n",
        "\n",
        "X_test --> preds"
      ]
    },
    {
      "cell_type": "code",
      "execution_count": 16,
      "metadata": {
        "id": "z4ZXxqVB8_JU"
      },
      "outputs": [],
      "source": [
        "from qiskit import QuantumRegister, ClassicalRegister, QuantumCircuit\n",
        "from qiskit import Aer, execute"
      ]
    },
    {
      "cell_type": "code",
      "execution_count": 17,
      "metadata": {
        "id": "y-UJr2XX81A0"
      },
      "outputs": [],
      "source": [
        "backend2 = Aer.get_backend('qasm_simulator')\n",
        "# np.random.seed(1234)"
      ]
    },
    {
      "cell_type": "code",
      "execution_count": 18,
      "metadata": {
        "id": "8eiCsQKI9ACV"
      },
      "outputs": [],
      "source": [
        "def quantum_circuit_mixed_four(Ctest, eigvals, U_train, n_shots=10000):\n",
        "\n",
        "    Cpred = []\n",
        "    for i in range(len(Ctest)):\n",
        "        qc = QuantumCircuit(4, 2)\n",
        "\n",
        "        qc.initialize(Ctest[i], [0, 1])\n",
        "        qc.initialize(np.sqrt(eigvals), [2, 3])\n",
        "        qc.isometry(U_train.T, [], [0, 1]) \n",
        "\n",
        "        qc.cnot(3, 1)\n",
        "        qc.cnot(2, 0)\n",
        "\n",
        "        qc.measure(0, 0)\n",
        "        qc.measure(1, 1)\n",
        "\n",
        "        counts = execute(qc, backend2, shots=n_shots).result().get_counts()\n",
        "        try:\n",
        "            Cpred.append(counts['00'] / n_shots)\n",
        "        except:\n",
        "            Cpred.append(0)\n",
        "\n",
        "    return Cpred"
      ]
    },
    {
      "cell_type": "code",
      "execution_count": 19,
      "metadata": {
        "id": "D9LBL-F7Jq6L"
      },
      "outputs": [],
      "source": [
        "def quantum_circuit_pure_four(Ctest, U_train, n_shots=10000):\n",
        "    \n",
        "    Cpred = []\n",
        "    for i in range(len(Ctest)):\n",
        "        qc = QuantumCircuit(2, 2)\n",
        "\n",
        "        qc.initialize(Ctest[i], [0, 1])\n",
        "        qc.isometry(U_train.T, [], [0, 1]) # ArbRot as a isometry\n",
        "\n",
        "        qc.measure(0, 0)\n",
        "        qc.measure(1, 1)\n",
        "\n",
        "        counts = execute(qc, backend2, shots=n_shots).result().get_counts()\n",
        "        try:\n",
        "            Cpred.append(np.sqrt(counts['00'] / n_shots))\n",
        "        except:\n",
        "            Cpred.append(0)\n",
        "\n",
        "    return Cpred"
      ]
    },
    {
      "cell_type": "markdown",
      "metadata": {
        "id": "8fvgFXhcBIeE"
      },
      "source": [
        "Classification\n",
        "\n",
        "The threshold is calculated using weighted f1_score\n",
        "\n",
        "X_test --> classification_report, threshold"
      ]
    },
    {
      "cell_type": "code",
      "execution_count": 20,
      "metadata": {
        "id": "5Q-iesyWsCkd"
      },
      "outputs": [],
      "source": [
        "from sklearn.metrics import roc_curve, f1_score\n",
        "from sklearn.metrics import classification_report\n",
        "\n",
        "def classification(preds_val, preds_test, y_test):\n",
        "\n",
        "    thredhold = np.percentile(preds_val, q = 9.54)\n",
        "    y_pred = preds_test > thredhold\n",
        "    return classification_report(y_test, y_pred, digits=4)"
      ]
    },
    {
      "cell_type": "code",
      "execution_count": null,
      "metadata": {
        "colab": {
          "base_uri": "https://localhost:8080/"
        },
        "id": "aqoYmvJNtA70",
        "outputId": "2eed4f15-5e1d-467a-b506-552334b94e51"
      },
      "outputs": [
        {
          "name": "stdout",
          "output_type": "stream",
          "text": [
            "4x4 Pure, experiment 0\n",
            "Gamma: 0.0282\n",
            "              precision    recall  f1-score   support\n",
            "\n",
            "         0.0     0.2222    0.1143    0.1509        35\n",
            "         1.0     0.9112    0.9578    0.9339       332\n",
            "\n",
            "    accuracy                         0.8774       367\n",
            "   macro avg     0.5667    0.5361    0.5424       367\n",
            "weighted avg     0.8455    0.8774    0.8592       367\n",
            "\n",
            "AUC = 0.6635\n",
            "67.05944108963013\n",
            "4x4 Mixed, experiment 0\n",
            "Gamma: 0.0282\n",
            "              precision    recall  f1-score   support\n",
            "\n",
            "         0.0     0.1538    0.1143    0.1311        35\n",
            "         1.0     0.9091    0.9337    0.9212       332\n",
            "\n",
            "    accuracy                         0.8556       367\n",
            "   macro avg     0.5315    0.5240    0.5262       367\n",
            "weighted avg     0.8371    0.8556    0.8459       367\n",
            "\n",
            "AUC = 0.7065\n",
            "345.49100279808044\n",
            "4x4 Pure, experiment 1\n",
            "Gamma: 0.0282\n",
            "              precision    recall  f1-score   support\n",
            "\n",
            "         0.0     0.3429    0.3429    0.3429        35\n",
            "         1.0     0.9307    0.9307    0.9307       332\n",
            "\n",
            "    accuracy                         0.8747       367\n",
            "   macro avg     0.6368    0.6368    0.6368       367\n",
            "weighted avg     0.8747    0.8747    0.8747       367\n",
            "\n",
            "AUC = 0.719\n",
            "66.59816336631775\n",
            "4x4 Mixed, experiment 1\n",
            "Gamma: 0.0282\n",
            "              precision    recall  f1-score   support\n",
            "\n",
            "         0.0     0.3438    0.3143    0.3284        35\n",
            "         1.0     0.9284    0.9367    0.9325       332\n",
            "\n",
            "    accuracy                         0.8774       367\n",
            "   macro avg     0.6361    0.6255    0.6304       367\n",
            "weighted avg     0.8726    0.8774    0.8749       367\n",
            "\n",
            "AUC = 0.7412\n",
            "342.6536514759064\n",
            "4x4 Pure, experiment 2\n",
            "Gamma: 0.0282\n",
            "              precision    recall  f1-score   support\n",
            "\n",
            "         0.0     0.2051    0.2286    0.2162        35\n",
            "         1.0     0.9177    0.9066    0.9121       332\n",
            "\n",
            "    accuracy                         0.8420       367\n",
            "   macro avg     0.5614    0.5676    0.5642       367\n",
            "weighted avg     0.8497    0.8420    0.8458       367\n",
            "\n",
            "AUC = 0.7031\n",
            "66.87918972969055\n",
            "4x4 Mixed, experiment 2\n",
            "Gamma: 0.0282\n",
            "              precision    recall  f1-score   support\n",
            "\n",
            "         0.0     0.2368    0.2571    0.2466        35\n",
            "         1.0     0.9210    0.9127    0.9168       332\n",
            "\n",
            "    accuracy                         0.8501       367\n",
            "   macro avg     0.5789    0.5849    0.5817       367\n",
            "weighted avg     0.8557    0.8501    0.8529       367\n",
            "\n",
            "AUC = 0.701\n",
            "338.1283895969391\n",
            "4x4 Pure, experiment 3\n",
            "Gamma: 0.0282\n",
            "              precision    recall  f1-score   support\n",
            "\n",
            "         0.0     0.4194    0.3714    0.3939        35\n",
            "         1.0     0.9345    0.9458    0.9401       332\n",
            "\n",
            "    accuracy                         0.8910       367\n",
            "   macro avg     0.6769    0.6586    0.6670       367\n",
            "weighted avg     0.8854    0.8910    0.8880       367\n",
            "\n",
            "AUC = 0.792\n",
            "63.4641752243042\n",
            "4x4 Mixed, experiment 3\n",
            "Gamma: 0.0282\n",
            "              precision    recall  f1-score   support\n",
            "\n",
            "         0.0     0.4194    0.3714    0.3939        35\n",
            "         1.0     0.9345    0.9458    0.9401       332\n",
            "\n",
            "    accuracy                         0.8910       367\n",
            "   macro avg     0.6769    0.6586    0.6670       367\n",
            "weighted avg     0.8854    0.8910    0.8880       367\n",
            "\n",
            "AUC = 0.7773\n",
            "335.48702812194824\n",
            "4x4 Pure, experiment 4\n",
            "Gamma: 0.0282\n",
            "              precision    recall  f1-score   support\n",
            "\n",
            "         0.0     0.1765    0.1714    0.1739        35\n",
            "         1.0     0.9129    0.9157    0.9143       332\n",
            "\n",
            "    accuracy                         0.8447       367\n",
            "   macro avg     0.5447    0.5435    0.5441       367\n",
            "weighted avg     0.8427    0.8447    0.8437       367\n",
            "\n",
            "AUC = 0.6912\n",
            "64.79746794700623\n",
            "4x4 Mixed, experiment 4\n",
            "Gamma: 0.0282\n",
            "              precision    recall  f1-score   support\n",
            "\n",
            "         0.0     0.2308    0.1714    0.1967        35\n",
            "         1.0     0.9150    0.9398    0.9272       332\n",
            "\n",
            "    accuracy                         0.8665       367\n",
            "   macro avg     0.5729    0.5556    0.5620       367\n",
            "weighted avg     0.8497    0.8665    0.8575       367\n",
            "\n",
            "AUC = 0.7059\n",
            "332.08904814720154\n"
          ]
        }
      ],
      "source": [
        "gammas = [0.0078125]\n",
        "dim = 4\n",
        "num_exps = 5\n",
        "exp_time = time()\n",
        "for gamma in gammas:\n",
        "    for i in range(num_exps):\n",
        "        print(\"4x4 Pure, experiment\", i)\n",
        "        print(\"Gamma:\", gamma)\n",
        "\n",
        "        feature_map_fourier = RBFSampler(gamma=gamma, n_components=dim) # original gamma 2\n",
        "        X_feat_train = feature_map_fourier.fit(X_train)\n",
        "        rffmap = QFeatureMap_rff(rbf_sampler=feature_map_fourier)\n",
        "        X_feat_train = rffmap.batch2wf(X_train)\n",
        "        X_feat_val = rffmap.batch2wf(X_val)\n",
        "        X_feat_test = rffmap.batch2wf(X_test)\n",
        "\n",
        "        U = pure_state(X_feat_train)\n",
        "\n",
        "        preds_val = quantum_circuit_pure_four(X_feat_val, U)\n",
        "        preds_test = quantum_circuit_pure_four(X_feat_test, U)\n",
        "\n",
        "        print(classification(preds_val, preds_test, y_test))\n",
        "        print(f\"AUC = {round(roc_auc_score(y_test, preds_test), 4)}\")\n",
        "        print(time() - exp_time)\n",
        "        exp_time = time()\n",
        "\n",
        "        print(\"4x4 Mixed, experiment\", i)\n",
        "        print(\"Gamma:\", gamma)\n",
        "\n",
        "        eigvals, U = mixed_state(X_feat_train)\n",
        "\n",
        "        preds_val = quantum_circuit_mixed_four(X_feat_val, eigvals, U)\n",
        "        preds_test = quantum_circuit_mixed_four(X_feat_test, eigvals, U)\n",
        "\n",
        "        print(classification(preds_val, preds_test, y_test))\n",
        "        print(f\"AUC = {round(roc_auc_score(y_test, preds_test), 4)}\")\n",
        "        print(time() - exp_time)\n",
        "        exp_time = time()"
      ]
    },
    {
      "cell_type": "markdown",
      "metadata": {
        "id": "aTr7HTfRjjYD"
      },
      "source": [
        "# Quantum Prediction with Adaptive RFF"
      ]
    },
    {
      "cell_type": "markdown",
      "metadata": {
        "id": "bg5HouMNCobX"
      },
      "source": [
        "## Clone the QMC from GitHUB"
      ]
    },
    {
      "cell_type": "code",
      "execution_count": 28,
      "metadata": {
        "colab": {
          "base_uri": "https://localhost:8080/"
        },
        "id": "iz_g0LI9CBLc",
        "outputId": "eb6282f4-85cb-452c-eb9d-0f71d569280d"
      },
      "outputs": [
        {
          "output_type": "stream",
          "name": "stdout",
          "text": [
            "Looking in indexes: https://pypi.org/simple, https://us-python.pkg.dev/colab-wheels/public/simple/\n",
            "Collecting git+https://github.com/fagonzalezo/qmc.git\n",
            "  Cloning https://github.com/fagonzalezo/qmc.git to /tmp/pip-req-build-9ojels8a\n",
            "  Running command git clone -q https://github.com/fagonzalezo/qmc.git /tmp/pip-req-build-9ojels8a\n",
            "Requirement already satisfied: scipy in /usr/local/lib/python3.7/dist-packages (from qmc==0.0.1) (1.7.3)\n",
            "Requirement already satisfied: numpy>=1.19.2 in /usr/local/lib/python3.7/dist-packages (from qmc==0.0.1) (1.21.6)\n",
            "Requirement already satisfied: scikit-learn in /usr/local/lib/python3.7/dist-packages (from qmc==0.0.1) (1.0.2)\n",
            "Requirement already satisfied: tensorflow>=2.2.0 in /usr/local/lib/python3.7/dist-packages (from qmc==0.0.1) (2.8.2+zzzcolab20220527125636)\n",
            "Requirement already satisfied: typeguard in /usr/local/lib/python3.7/dist-packages (from qmc==0.0.1) (2.7.1)\n",
            "Requirement already satisfied: protobuf<3.20,>=3.9.2 in /usr/local/lib/python3.7/dist-packages (from tensorflow>=2.2.0->qmc==0.0.1) (3.17.3)\n",
            "Requirement already satisfied: keras<2.9,>=2.8.0rc0 in /usr/local/lib/python3.7/dist-packages (from tensorflow>=2.2.0->qmc==0.0.1) (2.8.0)\n",
            "Requirement already satisfied: opt-einsum>=2.3.2 in /usr/local/lib/python3.7/dist-packages (from tensorflow>=2.2.0->qmc==0.0.1) (3.3.0)\n",
            "Requirement already satisfied: six>=1.12.0 in /usr/local/lib/python3.7/dist-packages (from tensorflow>=2.2.0->qmc==0.0.1) (1.15.0)\n",
            "Requirement already satisfied: tensorboard<2.9,>=2.8 in /usr/local/lib/python3.7/dist-packages (from tensorflow>=2.2.0->qmc==0.0.1) (2.8.0)\n",
            "Requirement already satisfied: grpcio<2.0,>=1.24.3 in /usr/local/lib/python3.7/dist-packages (from tensorflow>=2.2.0->qmc==0.0.1) (1.46.3)\n",
            "Requirement already satisfied: gast>=0.2.1 in /usr/local/lib/python3.7/dist-packages (from tensorflow>=2.2.0->qmc==0.0.1) (0.5.3)\n",
            "Requirement already satisfied: tensorflow-estimator<2.9,>=2.8 in /usr/local/lib/python3.7/dist-packages (from tensorflow>=2.2.0->qmc==0.0.1) (2.8.0)\n",
            "Requirement already satisfied: termcolor>=1.1.0 in /usr/local/lib/python3.7/dist-packages (from tensorflow>=2.2.0->qmc==0.0.1) (1.1.0)\n",
            "Requirement already satisfied: tensorflow-io-gcs-filesystem>=0.23.1 in /usr/local/lib/python3.7/dist-packages (from tensorflow>=2.2.0->qmc==0.0.1) (0.26.0)\n",
            "Requirement already satisfied: astunparse>=1.6.0 in /usr/local/lib/python3.7/dist-packages (from tensorflow>=2.2.0->qmc==0.0.1) (1.6.3)\n",
            "Requirement already satisfied: google-pasta>=0.1.1 in /usr/local/lib/python3.7/dist-packages (from tensorflow>=2.2.0->qmc==0.0.1) (0.2.0)\n",
            "Requirement already satisfied: typing-extensions>=3.6.6 in /usr/local/lib/python3.7/dist-packages (from tensorflow>=2.2.0->qmc==0.0.1) (4.2.0)\n",
            "Requirement already satisfied: libclang>=9.0.1 in /usr/local/lib/python3.7/dist-packages (from tensorflow>=2.2.0->qmc==0.0.1) (14.0.1)\n",
            "Requirement already satisfied: wrapt>=1.11.0 in /usr/local/lib/python3.7/dist-packages (from tensorflow>=2.2.0->qmc==0.0.1) (1.14.1)\n",
            "Requirement already satisfied: h5py>=2.9.0 in /usr/local/lib/python3.7/dist-packages (from tensorflow>=2.2.0->qmc==0.0.1) (3.1.0)\n",
            "Requirement already satisfied: flatbuffers>=1.12 in /usr/local/lib/python3.7/dist-packages (from tensorflow>=2.2.0->qmc==0.0.1) (2.0)\n",
            "Requirement already satisfied: absl-py>=0.4.0 in /usr/local/lib/python3.7/dist-packages (from tensorflow>=2.2.0->qmc==0.0.1) (1.0.0)\n",
            "Requirement already satisfied: keras-preprocessing>=1.1.1 in /usr/local/lib/python3.7/dist-packages (from tensorflow>=2.2.0->qmc==0.0.1) (1.1.2)\n",
            "Requirement already satisfied: setuptools in /usr/local/lib/python3.7/dist-packages (from tensorflow>=2.2.0->qmc==0.0.1) (57.4.0)\n",
            "Requirement already satisfied: wheel<1.0,>=0.23.0 in /usr/local/lib/python3.7/dist-packages (from astunparse>=1.6.0->tensorflow>=2.2.0->qmc==0.0.1) (0.37.1)\n",
            "Requirement already satisfied: cached-property in /usr/local/lib/python3.7/dist-packages (from h5py>=2.9.0->tensorflow>=2.2.0->qmc==0.0.1) (1.5.2)\n",
            "Requirement already satisfied: google-auth-oauthlib<0.5,>=0.4.1 in /usr/local/lib/python3.7/dist-packages (from tensorboard<2.9,>=2.8->tensorflow>=2.2.0->qmc==0.0.1) (0.4.6)\n",
            "Requirement already satisfied: tensorboard-data-server<0.7.0,>=0.6.0 in /usr/local/lib/python3.7/dist-packages (from tensorboard<2.9,>=2.8->tensorflow>=2.2.0->qmc==0.0.1) (0.6.1)\n",
            "Requirement already satisfied: werkzeug>=0.11.15 in /usr/local/lib/python3.7/dist-packages (from tensorboard<2.9,>=2.8->tensorflow>=2.2.0->qmc==0.0.1) (1.0.1)\n",
            "Requirement already satisfied: tensorboard-plugin-wit>=1.6.0 in /usr/local/lib/python3.7/dist-packages (from tensorboard<2.9,>=2.8->tensorflow>=2.2.0->qmc==0.0.1) (1.8.1)\n",
            "Requirement already satisfied: requests<3,>=2.21.0 in /usr/local/lib/python3.7/dist-packages (from tensorboard<2.9,>=2.8->tensorflow>=2.2.0->qmc==0.0.1) (2.23.0)\n",
            "Requirement already satisfied: google-auth<3,>=1.6.3 in /usr/local/lib/python3.7/dist-packages (from tensorboard<2.9,>=2.8->tensorflow>=2.2.0->qmc==0.0.1) (1.35.0)\n",
            "Requirement already satisfied: markdown>=2.6.8 in /usr/local/lib/python3.7/dist-packages (from tensorboard<2.9,>=2.8->tensorflow>=2.2.0->qmc==0.0.1) (3.3.7)\n",
            "Requirement already satisfied: pyasn1-modules>=0.2.1 in /usr/local/lib/python3.7/dist-packages (from google-auth<3,>=1.6.3->tensorboard<2.9,>=2.8->tensorflow>=2.2.0->qmc==0.0.1) (0.2.8)\n",
            "Requirement already satisfied: rsa<5,>=3.1.4 in /usr/local/lib/python3.7/dist-packages (from google-auth<3,>=1.6.3->tensorboard<2.9,>=2.8->tensorflow>=2.2.0->qmc==0.0.1) (4.8)\n",
            "Requirement already satisfied: cachetools<5.0,>=2.0.0 in /usr/local/lib/python3.7/dist-packages (from google-auth<3,>=1.6.3->tensorboard<2.9,>=2.8->tensorflow>=2.2.0->qmc==0.0.1) (4.2.4)\n",
            "Requirement already satisfied: requests-oauthlib>=0.7.0 in /usr/local/lib/python3.7/dist-packages (from google-auth-oauthlib<0.5,>=0.4.1->tensorboard<2.9,>=2.8->tensorflow>=2.2.0->qmc==0.0.1) (1.3.1)\n",
            "Requirement already satisfied: importlib-metadata>=4.4 in /usr/local/lib/python3.7/dist-packages (from markdown>=2.6.8->tensorboard<2.9,>=2.8->tensorflow>=2.2.0->qmc==0.0.1) (4.11.4)\n",
            "Requirement already satisfied: zipp>=0.5 in /usr/local/lib/python3.7/dist-packages (from importlib-metadata>=4.4->markdown>=2.6.8->tensorboard<2.9,>=2.8->tensorflow>=2.2.0->qmc==0.0.1) (3.8.0)\n",
            "Requirement already satisfied: pyasn1<0.5.0,>=0.4.6 in /usr/local/lib/python3.7/dist-packages (from pyasn1-modules>=0.2.1->google-auth<3,>=1.6.3->tensorboard<2.9,>=2.8->tensorflow>=2.2.0->qmc==0.0.1) (0.4.8)\n",
            "Requirement already satisfied: idna<3,>=2.5 in /usr/local/lib/python3.7/dist-packages (from requests<3,>=2.21.0->tensorboard<2.9,>=2.8->tensorflow>=2.2.0->qmc==0.0.1) (2.10)\n",
            "Requirement already satisfied: chardet<4,>=3.0.2 in /usr/local/lib/python3.7/dist-packages (from requests<3,>=2.21.0->tensorboard<2.9,>=2.8->tensorflow>=2.2.0->qmc==0.0.1) (3.0.4)\n",
            "Requirement already satisfied: urllib3!=1.25.0,!=1.25.1,<1.26,>=1.21.1 in /usr/local/lib/python3.7/dist-packages (from requests<3,>=2.21.0->tensorboard<2.9,>=2.8->tensorflow>=2.2.0->qmc==0.0.1) (1.24.3)\n",
            "Requirement already satisfied: certifi>=2017.4.17 in /usr/local/lib/python3.7/dist-packages (from requests<3,>=2.21.0->tensorboard<2.9,>=2.8->tensorflow>=2.2.0->qmc==0.0.1) (2022.5.18.1)\n",
            "Requirement already satisfied: oauthlib>=3.0.0 in /usr/local/lib/python3.7/dist-packages (from requests-oauthlib>=0.7.0->google-auth-oauthlib<0.5,>=0.4.1->tensorboard<2.9,>=2.8->tensorflow>=2.2.0->qmc==0.0.1) (3.2.0)\n",
            "Requirement already satisfied: joblib>=0.11 in /usr/local/lib/python3.7/dist-packages (from scikit-learn->qmc==0.0.1) (1.1.0)\n",
            "Requirement already satisfied: threadpoolctl>=2.0.0 in /usr/local/lib/python3.7/dist-packages (from scikit-learn->qmc==0.0.1) (3.1.0)\n",
            "Building wheels for collected packages: qmc\n",
            "  Building wheel for qmc (setup.py) ... \u001b[?25l\u001b[?25hdone\n",
            "  Created wheel for qmc: filename=qmc-0.0.1-py3-none-any.whl size=12757 sha256=97575d9b21b37edc1e810b591f74f15ebf1cacda8041d9c863ab509b369bec65\n",
            "  Stored in directory: /tmp/pip-ephem-wheel-cache-y7xaqn18/wheels/b2/d2/8d/5870208920445c46dfe694f549251e5f63d7afbee56c01f720\n",
            "Successfully built qmc\n",
            "Installing collected packages: qmc\n",
            "Successfully installed qmc-0.0.1\n"
          ]
        }
      ],
      "source": [
        "!pip install git+https://github.com/fagonzalezo/qmc.git"
      ]
    },
    {
      "cell_type": "code",
      "execution_count": 29,
      "metadata": {
        "id": "kmwZ_WBj9lq_"
      },
      "outputs": [],
      "source": [
        "import tensorflow as tf\n",
        "import numpy as np\n",
        "import qmc.tf.layers as layers\n",
        "import qmc.tf.models as models"
      ]
    },
    {
      "cell_type": "markdown",
      "metadata": {
        "id": "Q9AmgRvr3mtQ"
      },
      "source": [
        "## One dimensional approximation"
      ]
    },
    {
      "cell_type": "code",
      "execution_count": 30,
      "metadata": {
        "id": "7opihyAT7c20"
      },
      "outputs": [],
      "source": [
        "import tensorflow as tf\n",
        "\n",
        "class QFeatureMapAdaptRFF(layers.QFeatureMapRFF):\n",
        "    def __init__(\n",
        "                 self,\n",
        "                 gamma_trainable=True,\n",
        "                 weights_trainable=True,\n",
        "                 **kwargs\n",
        "                 ):\n",
        "        self.g_trainable = gamma_trainable\n",
        "        self.w_trainable = weights_trainable\n",
        "        super().__init__(**kwargs)\n",
        "\n",
        "    def build(self, input_shape):\n",
        "        rbf_sampler = RBFSampler(\n",
        "            gamma=0.5,\n",
        "            n_components=self.dim,\n",
        "            random_state=self.random_state)\n",
        "        x = np.zeros(shape=(1, self.input_dim))\n",
        "        rbf_sampler.fit(x)\n",
        "        self.gamma_val = tf.Variable(\n",
        "            initial_value=self.gamma,\n",
        "            dtype=tf.float32,\n",
        "            trainable=self.g_trainable,\n",
        "            name=\"rff_gamma\")\n",
        "        self.rff_weights = tf.Variable(\n",
        "            initial_value=rbf_sampler.random_weights_,\n",
        "            dtype=tf.float32,\n",
        "            trainable=self.w_trainable,\n",
        "            name=\"rff_weights\")\n",
        "        self.offset = tf.Variable(\n",
        "            initial_value=rbf_sampler.random_offset_,\n",
        "            dtype=tf.float32,\n",
        "            trainable=self.w_trainable,\n",
        "            name=\"offset\")\n",
        "        self.built = True\n",
        "\n",
        "    def call(self, inputs):\n",
        "        vals = tf.sqrt(2 * self.gamma_val) * tf.matmul(inputs, self.rff_weights) + self.offset\n",
        "        vals = tf.cos(vals)\n",
        "        vals = vals * tf.sqrt(2. / self.dim)\n",
        "        norms = tf.linalg.norm(vals, axis=-1)\n",
        "        psi = vals / tf.expand_dims(norms, axis=-1)\n",
        "        return psi\n",
        "\n",
        "class DMRFF(tf.keras.Model):\n",
        "    def __init__(self,\n",
        "                 dim_x,\n",
        "                 num_rff,\n",
        "                 gamma=1,\n",
        "                 random_state=None):\n",
        "        super().__init__()\n",
        "        self.rff_layer = QFeatureMapAdaptRFF(input_dim=dim_x, dim=num_rff, gamma=gamma, random_state=random_state, gamma_trainable=False)\n",
        "\n",
        "    def call(self, inputs):\n",
        "        x1 = inputs[:, 0]\n",
        "        x2 = inputs[:, 1]\n",
        "        phi1 = self.rff_layer(x1)\n",
        "        phi2 = self.rff_layer(x2)\n",
        "        dot = tf.einsum('...i,...i->...', phi1, phi2) ** 2\n",
        "        return dot\n",
        "\n",
        "def calc_rbf(dmrff, x1, x2):\n",
        "    return dmrff.predict(np.concatenate([x1[:, np.newaxis, ...], \n",
        "                                         x2[:, np.newaxis, ...]], \n",
        "                                        axis=1),\n",
        "                         batch_size=256)\n",
        "\n",
        "# dmrff = DMRFF(dim_x=22, num_rff=n_rffs, gamma=gamma / 2, random_state=0)\n",
        "# dm_rff_pdf = calc_rbf(dmrff, np.broadcast_to(mean, x.shape), x)\n",
        "# pl.plot(x, gauss_pdf, 'r-',  alpha=0.6, label='Gaussian kernel')\n",
        "# pl.plot(x, dm_rff_pdf, 'b-',  alpha=0.6, label='dmrff kernel')\n",
        "# pl.title(\"$dim = \"+str(n_rffs)+\"$\")\n",
        "# pl.legend()"
      ]
    },
    {
      "cell_type": "markdown",
      "metadata": {
        "id": "puK34_hbveEY"
      },
      "source": [
        "# QAD Adaptive RFF"
      ]
    },
    {
      "cell_type": "code",
      "execution_count": 31,
      "metadata": {
        "id": "CrKdxKmcB6l2"
      },
      "outputs": [],
      "source": [
        "import pylab as pl"
      ]
    },
    {
      "cell_type": "code",
      "source": [
        "X_train.shape\n",
        "X_test.shape"
      ],
      "metadata": {
        "colab": {
          "base_uri": "https://localhost:8080/"
        },
        "id": "PluytVsvADmN",
        "outputId": "7463a356-befb-4521-d27e-3983eedb7657"
      },
      "execution_count": 32,
      "outputs": [
        {
          "output_type": "execute_result",
          "data": {
            "text/plain": [
              "(367, 21)"
            ]
          },
          "metadata": {},
          "execution_count": 32
        }
      ]
    },
    {
      "cell_type": "code",
      "execution_count": 33,
      "metadata": {
        "colab": {
          "base_uri": "https://localhost:8080/",
          "height": 300
        },
        "id": "U-_bWN7Zvl7f",
        "outputId": "eb962205-d398-4bd7-94d1-76ab80776b22"
      },
      "outputs": [
        {
          "output_type": "stream",
          "name": "stdout",
          "text": [
            "(100000,)\n",
            "0.2776715356729927\n"
          ]
        },
        {
          "output_type": "display_data",
          "data": {
            "text/plain": [
              "<Figure size 432x288 with 1 Axes>"
            ],
            "image/png": "[encoded data removed]"
          },
          "metadata": {
            "needs_background": "light"
          }
        }
      ],
      "source": [
        "num_samples = 100000\n",
        "rnd_idx1 = np.random.randint(X_train.shape[0],size=(num_samples, ))\n",
        "rnd_idx2 = np.random.randint(X_train.shape[0],size=(num_samples, ))\n",
        "#x_train_rff = [X_train[rnd_idx1], X_train[rnd_idx2]]\n",
        "x_train_rff = np.concatenate([X_train[rnd_idx1][:, np.newaxis, ...], \n",
        "                          X_train[rnd_idx2][:, np.newaxis, ...]], \n",
        "                         axis=1) \n",
        "dists = np.linalg.norm(x_train_rff[:, 0, ...] - x_train_rff[:, 1, ...], axis=1)\n",
        "print(dists.shape)\n",
        "pl.hist(dists)\n",
        "print(np.quantile(dists, 0.001))\n",
        "rnd_idx1 = np.random.randint(X_test.shape[0],size=(num_samples, ))\n",
        "rnd_idx2 = np.random.randint(X_test.shape[0],size=(num_samples, ))\n",
        "#x_test_rff = [X_test[rnd_idx1], X_test[rnd_idx2]]\n",
        "x_test_rff = np.concatenate([X_test[rnd_idx1][:, np.newaxis, ...], \n",
        "                          X_test[rnd_idx2][:, np.newaxis, ...]], \n",
        "                         axis=1) "
      ]
    },
    {
      "cell_type": "code",
      "execution_count": 34,
      "metadata": {
        "id": "8Kz9xY9X3Rs-"
      },
      "outputs": [],
      "source": [
        "def gauss_kernel_arr(x, y, gamma):\n",
        "    return np.exp(-gamma * np.linalg.norm(x - y, axis=1) ** 2)"
      ]
    },
    {
      "cell_type": "code",
      "execution_count": 35,
      "metadata": {
        "colab": {
          "base_uri": "https://localhost:8080/",
          "height": 369
        },
        "id": "SGcCPhwoy-EY",
        "outputId": "9d5af799-2854-4949-b81d-d7856e643d06"
      },
      "outputs": [
        {
          "output_type": "stream",
          "name": "stdout",
          "text": [
            "[1.000000e+00 5.000000e-01 2.500000e-01 1.250000e-01 6.250000e-02\n",
            " 3.125000e-02 1.562500e-02 7.812500e-03 3.906250e-03 1.953125e-03\n",
            " 9.765625e-04]\n",
            "Gamma: 0.015625\n",
            "6250/6250 [==============================] - 16s 2ms/step - loss: 0.0542\n"
          ]
        },
        {
          "output_type": "execute_result",
          "data": {
            "text/plain": [
              "0.05419857054948807"
            ]
          },
          "metadata": {},
          "execution_count": 35
        },
        {
          "output_type": "display_data",
          "data": {
            "text/plain": [
              "<Figure size 432x288 with 1 Axes>"
            ],
            "image/png": "[encoded data removed]"
          },
          "metadata": {
            "needs_background": "light"
          }
        }
      ],
      "source": [
        "sigma = np.quantile(dists, 0.01)\n",
        "gamma = 1/(2 * sigma ** 2)\n",
        "gamma_index = 6 # index 7 corresponds to gamma = 2**(-7)\n",
        "gammas = 1/(2**(np.arange(11)))\n",
        "print(gammas)\n",
        "n_rffs = 4\n",
        "print(f'Gamma: {gammas[gamma_index ]}') \n",
        "y_train_rff = gauss_kernel_arr(x_train_rff[:, 0, ...], x_train_rff[:, 1, ...], gamma=gammas[gamma_index]) # gamma without square\n",
        "y_test_rff = gauss_kernel_arr(x_test_rff[:, 0, ...], x_test_rff[:, 1, ...], gamma=gammas[gamma_index]) # gamma without square\n",
        "dmrff = DMRFF(dim_x=21, num_rff=n_rffs, gamma=gammas[gamma_index ]/2, random_state=np.random.randint(10000)) # original rs = 0\n",
        "dm_rbf = calc_rbf(dmrff, x_test_rff[:, 0, ...], x_test_rff[:, 1, ...])\n",
        "pl.plot(y_test_rff, dm_rbf, '.')\n",
        "dmrff.compile(optimizer=\"adam\", loss='mse')\n",
        "dmrff.evaluate(x_test_rff, y_test_rff, batch_size=16)"
      ]
    },
    {
      "cell_type": "code",
      "execution_count": 36,
      "metadata": {
        "colab": {
          "base_uri": "https://localhost:8080/",
          "height": 317
        },
        "id": "C5RQnaRvy7vz",
        "outputId": "99799210-c9e9-4bc5-f3bb-635dfa788809"
      },
      "outputs": [
        {
          "output_type": "stream",
          "name": "stdout",
          "text": [
            "Mean: -0.0464983768761158\n",
            "Std: 0.9478684663772583\n",
            "Gamma: 0.0078125\n"
          ]
        },
        {
          "output_type": "display_data",
          "data": {
            "text/plain": [
              "<Figure size 432x288 with 1 Axes>"
            ],
            "image/png": "[encoded data removed]"
          },
          "metadata": {
            "needs_background": "light"
          }
        }
      ],
      "source": [
        "print(f'Mean: {np.mean(dmrff.rff_layer.rff_weights)}')\n",
        "print(f'Std: {np.std(dmrff.rff_layer.rff_weights)}')\n",
        "print(f'Gamma: {dmrff.rff_layer.gamma_val.numpy()}')\n",
        "pl.hist(dmrff.rff_layer.rff_weights.numpy().flatten(), bins=30);"
      ]
    },
    {
      "cell_type": "code",
      "execution_count": 37,
      "metadata": {
        "colab": {
          "base_uri": "https://localhost:8080/"
        },
        "id": "TRZCYHie2EF8",
        "outputId": "f2be40d3-8253-4637-fed6-54da88399017"
      },
      "outputs": [
        {
          "output_type": "stream",
          "name": "stdout",
          "text": [
            "Epoch 1/40\n",
            "704/704 [==============================] - 5s 5ms/step - loss: 0.0406 - val_loss: 0.0330\n",
            "Epoch 2/40\n",
            "704/704 [==============================] - 2s 3ms/step - loss: 0.0297 - val_loss: 0.0263\n",
            "Epoch 3/40\n",
            "704/704 [==============================] - 3s 4ms/step - loss: 0.0233 - val_loss: 0.0203\n",
            "Epoch 4/40\n",
            "704/704 [==============================] - 2s 3ms/step - loss: 0.0183 - val_loss: 0.0164\n",
            "Epoch 5/40\n",
            "704/704 [==============================] - 2s 3ms/step - loss: 0.0157 - val_loss: 0.0148\n",
            "Epoch 6/40\n",
            "704/704 [==============================] - 1s 2ms/step - loss: 0.0146 - val_loss: 0.0141\n",
            "Epoch 7/40\n",
            "704/704 [==============================] - 1s 2ms/step - loss: 0.0140 - val_loss: 0.0137\n",
            "Epoch 8/40\n",
            "704/704 [==============================] - 1s 2ms/step - loss: 0.0137 - val_loss: 0.0134\n",
            "Epoch 9/40\n",
            "704/704 [==============================] - 1s 2ms/step - loss: 0.0134 - val_loss: 0.0132\n",
            "Epoch 10/40\n",
            "704/704 [==============================] - 1s 2ms/step - loss: 0.0133 - val_loss: 0.0130\n",
            "Epoch 11/40\n",
            "704/704 [==============================] - 1s 2ms/step - loss: 0.0132 - val_loss: 0.0129\n",
            "Epoch 12/40\n",
            "704/704 [==============================] - 2s 2ms/step - loss: 0.0131 - val_loss: 0.0128\n",
            "Epoch 13/40\n",
            "704/704 [==============================] - 1s 2ms/step - loss: 0.0130 - val_loss: 0.0128\n",
            "Epoch 14/40\n",
            "704/704 [==============================] - 1s 2ms/step - loss: 0.0129 - val_loss: 0.0127\n",
            "Epoch 15/40\n",
            "704/704 [==============================] - 1s 2ms/step - loss: 0.0129 - val_loss: 0.0127\n",
            "Epoch 16/40\n",
            "704/704 [==============================] - 1s 2ms/step - loss: 0.0128 - val_loss: 0.0126\n",
            "Epoch 17/40\n",
            "704/704 [==============================] - 1s 2ms/step - loss: 0.0128 - val_loss: 0.0126\n",
            "Epoch 18/40\n",
            "704/704 [==============================] - 2s 2ms/step - loss: 0.0128 - val_loss: 0.0126\n",
            "Epoch 19/40\n",
            "704/704 [==============================] - 1s 2ms/step - loss: 0.0127 - val_loss: 0.0126\n",
            "Epoch 20/40\n",
            "704/704 [==============================] - 1s 2ms/step - loss: 0.0127 - val_loss: 0.0126\n",
            "Epoch 21/40\n",
            "704/704 [==============================] - 1s 2ms/step - loss: 0.0127 - val_loss: 0.0125\n",
            "Epoch 22/40\n",
            "704/704 [==============================] - 1s 2ms/step - loss: 0.0127 - val_loss: 0.0126\n",
            "Epoch 23/40\n",
            "704/704 [==============================] - 2s 2ms/step - loss: 0.0127 - val_loss: 0.0125\n",
            "Epoch 24/40\n",
            "704/704 [==============================] - 1s 2ms/step - loss: 0.0126 - val_loss: 0.0125\n",
            "Epoch 25/40\n",
            "704/704 [==============================] - 1s 2ms/step - loss: 0.0126 - val_loss: 0.0125\n",
            "Epoch 26/40\n",
            "704/704 [==============================] - 1s 2ms/step - loss: 0.0126 - val_loss: 0.0125\n",
            "Epoch 27/40\n",
            "704/704 [==============================] - 1s 2ms/step - loss: 0.0126 - val_loss: 0.0125\n",
            "Epoch 28/40\n",
            "704/704 [==============================] - 1s 2ms/step - loss: 0.0126 - val_loss: 0.0125\n",
            "Epoch 29/40\n",
            "704/704 [==============================] - 1s 2ms/step - loss: 0.0126 - val_loss: 0.0125\n",
            "Epoch 30/40\n",
            "704/704 [==============================] - 1s 2ms/step - loss: 0.0126 - val_loss: 0.0125\n",
            "Epoch 31/40\n",
            "704/704 [==============================] - 2s 2ms/step - loss: 0.0126 - val_loss: 0.0125\n",
            "Epoch 32/40\n",
            "704/704 [==============================] - 2s 2ms/step - loss: 0.0126 - val_loss: 0.0125\n",
            "Epoch 33/40\n",
            "704/704 [==============================] - 1s 2ms/step - loss: 0.0126 - val_loss: 0.0125\n",
            "Epoch 34/40\n",
            "704/704 [==============================] - 1s 2ms/step - loss: 0.0126 - val_loss: 0.0125\n",
            "Epoch 35/40\n",
            "704/704 [==============================] - 1s 2ms/step - loss: 0.0126 - val_loss: 0.0125\n",
            "Epoch 36/40\n",
            "704/704 [==============================] - 1s 2ms/step - loss: 0.0126 - val_loss: 0.0125\n",
            "Epoch 37/40\n",
            "704/704 [==============================] - 2s 2ms/step - loss: 0.0126 - val_loss: 0.0125\n",
            "Epoch 38/40\n",
            "704/704 [==============================] - 1s 2ms/step - loss: 0.0126 - val_loss: 0.0125\n",
            "Epoch 39/40\n",
            "704/704 [==============================] - 1s 2ms/step - loss: 0.0126 - val_loss: 0.0125\n",
            "Epoch 40/40\n",
            "704/704 [==============================] - 1s 2ms/step - loss: 0.0126 - val_loss: 0.0125\n"
          ]
        },
        {
          "output_type": "execute_result",
          "data": {
            "text/plain": [
              "<keras.callbacks.History at 0x7f46623fee10>"
            ]
          },
          "metadata": {},
          "execution_count": 37
        }
      ],
      "source": [
        "dmrff.fit(x_train_rff, y_train_rff, validation_split=0.1, epochs=40, batch_size=128)"
      ]
    },
    {
      "cell_type": "code",
      "execution_count": 38,
      "metadata": {
        "colab": {
          "base_uri": "https://localhost:8080/",
          "height": 300
        },
        "id": "GfrAHrRk9PnY",
        "outputId": "4513feb4-ddad-491f-a083-8d1bf05f08e5"
      },
      "outputs": [
        {
          "output_type": "stream",
          "name": "stdout",
          "text": [
            "782/782 [==============================] - 2s 3ms/step - loss: 0.0140\n"
          ]
        },
        {
          "output_type": "execute_result",
          "data": {
            "text/plain": [
              "0.013986421748995781"
            ]
          },
          "metadata": {},
          "execution_count": 38
        },
        {
          "output_type": "display_data",
          "data": {
            "text/plain": [
              "<Figure size 432x288 with 1 Axes>"
            ],
            "image/png": "[encoded data removed]"
          },
          "metadata": {
            "needs_background": "light"
          }
        }
      ],
      "source": [
        "dm_rbf = calc_rbf(dmrff, x_test_rff[:, 0, ...], x_test_rff[:, 1, ...])\n",
        "pl.plot(y_test_rff, dm_rbf, '.')\n",
        "dmrff.evaluate(x_test_rff, y_test_rff, batch_size=128)"
      ]
    },
    {
      "cell_type": "code",
      "execution_count": 39,
      "metadata": {
        "colab": {
          "base_uri": "https://localhost:8080/",
          "height": 317
        },
        "id": "5gEgPGx6z6Qk",
        "outputId": "4ae351d5-0414-4d0b-9278-cb3f662e770e"
      },
      "outputs": [
        {
          "output_type": "stream",
          "name": "stdout",
          "text": [
            "Mean: 0.11721442639827728\n",
            "Std: 0.5020942687988281\n",
            "Gamma: 0.0078125\n"
          ]
        },
        {
          "output_type": "display_data",
          "data": {
            "text/plain": [
              "<Figure size 432x288 with 1 Axes>"
            ],
            "image/png": "[encoded data removed]"
          },
          "metadata": {
            "needs_background": "light"
          }
        }
      ],
      "source": [
        "print(f'Mean: {np.mean(dmrff.rff_layer.rff_weights)}')\n",
        "print(f'Std: {np.std(dmrff.rff_layer.rff_weights)}')\n",
        "print(f'Gamma: {dmrff.rff_layer.gamma_val.numpy()}')\n",
        "pl.hist(dmrff.rff_layer.rff_weights.numpy().flatten(), bins=30);"
      ]
    },
    {
      "cell_type": "code",
      "execution_count": 40,
      "metadata": {
        "colab": {
          "base_uri": "https://localhost:8080/"
        },
        "id": "QtzJ5cyl63xd",
        "outputId": "3081a811-2bab-47ad-d51e-41975387026c"
      },
      "outputs": [
        {
          "output_type": "execute_result",
          "data": {
            "text/plain": [
              "((1098, 4), (367, 4), (366, 4))"
            ]
          },
          "metadata": {},
          "execution_count": 40
        }
      ],
      "source": [
        "X_feat_train = dmrff.rff_layer.call(tf.cast(X_train, tf.float32))\n",
        "X_feat_test = dmrff.rff_layer.call(tf.cast(X_test, tf.float32))\n",
        "X_feat_val = dmrff.rff_layer.call(tf.cast(X_val, tf.float32))\n",
        "\n",
        "X_feat_train = np.float64((X_feat_train).numpy())\n",
        "X_feat_test = np.float64((X_feat_test).numpy())\n",
        "X_feat_val = np.float64((X_feat_val).numpy())\n",
        "\n",
        "X_feat_train = X_feat_train / np.linalg.norm(X_feat_train, axis = 1).reshape(-1, 1)\n",
        "X_feat_test = X_feat_test / np.linalg.norm(X_feat_test, axis = 1).reshape(-1, 1)\n",
        "X_feat_val = X_feat_val / np.linalg.norm(X_feat_val, axis = 1).reshape(-1, 1)\n",
        "\n",
        "X_feat_train.shape, X_feat_test.shape, X_feat_val.shape"
      ]
    },
    {
      "cell_type": "markdown",
      "metadata": {
        "id": "L-ZIkp3mksTV"
      },
      "source": [
        "## Classical Pred AdpRFF"
      ]
    },
    {
      "cell_type": "code",
      "execution_count": 41,
      "metadata": {
        "id": "rF4Y9nWp37-w"
      },
      "outputs": [],
      "source": [
        "from sklearn.metrics import roc_curve, f1_score\n",
        "from sklearn.metrics import classification_report\n",
        "\n",
        "def classification(preds_val, preds_test, y_test):\n",
        "\n",
        "    thredhold = np.percentile(preds_val, q = 9.54)\n",
        "    y_pred = preds_test > thredhold\n",
        "    return classification_report(y_test, y_pred, digits=4)"
      ]
    },
    {
      "cell_type": "code",
      "execution_count": 42,
      "metadata": {
        "colab": {
          "base_uri": "https://localhost:8080/"
        },
        "id": "UDqW_ig3kv9P",
        "outputId": "158f2d45-3231-4ea3-cdce-8753ae81cc26"
      },
      "outputs": [
        {
          "output_type": "stream",
          "name": "stdout",
          "text": [
            "4x4 Pure, experiment AdaptiveRFF\n",
            "Gamma: 0.0078125\n",
            "              precision    recall  f1-score   support\n",
            "\n",
            "         0.0     0.7027    0.7429    0.7222        35\n",
            "         1.0     0.9727    0.9669    0.9698       332\n",
            "\n",
            "    accuracy                         0.9455       367\n",
            "   macro avg     0.8377    0.8549    0.8460       367\n",
            "weighted avg     0.9470    0.9455    0.9462       367\n",
            "\n",
            "AUC = 0.9571\n"
          ]
        }
      ],
      "source": [
        "gamma = dmrff.rff_layer.gamma_val.numpy()\n",
        "dim = n_rffs\n",
        "\n",
        "print(f\"{dim}x{dim} Pure, experiment AdaptiveRFF\")\n",
        "print(\"Gamma:\", gamma)\n",
        "\n",
        "## Training pure state and create the Unitary matrix to initialize such state\n",
        "\n",
        "psi_train = X_feat_train.sum(axis = 0)\n",
        "psi_train = psi_train / np.linalg.norm(psi_train)\n",
        "\n",
        "preds_val_expected = np.sqrt((X_feat_val @ psi_train)**2)\n",
        "preds_test_expected = np.sqrt((X_feat_test @ psi_train)**2)\n",
        "\n",
        "print(classification(preds_val_expected, preds_test_expected, y_test))\n",
        "print(f\"AUC = {round(roc_auc_score(y_test, preds_test_expected), 4)}\")"
      ]
    },
    {
      "cell_type": "code",
      "execution_count": 43,
      "metadata": {
        "colab": {
          "base_uri": "https://localhost:8080/"
        },
        "id": "DFIFOuKflIMh",
        "outputId": "8e00541d-3662-4103-ab28-ea024f0d7cad"
      },
      "outputs": [
        {
          "output_type": "stream",
          "name": "stdout",
          "text": [
            "4x4 mixed, experiment AdaptiveRFF\n",
            "Gamma: 0.0078125\n",
            "              precision    recall  f1-score   support\n",
            "\n",
            "         0.0     0.6944    0.7143    0.7042        35\n",
            "         1.0     0.9698    0.9669    0.9683       332\n",
            "\n",
            "    accuracy                         0.9428       367\n",
            "   macro avg     0.8321    0.8406    0.8363       367\n",
            "weighted avg     0.9435    0.9428    0.9431       367\n",
            "\n",
            "AUC = 0.956\n"
          ]
        }
      ],
      "source": [
        "gamma = dmrff.rff_layer.gamma_val.numpy()\n",
        "dim = n_rffs\n",
        "\n",
        "print(f\"{dim}x{dim} mixed, experiment AdaptiveRFF\")\n",
        "print(\"Gamma:\", gamma)\n",
        "\n",
        "## Training mixed state and create the Unitary matrix to initialize such state\n",
        "rho_train = np.zeros((dim, dim))\n",
        "\n",
        "\n",
        "#for i in range(1000):\n",
        "for i in range(len(X_feat_train)):\n",
        "  rho_train += np.outer(X_feat_train[i], X_feat_train[i])\n",
        "\n",
        "rho_train = rho_train / len(X_feat_train)\n",
        "\n",
        "# Classical prediction\n",
        "preds_val_mixed = np.zeros(len(X_feat_val))\n",
        "\n",
        "for i in range(len(X_feat_val)):\n",
        "  preds_val_mixed[i] = X_feat_val[i].T @ rho_train @ X_feat_val[i]\n",
        "\n",
        "preds_test_mixed = np.zeros(len(X_feat_test))\n",
        "\n",
        "for i in range(len(X_feat_test)):\n",
        "  preds_test_mixed[i] = X_feat_test[i].T @ rho_train @ X_feat_test[i]\n",
        "\n",
        "print(classification(preds_val_mixed, preds_test_mixed, y_test))\n",
        "print(f\"AUC = {round(roc_auc_score(y_test, preds_test_mixed), 4)}\")"
      ]
    },
    {
      "cell_type": "markdown",
      "metadata": {
        "id": "bWVa7pIOlHVi"
      },
      "source": [
        "## Quantum Simulator Pred AdpRFF"
      ]
    },
    {
      "cell_type": "code",
      "execution_count": 47,
      "metadata": {
        "id": "YK1EhxoUlUlF"
      },
      "outputs": [],
      "source": [
        "def quantum_circuit_mixed(Ctest, eigvals, U_train, n_shots=10000, n_rffs = 16):\n",
        "\n",
        "    num_qubits = int(np.log2(n_rffs)) # qubits to initialize\n",
        "    qb_ls = [l for l in range(num_qubits)] # (0, 1, .., n-1)\n",
        "    qb_ls2 = [l + num_qubits for l in range(num_qubits)] # (n, n+1, ..., 2*n-1)\n",
        "    print(num_qubits)\n",
        "    Cpred = []\n",
        "    for i in range(len(Ctest)):\n",
        "        qc = QuantumCircuit(2*num_qubits, num_qubits)\n",
        "\n",
        "        qc.initialize(Ctest[i], qb_ls)\n",
        "        qc.initialize(np.sqrt(eigvals), qb_ls2)\n",
        "        qc.isometry(U_train.T, [], qb_ls) # ArbRot as a isometry\n",
        "\n",
        "        for j in range(num_qubits):\n",
        "          qc.cnot(j+num_qubits, j)\n",
        "\n",
        "        for k in range(num_qubits):\n",
        "          qc.measure(k, k)\n",
        "\n",
        "        counts = execute(qc, backend2, shots=n_shots).result().get_counts()\n",
        "        try:\n",
        "            Cpred.append(counts['0'*num_qubits] / n_shots)\n",
        "        except:\n",
        "            Cpred.append(0)\n",
        "\n",
        "    return Cpred\n",
        "\n",
        "\n",
        "def quantum_circuit_pure(Ctest, U_train, n_shots=10000, n_rffs = 16):\n",
        "    \n",
        "    num_qubits = int(np.log2(n_rffs)) # num qubits to initialize\n",
        "    print(num_qubits)\n",
        "    qb_ls = [l for l in range(num_qubits)] # (0, 1, .., n-1)\n",
        "    Cpred = []\n",
        "    for i in range(len(Ctest)):\n",
        "        qc = QuantumCircuit(num_qubits, num_qubits)\n",
        "        qc.initialize(Ctest[i], qb_ls )\n",
        "        qc.isometry(U_train.T, [], qb_ls )\n",
        "        for k in range(num_qubits):\n",
        "          qc.measure(k, k)\n",
        "\n",
        "        counts = execute(qc, backend2, shots=n_shots).result().get_counts()\n",
        "        try:\n",
        "            Cpred.append(np.sqrt(counts['0'*num_qubits] / n_shots))\n",
        "        except:\n",
        "            Cpred.append(0)\n",
        "\n",
        "    return Cpred"
      ]
    },
    {
      "cell_type": "code",
      "execution_count": 48,
      "metadata": {
        "colab": {
          "base_uri": "https://localhost:8080/"
        },
        "id": "mlRaVz78O6w6",
        "outputId": "c6250e09-34c5-4c8c-e18b-f52ad8a746be"
      },
      "outputs": [
        {
          "output_type": "stream",
          "name": "stdout",
          "text": [
            "4x4 Pure, experiment\n",
            "Gamma: 0.0078125\n",
            "2\n",
            "2\n",
            "              precision    recall  f1-score   support\n",
            "\n",
            "         0.0     0.7027    0.7429    0.7222        35\n",
            "         1.0     0.9727    0.9669    0.9698       332\n",
            "\n",
            "    accuracy                         0.9455       367\n",
            "   macro avg     0.8377    0.8549    0.8460       367\n",
            "weighted avg     0.9470    0.9455    0.9462       367\n",
            "\n",
            "AUC = 0.9569\n",
            "79.42946267127991\n"
          ]
        }
      ],
      "source": [
        "backend2 = Aer.get_backend('qasm_simulator')\n",
        "exp_time = time()\n",
        "n_rff = n_rffs\n",
        "print(f\"{n_rff}x{n_rff} Pure, experiment\")\n",
        "print(\"Gamma:\", dmrff.rff_layer.gamma_val.numpy())\n",
        "U = pure_state(X_feat_train)\n",
        "\n",
        "preds_val = quantum_circuit_pure(X_feat_val, U, 10000, n_rff)\n",
        "preds_test = quantum_circuit_pure(X_feat_test, U, 10000, n_rff)\n",
        "\n",
        "print(classification(preds_val, preds_test, y_test))\n",
        "print(f\"AUC = {round(roc_auc_score(y_test, preds_test), 4)}\")\n",
        "print(time() - exp_time)\n",
        "exp_time = time()"
      ]
    },
    {
      "cell_type": "code",
      "execution_count": null,
      "metadata": {
        "id": "qViAPeY9lKBd",
        "colab": {
          "base_uri": "https://localhost:8080/"
        },
        "outputId": "c073c2f4-c333-4583-b73a-e9b4b939ea6b"
      },
      "outputs": [
        {
          "output_type": "stream",
          "name": "stdout",
          "text": [
            "4x4 Mixed, experiment\n",
            "Gamma: 0.0078125\n",
            "2\n"
          ]
        }
      ],
      "source": [
        "backend2 = Aer.get_backend('qasm_simulator')\n",
        "exp_time = time()\n",
        "n_rff = n_rffs\n",
        "print(f\"{n_rff}x{n_rff} Mixed, experiment\")\n",
        "print(\"Gamma:\", dmrff.rff_layer.gamma_val.numpy())\n",
        "\n",
        "eigvals, U = mixed_state(X_feat_train)\n",
        "\n",
        "preds_val = quantum_circuit_mixed(X_feat_val, eigvals, U, 10000, n_rff)\n",
        "preds_test = quantum_circuit_mixed(X_feat_test, eigvals, U, 10000, n_rff)\n",
        "\n",
        "print(classification(preds_val, preds_test, y_test))\n",
        "print(f\"AUC = {round(roc_auc_score(y_test, preds_test), 4)}\")\n",
        "print(time() - exp_time)\n",
        "exp_time = time()"
      ]
    }
  ]
}