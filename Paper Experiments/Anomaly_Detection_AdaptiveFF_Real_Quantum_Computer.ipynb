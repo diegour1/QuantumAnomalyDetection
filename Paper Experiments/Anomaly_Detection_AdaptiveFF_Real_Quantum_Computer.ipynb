{
  "cells": [
    {
      "cell_type": "markdown",
      "source": [
        "#Anomaly Detection with Adaptive Fourier Features and DMKDE Quantum Algorithm in Real Quantum Computer"
      ],
      "metadata": {
        "id": "a5EkLOFwB0Nx"
      }
    },
    {
      "cell_type": "markdown",
      "metadata": {
        "id": "wGV5SHkfwgch"
      },
      "source": [
        "## Imports and Data load"
      ]
    },
    {
      "cell_type": "code",
      "execution_count": null,
      "metadata": {
        "colab": {
          "base_uri": "https://localhost:8080/"
        },
        "id": "IezDXx2y6WcQ",
        "outputId": "31e13d37-3466-4767-8559-82d60abe37db"
      },
      "outputs": [
        {
          "output_type": "stream",
          "name": "stdout",
          "text": [
            "Collecting qiskit==0.35.0\n",
            "  Downloading qiskit-0.35.0.tar.gz (13 kB)\n",
            "Collecting qiskit-terra==0.20.0\n",
            "  Downloading qiskit_terra-0.20.0-cp37-cp37m-manylinux_2_17_x86_64.manylinux2014_x86_64.whl (6.5 MB)\n",
            "\u001b[K     |████████████████████████████████| 6.5 MB 3.3 MB/s \n",
            "\u001b[?25hCollecting qiskit-aer==0.10.3\n",
            "  Downloading qiskit_aer-0.10.3-cp37-cp37m-manylinux_2_12_x86_64.manylinux2010_x86_64.whl (18.0 MB)\n",
            "\u001b[K     |████████████████████████████████| 18.0 MB 78 kB/s \n",
            "\u001b[?25hCollecting qiskit-ibmq-provider==0.18.3\n",
            "  Downloading qiskit_ibmq_provider-0.18.3-py3-none-any.whl (238 kB)\n",
            "\u001b[K     |████████████████████████████████| 238 kB 49.2 MB/s \n",
            "\u001b[?25hCollecting qiskit-ignis==0.7.0\n",
            "  Downloading qiskit_ignis-0.7.0-py3-none-any.whl (200 kB)\n",
            "\u001b[K     |████████████████████████████████| 200 kB 44.7 MB/s \n",
            "\u001b[?25hRequirement already satisfied: scipy>=1.0 in /usr/local/lib/python3.7/dist-packages (from qiskit-aer==0.10.3->qiskit==0.35.0) (1.4.1)\n",
            "Requirement already satisfied: numpy>=1.16.3 in /usr/local/lib/python3.7/dist-packages (from qiskit-aer==0.10.3->qiskit==0.35.0) (1.21.6)\n",
            "Requirement already satisfied: urllib3>=1.21.1 in /usr/local/lib/python3.7/dist-packages (from qiskit-ibmq-provider==0.18.3->qiskit==0.35.0) (1.24.3)\n",
            "Requirement already satisfied: python-dateutil>=2.8.0 in /usr/local/lib/python3.7/dist-packages (from qiskit-ibmq-provider==0.18.3->qiskit==0.35.0) (2.8.2)\n",
            "Collecting websocket-client>=1.0.1\n",
            "  Downloading websocket_client-1.3.2-py3-none-any.whl (54 kB)\n",
            "\u001b[K     |████████████████████████████████| 54 kB 2.2 MB/s \n",
            "\u001b[?25hRequirement already satisfied: requests>=2.19 in /usr/local/lib/python3.7/dist-packages (from qiskit-ibmq-provider==0.18.3->qiskit==0.35.0) (2.23.0)\n",
            "Collecting requests-ntlm>=1.1.0\n",
            "  Downloading requests_ntlm-1.1.0-py2.py3-none-any.whl (5.7 kB)\n",
            "Requirement already satisfied: setuptools>=40.1.0 in /usr/local/lib/python3.7/dist-packages (from qiskit-ignis==0.7.0->qiskit==0.35.0) (57.4.0)\n",
            "Collecting retworkx>=0.8.0\n",
            "  Downloading retworkx-0.11.0-cp37-cp37m-manylinux_2_5_x86_64.manylinux1_x86_64.manylinux_2_12_x86_64.manylinux2010_x86_64.whl (1.6 MB)\n",
            "\u001b[K     |████████████████████████████████| 1.6 MB 43.2 MB/s \n",
            "\u001b[?25hCollecting python-constraint>=1.4\n",
            "  Downloading python-constraint-1.4.0.tar.bz2 (18 kB)\n",
            "Requirement already satisfied: sympy>=1.3 in /usr/local/lib/python3.7/dist-packages (from qiskit-terra==0.20.0->qiskit==0.35.0) (1.7.1)\n",
            "Collecting scipy>=1.0\n",
            "  Downloading scipy-1.7.3-cp37-cp37m-manylinux_2_12_x86_64.manylinux2010_x86_64.whl (38.1 MB)\n",
            "\u001b[K     |████████████████████████████████| 38.1 MB 24.6 MB/s \n",
            "\u001b[?25hCollecting tweedledum<2.0,>=1.1\n",
            "  Downloading tweedledum-1.1.1-cp37-cp37m-manylinux_2_12_x86_64.manylinux2010_x86_64.whl (943 kB)\n",
            "\u001b[K     |████████████████████████████████| 943 kB 38.1 MB/s \n",
            "\u001b[?25hCollecting ply>=3.10\n",
            "  Downloading ply-3.11-py2.py3-none-any.whl (49 kB)\n",
            "\u001b[K     |████████████████████████████████| 49 kB 4.7 MB/s \n",
            "\u001b[?25hRequirement already satisfied: dill>=0.3 in /usr/local/lib/python3.7/dist-packages (from qiskit-terra==0.20.0->qiskit==0.35.0) (0.3.4)\n",
            "Collecting stevedore>=3.0.0\n",
            "  Downloading stevedore-3.5.0-py3-none-any.whl (49 kB)\n",
            "\u001b[K     |████████████████████████████████| 49 kB 4.0 MB/s \n",
            "\u001b[?25hRequirement already satisfied: psutil>=5 in /usr/local/lib/python3.7/dist-packages (from qiskit-terra==0.20.0->qiskit==0.35.0) (5.4.8)\n",
            "Collecting symengine>=0.9\n",
            "  Downloading symengine-0.9.2-cp37-cp37m-manylinux2010_x86_64.whl (37.5 MB)\n",
            "\u001b[K     |████████████████████████████████| 37.5 MB 1.6 MB/s \n",
            "\u001b[?25hRequirement already satisfied: six>=1.5 in /usr/local/lib/python3.7/dist-packages (from python-dateutil>=2.8.0->qiskit-ibmq-provider==0.18.3->qiskit==0.35.0) (1.15.0)\n",
            "Requirement already satisfied: certifi>=2017.4.17 in /usr/local/lib/python3.7/dist-packages (from requests>=2.19->qiskit-ibmq-provider==0.18.3->qiskit==0.35.0) (2021.10.8)\n",
            "Requirement already satisfied: idna<3,>=2.5 in /usr/local/lib/python3.7/dist-packages (from requests>=2.19->qiskit-ibmq-provider==0.18.3->qiskit==0.35.0) (2.10)\n",
            "Requirement already satisfied: chardet<4,>=3.0.2 in /usr/local/lib/python3.7/dist-packages (from requests>=2.19->qiskit-ibmq-provider==0.18.3->qiskit==0.35.0) (3.0.4)\n",
            "Collecting ntlm-auth>=1.0.2\n",
            "  Downloading ntlm_auth-1.5.0-py2.py3-none-any.whl (29 kB)\n",
            "Collecting cryptography>=1.3\n",
            "  Downloading cryptography-37.0.2-cp36-abi3-manylinux_2_24_x86_64.whl (4.0 MB)\n",
            "\u001b[K     |████████████████████████████████| 4.0 MB 45.7 MB/s \n",
            "\u001b[?25hRequirement already satisfied: cffi>=1.12 in /usr/local/lib/python3.7/dist-packages (from cryptography>=1.3->requests-ntlm>=1.1.0->qiskit-ibmq-provider==0.18.3->qiskit==0.35.0) (1.15.0)\n",
            "Requirement already satisfied: pycparser in /usr/local/lib/python3.7/dist-packages (from cffi>=1.12->cryptography>=1.3->requests-ntlm>=1.1.0->qiskit-ibmq-provider==0.18.3->qiskit==0.35.0) (2.21)\n",
            "Collecting pbr!=2.1.0,>=2.0.0\n",
            "  Downloading pbr-5.9.0-py2.py3-none-any.whl (112 kB)\n",
            "\u001b[K     |████████████████████████████████| 112 kB 48.6 MB/s \n",
            "\u001b[?25hRequirement already satisfied: importlib-metadata>=1.7.0 in /usr/local/lib/python3.7/dist-packages (from stevedore>=3.0.0->qiskit-terra==0.20.0->qiskit==0.35.0) (4.11.3)\n",
            "Requirement already satisfied: zipp>=0.5 in /usr/local/lib/python3.7/dist-packages (from importlib-metadata>=1.7.0->stevedore>=3.0.0->qiskit-terra==0.20.0->qiskit==0.35.0) (3.8.0)\n",
            "Requirement already satisfied: typing-extensions>=3.6.4 in /usr/local/lib/python3.7/dist-packages (from importlib-metadata>=1.7.0->stevedore>=3.0.0->qiskit-terra==0.20.0->qiskit==0.35.0) (4.2.0)\n",
            "Requirement already satisfied: mpmath>=0.19 in /usr/local/lib/python3.7/dist-packages (from sympy>=1.3->qiskit-terra==0.20.0->qiskit==0.35.0) (1.2.1)\n",
            "Building wheels for collected packages: qiskit, python-constraint\n",
            "  Building wheel for qiskit (setup.py) ... \u001b[?25l\u001b[?25hdone\n",
            "  Created wheel for qiskit: filename=qiskit-0.35.0-py3-none-any.whl size=11839 sha256=d45d50f608d3d9383b5b25d8de314b4fecee80eacb5628e09d08379187d10e24\n",
            "  Stored in directory: /root/.cache/pip/wheels/1e/0a/42/93e5cc11795fb0a85fcf6686eac2791def0c9a1cad0a774045\n",
            "  Building wheel for python-constraint (setup.py) ... \u001b[?25l\u001b[?25hdone\n",
            "  Created wheel for python-constraint: filename=python_constraint-1.4.0-py2.py3-none-any.whl size=24081 sha256=a1586ab17ac8fee3a72a166613531f0cf02b03f53781717e9b7b53e5a02af15b\n",
            "  Stored in directory: /root/.cache/pip/wheels/07/27/db/1222c80eb1e431f3d2199c12569cb1cac60f562a451fe30479\n",
            "Successfully built qiskit python-constraint\n",
            "Installing collected packages: pbr, tweedledum, symengine, stevedore, scipy, retworkx, python-constraint, ply, ntlm-auth, cryptography, websocket-client, requests-ntlm, qiskit-terra, qiskit-ignis, qiskit-ibmq-provider, qiskit-aer, qiskit\n",
            "  Attempting uninstall: scipy\n",
            "    Found existing installation: scipy 1.4.1\n",
            "    Uninstalling scipy-1.4.1:\n",
            "      Successfully uninstalled scipy-1.4.1\n",
            "\u001b[31mERROR: pip's dependency resolver does not currently take into account all the packages that are installed. This behaviour is the source of the following dependency conflicts.\n",
            "albumentations 0.1.12 requires imgaug<0.2.7,>=0.2.5, but you have imgaug 0.2.9 which is incompatible.\u001b[0m\n",
            "Successfully installed cryptography-37.0.2 ntlm-auth-1.5.0 pbr-5.9.0 ply-3.11 python-constraint-1.4.0 qiskit-0.35.0 qiskit-aer-0.10.3 qiskit-ibmq-provider-0.18.3 qiskit-ignis-0.7.0 qiskit-terra-0.20.0 requests-ntlm-1.1.0 retworkx-0.11.0 scipy-1.7.3 stevedore-3.5.0 symengine-0.9.2 tweedledum-1.1.1 websocket-client-1.3.2\n",
            "Collecting pylatexenc\n",
            "  Downloading pylatexenc-2.10.tar.gz (162 kB)\n",
            "\u001b[K     |████████████████████████████████| 162 kB 3.3 MB/s \n",
            "\u001b[?25hBuilding wheels for collected packages: pylatexenc\n",
            "  Building wheel for pylatexenc (setup.py) ... \u001b[?25l\u001b[?25hdone\n",
            "  Created wheel for pylatexenc: filename=pylatexenc-2.10-py3-none-any.whl size=136835 sha256=f8d5e92e5c051d01ef9844cd49f1d756602a69a4b680376873fb6f61037afd89\n",
            "  Stored in directory: /root/.cache/pip/wheels/f1/8a/f5/33ee79d4473eb201b519fa40f989b842e373237395a3421f52\n",
            "Successfully built pylatexenc\n",
            "Installing collected packages: pylatexenc\n",
            "Successfully installed pylatexenc-2.10\n"
          ]
        }
      ],
      "source": [
        "!pip install qiskit==0.35.0\n",
        "!pip install pylatexenc"
      ]
    },
    {
      "cell_type": "markdown",
      "metadata": {
        "id": "4yl1bBNQYzOu"
      },
      "source": [
        "## Mount Google Drive"
      ]
    },
    {
      "cell_type": "code",
      "execution_count": null,
      "metadata": {
        "id": "6wJYWE1nUlre",
        "colab": {
          "base_uri": "https://localhost:8080/"
        },
        "outputId": "f129a036-19b7-4ba9-ccdd-86ff6639cbff"
      },
      "outputs": [
        {
          "output_type": "stream",
          "name": "stdout",
          "text": [
            "Mounted at /content/drive\n"
          ]
        }
      ],
      "source": [
        "from google.colab import drive\n",
        "drive.mount('/content/drive')"
      ]
    },
    {
      "cell_type": "markdown",
      "metadata": {
        "id": "XTETuV1FZ8U8"
      },
      "source": [
        "Load from drive .mat file"
      ]
    },
    {
      "cell_type": "code",
      "execution_count": null,
      "metadata": {
        "colab": {
          "base_uri": "https://localhost:8080/"
        },
        "id": "q1liTjaGb5zO",
        "outputId": "121ec15f-d8dc-423b-b0f1-7fc74b428c59"
      },
      "outputs": [
        {
          "output_type": "stream",
          "name": "stdout",
          "text": [
            "Requirement already satisfied: gdown in /usr/local/lib/python3.7/dist-packages (4.4.0)\n",
            "Requirement already satisfied: requests[socks] in /usr/local/lib/python3.7/dist-packages (from gdown) (2.23.0)\n",
            "Requirement already satisfied: beautifulsoup4 in /usr/local/lib/python3.7/dist-packages (from gdown) (4.6.3)\n",
            "Requirement already satisfied: tqdm in /usr/local/lib/python3.7/dist-packages (from gdown) (4.64.0)\n",
            "Requirement already satisfied: six in /usr/local/lib/python3.7/dist-packages (from gdown) (1.15.0)\n",
            "Requirement already satisfied: filelock in /usr/local/lib/python3.7/dist-packages (from gdown) (3.6.0)\n",
            "Requirement already satisfied: certifi>=2017.4.17 in /usr/local/lib/python3.7/dist-packages (from requests[socks]->gdown) (2021.10.8)\n",
            "Requirement already satisfied: urllib3!=1.25.0,!=1.25.1,<1.26,>=1.21.1 in /usr/local/lib/python3.7/dist-packages (from requests[socks]->gdown) (1.24.3)\n",
            "Requirement already satisfied: idna<3,>=2.5 in /usr/local/lib/python3.7/dist-packages (from requests[socks]->gdown) (2.10)\n",
            "Requirement already satisfied: chardet<4,>=3.0.2 in /usr/local/lib/python3.7/dist-packages (from requests[socks]->gdown) (3.0.4)\n",
            "Requirement already satisfied: PySocks!=1.5.7,>=1.5.6 in /usr/local/lib/python3.7/dist-packages (from requests[socks]->gdown) (1.7.1)\n"
          ]
        }
      ],
      "source": [
        "!pip install --upgrade --no-cache-dir gdown"
      ]
    },
    {
      "cell_type": "code",
      "execution_count": null,
      "metadata": {
        "colab": {
          "base_uri": "https://localhost:8080/"
        },
        "id": "alx4TXl9ZwTS",
        "outputId": "87643b63-c174-41d6-ac6c-136722c6be13"
      },
      "outputs": [
        {
          "output_type": "stream",
          "name": "stdout",
          "text": [
            "Downloading...\n",
            "From: https://drive.google.com/uc?id=1j4qIus2Bl44Om0UiOu4o4f__wVwUeDfP\n",
            "To: /content/cardio.mat\n",
            "\r  0% 0.00/68.3k [00:00<?, ?B/s]\r100% 68.3k/68.3k [00:00<00:00, 51.4MB/s]\n"
          ]
        }
      ],
      "source": [
        "#Loading .mat Cardiotocography dataset file\n",
        "!gdown 1j4qIus2Bl44Om0UiOu4o4f__wVwUeDfP"
      ]
    },
    {
      "cell_type": "code",
      "execution_count": null,
      "metadata": {
        "colab": {
          "base_uri": "https://localhost:8080/"
        },
        "id": "aZRgeliPz_z8",
        "outputId": "ff4a6f44-736d-4765-8611-69578a9537e3"
      },
      "outputs": [
        {
          "output_type": "execute_result",
          "data": {
            "text/plain": [
              "((1831, 21), (1831, 1))"
            ]
          },
          "metadata": {},
          "execution_count": 5
        }
      ],
      "source": [
        "import numpy as np\n",
        "from time import time\n",
        "from sklearn.kernel_approximation import RBFSampler\n",
        "from sklearn.metrics import roc_auc_score\n",
        "import matplotlib.pyplot as plt\n",
        "\n",
        "\n",
        "# cardio = np.load(\"Cardiotocography.npy\")\n",
        "\n",
        "from scipy import io\n",
        "\n",
        "cardio = io.loadmat(\"cardio.mat\")\n",
        "\n",
        "cardio[\"X\"].shape, cardio[\"y\"].shape"
      ]
    },
    {
      "cell_type": "markdown",
      "metadata": {
        "id": "zn-jB3En0Ha_"
      },
      "source": [
        "Preprocessing\n",
        "\n",
        "np.load object --> X, y (scaled)\n",
        "\n",
        "normal: '1'  \n",
        "anomalies: '0'"
      ]
    },
    {
      "cell_type": "code",
      "execution_count": null,
      "metadata": {
        "colab": {
          "base_uri": "https://localhost:8080/"
        },
        "id": "M67oIQRQ298k",
        "outputId": "c1b41eaf-8a39-44d5-db0d-18b69f074a7d"
      },
      "outputs": [
        {
          "output_type": "execute_result",
          "data": {
            "text/plain": [
              "((1831, 21), (1831, 1))"
            ]
          },
          "metadata": {},
          "execution_count": 6
        }
      ],
      "source": [
        "from sklearn.preprocessing import MinMaxScaler\n",
        "from scipy.stats import zscore\n",
        "\n",
        "def preprocessing_cardio(data):\n",
        "  features, labels = cardio[\"X\"], cardio[\"y\"]\n",
        "  labels = 1 - labels\n",
        "\n",
        "  # scaler = MinMaxScaler()\n",
        "  # scaler.fit(features)\n",
        "  # features = scaler.transform(features)\n",
        "\n",
        "  return features, labels\n",
        "\n",
        "cardio_X, cardio_y = preprocessing_cardio(cardio)\n",
        "\n",
        "cardio_X.shape, cardio_y.shape"
      ]
    },
    {
      "cell_type": "markdown",
      "metadata": {
        "id": "T_dh3TrN0WFR"
      },
      "source": [
        "## Random Fourier Features\n",
        "\n",
        "parameters: gamma, dimensions, random_state\n",
        "\n",
        "X --> rff(X)"
      ]
    },
    {
      "cell_type": "code",
      "execution_count": null,
      "metadata": {
        "id": "9O-_tfbC2DEi"
      },
      "outputs": [],
      "source": [
        "from sklearn.kernel_approximation import RBFSampler\n",
        "\"\"\"\n",
        "  Code from https://arxiv.org/abs/2004.01227\n",
        "\"\"\"\n",
        "class QFeatureMap: \n",
        "\n",
        "  def get_dim(self, num_features):\n",
        "    pass\n",
        "\n",
        "  def batch2wf(self, X):\n",
        "    pass\n",
        "\n",
        "  def batch2dm(self, X):\n",
        "    psi = self.batch2wf(X)\n",
        "    rho = np.einsum('...i,...j', psi, np.conj(psi))\n",
        "    return rho\n",
        "\n",
        "class QFeatureMap_rff(QFeatureMap):\n",
        "\n",
        "  def __init__(self, rbf_sampler):\n",
        "    self.rbf_sampler = rbf_sampler\n",
        "    self.weights = np.array(rbf_sampler.random_weights_)\n",
        "    self.offset = np.array(rbf_sampler.random_offset_)\n",
        "    self.dim = rbf_sampler.get_params()['n_components']\n",
        "\n",
        "  def get_dim(self, num_features):\n",
        "    return self.dim\n",
        "\n",
        "  def batch2wf(self, X):\n",
        "    vals = np.dot(X, self.weights) + self.offset\n",
        "    vals = np.cos(vals)\n",
        "    vals *= np.sqrt(2.) / np.sqrt(self.dim)\n",
        "    norms = np.linalg.norm(vals, axis=1)\n",
        "    psi = vals / norms[:, np.newaxis]\n",
        "    return psi"
      ]
    },
    {
      "cell_type": "code",
      "execution_count": null,
      "metadata": {
        "id": "opFX2jGW2G7d"
      },
      "outputs": [],
      "source": [
        "# Create the RandomFourierFeature map\n",
        "def rff(X, dim, gamma): \n",
        "    feature_map_fourier = RBFSampler(gamma=gamma, n_components=dim, random_state=2)\n",
        "    X_feat_train = feature_map_fourier.fit(cardio_X)\n",
        "\n",
        "    rffmap = QFeatureMap_rff(rbf_sampler=feature_map_fourier)\n",
        "    Crff = rffmap.batch2wf(cardio_X)\n",
        "\n",
        "    return Crff"
      ]
    },
    {
      "cell_type": "markdown",
      "metadata": {
        "id": "5prTAAs-6215"
      },
      "source": [
        "Train test split"
      ]
    },
    {
      "cell_type": "code",
      "execution_count": null,
      "metadata": {
        "colab": {
          "base_uri": "https://localhost:8080/"
        },
        "id": "M7sq1ptSJnHs",
        "outputId": "db139050-2e61-4def-9951-a6974b89f8a0"
      },
      "outputs": [
        {
          "output_type": "stream",
          "name": "stdout",
          "text": [
            "shape of X_train: (1098, 21) X_test: (367, 21) X_val (366, 21)\n",
            "classes: 0: 35 1: 332 %-anomalies: 0.09536784741144415\n"
          ]
        }
      ],
      "source": [
        "from sklearn.model_selection import train_test_split\n",
        "\n",
        "X_train, X_test, y_train, y_test = train_test_split(cardio_X, cardio_y, test_size=0.2, stratify=cardio_y, random_state=42)\n",
        "X_train, X_val, y_train, y_val = train_test_split(X_train, y_train, test_size=0.25, stratify=y_train, random_state=42)\n",
        "\n",
        "print(f\"shape of X_train: {X_train.shape} X_test: {X_test.shape} X_val {X_val.shape}\")\n",
        "n_classes = np.bincount(y_test.ravel().astype(np.int64))\n",
        "\n",
        "print(f\"classes: 0: {n_classes[0]} 1: {n_classes[1]} %-anomalies: {n_classes[0] / (n_classes[0] + n_classes[1])}\")\n",
        "#print(f\"classes: 0: {n_classes[0]} 1: {n_classes[1]} %-anomalies: {n_classes[1] / (n_classes[0] + n_classes[1])}\")"
      ]
    },
    {
      "cell_type": "markdown",
      "metadata": {
        "id": "99zg2Ps8WgK5"
      },
      "source": [
        "## Quantum Prediction"
      ]
    },
    {
      "cell_type": "markdown",
      "metadata": {
        "id": "axoxfK4h5i5_"
      },
      "source": [
        "Density Matrix Build\n",
        "\n",
        "Pure State: x_train --> U (matrix)\n",
        "\n",
        "Mixed State: X_train --> lambda (vec) , U (matrix)"
      ]
    },
    {
      "cell_type": "code",
      "execution_count": null,
      "metadata": {
        "id": "07II8vchI3oZ"
      },
      "outputs": [],
      "source": [
        "def pure_state(Ctrain):\n",
        "    phi_train = np.sum(Ctrain, axis=0)\n",
        "    phi_train = phi_train / np.linalg.norm(phi_train)\n",
        "\n",
        "    size_U = len(phi_train)\n",
        "    U_train = np.zeros((size_U, size_U))\n",
        "    x_1 = phi_train\n",
        "    U_train[:, 0] = x_1\n",
        "    for i in range(1, size_U):\n",
        "        x_i = np.random.randn(size_U)\n",
        "        for j in range(0, i):\n",
        "            x_i -= x_i.dot(U_train[:, j]) * U_train[:, j]\n",
        "        x_i = x_i / np.linalg.norm(x_i)\n",
        "        U_train[:, i] = x_i\n",
        "\n",
        "    return U_train"
      ]
    },
    {
      "cell_type": "code",
      "execution_count": null,
      "metadata": {
        "id": "G67FoafZ57Hl"
      },
      "outputs": [],
      "source": [
        "def mixed_state(Ctrain):\n",
        "    \n",
        "    Z_train = np.outer(Ctrain[0], Ctrain[0])\n",
        "    for i in range(1, len(Ctrain)):\n",
        "        Z_train += np.outer(Ctrain[i], Ctrain[i])\n",
        "\n",
        "\n",
        "    Z_train *= 1/len(Ctrain)\n",
        "\n",
        "    lambda_P1_temp, U_train = np.linalg.eigh(Z_train)\n",
        "\n",
        "    return lambda_P1_temp, U_train"
      ]
    },
    {
      "cell_type": "code",
      "execution_count": null,
      "metadata": {
        "id": "z4ZXxqVB8_JU"
      },
      "outputs": [],
      "source": [
        "from qiskit import QuantumRegister, ClassicalRegister, QuantumCircuit\n",
        "from qiskit import Aer, execute\n",
        "\n",
        "from sklearn.metrics import classification_report"
      ]
    },
    {
      "cell_type": "markdown",
      "metadata": {
        "id": "aTr7HTfRjjYD"
      },
      "source": [
        "# Quantum Prediction with Adaptive RFF"
      ]
    },
    {
      "cell_type": "markdown",
      "metadata": {
        "id": "bg5HouMNCobX"
      },
      "source": [
        "## Clone the QMC from GitHUB"
      ]
    },
    {
      "cell_type": "code",
      "execution_count": null,
      "metadata": {
        "colab": {
          "base_uri": "https://localhost:8080/"
        },
        "id": "iz_g0LI9CBLc",
        "outputId": "e7268a69-7652-4edc-8445-aa209414f1b7"
      },
      "outputs": [
        {
          "output_type": "stream",
          "name": "stdout",
          "text": [
            "Collecting git+https://github.com/fagonzalezo/qmc.git\n",
            "  Cloning https://github.com/fagonzalezo/qmc.git to /tmp/pip-req-build-q8o_4u57\n",
            "  Running command git clone -q https://github.com/fagonzalezo/qmc.git /tmp/pip-req-build-q8o_4u57\n",
            "Requirement already satisfied: scipy in /usr/local/lib/python3.7/dist-packages (from qmc==0.0.1) (1.7.3)\n",
            "Requirement already satisfied: numpy>=1.19.2 in /usr/local/lib/python3.7/dist-packages (from qmc==0.0.1) (1.21.6)\n",
            "Requirement already satisfied: scikit-learn in /usr/local/lib/python3.7/dist-packages (from qmc==0.0.1) (1.0.2)\n",
            "Requirement already satisfied: tensorflow>=2.2.0 in /usr/local/lib/python3.7/dist-packages (from qmc==0.0.1) (2.8.0)\n",
            "Requirement already satisfied: typeguard in /usr/local/lib/python3.7/dist-packages (from qmc==0.0.1) (2.7.1)\n",
            "Requirement already satisfied: tensorflow-io-gcs-filesystem>=0.23.1 in /usr/local/lib/python3.7/dist-packages (from tensorflow>=2.2.0->qmc==0.0.1) (0.25.0)\n",
            "Requirement already satisfied: libclang>=9.0.1 in /usr/local/lib/python3.7/dist-packages (from tensorflow>=2.2.0->qmc==0.0.1) (14.0.1)\n",
            "Requirement already satisfied: h5py>=2.9.0 in /usr/local/lib/python3.7/dist-packages (from tensorflow>=2.2.0->qmc==0.0.1) (3.1.0)\n",
            "Requirement already satisfied: keras<2.9,>=2.8.0rc0 in /usr/local/lib/python3.7/dist-packages (from tensorflow>=2.2.0->qmc==0.0.1) (2.8.0)\n",
            "Requirement already satisfied: setuptools in /usr/local/lib/python3.7/dist-packages (from tensorflow>=2.2.0->qmc==0.0.1) (57.4.0)\n",
            "Collecting tf-estimator-nightly==2.8.0.dev2021122109\n",
            "  Downloading tf_estimator_nightly-2.8.0.dev2021122109-py2.py3-none-any.whl (462 kB)\n",
            "\u001b[K     |████████████████████████████████| 462 kB 3.9 MB/s \n",
            "\u001b[?25hRequirement already satisfied: keras-preprocessing>=1.1.1 in /usr/local/lib/python3.7/dist-packages (from tensorflow>=2.2.0->qmc==0.0.1) (1.1.2)\n",
            "Requirement already satisfied: gast>=0.2.1 in /usr/local/lib/python3.7/dist-packages (from tensorflow>=2.2.0->qmc==0.0.1) (0.5.3)\n",
            "Requirement already satisfied: tensorboard<2.9,>=2.8 in /usr/local/lib/python3.7/dist-packages (from tensorflow>=2.2.0->qmc==0.0.1) (2.8.0)\n",
            "Requirement already satisfied: six>=1.12.0 in /usr/local/lib/python3.7/dist-packages (from tensorflow>=2.2.0->qmc==0.0.1) (1.15.0)\n",
            "Requirement already satisfied: protobuf>=3.9.2 in /usr/local/lib/python3.7/dist-packages (from tensorflow>=2.2.0->qmc==0.0.1) (3.17.3)\n",
            "Requirement already satisfied: grpcio<2.0,>=1.24.3 in /usr/local/lib/python3.7/dist-packages (from tensorflow>=2.2.0->qmc==0.0.1) (1.44.0)\n",
            "Requirement already satisfied: opt-einsum>=2.3.2 in /usr/local/lib/python3.7/dist-packages (from tensorflow>=2.2.0->qmc==0.0.1) (3.3.0)\n",
            "Requirement already satisfied: termcolor>=1.1.0 in /usr/local/lib/python3.7/dist-packages (from tensorflow>=2.2.0->qmc==0.0.1) (1.1.0)\n",
            "Requirement already satisfied: flatbuffers>=1.12 in /usr/local/lib/python3.7/dist-packages (from tensorflow>=2.2.0->qmc==0.0.1) (2.0)\n",
            "Requirement already satisfied: wrapt>=1.11.0 in /usr/local/lib/python3.7/dist-packages (from tensorflow>=2.2.0->qmc==0.0.1) (1.14.0)\n",
            "Requirement already satisfied: google-pasta>=0.1.1 in /usr/local/lib/python3.7/dist-packages (from tensorflow>=2.2.0->qmc==0.0.1) (0.2.0)\n",
            "Requirement already satisfied: astunparse>=1.6.0 in /usr/local/lib/python3.7/dist-packages (from tensorflow>=2.2.0->qmc==0.0.1) (1.6.3)\n",
            "Requirement already satisfied: absl-py>=0.4.0 in /usr/local/lib/python3.7/dist-packages (from tensorflow>=2.2.0->qmc==0.0.1) (1.0.0)\n",
            "Requirement already satisfied: typing-extensions>=3.6.6 in /usr/local/lib/python3.7/dist-packages (from tensorflow>=2.2.0->qmc==0.0.1) (4.2.0)\n",
            "Requirement already satisfied: wheel<1.0,>=0.23.0 in /usr/local/lib/python3.7/dist-packages (from astunparse>=1.6.0->tensorflow>=2.2.0->qmc==0.0.1) (0.37.1)\n",
            "Requirement already satisfied: cached-property in /usr/local/lib/python3.7/dist-packages (from h5py>=2.9.0->tensorflow>=2.2.0->qmc==0.0.1) (1.5.2)\n",
            "Requirement already satisfied: markdown>=2.6.8 in /usr/local/lib/python3.7/dist-packages (from tensorboard<2.9,>=2.8->tensorflow>=2.2.0->qmc==0.0.1) (3.3.6)\n",
            "Requirement already satisfied: requests<3,>=2.21.0 in /usr/local/lib/python3.7/dist-packages (from tensorboard<2.9,>=2.8->tensorflow>=2.2.0->qmc==0.0.1) (2.23.0)\n",
            "Requirement already satisfied: google-auth-oauthlib<0.5,>=0.4.1 in /usr/local/lib/python3.7/dist-packages (from tensorboard<2.9,>=2.8->tensorflow>=2.2.0->qmc==0.0.1) (0.4.6)\n",
            "Requirement already satisfied: google-auth<3,>=1.6.3 in /usr/local/lib/python3.7/dist-packages (from tensorboard<2.9,>=2.8->tensorflow>=2.2.0->qmc==0.0.1) (1.35.0)\n",
            "Requirement already satisfied: werkzeug>=0.11.15 in /usr/local/lib/python3.7/dist-packages (from tensorboard<2.9,>=2.8->tensorflow>=2.2.0->qmc==0.0.1) (1.0.1)\n",
            "Requirement already satisfied: tensorboard-plugin-wit>=1.6.0 in /usr/local/lib/python3.7/dist-packages (from tensorboard<2.9,>=2.8->tensorflow>=2.2.0->qmc==0.0.1) (1.8.1)\n",
            "Requirement already satisfied: tensorboard-data-server<0.7.0,>=0.6.0 in /usr/local/lib/python3.7/dist-packages (from tensorboard<2.9,>=2.8->tensorflow>=2.2.0->qmc==0.0.1) (0.6.1)\n",
            "Requirement already satisfied: cachetools<5.0,>=2.0.0 in /usr/local/lib/python3.7/dist-packages (from google-auth<3,>=1.6.3->tensorboard<2.9,>=2.8->tensorflow>=2.2.0->qmc==0.0.1) (4.2.4)\n",
            "Requirement already satisfied: pyasn1-modules>=0.2.1 in /usr/local/lib/python3.7/dist-packages (from google-auth<3,>=1.6.3->tensorboard<2.9,>=2.8->tensorflow>=2.2.0->qmc==0.0.1) (0.2.8)\n",
            "Requirement already satisfied: rsa<5,>=3.1.4 in /usr/local/lib/python3.7/dist-packages (from google-auth<3,>=1.6.3->tensorboard<2.9,>=2.8->tensorflow>=2.2.0->qmc==0.0.1) (4.8)\n",
            "Requirement already satisfied: requests-oauthlib>=0.7.0 in /usr/local/lib/python3.7/dist-packages (from google-auth-oauthlib<0.5,>=0.4.1->tensorboard<2.9,>=2.8->tensorflow>=2.2.0->qmc==0.0.1) (1.3.1)\n",
            "Requirement already satisfied: importlib-metadata>=4.4 in /usr/local/lib/python3.7/dist-packages (from markdown>=2.6.8->tensorboard<2.9,>=2.8->tensorflow>=2.2.0->qmc==0.0.1) (4.11.3)\n",
            "Requirement already satisfied: zipp>=0.5 in /usr/local/lib/python3.7/dist-packages (from importlib-metadata>=4.4->markdown>=2.6.8->tensorboard<2.9,>=2.8->tensorflow>=2.2.0->qmc==0.0.1) (3.8.0)\n",
            "Requirement already satisfied: pyasn1<0.5.0,>=0.4.6 in /usr/local/lib/python3.7/dist-packages (from pyasn1-modules>=0.2.1->google-auth<3,>=1.6.3->tensorboard<2.9,>=2.8->tensorflow>=2.2.0->qmc==0.0.1) (0.4.8)\n",
            "Requirement already satisfied: certifi>=2017.4.17 in /usr/local/lib/python3.7/dist-packages (from requests<3,>=2.21.0->tensorboard<2.9,>=2.8->tensorflow>=2.2.0->qmc==0.0.1) (2021.10.8)\n",
            "Requirement already satisfied: chardet<4,>=3.0.2 in /usr/local/lib/python3.7/dist-packages (from requests<3,>=2.21.0->tensorboard<2.9,>=2.8->tensorflow>=2.2.0->qmc==0.0.1) (3.0.4)\n",
            "Requirement already satisfied: idna<3,>=2.5 in /usr/local/lib/python3.7/dist-packages (from requests<3,>=2.21.0->tensorboard<2.9,>=2.8->tensorflow>=2.2.0->qmc==0.0.1) (2.10)\n",
            "Requirement already satisfied: urllib3!=1.25.0,!=1.25.1,<1.26,>=1.21.1 in /usr/local/lib/python3.7/dist-packages (from requests<3,>=2.21.0->tensorboard<2.9,>=2.8->tensorflow>=2.2.0->qmc==0.0.1) (1.24.3)\n",
            "Requirement already satisfied: oauthlib>=3.0.0 in /usr/local/lib/python3.7/dist-packages (from requests-oauthlib>=0.7.0->google-auth-oauthlib<0.5,>=0.4.1->tensorboard<2.9,>=2.8->tensorflow>=2.2.0->qmc==0.0.1) (3.2.0)\n",
            "Requirement already satisfied: threadpoolctl>=2.0.0 in /usr/local/lib/python3.7/dist-packages (from scikit-learn->qmc==0.0.1) (3.1.0)\n",
            "Requirement already satisfied: joblib>=0.11 in /usr/local/lib/python3.7/dist-packages (from scikit-learn->qmc==0.0.1) (1.1.0)\n",
            "Building wheels for collected packages: qmc\n",
            "  Building wheel for qmc (setup.py) ... \u001b[?25l\u001b[?25hdone\n",
            "  Created wheel for qmc: filename=qmc-0.0.1-py3-none-any.whl size=12757 sha256=01a3ab1f0e1e16f07622b97229a5bff6367725e98b50c351a9c6ff911f62cc30\n",
            "  Stored in directory: /tmp/pip-ephem-wheel-cache-kmaafbet/wheels/b2/d2/8d/5870208920445c46dfe694f549251e5f63d7afbee56c01f720\n",
            "Successfully built qmc\n",
            "Installing collected packages: tf-estimator-nightly, qmc\n",
            "Successfully installed qmc-0.0.1 tf-estimator-nightly-2.8.0.dev2021122109\n"
          ]
        }
      ],
      "source": [
        "!pip install git+https://github.com/fagonzalezo/qmc.git"
      ]
    },
    {
      "cell_type": "markdown",
      "metadata": {
        "id": "pUZJKFvypUTT"
      },
      "source": [
        "## Adaptive RFF"
      ]
    },
    {
      "cell_type": "code",
      "execution_count": null,
      "metadata": {
        "id": "kmwZ_WBj9lq_"
      },
      "outputs": [],
      "source": [
        "import tensorflow as tf\n",
        "import numpy as np\n",
        "import qmc.tf.layers as layers\n",
        "import qmc.tf.models as models"
      ]
    },
    {
      "cell_type": "code",
      "execution_count": null,
      "metadata": {
        "id": "CrKdxKmcB6l2"
      },
      "outputs": [],
      "source": [
        "import pylab as pl"
      ]
    },
    {
      "cell_type": "code",
      "execution_count": null,
      "metadata": {
        "colab": {
          "base_uri": "https://localhost:8080/",
          "height": 300
        },
        "id": "U-_bWN7Zvl7f",
        "outputId": "115b7b64-e115-435d-faca-16e3e690e570"
      },
      "outputs": [
        {
          "output_type": "stream",
          "name": "stdout",
          "text": [
            "(100000,)\n",
            "0.265800883135551\n"
          ]
        },
        {
          "output_type": "display_data",
          "data": {
            "text/plain": [
              "<Figure size 432x288 with 1 Axes>"
            ],
            "image/png": "[encoded data removed]"
          },
          "metadata": {
            "needs_background": "light"
          }
        }
      ],
      "source": [
        "num_samples = 100000\n",
        "rnd_idx1 = np.random.randint(X_train.shape[0],size=(num_samples, ))\n",
        "rnd_idx2 = np.random.randint(X_train.shape[0],size=(num_samples, ))\n",
        "#x_train_rff = [X_train[rnd_idx1], X_train[rnd_idx2]]\n",
        "x_train_rff = np.concatenate([X_train[rnd_idx1][:, np.newaxis, ...], \n",
        "                          X_train[rnd_idx2][:, np.newaxis, ...]], \n",
        "                         axis=1) \n",
        "dists = np.linalg.norm(x_train_rff[:, 0, ...] - x_train_rff[:, 1, ...], axis=1)\n",
        "print(dists.shape)\n",
        "pl.hist(dists)\n",
        "print(np.quantile(dists, 0.001))\n",
        "rnd_idx1 = np.random.randint(X_test.shape[0],size=(num_samples, ))\n",
        "rnd_idx2 = np.random.randint(X_test.shape[0],size=(num_samples, ))\n",
        "#x_test_rff = [X_test[rnd_idx1], X_test[rnd_idx2]]\n",
        "x_test_rff = np.concatenate([X_test[rnd_idx1][:, np.newaxis, ...], \n",
        "                          X_test[rnd_idx2][:, np.newaxis, ...]], \n",
        "                         axis=1) "
      ]
    },
    {
      "cell_type": "code",
      "execution_count": null,
      "metadata": {
        "id": "8Kz9xY9X3Rs-"
      },
      "outputs": [],
      "source": [
        "def gauss_kernel_arr(x, y, gamma):\n",
        "    return np.exp(-gamma * np.linalg.norm(x - y, axis=1) ** 2)"
      ]
    },
    {
      "cell_type": "code",
      "execution_count": null,
      "metadata": {
        "id": "7opihyAT7c20"
      },
      "outputs": [],
      "source": [
        "import tensorflow as tf\n",
        "\n",
        "class QFeatureMapAdaptRFF(layers.QFeatureMapRFF):\n",
        "    def __init__(\n",
        "                 self,\n",
        "                 gamma_trainable=True,\n",
        "                 weights_trainable=True,\n",
        "                 **kwargs\n",
        "                 ):\n",
        "        self.g_trainable = gamma_trainable\n",
        "        self.w_trainable = weights_trainable\n",
        "        super().__init__(**kwargs)\n",
        "\n",
        "    def build(self, input_shape):\n",
        "        rbf_sampler = RBFSampler(\n",
        "            gamma=0.5,\n",
        "            n_components=self.dim,\n",
        "            random_state=self.random_state)\n",
        "        x = np.zeros(shape=(1, self.input_dim))\n",
        "        rbf_sampler.fit(x)\n",
        "        self.gamma_val = tf.Variable(\n",
        "            initial_value=self.gamma,\n",
        "            dtype=tf.float32,\n",
        "            trainable=self.g_trainable,\n",
        "            name=\"rff_gamma\")\n",
        "        self.rff_weights = tf.Variable(\n",
        "            initial_value=rbf_sampler.random_weights_,\n",
        "            dtype=tf.float32,\n",
        "            trainable=self.w_trainable,\n",
        "            name=\"rff_weights\")\n",
        "        self.offset = tf.Variable(\n",
        "            initial_value=rbf_sampler.random_offset_,\n",
        "            dtype=tf.float32,\n",
        "            trainable=self.w_trainable,\n",
        "            name=\"offset\")\n",
        "        self.built = True\n",
        "\n",
        "    def call(self, inputs):\n",
        "        vals = tf.sqrt(2 * self.gamma_val) * tf.matmul(inputs, self.rff_weights) + self.offset # old framework\n",
        "        vals = tf.cos(vals)\n",
        "        vals = vals * tf.sqrt(2. / self.dim) # old framework \n",
        "        norms = tf.linalg.norm(vals, axis=-1)\n",
        "        psi = vals / tf.expand_dims(norms, axis=-1)\n",
        "        return psi\n",
        "\n",
        "class DMRFF(tf.keras.Model):\n",
        "    def __init__(self,\n",
        "                 dim_x,\n",
        "                 num_rff,\n",
        "                 gamma=1,\n",
        "                 random_state=None):\n",
        "        super().__init__()\n",
        "        self.rff_layer = QFeatureMapAdaptRFF(input_dim=dim_x, dim=num_rff, gamma=gamma, random_state=random_state, gamma_trainable=False)\n",
        "\n",
        "    def call(self, inputs):\n",
        "        x1 = inputs[:, 0]\n",
        "        x2 = inputs[:, 1]\n",
        "        phi1 = self.rff_layer(x1)\n",
        "        phi2 = self.rff_layer(x2)\n",
        "        dot = tf.einsum('...i,...i->...', phi1, phi2) ** 2\n",
        "        return dot\n",
        "\n",
        "def calc_rbf(dmrff, x1, x2):\n",
        "    return dmrff.predict(np.concatenate([x1[:, np.newaxis, ...], \n",
        "                                         x2[:, np.newaxis, ...]], \n",
        "                                        axis=1),\n",
        "                         batch_size=256)\n"
      ]
    },
    {
      "cell_type": "code",
      "execution_count": null,
      "metadata": {
        "colab": {
          "base_uri": "https://localhost:8080/",
          "height": 369
        },
        "id": "SGcCPhwoy-EY",
        "outputId": "c0af057f-aaef-437f-ad52-7a6b9ac1436f"
      },
      "outputs": [
        {
          "output_type": "stream",
          "name": "stdout",
          "text": [
            "[1.000000e+00 5.000000e-01 2.500000e-01 1.250000e-01 6.250000e-02\n",
            " 3.125000e-02 1.562500e-02 7.812500e-03 3.906250e-03 1.953125e-03\n",
            " 9.765625e-04]\n",
            "Gamma: 0.0078125\n",
            "6250/6250 [==============================] - 9s 1ms/step - loss: 0.0295\n"
          ]
        },
        {
          "output_type": "execute_result",
          "data": {
            "text/plain": [
              "0.029543710872530937"
            ]
          },
          "metadata": {},
          "execution_count": 19
        },
        {
          "output_type": "display_data",
          "data": {
            "text/plain": [
              "<Figure size 432x288 with 1 Axes>"
            ],
            "image/png": "[encoded data removed]"
          },
          "metadata": {
            "needs_background": "light"
          }
        }
      ],
      "source": [
        "sigma = np.quantile(dists, 0.01)\n",
        "gamma = 1/(2 * sigma ** 2)\n",
        "gamma_index = 7 # index 7 corresponds to gamma = 2**(-7)\n",
        "gammas = 1/(2**(np.arange(11)))\n",
        "print(gammas)\n",
        "\n",
        "n_rffs = 4\n",
        "print(f'Gamma: {gammas[gamma_index ]}') \n",
        "# y_train_rff = gauss_kernel_arr(x_train_rff[:, 0, ...], x_train_rff[:, 1, ...], gamma=gamma) # Original code\n",
        "# y_test_rff = gauss_kernel_arr(x_test_rff[:, 0, ...], x_test_rff[:, 1, ...], gamma=gamma) # Original code\n",
        "y_train_rff = gauss_kernel_arr(x_train_rff[:, 0, ...], x_train_rff[:, 1, ...], gamma=gammas[gamma_index ])\n",
        "y_test_rff = gauss_kernel_arr(x_test_rff[:, 0, ...], x_test_rff[:, 1, ...], gamma=gammas[gamma_index ])\n",
        "dmrff = DMRFF(dim_x=21, num_rff=n_rffs, gamma=gammas[gamma_index ], random_state=np.random.randint(10000)) # original rs = 0\n",
        "#dmrff = DMRFF(dim_x=21, num_rff=n_rffs, gamma=gamma / 2, random_state=np.random.randint(10000)) # original rs = 0\n",
        "dm_rbf = calc_rbf(dmrff, x_test_rff[:, 0, ...], x_test_rff[:, 1, ...])\n",
        "pl.plot(y_test_rff, dm_rbf, '.')\n",
        "dmrff.compile(optimizer=\"adam\", loss='mse')\n",
        "dmrff.evaluate(x_test_rff, y_test_rff, batch_size=16)"
      ]
    },
    {
      "cell_type": "code",
      "execution_count": null,
      "metadata": {
        "colab": {
          "base_uri": "https://localhost:8080/",
          "height": 317
        },
        "id": "C5RQnaRvy7vz",
        "outputId": "29310954-a49f-47b4-8cc0-cb8c8b4a8bfc"
      },
      "outputs": [
        {
          "output_type": "stream",
          "name": "stdout",
          "text": [
            "Mean: -0.016434483230113983\n",
            "Std: 0.9815755486488342\n",
            "Gamma: 0.0078125\n"
          ]
        },
        {
          "output_type": "display_data",
          "data": {
            "text/plain": [
              "<Figure size 432x288 with 1 Axes>"
            ],
            "image/png": "[encoded data removed]"
          },
          "metadata": {
            "needs_background": "light"
          }
        }
      ],
      "source": [
        "print(f'Mean: {np.mean(dmrff.rff_layer.rff_weights)}')\n",
        "print(f'Std: {np.std(dmrff.rff_layer.rff_weights)}')\n",
        "print(f'Gamma: {dmrff.rff_layer.gamma_val.numpy()}')\n",
        "pl.hist(dmrff.rff_layer.rff_weights.numpy().flatten(), bins=30);"
      ]
    },
    {
      "cell_type": "code",
      "execution_count": null,
      "metadata": {
        "colab": {
          "base_uri": "https://localhost:8080/"
        },
        "id": "TRZCYHie2EF8",
        "outputId": "63f19672-184e-4a4e-f671-81c4be70e209"
      },
      "outputs": [
        {
          "output_type": "stream",
          "name": "stdout",
          "text": [
            "Epoch 1/40\n",
            "704/704 [==============================] - 3s 3ms/step - loss: 0.0232 - val_loss: 0.0179\n",
            "Epoch 2/40\n",
            "704/704 [==============================] - 2s 2ms/step - loss: 0.0153 - val_loss: 0.0131\n",
            "Epoch 3/40\n",
            "704/704 [==============================] - 2s 2ms/step - loss: 0.0120 - val_loss: 0.0108\n",
            "Epoch 4/40\n",
            "704/704 [==============================] - 2s 2ms/step - loss: 0.0102 - val_loss: 0.0095\n",
            "Epoch 5/40\n",
            "704/704 [==============================] - 2s 2ms/step - loss: 0.0091 - val_loss: 0.0086\n",
            "Epoch 6/40\n",
            "704/704 [==============================] - 2s 2ms/step - loss: 0.0084 - val_loss: 0.0079\n",
            "Epoch 7/40\n",
            "704/704 [==============================] - 2s 2ms/step - loss: 0.0078 - val_loss: 0.0073\n",
            "Epoch 8/40\n",
            "704/704 [==============================] - 1s 2ms/step - loss: 0.0072 - val_loss: 0.0069\n",
            "Epoch 9/40\n",
            "704/704 [==============================] - 2s 2ms/step - loss: 0.0068 - val_loss: 0.0065\n",
            "Epoch 10/40\n",
            "704/704 [==============================] - 2s 2ms/step - loss: 0.0065 - val_loss: 0.0063\n",
            "Epoch 11/40\n",
            "704/704 [==============================] - 1s 2ms/step - loss: 0.0063 - val_loss: 0.0061\n",
            "Epoch 12/40\n",
            "704/704 [==============================] - 2s 2ms/step - loss: 0.0061 - val_loss: 0.0060\n",
            "Epoch 13/40\n",
            "704/704 [==============================] - 2s 2ms/step - loss: 0.0060 - val_loss: 0.0059\n",
            "Epoch 14/40\n",
            "704/704 [==============================] - 2s 2ms/step - loss: 0.0059 - val_loss: 0.0058\n",
            "Epoch 15/40\n",
            "704/704 [==============================] - 2s 2ms/step - loss: 0.0058 - val_loss: 0.0058\n",
            "Epoch 16/40\n",
            "704/704 [==============================] - 2s 2ms/step - loss: 0.0057 - val_loss: 0.0057\n",
            "Epoch 17/40\n",
            "704/704 [==============================] - 2s 2ms/step - loss: 0.0056 - val_loss: 0.0057\n",
            "Epoch 18/40\n",
            "704/704 [==============================] - 2s 2ms/step - loss: 0.0056 - val_loss: 0.0056\n",
            "Epoch 19/40\n",
            "704/704 [==============================] - 2s 3ms/step - loss: 0.0055 - val_loss: 0.0056\n",
            "Epoch 20/40\n",
            "704/704 [==============================] - 2s 2ms/step - loss: 0.0054 - val_loss: 0.0055\n",
            "Epoch 21/40\n",
            "704/704 [==============================] - 2s 2ms/step - loss: 0.0054 - val_loss: 0.0054\n",
            "Epoch 22/40\n",
            "704/704 [==============================] - 2s 2ms/step - loss: 0.0053 - val_loss: 0.0054\n",
            "Epoch 23/40\n",
            "704/704 [==============================] - 2s 2ms/step - loss: 0.0052 - val_loss: 0.0053\n",
            "Epoch 24/40\n",
            "704/704 [==============================] - 2s 2ms/step - loss: 0.0052 - val_loss: 0.0053\n",
            "Epoch 25/40\n",
            "704/704 [==============================] - 1s 2ms/step - loss: 0.0051 - val_loss: 0.0052\n",
            "Epoch 26/40\n",
            "704/704 [==============================] - 2s 3ms/step - loss: 0.0051 - val_loss: 0.0052\n",
            "Epoch 27/40\n",
            "704/704 [==============================] - 2s 2ms/step - loss: 0.0051 - val_loss: 0.0052\n",
            "Epoch 28/40\n",
            "704/704 [==============================] - 2s 2ms/step - loss: 0.0051 - val_loss: 0.0051\n",
            "Epoch 29/40\n",
            "704/704 [==============================] - 2s 3ms/step - loss: 0.0050 - val_loss: 0.0051\n",
            "Epoch 30/40\n",
            "704/704 [==============================] - 2s 3ms/step - loss: 0.0050 - val_loss: 0.0051\n",
            "Epoch 31/40\n",
            "704/704 [==============================] - 2s 2ms/step - loss: 0.0050 - val_loss: 0.0051\n",
            "Epoch 32/40\n",
            "704/704 [==============================] - 2s 2ms/step - loss: 0.0050 - val_loss: 0.0051\n",
            "Epoch 33/40\n",
            "704/704 [==============================] - 2s 2ms/step - loss: 0.0050 - val_loss: 0.0051\n",
            "Epoch 34/40\n",
            "704/704 [==============================] - 1s 2ms/step - loss: 0.0050 - val_loss: 0.0051\n",
            "Epoch 35/40\n",
            "704/704 [==============================] - 2s 2ms/step - loss: 0.0050 - val_loss: 0.0051\n",
            "Epoch 36/40\n",
            "704/704 [==============================] - 2s 2ms/step - loss: 0.0050 - val_loss: 0.0051\n",
            "Epoch 37/40\n",
            "704/704 [==============================] - 2s 2ms/step - loss: 0.0050 - val_loss: 0.0051\n",
            "Epoch 38/40\n",
            "704/704 [==============================] - 2s 3ms/step - loss: 0.0049 - val_loss: 0.0051\n",
            "Epoch 39/40\n",
            "704/704 [==============================] - 3s 4ms/step - loss: 0.0049 - val_loss: 0.0051\n",
            "Epoch 40/40\n",
            "704/704 [==============================] - 4s 5ms/step - loss: 0.0049 - val_loss: 0.0051\n"
          ]
        },
        {
          "output_type": "execute_result",
          "data": {
            "text/plain": [
              "<keras.callbacks.History at 0x7f10b4c2edd0>"
            ]
          },
          "metadata": {},
          "execution_count": 21
        }
      ],
      "source": [
        "dmrff.fit(x_train_rff, y_train_rff, validation_split=0.1, epochs=40, batch_size=128)"
      ]
    },
    {
      "cell_type": "code",
      "execution_count": null,
      "metadata": {
        "colab": {
          "base_uri": "https://localhost:8080/",
          "height": 89
        },
        "id": "GfrAHrRk9PnY",
        "outputId": "5b8eb5c0-0c19-43c2-af9e-190a171a84fb"
      },
      "outputs": [
        {
          "output_type": "stream",
          "name": "stdout",
          "text": [
            "782/782 [==============================] - 3s 3ms/step - loss: 0.0053\n"
          ]
        },
        {
          "output_type": "execute_result",
          "data": {
            "text/plain": [
              "0.005300824996083975"
            ]
          },
          "metadata": {},
          "execution_count": 22
        },
        {
          "output_type": "display_data",
          "data": {
            "text/plain": [
              "<Figure size 432x288 with 1 Axes>"
            ],
            "image/png": "[encoded data removed]"
          },
          "metadata": {
            "needs_background": "light"
          }
        }
      ],
      "source": [
        "dm_rbf = calc_rbf(dmrff, x_test_rff[:, 0, ...], x_test_rff[:, 1, ...])\n",
        "pl.plot(y_test_rff, dm_rbf, '.')\n",
        "dmrff.evaluate(x_test_rff, y_test_rff, batch_size=128)"
      ]
    },
    {
      "cell_type": "code",
      "execution_count": null,
      "metadata": {
        "colab": {
          "base_uri": "https://localhost:8080/",
          "height": 106
        },
        "id": "5gEgPGx6z6Qk",
        "outputId": "806d681f-daf4-4250-fc3d-c7794fc8c400"
      },
      "outputs": [
        {
          "output_type": "stream",
          "name": "stdout",
          "text": [
            "Mean: 0.05731048062443733\n",
            "Std: 0.541689932346344\n",
            "Gamma: 0.0078125\n"
          ]
        },
        {
          "output_type": "display_data",
          "data": {
            "text/plain": [
              "<Figure size 432x288 with 1 Axes>"
            ],
            "image/png": "[encoded data removed]"
          },
          "metadata": {
            "needs_background": "light"
          }
        }
      ],
      "source": [
        "print(f'Mean: {np.mean(dmrff.rff_layer.rff_weights)}')\n",
        "print(f'Std: {np.std(dmrff.rff_layer.rff_weights)}')\n",
        "print(f'Gamma: {dmrff.rff_layer.gamma_val.numpy()}')\n",
        "pl.hist(dmrff.rff_layer.rff_weights.numpy().flatten(), bins=30);"
      ]
    },
    {
      "cell_type": "code",
      "execution_count": null,
      "metadata": {
        "colab": {
          "base_uri": "https://localhost:8080/"
        },
        "id": "QtzJ5cyl63xd",
        "outputId": "282d26a9-69ea-4d70-ed06-4fcec92c754b"
      },
      "outputs": [
        {
          "output_type": "execute_result",
          "data": {
            "text/plain": [
              "((1098, 4), (367, 4), (366, 4))"
            ]
          },
          "metadata": {},
          "execution_count": 24
        }
      ],
      "source": [
        "X_feat_train = dmrff.rff_layer.call(tf.cast(X_train, tf.float32))\n",
        "X_feat_test = dmrff.rff_layer.call(tf.cast(X_test, tf.float32))\n",
        "X_feat_val = dmrff.rff_layer.call(tf.cast(X_val, tf.float32))\n",
        "\n",
        "X_feat_train = np.float64((X_feat_train).numpy())\n",
        "X_feat_test = np.float64((X_feat_test).numpy())\n",
        "X_feat_val = np.float64((X_feat_val).numpy())\n",
        "\n",
        "X_feat_train = X_feat_train / np.linalg.norm(X_feat_train, axis = 1).reshape(-1, 1)\n",
        "X_feat_test = X_feat_test / np.linalg.norm(X_feat_test, axis = 1).reshape(-1, 1)\n",
        "X_feat_val = X_feat_val / np.linalg.norm(X_feat_val, axis = 1).reshape(-1, 1)\n",
        "\n",
        "X_feat_train.shape, X_feat_test.shape, X_feat_val.shape"
      ]
    },
    {
      "cell_type": "markdown",
      "metadata": {
        "id": "Vyob8x8fr1E1"
      },
      "source": [
        "# IBM Real Computer Attempt"
      ]
    },
    {
      "cell_type": "markdown",
      "source": [
        "## Pretrained Adp Feautures"
      ],
      "metadata": {
        "id": "tjcl30qmR7SU"
      }
    },
    {
      "cell_type": "code",
      "source": [
        "X_feat_train = np.load(\"/content/drive/MyDrive/TesisMaestria/ResearchData/adpFeatures_4t4_Cardio_train.npy\")\n",
        "X_feat_test = np.load(\"/content/drive/MyDrive/TesisMaestria/ResearchData/adpFeatures_4t4_Cardio_test.npy\")\n",
        "X_feat_val = np.load(\"/content/drive/MyDrive/TesisMaestria/ResearchData/adpFeatures_4t4_Cardio_val.npy\")\n",
        "\n",
        "X_feat_train.shape, X_feat_test.shape, X_feat_val.shape"
      ],
      "metadata": {
        "id": "vdBRQqFFP9rT",
        "colab": {
          "base_uri": "https://localhost:8080/"
        },
        "outputId": "9702bd29-7f31-4570-d72f-d9ef5c8a2757"
      },
      "execution_count": null,
      "outputs": [
        {
          "output_type": "execute_result",
          "data": {
            "text/plain": [
              "((1098, 4), (367, 4), (366, 4))"
            ]
          },
          "metadata": {},
          "execution_count": 12
        }
      ]
    },
    {
      "cell_type": "markdown",
      "source": [
        "## First part"
      ],
      "metadata": {
        "id": "qgIJqAFRTdQW"
      }
    },
    {
      "cell_type": "code",
      "execution_count": null,
      "metadata": {
        "colab": {
          "base_uri": "https://localhost:8080/"
        },
        "id": "3umCRGB7RjIU",
        "outputId": "e2d41a82-34b9-4ef3-c298-f709f7d44d20"
      },
      "outputs": [
        {
          "output_type": "stream",
          "name": "stdout",
          "text": [
            "Collecting qiskit_ibm_runtime\n",
            "  Downloading qiskit_ibm_runtime-0.4.0-py3-none-any.whl (158 kB)\n",
            "\u001b[K     |████████████████████████████████| 158 kB 3.2 MB/s \n",
            "\u001b[?25hRequirement already satisfied: numpy>=1.13 in /usr/local/lib/python3.7/dist-packages (from qiskit_ibm_runtime) (1.21.6)\n",
            "Requirement already satisfied: websocket-client>=1.0.1 in /usr/local/lib/python3.7/dist-packages (from qiskit_ibm_runtime) (1.3.2)\n",
            "Requirement already satisfied: urllib3>=1.21.1 in /usr/local/lib/python3.7/dist-packages (from qiskit_ibm_runtime) (1.24.3)\n",
            "Requirement already satisfied: requests-ntlm>=1.1.0 in /usr/local/lib/python3.7/dist-packages (from qiskit_ibm_runtime) (1.1.0)\n",
            "Requirement already satisfied: qiskit-terra>=0.20.0 in /usr/local/lib/python3.7/dist-packages (from qiskit_ibm_runtime) (0.20.0)\n",
            "Requirement already satisfied: python-dateutil>=2.8.0 in /usr/local/lib/python3.7/dist-packages (from qiskit_ibm_runtime) (2.8.2)\n",
            "Requirement already satisfied: typing-extensions>=4.0.0 in /usr/local/lib/python3.7/dist-packages (from qiskit_ibm_runtime) (4.2.0)\n",
            "Collecting ibm-platform-services>=0.22.6\n",
            "  Downloading ibm-platform-services-0.24.1.tar.gz (241 kB)\n",
            "\u001b[K     |████████████████████████████████| 241 kB 37.1 MB/s \n",
            "\u001b[?25hRequirement already satisfied: requests>=2.19 in /usr/local/lib/python3.7/dist-packages (from qiskit_ibm_runtime) (2.23.0)\n",
            "Collecting requests>=2.19\n",
            "  Downloading requests-2.27.1-py2.py3-none-any.whl (63 kB)\n",
            "\u001b[K     |████████████████████████████████| 63 kB 1.5 MB/s \n",
            "\u001b[?25hCollecting urllib3>=1.21.1\n",
            "  Downloading urllib3-1.26.9-py2.py3-none-any.whl (138 kB)\n",
            "\u001b[K     |████████████████████████████████| 138 kB 44.4 MB/s \n",
            "\u001b[?25hCollecting ibm_cloud_sdk_core<4.0.0,>=3.15.1\n",
            "  Downloading ibm-cloud-sdk-core-3.15.1.tar.gz (50 kB)\n",
            "\u001b[K     |████████████████████████████████| 50 kB 5.5 MB/s \n",
            "\u001b[?25hCollecting PyJWT<3.0.0,>=2.0.1\n",
            "  Downloading PyJWT-2.4.0-py3-none-any.whl (18 kB)\n",
            "Requirement already satisfied: six>=1.5 in /usr/local/lib/python3.7/dist-packages (from python-dateutil>=2.8.0->qiskit_ibm_runtime) (1.15.0)\n",
            "Requirement already satisfied: ply>=3.10 in /usr/local/lib/python3.7/dist-packages (from qiskit-terra>=0.20.0->qiskit_ibm_runtime) (3.11)\n",
            "Requirement already satisfied: sympy>=1.3 in /usr/local/lib/python3.7/dist-packages (from qiskit-terra>=0.20.0->qiskit_ibm_runtime) (1.7.1)\n",
            "Requirement already satisfied: symengine>=0.9 in /usr/local/lib/python3.7/dist-packages (from qiskit-terra>=0.20.0->qiskit_ibm_runtime) (0.9.2)\n",
            "Requirement already satisfied: stevedore>=3.0.0 in /usr/local/lib/python3.7/dist-packages (from qiskit-terra>=0.20.0->qiskit_ibm_runtime) (3.5.0)\n",
            "Requirement already satisfied: tweedledum<2.0,>=1.1 in /usr/local/lib/python3.7/dist-packages (from qiskit-terra>=0.20.0->qiskit_ibm_runtime) (1.1.1)\n",
            "Requirement already satisfied: dill>=0.3 in /usr/local/lib/python3.7/dist-packages (from qiskit-terra>=0.20.0->qiskit_ibm_runtime) (0.3.4)\n",
            "Requirement already satisfied: psutil>=5 in /usr/local/lib/python3.7/dist-packages (from qiskit-terra>=0.20.0->qiskit_ibm_runtime) (5.4.8)\n",
            "Requirement already satisfied: scipy>=1.5 in /usr/local/lib/python3.7/dist-packages (from qiskit-terra>=0.20.0->qiskit_ibm_runtime) (1.7.3)\n",
            "Requirement already satisfied: retworkx>=0.11.0 in /usr/local/lib/python3.7/dist-packages (from qiskit-terra>=0.20.0->qiskit_ibm_runtime) (0.11.0)\n",
            "Requirement already satisfied: python-constraint>=1.4 in /usr/local/lib/python3.7/dist-packages (from qiskit-terra>=0.20.0->qiskit_ibm_runtime) (1.4.0)\n",
            "Requirement already satisfied: certifi>=2017.4.17 in /usr/local/lib/python3.7/dist-packages (from requests>=2.19->qiskit_ibm_runtime) (2021.10.8)\n",
            "Requirement already satisfied: idna<4,>=2.5 in /usr/local/lib/python3.7/dist-packages (from requests>=2.19->qiskit_ibm_runtime) (2.10)\n",
            "Requirement already satisfied: charset-normalizer~=2.0.0 in /usr/local/lib/python3.7/dist-packages (from requests>=2.19->qiskit_ibm_runtime) (2.0.12)\n",
            "Requirement already satisfied: cryptography>=1.3 in /usr/local/lib/python3.7/dist-packages (from requests-ntlm>=1.1.0->qiskit_ibm_runtime) (37.0.2)\n",
            "Requirement already satisfied: ntlm-auth>=1.0.2 in /usr/local/lib/python3.7/dist-packages (from requests-ntlm>=1.1.0->qiskit_ibm_runtime) (1.5.0)\n",
            "Requirement already satisfied: cffi>=1.12 in /usr/local/lib/python3.7/dist-packages (from cryptography>=1.3->requests-ntlm>=1.1.0->qiskit_ibm_runtime) (1.15.0)\n",
            "Requirement already satisfied: pycparser in /usr/local/lib/python3.7/dist-packages (from cffi>=1.12->cryptography>=1.3->requests-ntlm>=1.1.0->qiskit_ibm_runtime) (2.21)\n",
            "Requirement already satisfied: pbr!=2.1.0,>=2.0.0 in /usr/local/lib/python3.7/dist-packages (from stevedore>=3.0.0->qiskit-terra>=0.20.0->qiskit_ibm_runtime) (5.9.0)\n",
            "Requirement already satisfied: importlib-metadata>=1.7.0 in /usr/local/lib/python3.7/dist-packages (from stevedore>=3.0.0->qiskit-terra>=0.20.0->qiskit_ibm_runtime) (4.11.3)\n",
            "Requirement already satisfied: zipp>=0.5 in /usr/local/lib/python3.7/dist-packages (from importlib-metadata>=1.7.0->stevedore>=3.0.0->qiskit-terra>=0.20.0->qiskit_ibm_runtime) (3.8.0)\n",
            "Requirement already satisfied: mpmath>=0.19 in /usr/local/lib/python3.7/dist-packages (from sympy>=1.3->qiskit-terra>=0.20.0->qiskit_ibm_runtime) (1.2.1)\n",
            "Building wheels for collected packages: ibm-platform-services, ibm-cloud-sdk-core\n",
            "  Building wheel for ibm-platform-services (setup.py) ... \u001b[?25l\u001b[?25hdone\n",
            "  Created wheel for ibm-platform-services: filename=ibm_platform_services-0.24.1-py3-none-any.whl size=257759 sha256=7d0c90638cb070ade3b36b336b6b7efb410adb219688091cce93b2703c1735ab\n",
            "  Stored in directory: /root/.cache/pip/wheels/39/80/af/0d26d420aeef1beb7fbe475ff282fcee03f0d9c5d08945ad44\n",
            "  Building wheel for ibm-cloud-sdk-core (setup.py) ... \u001b[?25l\u001b[?25hdone\n",
            "  Created wheel for ibm-cloud-sdk-core: filename=ibm_cloud_sdk_core-3.15.1-py3-none-any.whl size=83648 sha256=f04b84500db9181a55cc9bbc1088a11c95317295e51af0e99ba60150f4a01017\n",
            "  Stored in directory: /root/.cache/pip/wheels/ba/7a/ac/408ba6a1438ea293164dbf26483b13a72165894a31e914b5e6\n",
            "Successfully built ibm-platform-services ibm-cloud-sdk-core\n",
            "Installing collected packages: urllib3, requests, PyJWT, ibm-cloud-sdk-core, ibm-platform-services, qiskit-ibm-runtime\n",
            "  Attempting uninstall: urllib3\n",
            "    Found existing installation: urllib3 1.24.3\n",
            "    Uninstalling urllib3-1.24.3:\n",
            "      Successfully uninstalled urllib3-1.24.3\n",
            "  Attempting uninstall: requests\n",
            "    Found existing installation: requests 2.23.0\n",
            "    Uninstalling requests-2.23.0:\n",
            "      Successfully uninstalled requests-2.23.0\n",
            "\u001b[31mERROR: pip's dependency resolver does not currently take into account all the packages that are installed. This behaviour is the source of the following dependency conflicts.\n",
            "google-colab 1.0.0 requires requests~=2.23.0, but you have requests 2.27.1 which is incompatible.\n",
            "datascience 0.10.6 requires folium==0.2.1, but you have folium 0.8.3 which is incompatible.\u001b[0m\n",
            "Successfully installed PyJWT-2.4.0 ibm-cloud-sdk-core-3.15.1 ibm-platform-services-0.24.1 qiskit-ibm-runtime-0.4.0 requests-2.27.1 urllib3-1.26.9\n"
          ]
        }
      ],
      "source": [
        "!pip install qiskit_ibm_runtime"
      ]
    },
    {
      "cell_type": "code",
      "execution_count": null,
      "metadata": {
        "id": "hnz7aC0qtiVd"
      },
      "outputs": [],
      "source": [
        "from qiskit import QuantumCircuit, QuantumRegister, ClassicalRegister, IBMQ, execute, transpile, Aer, assemble\n",
        "from qiskit.tools.monitor import job_monitor\n",
        "\n",
        "## Diego's token\n",
        "TOKEN = '6d2fce5f8e30428840130bd3d576edf3571be02e4d12be8cdd08c7b102699a1931a8fd93be9472b020978fb0fe33d48e2521340e91ea04c0e3c1930cdfbcacf7'"
      ]
    },
    {
      "cell_type": "code",
      "execution_count": null,
      "metadata": {
        "id": "bXXNxLQQTmAs"
      },
      "outputs": [],
      "source": [
        "from qiskit import IBMQ\n",
        "\n",
        "IBMQ.save_account(TOKEN, overwrite=True) \n",
        "provider = IBMQ.load_account()\n",
        "device = provider.get_backend(\"ibmq_santiago\")"
      ]
    },
    {
      "cell_type": "code",
      "execution_count": null,
      "metadata": {
        "colab": {
          "base_uri": "https://localhost:8080/"
        },
        "id": "jH5-Bi-Rukh1",
        "outputId": "5c52c539-e3d6-407d-c6f5-a93bc491bc77"
      },
      "outputs": [
        {
          "output_type": "stream",
          "name": "stdout",
          "text": [
            "\n",
            "Here is the list of cloud backends that are available to you:\n",
            "ibmq_qasm_simulator\n",
            "ibmq_armonk\n",
            "ibmq_santiago\n",
            "ibmq_bogota\n",
            "ibmq_lima\n",
            "ibmq_belem\n",
            "ibmq_quito\n",
            "simulator_statevector\n",
            "simulator_mps\n",
            "simulator_extended_stabilizer\n",
            "simulator_stabilizer\n",
            "ibmq_manila\n"
          ]
        }
      ],
      "source": [
        "available_cloud_backends = provider.backends() \n",
        "print('\\nHere is the list of cloud backends that are available to you:')\n",
        "for i in available_cloud_backends: print(i)"
      ]
    },
    {
      "cell_type": "markdown",
      "metadata": {
        "id": "_8KKTnhhWcrV"
      },
      "source": [
        "## Qiskit Runtime"
      ]
    },
    {
      "cell_type": "code",
      "execution_count": null,
      "metadata": {
        "id": "CVMZE3HKh3zb"
      },
      "outputs": [],
      "source": [
        "from qiskit_ibm_runtime import QiskitRuntimeService, Sampler\n",
        "\n",
        "# Save your credentials on disk.\n",
        "QiskitRuntimeService.save_account(channel='ibm_quantum', token=TOKEN)\n",
        "\n",
        "service = QiskitRuntimeService()"
      ]
    },
    {
      "cell_type": "code",
      "execution_count": null,
      "metadata": {
        "id": "cveXYZoPbb3B"
      },
      "outputs": [],
      "source": [
        "# gamma = [2**-7]\n",
        "# dim = 4\n",
        "# num_exps = 1   \n",
        "\n",
        "# feature_map_fourier = RBFSampler(gamma=gamma[0], n_components=dim)\n",
        "# feature_map_fourier.fit(X_train)\n",
        "\n",
        "# rffmap = QFeatureMap_rff(rbf_sampler=feature_map_fourier)\n",
        "# X_feat_train = rffmap.batch2wf(X_train)\n",
        "# X_feat_val = rffmap.batch2wf(X_val)\n",
        "# X_feat_test = rffmap.batch2wf(X_test)\n"
      ]
    },
    {
      "cell_type": "code",
      "execution_count": null,
      "metadata": {
        "id": "L_ShpGx3QHnh"
      },
      "outputs": [],
      "source": [
        "# print(X_feat_train.shape)\n",
        "# print(X_feat_val.shape)\n",
        "# print(X_feat_test.shape)"
      ]
    },
    {
      "cell_type": "markdown",
      "metadata": {
        "id": "ZdoC3A8tMmr4"
      },
      "source": [
        "## Mixed 4x4"
      ]
    },
    {
      "cell_type": "markdown",
      "source": [
        "### Validation"
      ],
      "metadata": {
        "id": "FpzUShI97ffl"
      }
    },
    {
      "cell_type": "code",
      "execution_count": null,
      "metadata": {
        "id": "67DLd0XdMmLC"
      },
      "outputs": [],
      "source": [
        "from qiskit import transpile\n",
        "\n",
        "eigvals, U = mixed_state(X_feat_train)\n",
        "\n",
        "qclist_rff_mixed_val = []\n",
        "\n",
        "for i in range(len(X_feat_val)): \n",
        "    qc = QuantumCircuit(4, 2)\n",
        "\n",
        "    qc.initialize(X_feat_val[i], [0, 1])\n",
        "    qc.initialize(np.sqrt(eigvals), [2, 3])\n",
        "    qc.isometry(U.T, [], [0, 1]) \n",
        "\n",
        "    qc.cnot(3, 1)\n",
        "    qc.cnot(2, 0)\n",
        "\n",
        "    qc.measure(0, 0)\n",
        "    qc.measure(1, 1)\n",
        "\n",
        "    qclist_rff_mixed_val.append(transpile(qc, device))"
      ]
    },
    {
      "cell_type": "code",
      "execution_count": null,
      "metadata": {
        "id": "H4crwfDXA_-g"
      },
      "outputs": [],
      "source": [
        "indices_rff = list(range(123))\n",
        "\n",
        "with Sampler(circuits=qclist_rff_mixed_val[0:123], service=service, options={ \"backend\": \"ibmq_santiago\" }) as sampler:\n",
        "    result = sampler(circuit_indices=indices_rff, shots=5000)\n",
        "    dists = result.quasi_dists\n",
        "\n",
        "results_rff_mixed_val1 = [dists[i]['00'] for i in range(len(dists))]"
      ]
    },
    {
      "cell_type": "code",
      "source": [
        "print(results_rff_mixed_val1)"
      ],
      "metadata": {
        "id": "y62M_4Jlztvt"
      },
      "execution_count": null,
      "outputs": []
    },
    {
      "cell_type": "code",
      "source": [
        "np.save(\"/content/drive/MyDrive/TesisMaestria/ResearchData/results_aff_mixed_val1_expsantiago.npy\", results_rff_mixed_val1)\n"
      ],
      "metadata": {
        "id": "SZgE1DL580vQ"
      },
      "execution_count": null,
      "outputs": []
    },
    {
      "cell_type": "code",
      "execution_count": null,
      "metadata": {
        "id": "wgHi77p9A_-i"
      },
      "outputs": [],
      "source": [
        "indices_rff = list(range(123))\n",
        "\n",
        "with Sampler(circuits=qclist_rff_mixed_val[123:246], service=service, options={ \"backend\": \"ibmq_santiago\" }) as sampler:\n",
        "    result = sampler(circuit_indices=indices_rff, shots=5000)\n",
        "    dists = result.quasi_dists\n",
        "\n",
        "results_rff_mixed_val2 = [dists[i]['00'] for i in range(len(dists))]"
      ]
    },
    {
      "cell_type": "code",
      "source": [
        "print(results_rff_mixed_val2)"
      ],
      "metadata": {
        "id": "KradzsVHSBDx"
      },
      "execution_count": null,
      "outputs": []
    },
    {
      "cell_type": "code",
      "source": [
        "np.save(\"/content/drive/MyDrive/TesisMaestria/ResearchData/results_aff_mixed_val2_expsantiago.npy\", results_rff_mixed_val2)\n"
      ],
      "metadata": {
        "id": "5qWqTRXfSBDz"
      },
      "execution_count": null,
      "outputs": []
    },
    {
      "cell_type": "code",
      "source": [
        "indices_rff = list(range(120))\n",
        "\n",
        "with Sampler(circuits=qclist_rff_mixed_val[246:], service=service, options={ \"backend\": \"ibmq_santiago\" }) as sampler:\n",
        "    result = sampler(circuit_indices=indices_rff, shots=5000)\n",
        "    dists = result.quasi_dists\n",
        "\n",
        "results_rff_mixed_val3 = [dists[i]['00'] for i in range(len(dists))]"
      ],
      "metadata": {
        "id": "xYMcIjL1-m_u"
      },
      "execution_count": null,
      "outputs": []
    },
    {
      "cell_type": "code",
      "source": [
        "print(results_rff_mixed_val3)"
      ],
      "metadata": {
        "id": "eOqLDZIGSIix"
      },
      "execution_count": null,
      "outputs": []
    },
    {
      "cell_type": "code",
      "source": [
        "np.save(\"/content/drive/MyDrive/TesisMaestria/ResearchData/results_aff_mixed_val3_expsantiago.npy\", results_rff_mixed_val3)"
      ],
      "metadata": {
        "id": "YUCtxH8ASIiy"
      },
      "execution_count": null,
      "outputs": []
    },
    {
      "cell_type": "code",
      "source": [
        "#results_rff_mixed_val1 = np.load(\"/content/drive/MyDrive/TesisMaestria/ResearchData/results_aff_mixed_val1_exp2.npy\")"
      ],
      "metadata": {
        "id": "DtQnvvjSav32"
      },
      "execution_count": null,
      "outputs": []
    },
    {
      "cell_type": "code",
      "source": [
        "results_rff_mixed_val = np.concatenate((results_rff_mixed_val1, results_rff_mixed_val2, results_rff_mixed_val3), axis=0)\n",
        "\n",
        "thredhold_mixed = np.percentile(results_rff_mixed_val, q = 9.54)\n",
        "print(thredhold_mixed)"
      ],
      "metadata": {
        "id": "37KA98oV-0Ba"
      },
      "execution_count": null,
      "outputs": []
    },
    {
      "cell_type": "markdown",
      "source": [
        "### Test"
      ],
      "metadata": {
        "id": "fE7PMYtX_Jp6"
      }
    },
    {
      "cell_type": "code",
      "execution_count": null,
      "metadata": {
        "id": "9qEPpT7h_Ocq"
      },
      "outputs": [],
      "source": [
        "from qiskit import transpile\n",
        "\n",
        "eigvals, U = mixed_state(X_feat_train)\n",
        "\n",
        "qclist_rff_mixed_test = []\n",
        "\n",
        "for i in range(len(X_feat_test)): \n",
        "    qc = QuantumCircuit(4, 2)\n",
        "\n",
        "    qc.initialize(X_feat_test[i], [0, 1])\n",
        "    qc.initialize(np.sqrt(eigvals), [2, 3])\n",
        "    qc.isometry(U.T, [], [0, 1]) \n",
        "\n",
        "    qc.cnot(3, 1)\n",
        "    qc.cnot(2, 0)\n",
        "\n",
        "    qc.measure(0, 0)\n",
        "    qc.measure(1, 1)\n",
        "\n",
        "    qclist_rff_mixed_test.append(transpile(qc, device))"
      ]
    },
    {
      "cell_type": "code",
      "execution_count": null,
      "metadata": {
        "id": "aRN74fHW_Oct"
      },
      "outputs": [],
      "source": [
        "indices_rff = list(range(123))\n",
        "\n",
        "with Sampler(circuits=qclist_rff_mixed_test[0:123], service=service, options={ \"backend\": \"ibmq_santiago\" }) as sampler:\n",
        "    result = sampler(circuit_indices=indices_rff, shots=5000)\n",
        "    dists = result.quasi_dists\n",
        "\n",
        "results_rff_mixed_test1 = [dists[i]['00'] for i in range(len(dists))]"
      ]
    },
    {
      "cell_type": "code",
      "source": [
        "print(results_rff_mixed_test1)"
      ],
      "metadata": {
        "id": "jkRO6tCuVrJI",
        "colab": {
          "base_uri": "https://localhost:8080/"
        },
        "outputId": "0435c7f4-ebd3-4481-abf3-39eefa0eeb6b"
      },
      "execution_count": null,
      "outputs": [
        {
          "output_type": "stream",
          "name": "stdout",
          "text": [
            "[0.4674, 0.4512, 0.4388, 0.4386, 0.479, 0.4704, 0.435, 0.508, 0.4784, 0.2928, 0.275, 0.533, 0.4608, 0.4926, 0.4262, 0.4028, 0.5068, 0.4834, 0.389, 0.4574, 0.5352, 0.4538, 0.5162, 0.4556, 0.4476, 0.4472, 0.4856, 0.4918, 0.5008, 0.5128, 0.508, 0.4012, 0.5146, 0.4862, 0.465, 0.4312, 0.3586, 0.523, 0.4718, 0.4566, 0.4142, 0.4816, 0.5094, 0.465, 0.4208, 0.481, 0.507, 0.4982, 0.493, 0.4208, 0.1746, 0.3584, 0.5012, 0.4504, 0.5152, 0.4776, 0.3886, 0.3882, 0.4842, 0.4482, 0.5036, 0.4836, 0.4944, 0.4668, 0.4858, 0.3856, 0.4086, 0.4744, 0.4708, 0.4494, 0.528, 0.4388, 0.5018, 0.4264, 0.4724, 0.2852, 0.5062, 0.4498, 0.481, 0.393, 0.4536, 0.4616, 0.4934, 0.171, 0.4334, 0.437, 0.1792, 0.498, 0.4924, 0.5018, 0.4418, 0.4366, 0.4778, 0.4198, 0.5106, 0.3264, 0.353, 0.4802, 0.4368, 0.51, 0.4918, 0.5056, 0.454, 0.3782, 0.4916, 0.413, 0.4798, 0.3882, 0.206, 0.4342, 0.4068, 0.3678, 0.4994, 0.3352, 0.4132, 0.3272, 0.4308, 0.4254, 0.457, 0.517, 0.4774, 0.3888, 0.494]\n"
          ]
        }
      ]
    },
    {
      "cell_type": "code",
      "source": [
        "np.save(\"/content/drive/MyDrive/TesisMaestria/ResearchData/results_aff_mixed_test1_expsantiago.npy\", results_rff_mixed_test1)\n"
      ],
      "metadata": {
        "id": "pIe5bzWgVrJJ"
      },
      "execution_count": null,
      "outputs": []
    },
    {
      "cell_type": "code",
      "execution_count": null,
      "metadata": {
        "id": "20S-0TAX_Ocv"
      },
      "outputs": [],
      "source": [
        "indices_rff = list(range(122))\n",
        "\n",
        "with Sampler(circuits=qclist_rff_mixed_test[123:245], service=service, options={ \"backend\": \"ibmq_santiago\" }) as sampler:\n",
        "    result = sampler(circuit_indices=indices_rff, shots=5000)\n",
        "    dists = result.quasi_dists\n",
        "\n",
        "results_rff_mixed_test2 = [dists[i]['00'] for i in range(len(dists))]"
      ]
    },
    {
      "cell_type": "code",
      "source": [
        "print(results_rff_mixed_test2)"
      ],
      "metadata": {
        "id": "Wk3nNdOrV5me",
        "colab": {
          "base_uri": "https://localhost:8080/"
        },
        "outputId": "7035ad02-6745-4e59-82e1-fb808913b97d"
      },
      "execution_count": null,
      "outputs": [
        {
          "output_type": "stream",
          "name": "stdout",
          "text": [
            "[0.4462, 0.3502, 0.385, 0.5154, 0.4694, 0.491, 0.4852, 0.328, 0.524, 0.4944, 0.4992, 0.4832, 0.4468, 0.503, 0.3696, 0.4832, 0.3798, 0.504, 0.4226, 0.4808, 0.4038, 0.5082, 0.3794, 0.5102, 0.4654, 0.4382, 0.4212, 0.4948, 0.4542, 0.492, 0.4928, 0.3774, 0.3572, 0.4456, 0.4918, 0.477, 0.3592, 0.4994, 0.4848, 0.5238, 0.3844, 0.4916, 0.4572, 0.5072, 0.46, 0.4438, 0.1962, 0.4334, 0.3138, 0.2218, 0.233, 0.4448, 0.5082, 0.475, 0.4564, 0.4814, 0.513, 0.5044, 0.475, 0.4416, 0.5042, 0.5052, 0.191, 0.4494, 0.405, 0.4454, 0.5304, 0.4446, 0.4478, 0.4412, 0.4724, 0.357, 0.456, 0.405, 0.4906, 0.3726, 0.5172, 0.4422, 0.5178, 0.4574, 0.3802, 0.5022, 0.515, 0.5076, 0.5218, 0.4836, 0.4866, 0.4774, 0.5264, 0.403, 0.4834, 0.4796, 0.453, 0.467, 0.5018, 0.51, 0.4844, 0.3158, 0.495, 0.5034, 0.4834, 0.5296, 0.4192, 0.357, 0.4654, 0.4792, 0.5146, 0.4498, 0.4636, 0.4994, 0.4864, 0.4466, 0.4498, 0.5148, 0.5128, 0.4734, 0.4114, 0.464, 0.4592, 0.5036, 0.5058, 0.4564]\n"
          ]
        }
      ]
    },
    {
      "cell_type": "code",
      "source": [
        "np.save(\"/content/drive/MyDrive/TesisMaestria/ResearchData/results_aff_mixed_test2_expsantiago.npy\", results_rff_mixed_test2)\n"
      ],
      "metadata": {
        "id": "4ZC74ahcV5mj"
      },
      "execution_count": null,
      "outputs": []
    },
    {
      "cell_type": "code",
      "source": [
        "indices_rff = list(range(122))\n",
        "\n",
        "with Sampler(circuits=qclist_rff_mixed_test[245:], service=service, options={ \"backend\": \"ibmq_santiago\" }) as sampler:\n",
        "    result = sampler(circuit_indices=indices_rff, shots=5000)\n",
        "    dists = result.quasi_dists\n",
        "\n",
        "results_rff_mixed_test3 = [dists[i]['00'] for i in range(len(dists))]"
      ],
      "metadata": {
        "id": "8Ny59Fg-_Ocv"
      },
      "execution_count": null,
      "outputs": []
    },
    {
      "cell_type": "code",
      "source": [
        "print(results_rff_mixed_test3)"
      ],
      "metadata": {
        "id": "u-A8znoZWCZs",
        "colab": {
          "base_uri": "https://localhost:8080/"
        },
        "outputId": "70d94f94-e212-4a42-dbcf-dea43e7a1e87"
      },
      "execution_count": null,
      "outputs": [
        {
          "output_type": "stream",
          "name": "stdout",
          "text": [
            "[0.4896, 0.5134, 0.197, 0.526, 0.4332, 0.4912, 0.5016, 0.4278, 0.4612, 0.4932, 0.4948, 0.4852, 0.4724, 0.499, 0.4946, 0.4796, 0.4186, 0.4538, 0.4666, 0.4908, 0.3386, 0.543, 0.4456, 0.4898, 0.5292, 0.4858, 0.4926, 0.3978, 0.4222, 0.3182, 0.5114, 0.3302, 0.47, 0.4328, 0.507, 0.4304, 0.4234, 0.4744, 0.4628, 0.4646, 0.4642, 0.4866, 0.4844, 0.4862, 0.353, 0.4756, 0.4688, 0.4388, 0.325, 0.4524, 0.3374, 0.4926, 0.486, 0.4604, 0.5, 0.4576, 0.4342, 0.483, 0.4138, 0.4966, 0.4988, 0.4854, 0.5114, 0.5356, 0.4074, 0.4802, 0.4212, 0.4802, 0.3256, 0.4228, 0.5416, 0.4866, 0.4564, 0.4998, 0.479, 0.3906, 0.4252, 0.4082, 0.461, 0.5048, 0.5472, 0.496, 0.4892, 0.4756, 0.4374, 0.4518, 0.4196, 0.4602, 0.4914, 0.4916, 0.507, 0.2308, 0.504, 0.4356, 0.4632, 0.4306, 0.4912, 0.3596, 0.4824, 0.4714, 0.3742, 0.524, 0.4734, 0.4668, 0.5072, 0.4592, 0.454, 0.4606, 0.2028, 0.516, 0.4764, 0.4934, 0.522, 0.4076, 0.3982, 0.5002, 0.4816, 0.3522, 0.4836, 0.4436, 0.4326, 0.5028]\n"
          ]
        }
      ]
    },
    {
      "cell_type": "code",
      "source": [
        "np.save(\"/content/drive/MyDrive/TesisMaestria/ResearchData/results_aff_mixed_test3_expsantiago.npy\", results_rff_mixed_test3)\n"
      ],
      "metadata": {
        "id": "c5cgjlZpWCZs"
      },
      "execution_count": null,
      "outputs": []
    },
    {
      "cell_type": "code",
      "execution_count": null,
      "metadata": {
        "id": "fCJTNgG-A_-i",
        "colab": {
          "base_uri": "https://localhost:8080/"
        },
        "outputId": "a470a03a-a84e-4083-c8e0-1682666dbb65"
      },
      "outputs": [
        {
          "output_type": "stream",
          "name": "stdout",
          "text": [
            "              precision    recall  f1-score   support\n",
            "\n",
            "         0.0     0.5946    0.6286    0.6111        35\n",
            "         1.0     0.9606    0.9548    0.9577       332\n",
            "\n",
            "    accuracy                         0.9237       367\n",
            "   macro avg     0.7776    0.7917    0.7844       367\n",
            "weighted avg     0.9257    0.9237    0.9247       367\n",
            "\n"
          ]
        }
      ],
      "source": [
        "results_rff_mixed_test = np.concatenate((results_rff_mixed_test1, results_rff_mixed_test2, results_rff_mixed_test3), axis=0)\n",
        "y_pred_mixed = results_rff_mixed_test > thredhold_mixed\n",
        "\n",
        "print(classification_report(y_test, y_pred_mixed, digits=4))\n"
      ]
    },
    {
      "cell_type": "code",
      "source": [
        "len(results_rff_mixed_val)"
      ],
      "metadata": {
        "id": "i7vUl1eWhDNk",
        "colab": {
          "base_uri": "https://localhost:8080/"
        },
        "outputId": "797aa9e8-edc0-4af7-f5cd-60182972a223"
      },
      "execution_count": null,
      "outputs": [
        {
          "output_type": "execute_result",
          "data": {
            "text/plain": [
              "366"
            ]
          },
          "metadata": {},
          "execution_count": 42
        }
      ]
    },
    {
      "cell_type": "code",
      "source": [
        "print(f\"AUC = {round(roc_auc_score(y_test, results_rff_mixed_test), 4)}\")"
      ],
      "metadata": {
        "id": "ge2nDDkCege0",
        "colab": {
          "base_uri": "https://localhost:8080/"
        },
        "outputId": "99be08e9-a61e-473b-cc4b-c3a393c32a31"
      },
      "execution_count": null,
      "outputs": [
        {
          "output_type": "stream",
          "name": "stdout",
          "text": [
            "AUC = 0.9418\n"
          ]
        }
      ]
    },
    {
      "cell_type": "markdown",
      "source": [
        "## Pure 4x4"
      ],
      "metadata": {
        "id": "ydAKrDUcTzov"
      }
    },
    {
      "cell_type": "markdown",
      "source": [
        "### Validation"
      ],
      "metadata": {
        "id": "XoRvQzvJ_z3A"
      }
    },
    {
      "cell_type": "code",
      "source": [
        "U_pure = pure_state(X_feat_train)\n",
        "\n",
        "qclist_rff_pure_val = []\n",
        "\n",
        "for i in range(len(X_feat_val)): \n",
        "    qc = QuantumCircuit(2, 2)\n",
        "\n",
        "    qc.initialize(X_feat_val[i], [0, 1])\n",
        "    qc.isometry(U_pure.T, [], [0, 1]) # ArbRot as a isometry\n",
        "\n",
        "    qc.measure(0, 0)\n",
        "    qc.measure(1, 1)\n",
        "\n",
        "    qclist_rff_pure_val.append(transpile(qc, device))"
      ],
      "metadata": {
        "id": "7xA7pNGVT3GT"
      },
      "execution_count": null,
      "outputs": []
    },
    {
      "cell_type": "code",
      "execution_count": null,
      "metadata": {
        "id": "SWqipa-d_yBy"
      },
      "outputs": [],
      "source": [
        "indices_rff = list(range(123))\n",
        "\n",
        "with Sampler(circuits=qclist_rff_pure_val[0:123], service=service, options={ \"backend\": \"ibmq_santiago\" }) as sampler:\n",
        "    result = sampler(circuit_indices=indices_rff, shots=5000)\n",
        "    dists = result.quasi_dists\n",
        "\n",
        "results_rff_pure_val1 = [dists[i]['00'] for i in range(len(dists))]"
      ]
    },
    {
      "cell_type": "code",
      "source": [
        "print(results_rff_pure_val1)"
      ],
      "metadata": {
        "colab": {
          "base_uri": "https://localhost:8080/"
        },
        "outputId": "7a8c1f4c-6814-4cde-c550-92b8b17f7ac2",
        "id": "EW203QBMe7Bu"
      },
      "execution_count": null,
      "outputs": [
        {
          "output_type": "stream",
          "name": "stdout",
          "text": [
            "[0.6352, 0.5564, 0.864, 0.835, 0.755, 0.6778, 0.6642, 0.7418, 0.7996, 0.7664, 0.5344, 0.6318, 0.5644, 0.769, 0.4744, 0.5574, 0.8002, 0.9046, 0.7884, 0.8532, 0.7352, 0.7868, 0.8772, 0.7264, 0.8074, 0.8292, 0.8938, 0.6574, 0.6384, 0.8156, 0.7966, 0.8298, 0.8114, 0.696, 0.7102, 0.143, 0.7108, 0.8746, 0.529, 0.7596, 0.7668, 0.6298, 0.8106, 0.7836, 0.7054, 0.8538, 0.5936, 0.6678, 0.808, 0.81, 0.397, 0.8758, 0.8318, 0.5674, 0.4604, 0.7274, 0.7498, 0.6346, 0.7346, 0.7748, 0.626, 0.5034, 0.7552, 0.6828, 0.7712, 0.7658, 0.8286, 0.6576, 0.8534, 0.6206, 0.5278, 0.755, 0.6252, 0.7444, 0.408, 0.8788, 0.5934, 0.8036, 0.7028, 0.4604, 0.6946, 0.7444, 0.7998, 0.8344, 0.601, 0.456, 0.6384, 0.8636, 0.1066, 0.7148, 0.7172, 0.4164, 0.7418, 0.4896, 0.7238, 0.868, 0.696, 0.8994, 0.7922, 0.7566, 0.0526, 0.8816, 0.8376, 0.7868, 0.841, 0.7802, 0.7346, 0.2878, 0.7154, 0.7742, 0.129, 0.449, 0.867, 0.716, 0.8658, 0.4418, 0.7382, 0.6948, 0.6378, 0.7748, 0.8214, 0.8918, 0.7022]\n"
          ]
        }
      ]
    },
    {
      "cell_type": "code",
      "source": [
        "np.save(\"/content/drive/MyDrive/TesisMaestria/ResearchData/results_aff_pure_val1_expsantiago.npy\", results_rff_pure_val1)\n"
      ],
      "metadata": {
        "id": "jj32u3SOe7B7"
      },
      "execution_count": null,
      "outputs": []
    },
    {
      "cell_type": "code",
      "execution_count": null,
      "metadata": {
        "id": "tdLALtAV_yB0"
      },
      "outputs": [],
      "source": [
        "indices_rff = list(range(123))\n",
        "\n",
        "with Sampler(circuits=qclist_rff_pure_val[123:246], service=service, options={ \"backend\": \"ibmq_santiago\" }) as sampler:\n",
        "    result = sampler(circuit_indices=indices_rff, shots=5000)\n",
        "    dists = result.quasi_dists\n",
        "\n",
        "results_rff_pure_val2 = [dists[i]['00'] for i in range(len(dists))]"
      ]
    },
    {
      "cell_type": "code",
      "source": [
        "print(results_rff_pure_val2)"
      ],
      "metadata": {
        "colab": {
          "base_uri": "https://localhost:8080/"
        },
        "outputId": "6160ebbe-1450-491a-8b52-1f138d64a1fc",
        "id": "ihLadiIbfFHs"
      },
      "execution_count": null,
      "outputs": [
        {
          "output_type": "stream",
          "name": "stdout",
          "text": [
            "[0.8464, 0.8072, 0.7514, 0.7708, 0.8294, 0.7574, 0.7882, 0.5602, 0.8812, 0.8764, 0.7404, 0.6654, 0.8334, 0.8094, 0.412, 0.329, 0.46, 0.7778, 0.7842, 0.8736, 0.523, 0.7476, 0.8144, 0.0894, 0.8038, 0.772, 0.4614, 0.7428, 0.7208, 0.547, 0.7306, 0.8202, 0.601, 0.572, 0.8832, 0.8474, 0.8066, 0.7862, 0.242, 0.7216, 0.7348, 0.5972, 0.8326, 0.7808, 0.769, 0.8382, 0.7884, 0.7196, 0.8236, 0.89, 0.8148, 0.6676, 0.799, 0.8356, 0.3034, 0.7392, 0.8328, 0.626, 0.7964, 0.7388, 0.7566, 0.8648, 0.84, 0.849, 0.7714, 0.8376, 0.281, 0.6734, 0.8152, 0.7772, 0.0378, 0.742, 0.5692, 0.7162, 0.8404, 0.5616, 0.791, 0.768, 0.653, 0.8342, 0.7378, 0.7924, 0.5956, 0.7952, 0.8412, 0.6106, 0.5334, 0.7244, 0.5296, 0.866, 0.8188, 0.8768, 0.7538, 0.8022, 0.8302, 0.8854, 0.7858, 0.839, 0.783, 0.7978, 0.626, 0.822, 0.8666, 0.4556, 0.6882, 0.7796, 0.8358, 0.706, 0.7974, 0.541, 0.8216, 0.5108, 0.8486, 0.8958, 0.6492, 0.6568, 0.7388, 0.8666, 0.7572, 0.5338, 0.4968, 0.849, 0.9112]\n"
          ]
        }
      ]
    },
    {
      "cell_type": "code",
      "source": [
        "np.save(\"/content/drive/MyDrive/TesisMaestria/ResearchData/results_aff_pure_val2_expsantiago.npy\", results_rff_pure_val2)\n"
      ],
      "metadata": {
        "id": "wBMMMUJffFHt"
      },
      "execution_count": null,
      "outputs": []
    },
    {
      "cell_type": "code",
      "source": [
        "indices_rff = list(range(120))\n",
        "\n",
        "with Sampler(circuits=qclist_rff_pure_val[246:], service=service, options={ \"backend\": \"ibmq_santiago\" }) as sampler:\n",
        "    result = sampler(circuit_indices=indices_rff, shots=5000)\n",
        "    dists = result.quasi_dists\n",
        "\n",
        "results_rff_pure_val3 = [dists[i]['00'] for i in range(len(dists))]"
      ],
      "metadata": {
        "id": "m088iEij_yB2"
      },
      "execution_count": null,
      "outputs": []
    },
    {
      "cell_type": "code",
      "source": [
        "print(results_rff_pure_val3)"
      ],
      "metadata": {
        "colab": {
          "base_uri": "https://localhost:8080/"
        },
        "outputId": "3cb63743-5d89-40b2-9a6d-63ad4fd3071f",
        "id": "PnP7LnOLfOLK"
      },
      "execution_count": null,
      "outputs": [
        {
          "output_type": "stream",
          "name": "stdout",
          "text": [
            "[0.7266, 0.396, 0.7336, 0.8978, 0.7342, 0.7998, 0.8486, 0.7846, 0.7366, 0.7228, 0.795, 0.631, 0.7986, 0.7836, 0.8208, 0.5668, 0.8634, 0.8318, 0.8082, 0.7282, 0.8286, 0.7208, 0.8006, 0.835, 0.6964, 0.6018, 0.8222, 0.799, 0.7008, 0.7484, 0.4976, 0.4458, 0.7444, 0.688, 0.5154, 0.797, 0.8268, 0.7678, 0.636, 0.8872, 0.6012, 0.8022, 0.645, 0.783, 0.7204, 0.79, 0.589, 0.3416, 0.8842, 0.6976, 0.6058, 0.8878, 0.7504, 0.6642, 0.8926, 0.8536, 0.7676, 0.781, 0.8636, 0.8474, 0.75, 0.8376, 0.7184, 0.8168, 0.798, 0.6688, 0.6694, 0.6314, 0.801, 0.6836, 0.3018, 0.8726, 0.8044, 0.852, 0.6564, 0.7286, 0.6808, 0.6866, 0.6652, 0.7994, 0.5718, 0.8906, 0.851, 0.7322, 0.8296, 0.4448, 0.7964, 0.7824, 0.178, 0.7416, 0.8444, 0.8488, 0.741, 0.726, 0.56, 0.6858, 0.8522, 0.6522, 0.4512, 0.773, 0.4322, 0.8598, 0.6428, 0.8086, 0.8158, 0.6268, 0.8758, 0.6796, 0.173, 0.7964, 0.6668, 0.8592, 0.6784, 0.6624, 0.642, 0.7742, 0.7456, 0.6942, 0.7684, 0.6482]\n"
          ]
        }
      ]
    },
    {
      "cell_type": "code",
      "source": [
        "np.save(\"/content/drive/MyDrive/TesisMaestria/ResearchData/results_aff_pure_val3_expsantiago.npy\", results_rff_pure_val3)\n"
      ],
      "metadata": {
        "id": "mLN5Cs_wfOLL"
      },
      "execution_count": null,
      "outputs": []
    },
    {
      "cell_type": "code",
      "source": [
        "results_rff_pure_val = np.concatenate((results_rff_pure_val1, results_rff_pure_val2, results_rff_pure_val3), axis=0)\n",
        "\n",
        "thredhold_pure = np.percentile(results_rff_pure_val, q = 9.54)\n",
        "print(thredhold_pure)"
      ],
      "metadata": {
        "id": "Gy4wSQiY_yB3",
        "colab": {
          "base_uri": "https://localhost:8080/"
        },
        "outputId": "07086787-5fed-49ee-9369-6d88a425eb60"
      },
      "execution_count": null,
      "outputs": [
        {
          "output_type": "stream",
          "name": "stdout",
          "text": [
            "0.4974568\n"
          ]
        }
      ]
    },
    {
      "cell_type": "markdown",
      "source": [
        "### Test"
      ],
      "metadata": {
        "id": "5ZTO6pMMAafb"
      }
    },
    {
      "cell_type": "code",
      "source": [
        "U_pure = pure_state(X_feat_train)\n",
        "\n",
        "qclist_rff_pure_test = []\n",
        "\n",
        "for i in range(len(X_feat_test)): \n",
        "    qc = QuantumCircuit(2, 2)\n",
        "\n",
        "    qc.initialize(X_feat_test[i], [0, 1])\n",
        "    qc.isometry(U_pure.T, [], [0, 1]) # ArbRot as a isometry\n",
        "\n",
        "    qc.measure(0, 0)\n",
        "    qc.measure(1, 1)\n",
        "\n",
        "    qclist_rff_pure_test.append(transpile(qc, device))"
      ],
      "metadata": {
        "id": "U8E1ktHSAjPj"
      },
      "execution_count": null,
      "outputs": []
    },
    {
      "cell_type": "code",
      "execution_count": null,
      "metadata": {
        "id": "O8wrhFB0A15l"
      },
      "outputs": [],
      "source": [
        "indices_rff = list(range(123))\n",
        "\n",
        "with Sampler(circuits=qclist_rff_pure_test[0:123], service=service, options={ \"backend\": \"ibmq_santiago\" }) as sampler:\n",
        "    result = sampler(circuit_indices=indices_rff, shots=5000)\n",
        "    dists = result.quasi_dists\n",
        "\n",
        "results_rff_pure_test1 = [dists[i]['00'] for i in range(len(dists))]"
      ]
    },
    {
      "cell_type": "code",
      "source": [
        "print(results_rff_pure_test1)"
      ],
      "metadata": {
        "colab": {
          "base_uri": "https://localhost:8080/"
        },
        "outputId": "01603e83-ffac-43ef-b4ab-b80cd69752b3",
        "id": "rDA--3VRf4tO"
      },
      "execution_count": null,
      "outputs": [
        {
          "output_type": "stream",
          "name": "stdout",
          "text": [
            "[0.786, 0.7204, 0.799, 0.7494, 0.8322, 0.8224, 0.7354, 0.8596, 0.8228, 0.3738, 0.3764, 0.914, 0.628, 0.8896, 0.6976, 0.7208, 0.8616, 0.839, 0.528, 0.7326, 0.9146, 0.7002, 0.863, 0.8234, 0.751, 0.7948, 0.8714, 0.8718, 0.8534, 0.8668, 0.8554, 0.609, 0.8814, 0.774, 0.784, 0.6546, 0.536, 0.8256, 0.8038, 0.7988, 0.7676, 0.805, 0.9086, 0.8392, 0.644, 0.759, 0.907, 0.768, 0.8372, 0.687, 0.0954, 0.4434, 0.8712, 0.7354, 0.8782, 0.8144, 0.651, 0.5516, 0.8546, 0.6838, 0.8126, 0.8588, 0.8236, 0.8166, 0.7866, 0.6048, 0.6018, 0.794, 0.7792, 0.812, 0.8842, 0.803, 0.892, 0.647, 0.8132, 0.2682, 0.8396, 0.714, 0.7708, 0.5488, 0.79, 0.7918, 0.7244, 0.1272, 0.6356, 0.8078, 0.05, 0.8106, 0.85, 0.8378, 0.6892, 0.7904, 0.8264, 0.7546, 0.8808, 0.4536, 0.5846, 0.8584, 0.6816, 0.862, 0.802, 0.857, 0.697, 0.5322, 0.8436, 0.6848, 0.7906, 0.6702, 0.1632, 0.7504, 0.602, 0.5506, 0.8326, 0.3718, 0.6862, 0.4496, 0.7478, 0.6564, 0.7204, 0.8938, 0.7806, 0.5522, 0.8172]\n"
          ]
        }
      ]
    },
    {
      "cell_type": "code",
      "source": [
        "np.save(\"/content/drive/MyDrive/TesisMaestria/ResearchData/results_aff_pure_test1_expsantiago.npy\", results_rff_pure_test1)\n"
      ],
      "metadata": {
        "id": "yxghSz44f4tp"
      },
      "execution_count": null,
      "outputs": []
    },
    {
      "cell_type": "code",
      "execution_count": null,
      "metadata": {
        "id": "nJ0B8r49A15o"
      },
      "outputs": [],
      "source": [
        "indices_rff = list(range(122))\n",
        "\n",
        "with Sampler(circuits=qclist_rff_pure_test[123:245], service=service, options={ \"backend\": \"ibmq_santiago\" }) as sampler:\n",
        "    result = sampler(circuit_indices=indices_rff, shots=5000)\n",
        "    dists = result.quasi_dists\n",
        "\n",
        "results_rff_pure_test2 = [dists[i]['00'] for i in range(len(dists))]"
      ]
    },
    {
      "cell_type": "code",
      "source": [
        "print(results_rff_pure_test2)"
      ],
      "metadata": {
        "colab": {
          "base_uri": "https://localhost:8080/"
        },
        "outputId": "8d01e1be-4378-415d-e328-c4bc4ae248cf",
        "id": "He35f_argBTL"
      },
      "execution_count": null,
      "outputs": [
        {
          "output_type": "stream",
          "name": "stdout",
          "text": [
            "[0.7874, 0.4892, 0.6582, 0.8128, 0.7826, 0.8212, 0.8274, 0.5742, 0.9216, 0.8056, 0.8448, 0.806, 0.711, 0.8374, 0.5396, 0.792, 0.5136, 0.8472, 0.6318, 0.8452, 0.6782, 0.8556, 0.645, 0.863, 0.6448, 0.6994, 0.71, 0.8038, 0.819, 0.8242, 0.8578, 0.6446, 0.4684, 0.704, 0.7834, 0.7322, 0.4596, 0.8456, 0.7924, 0.9028, 0.4608, 0.8924, 0.6868, 0.8712, 0.7732, 0.7706, 0.0866, 0.7178, 0.2858, 0.0846, 0.1648, 0.8022, 0.8124, 0.8432, 0.8232, 0.7154, 0.8328, 0.8706, 0.8176, 0.7124, 0.8634, 0.8468, 0.1028, 0.7448, 0.4732, 0.7302, 0.911, 0.6658, 0.7042, 0.6966, 0.7712, 0.481, 0.63, 0.6368, 0.8316, 0.4512, 0.8862, 0.7228, 0.9008, 0.8114, 0.5224, 0.7944, 0.885, 0.894, 0.847, 0.7998, 0.8414, 0.8386, 0.8866, 0.68, 0.8074, 0.804, 0.7076, 0.767, 0.8302, 0.9008, 0.7766, 0.4648, 0.8766, 0.8554, 0.8164, 0.9036, 0.5626, 0.4744, 0.8086, 0.8072, 0.9024, 0.7956, 0.8036, 0.7952, 0.7714, 0.8096, 0.7246, 0.8736, 0.906, 0.7978, 0.6616, 0.759, 0.7892, 0.878, 0.8294, 0.7244]\n"
          ]
        }
      ]
    },
    {
      "cell_type": "code",
      "source": [
        "np.save(\"/content/drive/MyDrive/TesisMaestria/ResearchData/results_aff_pure_test2_expsantiago.npy\", results_rff_pure_test2)\n"
      ],
      "metadata": {
        "id": "ckWlkBGbgBTL"
      },
      "execution_count": null,
      "outputs": []
    },
    {
      "cell_type": "code",
      "source": [
        "indices_rff = list(range(122))\n",
        "\n",
        "with Sampler(circuits=qclist_rff_pure_test[245:], service=service, options={ \"backend\": \"ibmq_santiago\" }) as sampler:\n",
        "    result = sampler(circuit_indices=indices_rff, shots=5000)\n",
        "    dists = result.quasi_dists\n",
        "\n",
        "results_rff_pure_test3 = [dists[i]['00'] for i in range(len(dists))]"
      ],
      "metadata": {
        "id": "FqPZAYAPA15q"
      },
      "execution_count": null,
      "outputs": []
    },
    {
      "cell_type": "code",
      "source": [
        "print(results_rff_pure_test3)"
      ],
      "metadata": {
        "colab": {
          "base_uri": "https://localhost:8080/"
        },
        "outputId": "695b5607-3adc-494c-b059-dbcd5cb79d78",
        "id": "QPh1d91TgI8Q"
      },
      "execution_count": null,
      "outputs": [
        {
          "output_type": "stream",
          "name": "stdout",
          "text": [
            "[0.8608, 0.8418, 0.126, 0.8796, 0.6782, 0.8436, 0.8262, 0.6708, 0.72, 0.8102, 0.8606, 0.8768, 0.8126, 0.8458, 0.8432, 0.7992, 0.7168, 0.7918, 0.7706, 0.827, 0.509, 0.902, 0.5986, 0.8152, 0.8768, 0.7946, 0.8608, 0.4862, 0.7112, 0.3604, 0.8682, 0.432, 0.8206, 0.7412, 0.7716, 0.6776, 0.619, 0.721, 0.7594, 0.7258, 0.7954, 0.8052, 0.8176, 0.8794, 0.6144, 0.7774, 0.789, 0.7168, 0.4406, 0.7964, 0.5354, 0.8398, 0.8182, 0.6886, 0.794, 0.7896, 0.7552, 0.758, 0.686, 0.799, 0.8692, 0.7298, 0.8332, 0.9172, 0.5752, 0.7388, 0.6612, 0.8006, 0.4918, 0.622, 0.9208, 0.7772, 0.7944, 0.815, 0.7856, 0.6628, 0.7058, 0.6574, 0.76, 0.838, 0.9016, 0.8276, 0.8562, 0.7968, 0.7818, 0.744, 0.7328, 0.8166, 0.8158, 0.8316, 0.8228, 0.141, 0.8442, 0.7624, 0.7244, 0.6336, 0.8388, 0.467, 0.8092, 0.7942, 0.5646, 0.8638, 0.836, 0.8518, 0.845, 0.7394, 0.764, 0.766, 0.1044, 0.8726, 0.842, 0.8272, 0.8858, 0.6766, 0.5222, 0.8254, 0.8554, 0.568, 0.7864, 0.7518, 0.6898, 0.831]\n"
          ]
        }
      ]
    },
    {
      "cell_type": "code",
      "source": [
        "np.save(\"/content/drive/MyDrive/TesisMaestria/ResearchData/results_aff_pure_test3_expsantiago.npy\", results_rff_pure_test3)\n"
      ],
      "metadata": {
        "id": "XZRppbAWgI8Q"
      },
      "execution_count": null,
      "outputs": []
    },
    {
      "cell_type": "code",
      "source": [
        "results_rff_pure_val1 = np.load(\"/content/drive/MyDrive/TesisMaestria/ResearchData/results_aff_pure_val1.npy\")\n",
        "results_rff_pure_val2 = np.load(\"/content/drive/MyDrive/TesisMaestria/ResearchData/results_aff_pure_val2.npy\")\n",
        "results_rff_pure_val3 =  np.load(\"/content/drive/MyDrive/TesisMaestria/ResearchData/results_aff_pure_val3.npy\")\n",
        "\n",
        "results_rff_pure_val1 = np.sqrt(results_rff_pure_val1)\n",
        "results_rff_pure_val2 = np.sqrt(results_rff_pure_val2)\n",
        "results_rff_pure_val3 = np.sqrt(results_rff_pure_val3)\n",
        "\n",
        "results_rff_pure_val = np.concatenate((results_rff_pure_val1, results_rff_pure_val2, results_rff_pure_val3), axis=0)\n",
        "\n",
        "results_rff_pure_val1.shape, results_rff_pure_val2.shape, results_rff_pure_val3.shape, results_rff_pure_val.shape"
      ],
      "metadata": {
        "colab": {
          "base_uri": "https://localhost:8080/"
        },
        "id": "jBonNi8AfVZl",
        "outputId": "a048c692-6802-47cf-d48e-4721c7c7b290"
      },
      "execution_count": null,
      "outputs": [
        {
          "output_type": "execute_result",
          "data": {
            "text/plain": [
              "((123,), (123,), (120,), (366,))"
            ]
          },
          "metadata": {},
          "execution_count": 48
        }
      ]
    },
    {
      "cell_type": "code",
      "source": [
        "thredhold_pure = np.percentile(results_rff_pure_val, q = 9.54)\n",
        "print(thredhold_pure)"
      ],
      "metadata": {
        "colab": {
          "base_uri": "https://localhost:8080/"
        },
        "id": "RxXrGraigRZR",
        "outputId": "d6240449-d344-41d2-87d8-da0fae785764"
      },
      "execution_count": null,
      "outputs": [
        {
          "output_type": "stream",
          "name": "stdout",
          "text": [
            "0.6937008891460926\n"
          ]
        }
      ]
    },
    {
      "cell_type": "code",
      "source": [
        "results_rff_pure_test1 = np.load(\"/content/drive/MyDrive/TesisMaestria/ResearchData/results_aff_pure_test1.npy\")\n",
        "results_rff_pure_test2 = np.load(\"/content/drive/MyDrive/TesisMaestria/ResearchData/results_aff_pure_test2.npy\")\n",
        "results_rff_pure_test3 =  np.load(\"/content/drive/MyDrive/TesisMaestria/ResearchData/results_aff_pure_test3.npy\")\n",
        "\n",
        "\n",
        "results_rff_pure_test1 = np.sqrt(results_rff_pure_test1)\n",
        "results_rff_pure_test2 = np.sqrt(results_rff_pure_test2)\n",
        "results_rff_pure_test3 = np.sqrt(results_rff_pure_test3)\n",
        "\n",
        "results_rff_pure_test = np.concatenate((results_rff_pure_test1, results_rff_pure_test2, results_rff_pure_test3), axis=0)\n",
        "\n",
        "results_rff_pure_test1.shape, results_rff_pure_test2.shape, results_rff_pure_test3.shape, results_rff_pure_test.shape"
      ],
      "metadata": {
        "colab": {
          "base_uri": "https://localhost:8080/"
        },
        "id": "eSb6Q-HpfD48",
        "outputId": "dbb2f13b-bb38-4a85-8e4f-0b9925e38cca"
      },
      "execution_count": null,
      "outputs": [
        {
          "output_type": "execute_result",
          "data": {
            "text/plain": [
              "((123,), (122,), (122,), (367,))"
            ]
          },
          "metadata": {},
          "execution_count": 52
        }
      ]
    },
    {
      "cell_type": "code",
      "execution_count": null,
      "metadata": {
        "colab": {
          "base_uri": "https://localhost:8080/"
        },
        "outputId": "9cb9b37e-9ba8-4ff7-a5c5-34a78343b698",
        "id": "gsdmN4FqA15r"
      },
      "outputs": [
        {
          "output_type": "stream",
          "name": "stdout",
          "text": [
            "              precision    recall  f1-score   support\n",
            "\n",
            "         0.0     0.7353    0.7143    0.7246        35\n",
            "         1.0     0.9700    0.9729    0.9714       332\n",
            "\n",
            "    accuracy                         0.9482       367\n",
            "   macro avg     0.8526    0.8436    0.8480       367\n",
            "weighted avg     0.9476    0.9482    0.9479       367\n",
            "\n"
          ]
        }
      ],
      "source": [
        "results_rff_pure_test = np.concatenate((results_rff_pure_test1, results_rff_pure_test2, results_rff_pure_test3), axis=0)\n",
        "\n",
        "y_pred_pure = results_rff_pure_test > thredhold_pure\n",
        "\n",
        "print(classification_report(y_test, y_pred_pure, digits=4))"
      ]
    },
    {
      "cell_type": "code",
      "source": [
        "print(f\"AUC = {round(roc_auc_score(y_test, results_rff_pure_test), 4)}\")"
      ],
      "metadata": {
        "colab": {
          "base_uri": "https://localhost:8080/"
        },
        "id": "V4UbnE9dqeEj",
        "outputId": "11212b00-a9a2-4e51-f162-c2fb2de3371e"
      },
      "execution_count": null,
      "outputs": [
        {
          "output_type": "stream",
          "name": "stdout",
          "text": [
            "AUC = 0.9681\n"
          ]
        }
      ]
    },
    {
      "cell_type": "code",
      "source": [
        ""
      ],
      "metadata": {
        "id": "i1_Ry9lwxyr2"
      },
      "execution_count": null,
      "outputs": []
    },
    {
      "cell_type": "markdown",
      "metadata": {
        "id": "L-ZIkp3mksTV"
      },
      "source": [
        "## Classical Pred AdpRFF"
      ]
    },
    {
      "cell_type": "code",
      "execution_count": null,
      "metadata": {
        "id": "rF4Y9nWp37-w"
      },
      "outputs": [],
      "source": [
        "from sklearn.metrics import roc_curve, f1_score\n",
        "from sklearn.metrics import classification_report\n",
        "\n",
        "def classification(preds_val, preds_test, y_test):\n",
        "\n",
        "    thredhold = np.percentile(preds_val, q = 9.54)\n",
        "    y_pred = preds_test > thredhold\n",
        "    return classification_report(y_test, y_pred, digits=4)"
      ]
    },
    {
      "cell_type": "code",
      "execution_count": null,
      "metadata": {
        "colab": {
          "base_uri": "https://localhost:8080/"
        },
        "id": "UDqW_ig3kv9P",
        "outputId": "59b8cee8-1266-43b8-9e44-a25e10a04390"
      },
      "outputs": [
        {
          "output_type": "stream",
          "name": "stdout",
          "text": [
            "4x4 Pure, experiment AdaptiveRFF\n",
            "              precision    recall  f1-score   support\n",
            "\n",
            "         0.0     0.7273    0.6857    0.7059        35\n",
            "         1.0     0.9671    0.9729    0.9700       332\n",
            "\n",
            "    accuracy                         0.9455       367\n",
            "   macro avg     0.8472    0.8293    0.8379       367\n",
            "weighted avg     0.9442    0.9455    0.9448       367\n",
            "\n",
            "AUC = 0.967\n"
          ]
        }
      ],
      "source": [
        "#gamma = dmrff.rff_layer.gamma_val.numpy()\n",
        "dim = 4\n",
        "\n",
        "print(f\"{dim}x{dim} Pure, experiment AdaptiveRFF\")\n",
        "#print(\"Gamma:\", gamma)\n",
        "\n",
        "## Training pure state and create the Unitary matrix to initialize such state\n",
        "\n",
        "psi_train = X_feat_train.sum(axis = 0)\n",
        "psi_train = psi_train / np.linalg.norm(psi_train)\n",
        "\n",
        "preds_val_expected = np.sqrt((X_feat_val @ psi_train)**2)\n",
        "preds_test_expected = np.sqrt((X_feat_test @ psi_train)**2)\n",
        "\n",
        "print(classification(preds_val_expected, preds_test_expected, y_test))\n",
        "print(f\"AUC = {round(roc_auc_score(y_test, preds_test_expected), 4)}\")"
      ]
    },
    {
      "cell_type": "code",
      "execution_count": null,
      "metadata": {
        "colab": {
          "base_uri": "https://localhost:8080/"
        },
        "id": "DFIFOuKflIMh",
        "outputId": "52455b00-c00f-472f-9b9b-104e647cc252"
      },
      "outputs": [
        {
          "output_type": "stream",
          "name": "stdout",
          "text": [
            "4x4 mixed, experiment AdaptiveRFF\n",
            "              precision    recall  f1-score   support\n",
            "\n",
            "         0.0     0.7027    0.7429    0.7222        35\n",
            "         1.0     0.9727    0.9669    0.9698       332\n",
            "\n",
            "    accuracy                         0.9455       367\n",
            "   macro avg     0.8377    0.8549    0.8460       367\n",
            "weighted avg     0.9470    0.9455    0.9462       367\n",
            "\n",
            "AUC = 0.9657\n"
          ]
        }
      ],
      "source": [
        "#gamma = dmrff.rff_layer.gamma_val.numpy()\n",
        "dim = 4\n",
        "\n",
        "print(f\"{dim}x{dim} mixed, experiment AdaptiveRFF\")\n",
        "#print(\"Gamma:\", gamma)\n",
        "\n",
        "## Training mixed state and create the Unitary matrix to initialize such state\n",
        "rho_train = np.zeros((dim, dim))\n",
        "\n",
        "\n",
        "#for i in range(1000):\n",
        "for i in range(len(X_feat_train)):\n",
        "  rho_train += np.outer(X_feat_train[i], X_feat_train[i])\n",
        "\n",
        "rho_train = rho_train / len(X_feat_train)\n",
        "\n",
        "# Classical prediction\n",
        "preds_val_mixed = np.zeros(len(X_feat_val))\n",
        "\n",
        "for i in range(len(X_feat_val)):\n",
        "  preds_val_mixed[i] = X_feat_val[i].T @ rho_train @ X_feat_val[i]\n",
        "\n",
        "preds_test_mixed = np.zeros(len(X_feat_test))\n",
        "\n",
        "for i in range(len(X_feat_test)):\n",
        "  preds_test_mixed[i] = X_feat_test[i].T @ rho_train @ X_feat_test[i]\n",
        "\n",
        "print(classification(preds_val_mixed, preds_test_mixed, y_test))\n",
        "print(f\"AUC = {round(roc_auc_score(y_test, preds_test_mixed), 4)}\")"
      ]
    },
    {
      "cell_type": "code",
      "source": [
        ""
      ],
      "metadata": {
        "id": "hx6sPiXgzUik"
      },
      "execution_count": null,
      "outputs": []
    }
  ],
  "metadata": {
    "colab": {
      "collapsed_sections": [
        "99zg2Ps8WgK5",
        "bg5HouMNCobX",
        "pUZJKFvypUTT"
      ],
      "name": "Anomaly Detection AdaptiveFF Real Quantum Computer.ipynb",
      "provenance": [],
      "toc_visible": true
    },
    "kernelspec": {
      "display_name": "Python 3",
      "name": "python3"
    },
    "language_info": {
      "name": "python"
    }
  },
  "nbformat": 4,
  "nbformat_minor": 0
}