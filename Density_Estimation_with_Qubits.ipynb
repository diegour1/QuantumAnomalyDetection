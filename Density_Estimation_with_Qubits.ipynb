{
  "nbformat": 4,
  "nbformat_minor": 0,
  "metadata": {
    "colab": {
      "name": "Density Estimation with Qubits.ipynb",
      "provenance": [],
      "toc_visible": true
    },
    "kernelspec": {
      "name": "python3",
      "display_name": "Python 3"
    },
    "language_info": {
      "name": "python"
    }
  },
  "cells": [
    {
      "cell_type": "markdown",
      "metadata": {
        "id": "Gjduwd_1mBcJ"
      },
      "source": [
        "\n",
        "## Quantum Anomaly Detection with Quantum Density Estimation\n",
        "\n",
        "### Density Estimation with Qubits\n",
        "\n",
        "\n",
        "\n",
        "### Qiskit Hackathon Global 2021\n",
        "\n",
        "---\n",
        "\n",
        "**Group: Quantum Mind UN**\n",
        "\n",
        "Diego Useche - diusecher@unal.edu.co\n",
        "\n",
        "Oscar Alberto Bustos B. - oabustosb@unal.edu.co"
      ]
    },
    {
      "cell_type": "markdown",
      "metadata": {
        "id": "AtJM6pPmNIoy"
      },
      "source": [
        "**The problem:**\n",
        "\n",
        "Anomaly Detection: \n",
        "A common need when analyzing datasets is to find which observations deviates considerably from others. Such instances are known as anomalies or outliers, and the goal of anomaly detection (AD) is to detect those atypical or irregular data, generally in unsupervised scenarios. AD has many applications across a wide variety of domains, including intrusion or fraud detection in cybersecurity, industrial monitoring, disease detection for medical diagnosis and rare event detection in science.\n",
        "\n",
        "Can we build a quantum circuit to perform Anomaly Detection?\n",
        "\n",
        "**Our Approach**\n",
        "\n",
        "Anomaly Detection based on Density Estimation:\n",
        "\n",
        "*   Use normal data to induce a probability density function (pdf) (Density Estimation)\n",
        "*   Use the pdf to estimate the density of new samples. If the density is below a threshold, then classify it as anomaly.\n",
        "\n",
        "Quantum Density Estimation:\n",
        "\n",
        "*   Combine Density Matrices with RFF [Rahimi2007] to perform Density Estimation [González2021]\n",
        "*   Propose a quantum circuit to estimate expected values of density matrices.\n",
        "\n",
        "**Main contributions**\n",
        "\n",
        "*   We developed a new method for Anomaly Detection in quantum computers.\n",
        "*   We implemented the method in a quantum circuit and showed that it’s a feasible approach.\n",
        "*   Most quantum machine learning algorithms are based on pure states. Our \n",
        "algorithm can work with mixed states and pure states.\n",
        "*   We develop a new method to calculate the expected value of a density matrix.\n",
        "*  We used this method to approximate a probability density function (pdf) in a quantum computer.\n"
      ]
    },
    {
      "cell_type": "markdown",
      "metadata": {
        "id": "mwEUszsNJoX0"
      },
      "source": [
        "## Libraries"
      ]
    },
    {
      "cell_type": "code",
      "metadata": {
        "colab": {
          "base_uri": "https://localhost:8080/"
        },
        "id": "ktqWG1v8mKjc",
        "outputId": "31ff9570-2d52-44e5-ea45-587e2764e3b7"
      },
      "source": [
        "!pip install qiskit\n",
        "!pip install pylatexenc"
      ],
      "execution_count": null,
      "outputs": [
        {
          "output_type": "stream",
          "name": "stdout",
          "text": [
            "Collecting qiskit\n",
            "  Downloading qiskit-0.32.0.tar.gz (13 kB)\n",
            "Collecting qiskit-terra==0.18.3\n",
            "  Downloading qiskit_terra-0.18.3-cp37-cp37m-manylinux2010_x86_64.whl (6.1 MB)\n",
            "\u001b[K     |████████████████████████████████| 6.1 MB 5.2 MB/s \n",
            "\u001b[?25hCollecting qiskit-aer==0.9.1\n",
            "  Downloading qiskit_aer-0.9.1-cp37-cp37m-manylinux_2_12_x86_64.manylinux2010_x86_64.whl (17.9 MB)\n",
            "\u001b[K     |████████████████████████████████| 17.9 MB 100 kB/s \n",
            "\u001b[?25hCollecting qiskit-ibmq-provider==0.18.0\n",
            "  Downloading qiskit_ibmq_provider-0.18.0-py3-none-any.whl (237 kB)\n",
            "\u001b[K     |████████████████████████████████| 237 kB 43.7 MB/s \n",
            "\u001b[?25hCollecting qiskit-ignis==0.6.0\n",
            "  Downloading qiskit_ignis-0.6.0-py3-none-any.whl (207 kB)\n",
            "\u001b[K     |████████████████████████████████| 207 kB 64.3 MB/s \n",
            "\u001b[?25hCollecting qiskit-aqua==0.9.5\n",
            "  Downloading qiskit_aqua-0.9.5-py3-none-any.whl (2.1 MB)\n",
            "\u001b[K     |████████████████████████████████| 2.1 MB 49.3 MB/s \n",
            "\u001b[?25hRequirement already satisfied: scipy>=1.0 in /usr/local/lib/python3.7/dist-packages (from qiskit-aer==0.9.1->qiskit) (1.4.1)\n",
            "Requirement already satisfied: numpy>=1.16.3 in /usr/local/lib/python3.7/dist-packages (from qiskit-aer==0.9.1->qiskit) (1.19.5)\n",
            "Requirement already satisfied: sympy>=1.3 in /usr/local/lib/python3.7/dist-packages (from qiskit-aqua==0.9.5->qiskit) (1.7.1)\n",
            "Collecting dlx<=1.0.4\n",
            "  Downloading dlx-1.0.4.tar.gz (5.5 kB)\n",
            "Requirement already satisfied: scikit-learn>=0.20.0 in /usr/local/lib/python3.7/dist-packages (from qiskit-aqua==0.9.5->qiskit) (1.0.1)\n",
            "Requirement already satisfied: psutil>=5 in /usr/local/lib/python3.7/dist-packages (from qiskit-aqua==0.9.5->qiskit) (5.4.8)\n",
            "Requirement already satisfied: fastdtw<=0.3.4 in /usr/local/lib/python3.7/dist-packages (from qiskit-aqua==0.9.5->qiskit) (0.3.4)\n",
            "Requirement already satisfied: pandas in /usr/local/lib/python3.7/dist-packages (from qiskit-aqua==0.9.5->qiskit) (1.1.5)\n",
            "Requirement already satisfied: h5py<3.3.0 in /usr/local/lib/python3.7/dist-packages (from qiskit-aqua==0.9.5->qiskit) (3.1.0)\n",
            "Collecting quandl\n",
            "  Downloading Quandl-3.7.0-py2.py3-none-any.whl (26 kB)\n",
            "Collecting yfinance>=0.1.62\n",
            "  Downloading yfinance-0.1.66-py2.py3-none-any.whl (25 kB)\n",
            "Collecting retworkx>=0.8.0\n",
            "  Downloading retworkx-0.10.2-cp37-cp37m-manylinux_2_5_x86_64.manylinux1_x86_64.manylinux_2_12_x86_64.manylinux2010_x86_64.whl (1.4 MB)\n",
            "\u001b[K     |████████████████████████████████| 1.4 MB 42.6 MB/s \n",
            "\u001b[?25hCollecting docplex>=2.21.207\n",
            "  Downloading docplex-2.22.213.tar.gz (634 kB)\n",
            "\u001b[K     |████████████████████████████████| 634 kB 50.5 MB/s \n",
            "\u001b[?25hRequirement already satisfied: setuptools>=40.1.0 in /usr/local/lib/python3.7/dist-packages (from qiskit-aqua==0.9.5->qiskit) (57.4.0)\n",
            "Requirement already satisfied: python-dateutil>=2.8.0 in /usr/local/lib/python3.7/dist-packages (from qiskit-ibmq-provider==0.18.0->qiskit) (2.8.2)\n",
            "Requirement already satisfied: requests>=2.19 in /usr/local/lib/python3.7/dist-packages (from qiskit-ibmq-provider==0.18.0->qiskit) (2.23.0)\n",
            "Collecting requests-ntlm>=1.1.0\n",
            "  Downloading requests_ntlm-1.1.0-py2.py3-none-any.whl (5.7 kB)\n",
            "Requirement already satisfied: urllib3>=1.21.1 in /usr/local/lib/python3.7/dist-packages (from qiskit-ibmq-provider==0.18.0->qiskit) (1.24.3)\n",
            "Collecting websocket-client>=1.0.1\n",
            "  Downloading websocket_client-1.2.1-py2.py3-none-any.whl (52 kB)\n",
            "\u001b[K     |████████████████████████████████| 52 kB 1.3 MB/s \n",
            "\u001b[?25hCollecting ply>=3.10\n",
            "  Downloading ply-3.11-py2.py3-none-any.whl (49 kB)\n",
            "\u001b[K     |████████████████████████████████| 49 kB 5.6 MB/s \n",
            "\u001b[?25hRequirement already satisfied: jsonschema>=2.6 in /usr/local/lib/python3.7/dist-packages (from qiskit-terra==0.18.3->qiskit) (2.6.0)\n",
            "Requirement already satisfied: dill>=0.3 in /usr/local/lib/python3.7/dist-packages (from qiskit-terra==0.18.3->qiskit) (0.3.4)\n",
            "Collecting symengine>0.7\n",
            "  Downloading symengine-0.8.1-cp37-cp37m-manylinux2010_x86_64.whl (38.2 MB)\n",
            "\u001b[K     |████████████████████████████████| 38.2 MB 24 kB/s \n",
            "\u001b[?25hCollecting tweedledum<2.0,>=1.1\n",
            "  Downloading tweedledum-1.1.1-cp37-cp37m-manylinux_2_12_x86_64.manylinux2010_x86_64.whl (943 kB)\n",
            "\u001b[K     |████████████████████████████████| 943 kB 9.3 kB/s \n",
            "\u001b[?25hCollecting python-constraint>=1.4\n",
            "  Downloading python-constraint-1.4.0.tar.bz2 (18 kB)\n",
            "Collecting fastjsonschema>=2.10\n",
            "  Downloading fastjsonschema-2.15.1-py3-none-any.whl (21 kB)\n",
            "Requirement already satisfied: six in /usr/local/lib/python3.7/dist-packages (from docplex>=2.21.207->qiskit-aqua==0.9.5->qiskit) (1.15.0)\n",
            "Requirement already satisfied: cached-property in /usr/local/lib/python3.7/dist-packages (from h5py<3.3.0->qiskit-aqua==0.9.5->qiskit) (1.5.2)\n",
            "Requirement already satisfied: chardet<4,>=3.0.2 in /usr/local/lib/python3.7/dist-packages (from requests>=2.19->qiskit-ibmq-provider==0.18.0->qiskit) (3.0.4)\n",
            "Requirement already satisfied: certifi>=2017.4.17 in /usr/local/lib/python3.7/dist-packages (from requests>=2.19->qiskit-ibmq-provider==0.18.0->qiskit) (2021.10.8)\n",
            "Requirement already satisfied: idna<3,>=2.5 in /usr/local/lib/python3.7/dist-packages (from requests>=2.19->qiskit-ibmq-provider==0.18.0->qiskit) (2.10)\n",
            "Collecting cryptography>=1.3\n",
            "  Downloading cryptography-35.0.0-cp36-abi3-manylinux_2_24_x86_64.whl (3.5 MB)\n",
            "\u001b[K     |████████████████████████████████| 3.5 MB 58.2 MB/s \n",
            "\u001b[?25hCollecting ntlm-auth>=1.0.2\n",
            "  Downloading ntlm_auth-1.5.0-py2.py3-none-any.whl (29 kB)\n",
            "Requirement already satisfied: cffi>=1.12 in /usr/local/lib/python3.7/dist-packages (from cryptography>=1.3->requests-ntlm>=1.1.0->qiskit-ibmq-provider==0.18.0->qiskit) (1.15.0)\n",
            "Requirement already satisfied: pycparser in /usr/local/lib/python3.7/dist-packages (from cffi>=1.12->cryptography>=1.3->requests-ntlm>=1.1.0->qiskit-ibmq-provider==0.18.0->qiskit) (2.21)\n",
            "Requirement already satisfied: joblib>=0.11 in /usr/local/lib/python3.7/dist-packages (from scikit-learn>=0.20.0->qiskit-aqua==0.9.5->qiskit) (1.1.0)\n",
            "Requirement already satisfied: threadpoolctl>=2.0.0 in /usr/local/lib/python3.7/dist-packages (from scikit-learn>=0.20.0->qiskit-aqua==0.9.5->qiskit) (3.0.0)\n",
            "Requirement already satisfied: mpmath>=0.19 in /usr/local/lib/python3.7/dist-packages (from sympy>=1.3->qiskit-aqua==0.9.5->qiskit) (1.2.1)\n",
            "Requirement already satisfied: multitasking>=0.0.7 in /usr/local/lib/python3.7/dist-packages (from yfinance>=0.1.62->qiskit-aqua==0.9.5->qiskit) (0.0.9)\n",
            "Collecting lxml>=4.5.1\n",
            "  Downloading lxml-4.6.4-cp37-cp37m-manylinux_2_17_x86_64.manylinux2014_x86_64.manylinux_2_24_x86_64.whl (6.3 MB)\n",
            "\u001b[K     |████████████████████████████████| 6.3 MB 54.7 MB/s \n",
            "\u001b[?25hRequirement already satisfied: pytz>=2017.2 in /usr/local/lib/python3.7/dist-packages (from pandas->qiskit-aqua==0.9.5->qiskit) (2018.9)\n",
            "Collecting inflection>=0.3.1\n",
            "  Downloading inflection-0.5.1-py2.py3-none-any.whl (9.5 kB)\n",
            "Requirement already satisfied: more-itertools in /usr/local/lib/python3.7/dist-packages (from quandl->qiskit-aqua==0.9.5->qiskit) (8.11.0)\n",
            "Building wheels for collected packages: qiskit, dlx, docplex, python-constraint\n",
            "  Building wheel for qiskit (setup.py) ... \u001b[?25l\u001b[?25hdone\n",
            "  Created wheel for qiskit: filename=qiskit-0.32.0-py3-none-any.whl size=11773 sha256=119c097d1b46c8548430527c0e257e8ba18e1675566b342daff7f3c366e5f8d7\n",
            "  Stored in directory: /root/.cache/pip/wheels/95/84/c4/6a084a33c1909266fca66eed2303c3883e03f33c905b1ebed9\n",
            "  Building wheel for dlx (setup.py) ... \u001b[?25l\u001b[?25hdone\n",
            "  Created wheel for dlx: filename=dlx-1.0.4-py3-none-any.whl size=5719 sha256=80b6f2f7a329794adafc1bec73a2695a511b2cb06a8052ab6386b2430e62144c\n",
            "  Stored in directory: /root/.cache/pip/wheels/78/55/c8/dc61e772445a566b7608a476d151e9dcaf4e092b01b0c4bc3c\n",
            "  Building wheel for docplex (setup.py) ... \u001b[?25l\u001b[?25hdone\n",
            "  Created wheel for docplex: filename=docplex-2.22.213-py3-none-any.whl size=696881 sha256=9b5bcd4ed179e7ffff63ff5f858fed5430f1e62a5a74962ba4759dfcd04322f6\n",
            "  Stored in directory: /root/.cache/pip/wheels/90/69/6b/1375c68a5b7ff94c40263b151c86f58bd72200bf0c465b5ba3\n",
            "  Building wheel for python-constraint (setup.py) ... \u001b[?25l\u001b[?25hdone\n",
            "  Created wheel for python-constraint: filename=python_constraint-1.4.0-py2.py3-none-any.whl size=24081 sha256=04de0b54c8bb91ad210555037ab1183c0e81c06b94e82383cc057301eb6676c1\n",
            "  Stored in directory: /root/.cache/pip/wheels/07/27/db/1222c80eb1e431f3d2199c12569cb1cac60f562a451fe30479\n",
            "Successfully built qiskit dlx docplex python-constraint\n",
            "Installing collected packages: tweedledum, symengine, retworkx, python-constraint, ply, fastjsonschema, qiskit-terra, ntlm-auth, lxml, inflection, cryptography, yfinance, websocket-client, requests-ntlm, quandl, qiskit-ignis, docplex, dlx, qiskit-ibmq-provider, qiskit-aqua, qiskit-aer, qiskit\n",
            "  Attempting uninstall: lxml\n",
            "    Found existing installation: lxml 4.2.6\n",
            "    Uninstalling lxml-4.2.6:\n",
            "      Successfully uninstalled lxml-4.2.6\n",
            "Successfully installed cryptography-35.0.0 dlx-1.0.4 docplex-2.22.213 fastjsonschema-2.15.1 inflection-0.5.1 lxml-4.6.4 ntlm-auth-1.5.0 ply-3.11 python-constraint-1.4.0 qiskit-0.32.0 qiskit-aer-0.9.1 qiskit-aqua-0.9.5 qiskit-ibmq-provider-0.18.0 qiskit-ignis-0.6.0 qiskit-terra-0.18.3 quandl-3.7.0 requests-ntlm-1.1.0 retworkx-0.10.2 symengine-0.8.1 tweedledum-1.1.1 websocket-client-1.2.1 yfinance-0.1.66\n",
            "Collecting pylatexenc\n",
            "  Downloading pylatexenc-2.10.tar.gz (162 kB)\n",
            "\u001b[K     |████████████████████████████████| 162 kB 5.2 MB/s \n",
            "\u001b[?25hBuilding wheels for collected packages: pylatexenc\n",
            "  Building wheel for pylatexenc (setup.py) ... \u001b[?25l\u001b[?25hdone\n",
            "  Created wheel for pylatexenc: filename=pylatexenc-2.10-py3-none-any.whl size=136833 sha256=d799a01bdacc8d8f0a16c1741cf310acf2bb79b093617f694fa42c1fea854baf\n",
            "  Stored in directory: /root/.cache/pip/wheels/f1/8a/f5/33ee79d4473eb201b519fa40f989b842e373237395a3421f52\n",
            "Successfully built pylatexenc\n",
            "Installing collected packages: pylatexenc\n",
            "Successfully installed pylatexenc-2.10\n"
          ]
        }
      ]
    },
    {
      "cell_type": "code",
      "metadata": {
        "id": "xl1ZExdyqGNk"
      },
      "source": [
        "from qiskit import QuantumCircuit, transpile\n",
        "from qiskit.quantum_info import Statevector\n",
        "from qiskit.visualization import plot_bloch_multivector\n",
        "from qiskit import QuantumCircuit, Aer, execute\n",
        "from qiskit.extensions import Initialize\n",
        "from qiskit.visualization import plot_histogram\n",
        "from qiskit.providers.aer import StatevectorSimulator\n",
        "import tensorflow as tf\n",
        "import matplotlib.pyplot as plt\n",
        "from time import time\n",
        "\n",
        "from scipy.stats import norm\n",
        "import numpy as np\n",
        "backend = Aer.get_backend('qasm_simulator')"
      ],
      "execution_count": null,
      "outputs": []
    },
    {
      "cell_type": "markdown",
      "metadata": {
        "id": "XuUHx8na77nT"
      },
      "source": [
        "## Expected Value of Density Matrices with Isometries\n",
        "\n",
        "In the following section we present a proposed circuit to estimate the expected values of any (nxn) density matrix. For the Qiskit Fall Fest 2021 we proposed a circuit to compute the expected values of (4x4) density matrices. In this proposal we show the method for any (nxn) density matrix, in comparison with the method proposed in the Qiskit Fall Fest 2021, this circuit has less qubits and lower circuit depth.\n",
        "\n",
        "We take two approaches mixed states, \n",
        "\n",
        "$$\\rho_{\\text{train}} = \\frac{1}{N}\\sum_{i=0}^{N}|\\psi_i><\\psi_i>$$\n",
        "\n",
        "And pure states, \n",
        "\n",
        "$$|\\psi_{\\text{train}}>= \\frac{\\sum_{i=0}^{N}|\\psi_i>}{|\\sum_{i=0}^{N}|\\psi_i>|}$$\n",
        "\n",
        "Here we show how to compute, \n",
        "\n",
        "$$<\\phi|\\rho_{\\text{train}}|\\phi>$$\n",
        "\n",
        "for mixed states. \n",
        "\n",
        "And, \n",
        "\n",
        "$$<\\phi|\\psi_{\\text{train}}>^2$$\n",
        "\n",
        "for pure states. Where $|\\phi>$ is some quantum state to predict.\n",
        "\n",
        "The pure state scenario has been shown in in [QTML2021]. We propose the method to compute the expected value of the density matrix of a mixed state."
      ]
    },
    {
      "cell_type": "markdown",
      "metadata": {
        "id": "_QVCXoR2rvy7"
      },
      "source": [
        "### Example Density Matrix (8x8)"
      ]
    },
    {
      "cell_type": "code",
      "metadata": {
        "colab": {
          "base_uri": "https://localhost:8080/"
        },
        "id": "DuqyTQ83Pgoa",
        "outputId": "3d43e9d0-0f54-4cc5-c702-2b4860f92bce"
      },
      "source": [
        "# First we create an example of a 8x8 density matrix\n",
        "\n",
        "# Example to predict a \n",
        "np.random.seed(0)\n",
        "a = np.random.normal(size=(8))\n",
        "a = a / np.linalg.norm(a)\n",
        "\n",
        "# Create a density matrix from 100 random examples name it rho_train\n",
        "\n",
        "x_train = np.random.normal(size=(100, 8))\n",
        "x_train = x_train / np.linalg.norm(x_train, axis = 1).reshape(-1, 1)\n",
        "rho_train = np.zeros((8, 8))\n",
        "\n",
        "for i in range(100):\n",
        "  rho_train += np.outer(x_train[i], x_train[i])\n",
        "\n",
        "rho_train = rho_train / 100\n",
        "\n",
        "(a**2).sum(), (x_train[0]**2).sum(), rho_train"
      ],
      "execution_count": null,
      "outputs": [
        {
          "output_type": "execute_result",
          "data": {
            "text/plain": [
              "(1.0,\n",
              " 1.0,\n",
              " array([[ 0.10908034,  0.01354419,  0.00993431, -0.01386612, -0.00787494,\n",
              "          0.01479722, -0.00596694,  0.01245466],\n",
              "        [ 0.01354419,  0.1377924 ,  0.01372431,  0.00254668,  0.02134911,\n",
              "          0.00360863, -0.00630882, -0.01395152],\n",
              "        [ 0.00993431,  0.01372431,  0.11009632, -0.00760918, -0.00112369,\n",
              "         -0.00944604, -0.01427106, -0.01290296],\n",
              "        [-0.01386612,  0.00254668, -0.00760918,  0.11971723, -0.01143899,\n",
              "         -0.00606719, -0.02489165,  0.00018427],\n",
              "        [-0.00787494,  0.02134911, -0.00112369, -0.01143899,  0.15663075,\n",
              "          0.00121742,  0.0168858 ,  0.00839981],\n",
              "        [ 0.01479722,  0.00360863, -0.00944604, -0.00606719,  0.00121742,\n",
              "          0.10790513,  0.00942147, -0.00628848],\n",
              "        [-0.00596694, -0.00630882, -0.01427106, -0.02489165,  0.0168858 ,\n",
              "          0.00942147,  0.12274743,  0.01011429],\n",
              "        [ 0.01245466, -0.01395152, -0.01290296,  0.00018427,  0.00839981,\n",
              "         -0.00628848,  0.01011429,  0.1360304 ]]))"
            ]
          },
          "metadata": {},
          "execution_count": 59
        }
      ]
    },
    {
      "cell_type": "code",
      "metadata": {
        "colab": {
          "base_uri": "https://localhost:8080/"
        },
        "id": "zZRm4HgTwQpv",
        "outputId": "f08bc5b5-9c64-495a-de1b-2661a956a958"
      },
      "source": [
        "# Find eigenvectors and eigenvalues\n",
        "lambda_train, U_train = np.linalg.eigh(rho_train)\n",
        "\n",
        "lambda_train, U_train"
      ],
      "execution_count": null,
      "outputs": [
        {
          "output_type": "execute_result",
          "data": {
            "text/plain": [
              "(array([0.07578676, 0.08496879, 0.10153945, 0.11815496, 0.13391739,\n",
              "        0.14029133, 0.16626093, 0.17908041]),\n",
              " array([[-0.65892144, -0.07785797, -0.22458393,  0.06764372,  0.42620744,\n",
              "          0.5573519 , -0.10395923,  0.04056611],\n",
              "        [ 0.19230474, -0.11489959,  0.54327706,  0.28693659,  0.23813675,\n",
              "          0.07024289, -0.6592057 ,  0.2759331 ],\n",
              "        [ 0.14608708,  0.66362319, -0.08453395, -0.59423105,  0.08139098,\n",
              "          0.17508716, -0.37236461, -0.04550704],\n",
              "        [-0.34353266,  0.48663178,  0.01015192,  0.41755232,  0.22385674,\n",
              "         -0.55258241, -0.10770272, -0.32196705],\n",
              "        [-0.13917622, -0.00653415, -0.41036267, -0.08575573,  0.02070984,\n",
              "         -0.41636728, -0.12338989,  0.78474203],\n",
              "        [ 0.4170536 ,  0.32244636, -0.444611  ,  0.60585602, -0.11250815,\n",
              "          0.3647404 ,  0.00610511,  0.10781126],\n",
              "        [-0.29949437,  0.43329548,  0.51191942,  0.09086638, -0.34212662,\n",
              "          0.20210551,  0.36464705,  0.40171535],\n",
              "        [ 0.32631991,  0.10849271,  0.13793149, -0.05439649,  0.75813203,\n",
              "         -0.03432295,  0.50611781,  0.16632228]]))"
            ]
          },
          "metadata": {},
          "execution_count": 60
        }
      ]
    },
    {
      "cell_type": "code",
      "metadata": {
        "colab": {
          "base_uri": "https://localhost:8080/",
          "height": 340
        },
        "id": "1WICx_gvwlLv",
        "outputId": "b1d1c05e-2034-494e-e9d1-d231bae6da46"
      },
      "source": [
        "## Expected value of a 8x8 Density Matrix with Isometries\n",
        "\n",
        "backend = Aer.get_backend('qasm_simulator')\n",
        "qc = QuantumCircuit(6, 3)\n",
        "qc.initialize(a, [0, 1, 2])\n",
        "qc.initialize(np.sqrt(lambda_train), [3, 4, 5])\n",
        "qc.isometry(U_train.T, [], [0, 1, 2]) # ArbRot as a isometry\n",
        "qc.cnot(5, 2)\n",
        "qc.cnot(4, 1)\n",
        "qc.cnot(3, 0)\n",
        "qc.measure(0, 0)\n",
        "qc.measure(1, 1)\n",
        "qc.measure(2, 2)\n",
        "\n",
        "counts = execute(qc, backend, shots=150000).result().get_counts()\n",
        "plot_histogram(counts)\n",
        "\n",
        "# Works"
      ],
      "execution_count": null,
      "outputs": [
        {
          "output_type": "execute_result",
          "data": {
            "image/png": "[encoded data removed]",
            "text/plain": [
              "<Figure size 504x360 with 1 Axes>"
            ]
          },
          "metadata": {},
          "execution_count": 62
        }
      ]
    },
    {
      "cell_type": "code",
      "metadata": {
        "colab": {
          "base_uri": "https://localhost:8080/",
          "height": 367
        },
        "id": "KsiuaLzXxmKl",
        "outputId": "7f0a12af-dd45-4d1b-c135-7560227fbb96"
      },
      "source": [
        "qc.draw(\"mpl\")"
      ],
      "execution_count": null,
      "outputs": [
        {
          "output_type": "execute_result",
          "data": {
            "image/png": "[encoded data removed]",
            "text/plain": [
              "<Figure size 929.397x445.48 with 1 Axes>"
            ]
          },
          "metadata": {},
          "execution_count": 63
        }
      ]
    },
    {
      "cell_type": "code",
      "metadata": {
        "colab": {
          "base_uri": "https://localhost:8080/"
        },
        "id": "m4STYbY-yNH2",
        "outputId": "39a25f95-fe0f-4408-ce4f-cde756385c21"
      },
      "source": [
        "# Comparison between the results obtained by the circuit and the expected result\n",
        "exp_a_calculated = (counts[\"000\"]/150000)\n",
        "exp_a_theorical = a.T @ rho_train @ a\n",
        "\n",
        "exp_a_calculated, exp_a_theorical"
      ],
      "execution_count": null,
      "outputs": [
        {
          "output_type": "execute_result",
          "data": {
            "text/plain": [
              "(0.10266, 0.102462229484645)"
            ]
          },
          "metadata": {},
          "execution_count": 66
        }
      ]
    },
    {
      "cell_type": "markdown",
      "metadata": {
        "id": "IKrbnDPbOwMB"
      },
      "source": [
        "#### Conclusion\n",
        "\n",
        "The expected value of the density matrix obtained by the circuit is 0.10266, the expected result was 0.102462"
      ]
    },
    {
      "cell_type": "markdown",
      "metadata": {
        "id": "lNd-mFF6-FVK"
      },
      "source": [
        "### Example Pure State (8x8)\n",
        "\n",
        "We show how to compute the projection between two quantum states, which corresponds to the expected value of a pure density matrix. We did not proposed this method, it is based on [QTML2021]."
      ]
    },
    {
      "cell_type": "code",
      "metadata": {
        "id": "k-LZFKgPLriU"
      },
      "source": [
        "# Given the eigenvalues this function return a Unitary gate which converts the |0> -> |psi_train>\n",
        "def create_U_train(x_train_param, seed=0):\n",
        "  np.random.seed(seed)\n",
        "  size_U = len(x_train_param)\n",
        "  U_train = np.zeros((size_U, size_U))\n",
        "  x_1 = x_train_param\n",
        "  U_train[:, 0] = x_1\n",
        "  for i in range(1, size_U):\n",
        "    x_i = np.random.randn(size_U)\n",
        "    for j in range(0, i):\n",
        "      x_i -= x_i.dot(U_train[:, j]) * U_train[:, j]\n",
        "    x_i = x_i/np.linalg.norm(x_i)\n",
        "    U_train[:, i] = x_i\n",
        "  \n",
        "  return U_train"
      ],
      "execution_count": null,
      "outputs": []
    },
    {
      "cell_type": "code",
      "metadata": {
        "colab": {
          "base_uri": "https://localhost:8080/"
        },
        "id": "MJwsPgvPyQr4",
        "outputId": "5cd1ed04-b6a7-4a0e-b14a-a79356725c54"
      },
      "source": [
        "# Example to predict a \n",
        "np.random.seed(0)\n",
        "a = np.random.normal(size=(8))\n",
        "a = a / np.linalg.norm(a)\n",
        "\n",
        "# Create a density matrix from 100 random examples name it x_train for pure states\n",
        "x_train = np.random.normal(size=(100, 8))\n",
        "x_train = x_train.sum(axis = 0)\n",
        "x_train = x_train / np.linalg.norm(x_train)\n",
        "\n",
        "U_train = create_U_train(x_train)\n",
        "\n",
        "(x_train**2).sum(), U_train"
      ],
      "execution_count": null,
      "outputs": [
        {
          "output_type": "execute_result",
          "data": {
            "text/plain": [
              "(1.0, array([[-0.40956759,  0.31412729, -0.58688388,  0.30053684,  0.33094154,\n",
              "         -0.3383931 ,  0.25238096,  0.10533287],\n",
              "        [-0.2890886 , -0.02388176,  0.2264827 ,  0.02391376, -0.64282764,\n",
              "         -0.60863405, -0.03189844,  0.28162186],\n",
              "        [-0.45525577,  0.06370831, -0.15776071,  0.01154427, -0.35150837,\n",
              "          0.1846809 , -0.17341667, -0.75889605],\n",
              "        [-0.10917489,  0.59840266,  0.55940941,  0.25414967, -0.02590904,\n",
              "          0.23805757,  0.44086826, -0.0275072 ],\n",
              "        [-0.36445305,  0.36609086,  0.09623833, -0.75648236,  0.22533225,\n",
              "          0.02330659, -0.2613604 ,  0.17887705],\n",
              "        [-0.58494098, -0.56772558,  0.38459265,  0.18107349,  0.37946048,\n",
              "          0.07902726,  0.01707193,  0.0656169 ],\n",
              "        [ 0.00453847,  0.27835736,  0.09427881,  0.48769201,  0.08866809,\n",
              "          0.06599   , -0.79755245,  0.16570447],\n",
              "        [ 0.23345796,  0.06922096,  0.31683395, -0.03851947,  0.38780665,\n",
              "         -0.64275429, -0.07847008, -0.51880026]]))"
            ]
          },
          "metadata": {},
          "execution_count": 52
        }
      ]
    },
    {
      "cell_type": "code",
      "metadata": {
        "colab": {
          "base_uri": "https://localhost:8080/",
          "height": 339
        },
        "id": "4QKhc8RQ_MJi",
        "outputId": "10756bce-616d-4e9e-a468-50237be4914d"
      },
      "source": [
        "## Density Estimation Aproach 2 matrices 8x8\n",
        "## This method is a simpliflied version of the one presented before\n",
        "\n",
        "backend = Aer.get_backend('qasm_simulator')\n",
        "qc = QuantumCircuit(3, 3)\n",
        "qc.initialize(a, [0, 1, 2])\n",
        "qc.isometry(U_train.T, [], [0, 1, 2]) # ArbRot as a isometry\n",
        "qc.measure(0, 0)\n",
        "qc.measure(1, 1)\n",
        "qc.measure(2, 2)\n",
        "\n",
        "counts = execute(qc, backend, shots=150000).result().get_counts()\n",
        "plot_histogram(counts)\n",
        "\n",
        "# Works"
      ],
      "execution_count": null,
      "outputs": [
        {
          "output_type": "execute_result",
          "data": {
            "image/png": "[encoded data removed]",
            "text/plain": [
              "<Figure size 504x360 with 1 Axes>"
            ]
          },
          "metadata": {},
          "execution_count": 54
        }
      ]
    },
    {
      "cell_type": "code",
      "metadata": {
        "colab": {
          "base_uri": "https://localhost:8080/",
          "height": 231
        },
        "id": "b_HTl4MU_MJt",
        "outputId": "14c030e4-8e51-415e-cb56-9fb9c642b824"
      },
      "source": [
        "qc.draw(\"mpl\")"
      ],
      "execution_count": null,
      "outputs": [
        {
          "output_type": "execute_result",
          "data": {
            "image/png": "[encoded data removed]",
            "text/plain": [
              "<Figure size 748.797x264.88 with 1 Axes>"
            ]
          },
          "metadata": {},
          "execution_count": 55
        }
      ]
    },
    {
      "cell_type": "code",
      "metadata": {
        "colab": {
          "base_uri": "https://localhost:8080/"
        },
        "id": "vM_-RTbL_MJu",
        "outputId": "e4434f48-4ac2-4c3d-8a42-5a32cc0b3e1a"
      },
      "source": [
        "exp_a_calculated = (counts[\"000\"]/150000)\n",
        "exp_a_theorical = np.dot(x_train, a)**2\n",
        "\n",
        "exp_a_calculated, exp_a_theorical"
      ],
      "execution_count": null,
      "outputs": [
        {
          "output_type": "execute_result",
          "data": {
            "text/plain": [
              "(0.19020666666666666, 0.19039803575411707)"
            ]
          },
          "metadata": {},
          "execution_count": 56
        }
      ]
    },
    {
      "cell_type": "markdown",
      "metadata": {
        "id": "V0XE_PB0z3Y8"
      },
      "source": [
        "## DMKDE for pdf Estimation\n",
        "\n",
        "The Density Matrix Kernel Density Estimation (DMKDE) [Gonzalez2021] takes the expected values of density matrices with a quantum feauture map based on Random Fourier Feautures [Rahimi2007] to estimate probability Density Funtions. \n",
        "\n",
        "Our contribution is to show that it is possible to implement the prediction phase of the DMKDE in a quantum computer. The method has been implemented in a qudit based quantum computer [Useche2021], in this project we show it is possible in a qubit-based quantum computer."
      ]
    },
    {
      "cell_type": "markdown",
      "metadata": {
        "id": "TYNwcpHGwN-1"
      },
      "source": [
        "### (16x16) DMKDE Mixed State"
      ]
    },
    {
      "cell_type": "code",
      "metadata": {
        "id": "D9lj4rSeFK13"
      },
      "source": [
        "def calculate_constant_qmkde(gamma=1):\n",
        "  constant_kernel = (2*np.pi)**(-1/2)\n",
        "  sigma = (4*gamma)**(-1/2)\n",
        "  constant_outside = 1/(sigma)\n",
        "  return constant_kernel * constant_outside"
      ],
      "execution_count": null,
      "outputs": []
    },
    {
      "cell_type": "code",
      "metadata": {
        "id": "q299kfEfwh69"
      },
      "source": [
        "# ----------------------------------------------------------------------\n",
        "# Plot a 1D density example\n",
        "N = 1000\n",
        "np.random.seed(1)\n",
        "X = np.concatenate((np.random.normal(-1, 1, int(0.65 * N)),\n",
        "                    np.random.normal(3, 1, int(0.35 * N))))[:, np.newaxis]\n",
        "\n",
        "X_plot = np.linspace(-7, 7, 250)[:, np.newaxis]\n",
        "\n",
        "true_dens = (0.65 * norm(-1, 1).pdf(X_plot[:, 0])\n",
        "             + 0.35 * norm(3, 1).pdf(X_plot[:, 0]))"
      ],
      "execution_count": null,
      "outputs": []
    },
    {
      "cell_type": "code",
      "metadata": {
        "id": "Pj_0Fefdwu1c"
      },
      "source": [
        "from sklearn.kernel_approximation import RBFSampler\n",
        "\"\"\"\n",
        "  Code from https://arxiv.org/abs/2004.01227\n",
        "\"\"\"\n",
        "class QFeatureMap: \n",
        "\n",
        "  def get_dim(self, num_features):\n",
        "    pass\n",
        "\n",
        "  def batch2wf(self, X):\n",
        "    pass\n",
        "\n",
        "  def batch2dm(self, X):\n",
        "    pass\n",
        "\n",
        "  def batch2dm(self, X):\n",
        "    psi = self.batch2wf(X)\n",
        "    rho = np.einsum('...i,...j', psi, np.conj(psi))\n",
        "    return rho\n",
        "\n",
        "class QFeatureMap_rff(QFeatureMap):\n",
        "\n",
        "  def __init__(self, rbf_sampler):\n",
        "    self.rbf_sampler = rbf_sampler\n",
        "    self.weights = np.array(rbf_sampler.random_weights_)\n",
        "    self.offset = np.array(rbf_sampler.random_offset_)\n",
        "    self.dim = rbf_sampler.get_params()['n_components']\n",
        "\n",
        "  def get_dim(self, num_features):\n",
        "    return self.dim\n",
        "\n",
        "  def batch2wf(self, X):\n",
        "    vals = np.dot(X, self.weights) + self.offset\n",
        "    vals = np.cos(vals)\n",
        "    vals *= np.sqrt(2.) / np.sqrt(self.dim)\n",
        "    norms = np.linalg.norm(vals, axis=1)\n",
        "    psi = vals / norms[:, np.newaxis]\n",
        "    return psi"
      ],
      "execution_count": null,
      "outputs": []
    },
    {
      "cell_type": "code",
      "metadata": {
        "colab": {
          "base_uri": "https://localhost:8080/"
        },
        "id": "JVe0Bjmiw7mO",
        "outputId": "8f55c72d-2681-432d-9748-8ec2d23d94e1"
      },
      "source": [
        "# Create the RandomFourierFeature map\n",
        "dim = 16\n",
        "rm_state = 2\n",
        "feature_map_fourier = RBFSampler(gamma=2, n_components=dim, random_state=rm_state)\n",
        "X_feat_train = feature_map_fourier.fit(X)\n",
        "rffmap = QFeatureMap_rff(rbf_sampler=feature_map_fourier)\n",
        "X_feat_train = rffmap.batch2wf(X)\n",
        "\n",
        "X_feat_test = rffmap.batch2wf(X_plot)\n",
        "\n",
        "X_feat_train.shape, X_feat_test.shape"
      ],
      "execution_count": null,
      "outputs": [
        {
          "output_type": "execute_result",
          "data": {
            "text/plain": [
              "((1000, 16), (250, 16))"
            ]
          },
          "metadata": {},
          "execution_count": 42
        }
      ]
    },
    {
      "cell_type": "code",
      "metadata": {
        "colab": {
          "base_uri": "https://localhost:8080/"
        },
        "id": "sNrzQP3HxPgO",
        "outputId": "22c59358-d9d5-45ba-d36e-e51c5832d164"
      },
      "source": [
        "## Training\n",
        "## Trainig of the DMKDE is done in a classical computer.\n",
        "\n",
        "rho_train = np.zeros((16, 16))\n",
        "\n",
        "for i in range(1000):\n",
        "  rho_train += np.outer(X_feat_train[i], X_feat_train[i])\n",
        "\n",
        "rho_train = rho_train / 1000\n",
        "\n",
        "(X_feat_train[0]**2).sum()"
      ],
      "execution_count": null,
      "outputs": [
        {
          "output_type": "execute_result",
          "data": {
            "text/plain": [
              "0.9999999999999998"
            ]
          },
          "metadata": {},
          "execution_count": 43
        }
      ]
    },
    {
      "cell_type": "markdown",
      "metadata": {
        "id": "9IzBDascQjG_"
      },
      "source": [
        "#### Expected Result\n",
        "\n",
        "In this section we show the implementation of the method in a classical computer to compare it with the implementation in a quantum computer."
      ]
    },
    {
      "cell_type": "code",
      "metadata": {
        "colab": {
          "base_uri": "https://localhost:8080/"
        },
        "id": "weRAiMwx9N4L",
        "outputId": "4eaed72c-b472-4d31-fd62-16c0b9b8fa6f"
      },
      "source": [
        "## Expected result\n",
        "## This code presents the DMKDE in a classical computer.\n",
        "\n",
        "prob_expected_mixed = np.zeros(250)\n",
        "\n",
        "for i in range(len(prob_expected_mixed)):\n",
        "  prob_expected_mixed[i] = X_feat_test[i].T @ rho_train @ X_feat_test[i]\n",
        "\n",
        "prob_expected_mixed = calculate_constant_qmkde(2) * prob_expected_mixed\n",
        "\n",
        "prob_expected_mixed.shape"
      ],
      "execution_count": null,
      "outputs": [
        {
          "output_type": "execute_result",
          "data": {
            "text/plain": [
              "(250,)"
            ]
          },
          "metadata": {},
          "execution_count": 34
        }
      ]
    },
    {
      "cell_type": "code",
      "metadata": {
        "colab": {
          "base_uri": "https://localhost:8080/",
          "height": 310
        },
        "id": "IzSAbSIk9zCd",
        "outputId": "6c7ab308-6a5b-4b93-8e0e-a4d16161d2de"
      },
      "source": [
        "params = {\n",
        "   'axes.labelsize': 8,\n",
        "   'legend.fontsize': 10,\n",
        "   'xtick.labelsize': 10,\n",
        "   'ytick.labelsize': 10,\n",
        "   'text.usetex': False,\n",
        "   'figure.figsize': [5.5, 4.5]\n",
        "   }\n",
        "plt.rcParams.update(params)\n",
        "\n",
        "plt.plot(X_plot[:, 0], true_dens, \"maroon\", label='True pdf')\n",
        "colors = ['navy']\n",
        "kernels = ['gaussian']\n",
        "lw = 2\n",
        "plt.plot(X_plot[:, 0], prob_expected_mixed, color='#006BB2', lw=lw,\n",
        "            linestyle='-', label=\"DMKDE Mixed\")    \n",
        "plt.text(4, 0.25, f\"DM 16x16\")\n",
        "plt.legend(loc='upper left')\n",
        "plt.xlabel('')\n",
        "plt.ylabel('Probability')"
      ],
      "execution_count": null,
      "outputs": [
        {
          "output_type": "execute_result",
          "data": {
            "text/plain": [
              "Text(0, 0.5, 'Probability')"
            ]
          },
          "metadata": {},
          "execution_count": 35
        },
        {
          "output_type": "display_data",
          "data": {
            "image/png": "[encoded data removed]",
            "text/plain": [
              "<Figure size 396x324 with 1 Axes>"
            ]
          },
          "metadata": {
            "needs_background": "light"
          }
        }
      ]
    },
    {
      "cell_type": "markdown",
      "metadata": {
        "id": "tjbc53RGQ8ft"
      },
      "source": [
        "#### Result in a Quantum Computer\n",
        "\n",
        "Here we show the prediction phase in a quantum computer, which allowed us to estimate probability density functions. The result of the estimation of the probability density function in a quantum computer is comparable with the classical calculation."
      ]
    },
    {
      "cell_type": "code",
      "metadata": {
        "colab": {
          "base_uri": "https://localhost:8080/"
        },
        "id": "WVV0V-_myDbp",
        "outputId": "09a65604-afec-416a-89a4-e6a661883fe6"
      },
      "source": [
        "# Find eigenvectors and eigenvalues\n",
        "lambda_train, U_train = np.linalg.eigh(rho_train)\n",
        "\n",
        "lambda_train, U_train"
      ],
      "execution_count": null,
      "outputs": [
        {
          "output_type": "execute_result",
          "data": {
            "text/plain": [
              "(array([2.21082101e-08, 5.45200938e-06, 5.46881200e-05, 5.29996186e-04,\n",
              "        4.06247157e-03, 8.49074157e-03, 1.37341069e-02, 1.51956110e-02,\n",
              "        4.25593877e-02, 4.66138644e-02, 6.87664093e-02, 9.94027023e-02,\n",
              "        1.11339275e-01, 1.61207624e-01, 1.88196981e-01, 2.39840667e-01]),\n",
              " array([[ 9.36642734e-02, -3.48236799e-01, -1.19880008e-01,\n",
              "          7.10257687e-02, -6.88923366e-02,  4.11767561e-01,\n",
              "          3.35218929e-01,  5.54806261e-02, -1.31530676e-01,\n",
              "          4.39846474e-01, -5.49419674e-02,  1.94445682e-01,\n",
              "         -5.69147862e-02,  1.73710556e-01,  4.07222430e-01,\n",
              "         -3.31596157e-01],\n",
              "        [-1.73681555e-02,  6.32646887e-02,  2.84661009e-02,\n",
              "         -9.69606735e-02,  7.24745838e-02,  1.56721379e-02,\n",
              "          3.98932917e-04, -4.69592695e-02, -4.89115177e-01,\n",
              "          1.98417622e-01, -2.95767141e-01,  3.17063101e-01,\n",
              "         -3.13651380e-01, -4.81873831e-01,  2.92140757e-02,\n",
              "          4.23954316e-01],\n",
              "        [-8.42612846e-04,  3.62005454e-03, -5.66369984e-03,\n",
              "          3.63620833e-02,  1.17052565e-01,  3.16036389e-01,\n",
              "         -4.57852035e-01,  4.30631172e-01, -5.47248602e-02,\n",
              "         -1.15785595e-02, -2.19305066e-01, -3.99529300e-01,\n",
              "         -4.75432911e-01,  2.28611887e-01,  2.14825567e-02,\n",
              "          1.92696141e-02],\n",
              "        [ 3.26918651e-03, -8.03170616e-03,  2.76424904e-02,\n",
              "         -2.63310848e-02, -6.16763355e-02, -2.90085601e-01,\n",
              "          2.71883375e-01,  5.16724747e-01, -2.25300658e-01,\n",
              "         -2.89873213e-01,  3.40529541e-01,  3.43399529e-01,\n",
              "         -2.42227862e-01,  3.46894104e-01,  4.82110687e-02,\n",
              "          1.39943117e-01],\n",
              "        [ 2.27251757e-03, -6.61132613e-03,  2.85016056e-02,\n",
              "         -2.76694414e-02, -4.16174803e-02, -3.03081614e-01,\n",
              "          2.45438424e-01,  5.88178930e-01, -8.42492430e-02,\n",
              "          1.71826714e-01, -3.10355537e-01, -3.51325282e-01,\n",
              "          3.85046636e-01, -2.87925020e-01,  3.26129374e-02,\n",
              "         -9.99526487e-02],\n",
              "        [ 2.62337968e-01, -3.25869370e-01,  4.60879478e-01,\n",
              "         -2.49184477e-01, -2.56818657e-01,  5.20066165e-02,\n",
              "         -1.18628693e-01, -8.56572457e-02, -6.25195171e-02,\n",
              "         -2.18744940e-01, -3.65301044e-01,  4.93586572e-02,\n",
              "          2.83228490e-01,  3.02098322e-01,  1.40070382e-01,\n",
              "          2.85786725e-01],\n",
              "        [-4.87012623e-01, -1.00223484e-01,  2.50362861e-01,\n",
              "          3.10422864e-01, -3.81006293e-01,  2.62900063e-01,\n",
              "          1.55732759e-01,  1.87351447e-02, -1.94456082e-01,\n",
              "         -8.95613920e-02, -1.14552112e-01,  3.20143461e-02,\n",
              "         -4.28769205e-03,  1.16220856e-02, -5.26211685e-01,\n",
              "         -1.33455593e-01],\n",
              "        [ 1.12292171e-03, -3.13923158e-02, -3.85288030e-02,\n",
              "         -1.98698733e-01, -3.98074686e-01, -1.93208730e-01,\n",
              "         -1.75051188e-01, -7.78378404e-02, -1.97300502e-01,\n",
              "          6.02091595e-01,  3.70560163e-01, -2.52952494e-01,\n",
              "          8.32021099e-03,  2.09372254e-01, -1.71061070e-01,\n",
              "          2.22808118e-01],\n",
              "        [ 3.64484215e-02,  3.32806406e-02,  2.51281814e-01,\n",
              "          3.72840303e-01,  6.13469478e-01, -2.25375155e-05,\n",
              "          1.68332456e-01, -1.74541345e-02, -1.09864157e-03,\n",
              "          3.16941468e-01, -3.53518751e-02, -1.79637498e-03,\n",
              "          1.74485237e-01,  3.37876747e-01, -2.14855480e-01,\n",
              "          3.12971966e-01],\n",
              "        [ 2.45434715e-01, -2.25307658e-01,  6.69653744e-01,\n",
              "          8.52231142e-02,  9.71177700e-02, -1.54617099e-01,\n",
              "         -8.82222227e-02,  9.84037293e-04,  1.42435602e-02,\n",
              "          7.90605501e-02,  3.08830630e-01, -5.40144316e-02,\n",
              "         -2.68275114e-01, -3.27972985e-01,  1.61717910e-05,\n",
              "         -3.28468453e-01],\n",
              "        [ 2.74046235e-01,  5.51348924e-01,  6.52137058e-02,\n",
              "          2.64496614e-01, -1.62071337e-01, -2.25042353e-01,\n",
              "         -2.08511086e-01, -9.71905255e-02, -3.02458410e-01,\n",
              "          7.99430806e-02, -2.57883989e-01,  1.86959636e-01,\n",
              "          4.13983534e-02,  2.38231128e-01,  3.94204734e-02,\n",
              "         -3.96882574e-01],\n",
              "        [ 7.31609408e-04, -2.21783319e-03,  1.06114473e-02,\n",
              "         -2.37872205e-02, -8.52382052e-02, -3.31364170e-01,\n",
              "          4.96423608e-01, -3.28766051e-01,  1.26848837e-01,\n",
              "         -3.02510760e-02, -3.16935438e-01, -3.59283452e-01,\n",
              "         -5.01052000e-01,  1.70110361e-01,  3.21695852e-02,\n",
              "          1.26839401e-02],\n",
              "        [-2.12032897e-01,  5.32232126e-01,  3.66340093e-01,\n",
              "         -5.86101365e-01,  1.06695886e-01,  3.06012246e-01,\n",
              "          2.29235055e-01,  4.37407478e-02,  4.93621796e-02,\n",
              "          9.19177481e-02,  6.59589298e-02, -1.71820298e-02,\n",
              "          1.50200931e-02,  7.73660913e-02,  4.68801417e-02,\n",
              "         -1.03060702e-01],\n",
              "        [ 8.36590467e-03, -2.96905532e-02,  1.88688139e-02,\n",
              "         -1.07371908e-01, -1.29869233e-01, -1.44044439e-01,\n",
              "         -1.18229095e-01,  2.21179198e-01,  6.31084603e-01,\n",
              "          3.22466800e-01, -2.73026566e-01,  4.63512602e-01,\n",
              "         -1.68389920e-01,  2.07797608e-02, -2.57053692e-01,\n",
              "         -1.21216301e-02],\n",
              "        [ 6.63846002e-01,  1.36246006e-03, -2.00218399e-01,\n",
              "         -1.90980545e-01,  1.54933018e-02,  2.63198364e-01,\n",
              "          2.30804826e-01,  4.60495750e-02, -9.29132243e-02,\n",
              "         -9.28387829e-02,  2.16413508e-02, -4.84519778e-02,\n",
              "         -2.64666167e-02, -5.48555521e-02, -5.74258042e-01,\n",
              "         -6.55060295e-02],\n",
              "        [ 2.50034018e-01,  3.42593346e-01,  1.26654625e-01,\n",
              "          4.20145370e-01, -3.91636969e-01,  2.77750967e-01,\n",
              "          1.70413356e-01,  1.08512306e-01,  2.91291049e-01,\n",
              "          5.86904692e-03,  1.49348232e-01, -9.37726883e-02,\n",
              "         -2.53182554e-02, -1.73327122e-01,  2.38512683e-01,\n",
              "          3.90709326e-01]]))"
            ]
          },
          "metadata": {},
          "execution_count": 44
        }
      ]
    },
    {
      "cell_type": "code",
      "metadata": {
        "colab": {
          "base_uri": "https://localhost:8080/"
        },
        "id": "wEeoxSwLyE3j",
        "outputId": "7c9f42d5-93a2-48ae-c61f-2f5c271d6558"
      },
      "source": [
        "# Predict with the quantum circuit\n",
        "backend = Aer.get_backend('qasm_simulator')\n",
        "prob_test_mixed = np.zeros(250)\n",
        "\n",
        "exp_time = time()\n",
        "for i in range(len(prob_test_mixed)):\n",
        "  qc = QuantumCircuit(8, 4)\n",
        "  qc.initialize(X_feat_test[i], [0, 1, 2, 3])\n",
        "  qc.initialize(np.sqrt(lambda_train, dtype = np.float64), [4, 5, 6, 7])\n",
        "  qc.isometry(U_train.T, [], [0, 1, 2, 3]) # ArbRot as a isometry\n",
        "  qc.cnot(7, 3)\n",
        "  qc.cnot(6, 2)\n",
        "  qc.cnot(5, 1)\n",
        "  qc.cnot(4, 0)\n",
        "  qc.measure(0, 0)\n",
        "  qc.measure(1, 1)\n",
        "  qc.measure(2, 2)\n",
        "  qc.measure(3, 3)\n",
        "  counts = execute(qc, backend, shots=10000).result().get_counts()\n",
        "  prob_zero = (counts[\"0000\"]/10000)\n",
        "  prob_test_mixed[i] = prob_zero\n",
        "  if i % 10 == 0:\n",
        "    print(i)\n",
        "    print(time() - exp_time)\n",
        "    exp_time = time()"
      ],
      "execution_count": null,
      "outputs": [
        {
          "output_type": "stream",
          "name": "stdout",
          "text": [
            "0\n",
            "10.685803174972534\n",
            "10\n",
            "103.40195870399475\n",
            "20\n",
            "103.74765133857727\n",
            "30\n",
            "103.71568632125854\n",
            "40\n",
            "103.55290651321411\n",
            "50\n",
            "108.12654328346252\n",
            "60\n",
            "103.71877217292786\n",
            "70\n",
            "103.65322875976562\n",
            "80\n",
            "104.24595355987549\n",
            "90\n",
            "103.60946369171143\n",
            "100\n",
            "103.48164296150208\n",
            "110\n",
            "103.90748643875122\n",
            "120\n",
            "103.55590033531189\n",
            "130\n",
            "103.48113203048706\n",
            "140\n",
            "103.84045147895813\n",
            "150\n",
            "103.6746301651001\n",
            "160\n",
            "103.85183334350586\n",
            "170\n",
            "103.78565764427185\n",
            "180\n",
            "103.15175127983093\n",
            "190\n",
            "103.7325005531311\n",
            "200\n",
            "104.15579414367676\n",
            "210\n",
            "103.49840307235718\n",
            "220\n",
            "103.18597960472107\n",
            "230\n",
            "103.97791171073914\n",
            "240\n",
            "103.48532247543335\n"
          ]
        }
      ]
    },
    {
      "cell_type": "code",
      "metadata": {
        "id": "T-7vzR6j5Bt9"
      },
      "source": [
        "prob_test_mixed_2 = calculate_constant_qmkde(2) * prob_test_mixed"
      ],
      "execution_count": null,
      "outputs": []
    },
    {
      "cell_type": "code",
      "metadata": {
        "colab": {
          "base_uri": "https://localhost:8080/",
          "height": 310
        },
        "id": "yGatBLFaKVIu",
        "outputId": "f553e039-8d3d-4563-b6da-3f4d1aeeea57"
      },
      "source": [
        "params = {\n",
        "   'axes.labelsize': 8,\n",
        "   'legend.fontsize': 10,\n",
        "   'xtick.labelsize': 10,\n",
        "   'ytick.labelsize': 10,\n",
        "   'text.usetex': False,\n",
        "   'figure.figsize': [5.5, 4.5]\n",
        "   }\n",
        "plt.rcParams.update(params)\n",
        "\n",
        "plt.plot(X_plot[:, 0], true_dens, \"maroon\", label='True pdf')\n",
        "colors = ['navy']\n",
        "kernels = ['gaussian']\n",
        "lw = 2\n",
        "plt.plot(X_plot[:, 0], prob_test_mixed_2, color='#006BB2', lw=lw,\n",
        "            linestyle='-', label=\"DMKDE Mixed\")    \n",
        "plt.text(4, 0.25, f\"DM 16x16\")\n",
        "plt.legend(loc='upper left')\n",
        "plt.xlabel('')\n",
        "plt.ylabel('Probability')"
      ],
      "execution_count": null,
      "outputs": [
        {
          "output_type": "execute_result",
          "data": {
            "text/plain": [
              "Text(0, 0.5, 'Probability')"
            ]
          },
          "metadata": {},
          "execution_count": 49
        },
        {
          "output_type": "display_data",
          "data": {
            "image/png": "[encoded data removed]",
            "text/plain": [
              "<Figure size 396x324 with 1 Axes>"
            ]
          },
          "metadata": {
            "needs_background": "light"
          }
        }
      ]
    },
    {
      "cell_type": "markdown",
      "metadata": {
        "id": "M8-a0caaF22l"
      },
      "source": [
        "### (16x16) DMKDE Pure State"
      ]
    },
    {
      "cell_type": "code",
      "metadata": {
        "id": "BI1Mwjh_EZ5b"
      },
      "source": [
        "def calculate_constant_qmkde_pure(gamma=1):\n",
        "  constant_kernel = (2*np.pi)**(-1/2)\n",
        "  sigma = (2*gamma)**(-1/2)\n",
        "  constant_outside = 1/(sigma)\n",
        "  return constant_kernel * constant_outside"
      ],
      "execution_count": null,
      "outputs": []
    },
    {
      "cell_type": "code",
      "metadata": {
        "id": "6TTZqQc6Gptw"
      },
      "source": [
        "# Given the eigenvalues this function return a Unitary gate which converts the |0> -> |lambda>\n",
        "def create_U_train(x_train_param, seed=0):\n",
        "  np.random.seed(seed)\n",
        "  size_U = len(x_train_param)\n",
        "  U_train = np.zeros((size_U, size_U))\n",
        "  x_1 = x_train_param\n",
        "  U_train[:, 0] = x_1\n",
        "  for i in range(1, size_U):\n",
        "    x_i = np.random.randn(size_U)\n",
        "    for j in range(0, i):\n",
        "      x_i -= x_i.dot(U_train[:, j]) * U_train[:, j]\n",
        "    x_i = x_i/np.linalg.norm(x_i)\n",
        "    U_train[:, i] = x_i\n",
        "  \n",
        "  return U_train"
      ],
      "execution_count": null,
      "outputs": []
    },
    {
      "cell_type": "code",
      "metadata": {
        "id": "cPC32fCjGAXG"
      },
      "source": [
        "# ----------------------------------------------------------------------\n",
        "# Plot a 1D density example\n",
        "N = 1000\n",
        "np.random.seed(1)\n",
        "X = np.concatenate((np.random.normal(-1, 1, int(0.65 * N)),\n",
        "                    np.random.normal(3, 1, int(0.35 * N))))[:, np.newaxis]\n",
        "\n",
        "X_plot = np.linspace(-7, 7, 250)[:, np.newaxis]\n",
        "\n",
        "true_dens = (0.65 * norm(-1, 1).pdf(X_plot[:, 0])\n",
        "             + 0.35 * norm(3, 1).pdf(X_plot[:, 0]))"
      ],
      "execution_count": null,
      "outputs": []
    },
    {
      "cell_type": "code",
      "metadata": {
        "id": "85BVgM5VGGEK"
      },
      "source": [
        "from sklearn.kernel_approximation import RBFSampler\n",
        "\"\"\"\n",
        "  Code from https://arxiv.org/abs/2004.01227\n",
        "\"\"\"\n",
        "class QFeatureMap: \n",
        "\n",
        "  def get_dim(self, num_features):\n",
        "    pass\n",
        "\n",
        "  def batch2wf(self, X):\n",
        "    pass\n",
        "\n",
        "  def batch2dm(self, X):\n",
        "    pass\n",
        "\n",
        "  def batch2dm(self, X):\n",
        "    psi = self.batch2wf(X)\n",
        "    rho = np.einsum('...i,...j', psi, np.conj(psi))\n",
        "    return rho\n",
        "\n",
        "class QFeatureMap_rff(QFeatureMap):\n",
        "\n",
        "  def __init__(self, rbf_sampler):\n",
        "    self.rbf_sampler = rbf_sampler\n",
        "    self.weights = np.array(rbf_sampler.random_weights_)\n",
        "    self.offset = np.array(rbf_sampler.random_offset_)\n",
        "    self.dim = rbf_sampler.get_params()['n_components']\n",
        "\n",
        "  def get_dim(self, num_features):\n",
        "    return self.dim\n",
        "\n",
        "  def batch2wf(self, X):\n",
        "    vals = np.dot(X, self.weights) + self.offset\n",
        "    vals = np.cos(vals)\n",
        "    vals *= np.sqrt(2.) / np.sqrt(self.dim)\n",
        "    norms = np.linalg.norm(vals, axis=1)\n",
        "    psi = vals / norms[:, np.newaxis]\n",
        "    return psi"
      ],
      "execution_count": null,
      "outputs": []
    },
    {
      "cell_type": "code",
      "metadata": {
        "colab": {
          "base_uri": "https://localhost:8080/"
        },
        "id": "e0VtPL3rGGEL",
        "outputId": "11600410-f0d4-4434-c0b9-c6f85a36b19b"
      },
      "source": [
        "# Create the RandomFourierFeature map\n",
        "dim = 16\n",
        "rm_state = 2 # originally 1\n",
        "feature_map_fourier = RBFSampler(gamma=2, n_components=dim, random_state=rm_state)\n",
        "X_feat_train = feature_map_fourier.fit(X)\n",
        "rffmap = QFeatureMap_rff(rbf_sampler=feature_map_fourier)\n",
        "X_feat_train = rffmap.batch2wf(X)\n",
        "\n",
        "X_feat_test = rffmap.batch2wf(X_plot)\n",
        "\n",
        "X_feat_train.shape, X_feat_test.shape"
      ],
      "execution_count": null,
      "outputs": [
        {
          "output_type": "execute_result",
          "data": {
            "text/plain": [
              "((1000, 16), (250, 16))"
            ]
          },
          "metadata": {},
          "execution_count": 54
        }
      ]
    },
    {
      "cell_type": "code",
      "metadata": {
        "colab": {
          "base_uri": "https://localhost:8080/"
        },
        "id": "-Ir7-Wp7GLug",
        "outputId": "934167a7-c94c-488a-905e-6912d7ed865c"
      },
      "source": [
        "## Training pure state and create the Unitary matrix to initialize such state\n",
        "\n",
        "psi_train = X_feat_train.sum(axis = 0)\n",
        "psi_train = psi_train / np.linalg.norm(psi_train)\n",
        "\n",
        "U_train = create_U_train(psi_train)\n",
        "\n",
        "(psi_train**2).sum()"
      ],
      "execution_count": null,
      "outputs": [
        {
          "output_type": "execute_result",
          "data": {
            "text/plain": [
              "1.0"
            ]
          },
          "metadata": {},
          "execution_count": 55
        }
      ]
    },
    {
      "cell_type": "code",
      "metadata": {
        "colab": {
          "base_uri": "https://localhost:8080/"
        },
        "id": "Jx6_xah6fO5o",
        "outputId": "c4c93110-6446-45e8-f402-7832407126e2"
      },
      "source": [
        "## Expected result \n",
        "psi_train_total = (X_feat_train.sum(axis = 0) / np.linalg.norm(X_feat_train.sum(axis = 0))).reshape(-1, 1)\n",
        "prob_test_16_expected = X_feat_test @ psi_train_total\n",
        "prob_test_16_expected = calculate_constant_qmkde_pure(2) * np.sqrt(prob_test_16_expected**2) * np.linalg.norm(X_feat_train.sum(axis = 0)) / 1000\n",
        "psi_train_total.shape, X_feat_test.shape, prob_test_16_expected.shape"
      ],
      "execution_count": null,
      "outputs": [
        {
          "output_type": "execute_result",
          "data": {
            "text/plain": [
              "((16, 1), (250, 16), (250, 1))"
            ]
          },
          "metadata": {},
          "execution_count": 56
        }
      ]
    },
    {
      "cell_type": "code",
      "metadata": {
        "colab": {
          "base_uri": "https://localhost:8080/",
          "height": 310
        },
        "id": "pNOJBuEygWfu",
        "outputId": "5803ebbf-7d30-45d5-cc6f-94d91379e5bc"
      },
      "source": [
        "# Expected result in a classical computer\n",
        "params = {\n",
        "   'axes.labelsize': 8,\n",
        "   'legend.fontsize': 10,\n",
        "   'xtick.labelsize': 10,\n",
        "   'ytick.labelsize': 10,\n",
        "   'text.usetex': False,\n",
        "   'figure.figsize': [5.5, 4.5]\n",
        "   }\n",
        "plt.rcParams.update(params)\n",
        "\n",
        "plt.plot(X_plot[:, 0], true_dens, \"maroon\", label='True pdf')\n",
        "colors = ['navy']\n",
        "kernels = ['gaussian']\n",
        "lw = 2\n",
        "#plt.plot(X_plot[:, 0], prob_test_16_expected.ravel(), color='green', lw=lw,\n",
        "            # linestyle='-', label=\"DMKDE Pure\")  \n",
        "plt.plot(X_plot[:, 0], prob_test_16_expected.ravel(), label=\"DMKDE Pure\") \n",
        "plt.text(4, 0.25, f\"DM 16x16\")\n",
        "plt.legend(loc='upper left')\n",
        "plt.xlabel('')\n",
        "plt.ylabel('Probability')"
      ],
      "execution_count": null,
      "outputs": [
        {
          "output_type": "execute_result",
          "data": {
            "text/plain": [
              "Text(0, 0.5, 'Probability')"
            ]
          },
          "metadata": {},
          "execution_count": 58
        },
        {
          "output_type": "display_data",
          "data": {
            "image/png": "[encoded data removed]",
            "text/plain": [
              "<Figure size 396x324 with 1 Axes>"
            ]
          },
          "metadata": {
            "needs_background": "light"
          }
        }
      ]
    },
    {
      "cell_type": "code",
      "metadata": {
        "colab": {
          "base_uri": "https://localhost:8080/"
        },
        "id": "fGPuxb9_HDUE",
        "outputId": "04dfdf96-0699-42a3-cbb9-d25078ea6d51"
      },
      "source": [
        "# Predict with the pure state quantum circuit\n",
        "prob_test = np.zeros(250)\n",
        "backend = Aer.get_backend('qasm_simulator')\n",
        "exp_time = time()\n",
        "\n",
        "for i in range(len(prob_test)):\n",
        "  #\"\"\"\n",
        "  qc = QuantumCircuit(4, 4)\n",
        "  qc.initialize(X_feat_test[i], [0, 1, 2, 3])\n",
        "  qc.isometry(U_train.T, [], [0, 1, 2, 3]) # ArbRot as a isometry\n",
        "  qc.measure(0, 0)\n",
        "  qc.measure(1, 1)\n",
        "  qc.measure(2, 2)\n",
        "  qc.measure(3, 3)\n",
        "  counts = execute(qc, backend, shots=10000).result().get_counts()\n",
        "  try:\n",
        "    prob_zero = (counts[\"0000\"]/10000)\n",
        "  except:\n",
        "    prob_zero = 0\n",
        "  prob_test[i] = prob_zero\n",
        "  if i % 10 == 0:\n",
        "    print(i)\n",
        "    print(time() - exp_time)\n",
        "    exp_time = time()"
      ],
      "execution_count": null,
      "outputs": [
        {
          "output_type": "stream",
          "name": "stdout",
          "text": [
            "0\n",
            "2.7068257331848145\n",
            "10\n",
            "24.05736780166626\n",
            "20\n",
            "23.878232717514038\n",
            "30\n",
            "24.635027647018433\n",
            "40\n",
            "23.471964359283447\n",
            "50\n",
            "23.447585344314575\n",
            "60\n",
            "24.054346084594727\n",
            "70\n",
            "23.90100908279419\n",
            "80\n",
            "24.12700867652893\n",
            "90\n",
            "24.507858991622925\n",
            "100\n",
            "24.163734912872314\n",
            "110\n",
            "23.561205625534058\n",
            "120\n",
            "23.547842741012573\n",
            "130\n",
            "23.78159809112549\n",
            "140\n",
            "23.780375957489014\n",
            "150\n",
            "24.738229274749756\n",
            "160\n",
            "24.042202711105347\n",
            "170\n",
            "24.1181857585907\n",
            "180\n",
            "24.31393265724182\n",
            "190\n",
            "23.36166214942932\n",
            "200\n",
            "23.55500054359436\n",
            "210\n",
            "23.418930053710938\n",
            "220\n",
            "23.71921706199646\n",
            "230\n",
            "23.528968572616577\n",
            "240\n",
            "23.778280019760132\n"
          ]
        }
      ]
    },
    {
      "cell_type": "code",
      "metadata": {
        "id": "Ra-KV777E-ZX"
      },
      "source": [
        "prob_test_pure = calculate_constant_qmkde_pure(2) * np.sqrt(prob_test) * (1/1000) * np.linalg.norm(X_feat_train.sum(axis = 0))"
      ],
      "execution_count": null,
      "outputs": []
    },
    {
      "cell_type": "code",
      "metadata": {
        "colab": {
          "base_uri": "https://localhost:8080/",
          "height": 310
        },
        "id": "K4o-hXbKIUw4",
        "outputId": "51c80737-7ba8-41f9-ac53-609dbbc2b310"
      },
      "source": [
        "params = {\n",
        "   'axes.labelsize': 8,\n",
        "   'legend.fontsize': 10,\n",
        "   'xtick.labelsize': 10,\n",
        "   'ytick.labelsize': 10,\n",
        "   'text.usetex': False,\n",
        "   'figure.figsize': [5.5, 4.5]\n",
        "   }\n",
        "plt.rcParams.update(params)\n",
        "\n",
        "plt.plot(X_plot[:, 0], true_dens, \"maroon\", label='True pdf')\n",
        "colors = ['navy']\n",
        "kernels = ['gaussian']\n",
        "lw = 2\n",
        "plt.plot(X_plot[:, 0], prob_test_pure, color='green', lw=lw,\n",
        "            linestyle='-', label=\"DMKDE Pure\")    \n",
        "#plt.text(4, 0.25, f\"DM 16x16\")\n",
        "plt.legend(loc='upper left')\n",
        "plt.xlabel('')\n",
        "plt.ylabel('Probability')"
      ],
      "execution_count": null,
      "outputs": [
        {
          "output_type": "execute_result",
          "data": {
            "text/plain": [
              "Text(0, 0.5, 'Probability')"
            ]
          },
          "metadata": {},
          "execution_count": 62
        },
        {
          "output_type": "display_data",
          "data": {
            "image/png": "[encoded data removed]",
            "text/plain": [
              "<Figure size 396x324 with 1 Axes>"
            ]
          },
          "metadata": {
            "needs_background": "light"
          }
        }
      ]
    },
    {
      "cell_type": "markdown",
      "metadata": {
        "id": "3VtwF7_jV74w"
      },
      "source": [
        "### Summary of Mixed and Pure"
      ]
    },
    {
      "cell_type": "code",
      "metadata": {
        "colab": {
          "base_uri": "https://localhost:8080/",
          "height": 310
        },
        "id": "9zz13ZbBNTTu",
        "outputId": "1ac39dd7-045c-4a0a-8655-7935b72fa264"
      },
      "source": [
        "params = {\n",
        "   'axes.labelsize': 8,\n",
        "   'legend.fontsize': 10,\n",
        "   'xtick.labelsize': 10,\n",
        "   'ytick.labelsize': 10,\n",
        "   'text.usetex': False,\n",
        "   'figure.figsize': [5.5, 4.5]\n",
        "   }\n",
        "plt.rcParams.update(params)\n",
        "\n",
        "plt.plot(X_plot[:, 0], true_dens, \"maroon\", label='True pdf')\n",
        "colors = ['navy']\n",
        "kernels = ['gaussian']\n",
        "lw = 2\n",
        "plt.plot(X_plot[:, 0], prob_test_mixed_2, color='#006BB2', lw=lw,\n",
        "            linestyle='-', label=\"DMKDE Mixed\") \n",
        "plt.plot(X_plot[:, 0], prob_test_pure, color='green', lw=lw,\n",
        "            linestyle='-', label=\"DMKDE Pure\")    \n",
        "plt.text(4, 0.25, f\"DM 16x16\")\n",
        "plt.legend(loc='upper left')\n",
        "plt.xlabel('')\n",
        "plt.ylabel('Probability')"
      ],
      "execution_count": null,
      "outputs": [
        {
          "output_type": "execute_result",
          "data": {
            "text/plain": [
              "Text(0, 0.5, 'Probability')"
            ]
          },
          "metadata": {},
          "execution_count": 64
        },
        {
          "output_type": "display_data",
          "data": {
            "image/png": "[encoded data removed]",
            "text/plain": [
              "<Figure size 396x324 with 1 Axes>"
            ]
          },
          "metadata": {
            "needs_background": "light"
          }
        }
      ]
    },
    {
      "cell_type": "markdown",
      "metadata": {
        "id": "qRRJH16PSkd0"
      },
      "source": [
        "The Mixed state creates a better estimation of the probability density function, compared with the pure state.\n",
        "\n"
      ]
    },
    {
      "cell_type": "markdown",
      "metadata": {
        "id": "nVKLAsxHTOLb"
      },
      "source": [
        "## Acknowledgements\n",
        "\n",
        "The team thanks specially to our mentor Fabio González for his valuable help and support. Also, we acknowledge the use of IBM Quantum services."
      ]
    },
    {
      "cell_type": "markdown",
      "metadata": {
        "id": "hwS8L9fRRtKY"
      },
      "source": [
        "## References\n",
        "\n",
        "[González2021] Fabio  A.  González,  Alejandro  Gallego,  Santiago  Toledo-Cortés,  and Vladimir Vargas-Calderón.  Learning with Density Matrices and Random Features.  2021.  URL http://arxiv.org/abs/2102.04394.\n",
        "\n",
        "[QTML2021] Fabio A. González,  Vladimir Vargas-Calderón, Alejandro Gallego, Herbert Vinck-Posada. NON-PARAMETRIC MULTIVARIATE CONTINUOUS DENSITY ESTIMATION IN A QUANTUM COMPUTER. 2021.\n",
        "\n",
        "[Useche2021] Diego H Useche, Andres Giraldo-Carvajal, Hernan M Zuluaga-Bucheli, Jose A Jaramillo-Villegas, and Fabio A González. Quantum measurement classification with qudits. arXiv preprint arXiv:2107.09781, 2021.\n",
        "\n",
        "[Parzen1962] Parzen, E. On estimation of a probability density function and mode. The annals of mathematical statistics, 33(3): 1065–1076, 1962\t\n",
        "\n",
        "[Rahimi2007] Rahimi, A. and Recht, B. Random features for large-scale kernel machines. In Proceedings of the 20th International Conference on Neural Information Processing Systems, NIPS’07, pp. 1177–1184, Red Hook, NY, USA, 2007. Curran Associates Inc. ISBN 9781605603520."
      ]
    },
    {
      "cell_type": "code",
      "metadata": {
        "id": "m5xRbTh0R0q9"
      },
      "source": [
        ""
      ],
      "execution_count": null,
      "outputs": []
    }
  ]
}