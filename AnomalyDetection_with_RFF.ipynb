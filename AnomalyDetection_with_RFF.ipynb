{
  "nbformat": 4,
  "nbformat_minor": 0,
  "metadata": {
    "colab": {
      "name": "AnomalyDetection with RFF.ipynb",
      "provenance": [],
      "collapsed_sections": [],
      "toc_visible": true
    },
    "kernelspec": {
      "name": "python3",
      "display_name": "Python 3"
    },
    "language_info": {
      "name": "python"
    }
  },
  "cells": [
    {
      "cell_type": "markdown",
      "metadata": {
        "id": "Gjduwd_1mBcJ"
      },
      "source": [
        "\n",
        "## Quantum Anomaly Detection with Quantum Density Estimation\n",
        "\n",
        "### Anomaly Detection with RFF\n",
        "\n",
        "\n",
        "\n",
        "### Qiskit Hackathon Global 2021\n",
        "\n",
        "---\n",
        "\n",
        "**Group: Quantum Mind UN**\n",
        "\n",
        "Diego Useche - diusecher@unal.edu.co\n",
        "\n",
        "Oscar Alberto Bustos B. - oabustosb@unal.edu.co"
      ]
    },
    {
      "cell_type": "markdown",
      "metadata": {
        "id": "AtJM6pPmNIoy"
      },
      "source": [
        "**The problem:**\n",
        "\n",
        "Anomaly Detection: \n",
        "A common need when analyzing datasets is to find which observations deviates considerably from others. Such instances are known as anomalies or outliers, and the goal of anomaly detection (AD) is to detect those atypical or irregular data, generally in unsupervised scenarios. AD has many applications across a wide variety of domains, including intrusion or fraud detection in cybersecurity, industrial monitoring, disease detection for medical diagnosis and rare event detection in science.\n",
        "\n",
        "Can we build a quantum circuit to perform Anomaly Detection?\n",
        "\n",
        "**Our Approach**\n",
        "\n",
        "Anomaly Detection based on Density Estimation:\n",
        "\n",
        "*   Use normal data to induce a probability density function (pdf) (Density Estimation)\n",
        "*   Use the pdf to estimate the density of new samples. If the density is below a threshold, then classify it as anomaly.\n",
        "\n",
        "Quantum Density Estimation:\n",
        "\n",
        "*   Combine Density Matrices with RFF [Rahimi2007] to perform Density Estimation [González2021]\n",
        "*   Propose a quantum circuit to estimate expected values of density matrices.\n",
        "\n",
        "**Main contributions**\n",
        "\n",
        "*   We developed a new method for Anomaly Detection in quantum computers.\n",
        "*   We implemented the method in a quantum circuit and showed that it’s a feasible approach.\n",
        "*   Most quantum machine learning algorithms are based on pure states. Our \n",
        "algorithm can work with mixed states and pure states.\n",
        "*   We develop a new method to calculate the expected value of a density matrix.\n",
        "*  We used this method to approximate a probability density function (pdf) in a quantum computer.\n"
      ]
    },
    {
      "cell_type": "markdown",
      "metadata": {
        "id": "jnw6bkPYVE8u"
      },
      "source": [
        "## Data Load\n",
        "\n",
        "We will work with the following datasets: \n",
        "\n",
        "*   SpamBase: dataset from UCI Machine Learning Repository, includes 3485 emails classified as spam or non-spam. This dataset has 58 attributes. We treat spam as outliers. The anomaly ratio is 0.2\n",
        "*   Cardiotocography: data is also from UCI Machine Learning Repository and is related to heart diseases. This dataset contains 22 attributes. It describes 3\n",
        "classes: normal, suspect, and pathological. Normal patients are treated as inliers and the remaining as outliers. The anomaly ratio is 0.2\n",
        "\n"
      ]
    },
    {
      "cell_type": "markdown",
      "metadata": {
        "id": "5aNObIv1zMcn"
      },
      "source": [
        "### Imports and Libraries"
      ]
    },
    {
      "cell_type": "code",
      "metadata": {
        "id": "G3j4e9gmvZFB"
      },
      "source": [
        "import numpy as np\n",
        "from sklearn.decomposition import PCA\n",
        "import matplotlib.pyplot as plt"
      ],
      "execution_count": null,
      "outputs": []
    },
    {
      "cell_type": "code",
      "metadata": {
        "colab": {
          "base_uri": "https://localhost:8080/"
        },
        "id": "q2foJkcPPOwJ",
        "outputId": "55c1b628-0858-4e95-8a9f-4e14211d9b91"
      },
      "source": [
        "!pip install qiskit\n",
        "!pip install pylatexenc"
      ],
      "execution_count": null,
      "outputs": [
        {
          "output_type": "stream",
          "name": "stdout",
          "text": [
            "Collecting qiskit\n",
            "  Downloading qiskit-0.32.0.tar.gz (13 kB)\n",
            "Collecting qiskit-terra==0.18.3\n",
            "  Downloading qiskit_terra-0.18.3-cp37-cp37m-manylinux2010_x86_64.whl (6.1 MB)\n",
            "\u001b[K     |████████████████████████████████| 6.1 MB 5.0 MB/s \n",
            "\u001b[?25hCollecting qiskit-aer==0.9.1\n",
            "  Downloading qiskit_aer-0.9.1-cp37-cp37m-manylinux_2_12_x86_64.manylinux2010_x86_64.whl (17.9 MB)\n",
            "\u001b[K     |████████████████████████████████| 17.9 MB 112 kB/s \n",
            "\u001b[?25hCollecting qiskit-ibmq-provider==0.18.0\n",
            "  Downloading qiskit_ibmq_provider-0.18.0-py3-none-any.whl (237 kB)\n",
            "\u001b[K     |████████████████████████████████| 237 kB 43.6 MB/s \n",
            "\u001b[?25hCollecting qiskit-ignis==0.6.0\n",
            "  Downloading qiskit_ignis-0.6.0-py3-none-any.whl (207 kB)\n",
            "\u001b[K     |████████████████████████████████| 207 kB 47.4 MB/s \n",
            "\u001b[?25hCollecting qiskit-aqua==0.9.5\n",
            "  Downloading qiskit_aqua-0.9.5-py3-none-any.whl (2.1 MB)\n",
            "\u001b[K     |████████████████████████████████| 2.1 MB 56.4 MB/s \n",
            "\u001b[?25hRequirement already satisfied: numpy>=1.16.3 in /usr/local/lib/python3.7/dist-packages (from qiskit-aer==0.9.1->qiskit) (1.19.5)\n",
            "Requirement already satisfied: scipy>=1.0 in /usr/local/lib/python3.7/dist-packages (from qiskit-aer==0.9.1->qiskit) (1.4.1)\n",
            "Collecting yfinance>=0.1.62\n",
            "  Downloading yfinance-0.1.66-py2.py3-none-any.whl (25 kB)\n",
            "Requirement already satisfied: psutil>=5 in /usr/local/lib/python3.7/dist-packages (from qiskit-aqua==0.9.5->qiskit) (5.4.8)\n",
            "Collecting retworkx>=0.8.0\n",
            "  Downloading retworkx-0.10.2-cp37-cp37m-manylinux_2_5_x86_64.manylinux1_x86_64.manylinux_2_12_x86_64.manylinux2010_x86_64.whl (1.4 MB)\n",
            "\u001b[K     |████████████████████████████████| 1.4 MB 54.0 MB/s \n",
            "\u001b[?25hRequirement already satisfied: pandas in /usr/local/lib/python3.7/dist-packages (from qiskit-aqua==0.9.5->qiskit) (1.1.5)\n",
            "Collecting docplex>=2.21.207\n",
            "  Downloading docplex-2.22.213.tar.gz (634 kB)\n",
            "\u001b[K     |████████████████████████████████| 634 kB 52.7 MB/s \n",
            "\u001b[?25hRequirement already satisfied: sympy>=1.3 in /usr/local/lib/python3.7/dist-packages (from qiskit-aqua==0.9.5->qiskit) (1.7.1)\n",
            "Collecting dlx<=1.0.4\n",
            "  Downloading dlx-1.0.4.tar.gz (5.5 kB)\n",
            "Requirement already satisfied: h5py<3.3.0 in /usr/local/lib/python3.7/dist-packages (from qiskit-aqua==0.9.5->qiskit) (3.1.0)\n",
            "Requirement already satisfied: fastdtw<=0.3.4 in /usr/local/lib/python3.7/dist-packages (from qiskit-aqua==0.9.5->qiskit) (0.3.4)\n",
            "Collecting quandl\n",
            "  Downloading Quandl-3.7.0-py2.py3-none-any.whl (26 kB)\n",
            "Requirement already satisfied: setuptools>=40.1.0 in /usr/local/lib/python3.7/dist-packages (from qiskit-aqua==0.9.5->qiskit) (57.4.0)\n",
            "Requirement already satisfied: scikit-learn>=0.20.0 in /usr/local/lib/python3.7/dist-packages (from qiskit-aqua==0.9.5->qiskit) (1.0.1)\n",
            "Collecting requests-ntlm>=1.1.0\n",
            "  Downloading requests_ntlm-1.1.0-py2.py3-none-any.whl (5.7 kB)\n",
            "Requirement already satisfied: urllib3>=1.21.1 in /usr/local/lib/python3.7/dist-packages (from qiskit-ibmq-provider==0.18.0->qiskit) (1.24.3)\n",
            "Collecting websocket-client>=1.0.1\n",
            "  Downloading websocket_client-1.2.1-py2.py3-none-any.whl (52 kB)\n",
            "\u001b[K     |████████████████████████████████| 52 kB 1.5 MB/s \n",
            "\u001b[?25hRequirement already satisfied: requests>=2.19 in /usr/local/lib/python3.7/dist-packages (from qiskit-ibmq-provider==0.18.0->qiskit) (2.23.0)\n",
            "Requirement already satisfied: python-dateutil>=2.8.0 in /usr/local/lib/python3.7/dist-packages (from qiskit-ibmq-provider==0.18.0->qiskit) (2.8.2)\n",
            "Collecting ply>=3.10\n",
            "  Downloading ply-3.11-py2.py3-none-any.whl (49 kB)\n",
            "\u001b[K     |████████████████████████████████| 49 kB 7.2 MB/s \n",
            "\u001b[?25hRequirement already satisfied: jsonschema>=2.6 in /usr/local/lib/python3.7/dist-packages (from qiskit-terra==0.18.3->qiskit) (2.6.0)\n",
            "Collecting symengine>0.7\n",
            "  Downloading symengine-0.8.1-cp37-cp37m-manylinux2010_x86_64.whl (38.2 MB)\n",
            "\u001b[K     |████████████████████████████████| 38.2 MB 25 kB/s \n",
            "\u001b[?25hCollecting python-constraint>=1.4\n",
            "  Downloading python-constraint-1.4.0.tar.bz2 (18 kB)\n",
            "Requirement already satisfied: dill>=0.3 in /usr/local/lib/python3.7/dist-packages (from qiskit-terra==0.18.3->qiskit) (0.3.4)\n",
            "Collecting tweedledum<2.0,>=1.1\n",
            "  Downloading tweedledum-1.1.1-cp37-cp37m-manylinux_2_12_x86_64.manylinux2010_x86_64.whl (943 kB)\n",
            "\u001b[K     |████████████████████████████████| 943 kB 10 kB/s \n",
            "\u001b[?25hCollecting fastjsonschema>=2.10\n",
            "  Downloading fastjsonschema-2.15.1-py3-none-any.whl (21 kB)\n",
            "Requirement already satisfied: six in /usr/local/lib/python3.7/dist-packages (from docplex>=2.21.207->qiskit-aqua==0.9.5->qiskit) (1.15.0)\n",
            "Requirement already satisfied: cached-property in /usr/local/lib/python3.7/dist-packages (from h5py<3.3.0->qiskit-aqua==0.9.5->qiskit) (1.5.2)\n",
            "Requirement already satisfied: certifi>=2017.4.17 in /usr/local/lib/python3.7/dist-packages (from requests>=2.19->qiskit-ibmq-provider==0.18.0->qiskit) (2021.10.8)\n",
            "Requirement already satisfied: idna<3,>=2.5 in /usr/local/lib/python3.7/dist-packages (from requests>=2.19->qiskit-ibmq-provider==0.18.0->qiskit) (2.10)\n",
            "Requirement already satisfied: chardet<4,>=3.0.2 in /usr/local/lib/python3.7/dist-packages (from requests>=2.19->qiskit-ibmq-provider==0.18.0->qiskit) (3.0.4)\n",
            "Collecting cryptography>=1.3\n",
            "  Downloading cryptography-35.0.0-cp36-abi3-manylinux_2_24_x86_64.whl (3.5 MB)\n",
            "\u001b[K     |████████████████████████████████| 3.5 MB 44.6 MB/s \n",
            "\u001b[?25hCollecting ntlm-auth>=1.0.2\n",
            "  Downloading ntlm_auth-1.5.0-py2.py3-none-any.whl (29 kB)\n",
            "Requirement already satisfied: cffi>=1.12 in /usr/local/lib/python3.7/dist-packages (from cryptography>=1.3->requests-ntlm>=1.1.0->qiskit-ibmq-provider==0.18.0->qiskit) (1.15.0)\n",
            "Requirement already satisfied: pycparser in /usr/local/lib/python3.7/dist-packages (from cffi>=1.12->cryptography>=1.3->requests-ntlm>=1.1.0->qiskit-ibmq-provider==0.18.0->qiskit) (2.21)\n",
            "Requirement already satisfied: joblib>=0.11 in /usr/local/lib/python3.7/dist-packages (from scikit-learn>=0.20.0->qiskit-aqua==0.9.5->qiskit) (1.1.0)\n",
            "Requirement already satisfied: threadpoolctl>=2.0.0 in /usr/local/lib/python3.7/dist-packages (from scikit-learn>=0.20.0->qiskit-aqua==0.9.5->qiskit) (3.0.0)\n",
            "Requirement already satisfied: mpmath>=0.19 in /usr/local/lib/python3.7/dist-packages (from sympy>=1.3->qiskit-aqua==0.9.5->qiskit) (1.2.1)\n",
            "Collecting lxml>=4.5.1\n",
            "  Downloading lxml-4.6.4-cp37-cp37m-manylinux_2_17_x86_64.manylinux2014_x86_64.manylinux_2_24_x86_64.whl (6.3 MB)\n",
            "\u001b[K     |████████████████████████████████| 6.3 MB 34.4 MB/s \n",
            "\u001b[?25hRequirement already satisfied: multitasking>=0.0.7 in /usr/local/lib/python3.7/dist-packages (from yfinance>=0.1.62->qiskit-aqua==0.9.5->qiskit) (0.0.9)\n",
            "Requirement already satisfied: pytz>=2017.2 in /usr/local/lib/python3.7/dist-packages (from pandas->qiskit-aqua==0.9.5->qiskit) (2018.9)\n",
            "Collecting inflection>=0.3.1\n",
            "  Downloading inflection-0.5.1-py2.py3-none-any.whl (9.5 kB)\n",
            "Requirement already satisfied: more-itertools in /usr/local/lib/python3.7/dist-packages (from quandl->qiskit-aqua==0.9.5->qiskit) (8.11.0)\n",
            "Building wheels for collected packages: qiskit, dlx, docplex, python-constraint\n",
            "  Building wheel for qiskit (setup.py) ... \u001b[?25l\u001b[?25hdone\n",
            "  Created wheel for qiskit: filename=qiskit-0.32.0-py3-none-any.whl size=11773 sha256=0e0a8f61973bfacbfac251dd07a663d0f6707738f0cbc5e4e4014557db3dbd72\n",
            "  Stored in directory: /root/.cache/pip/wheels/95/84/c4/6a084a33c1909266fca66eed2303c3883e03f33c905b1ebed9\n",
            "  Building wheel for dlx (setup.py) ... \u001b[?25l\u001b[?25hdone\n",
            "  Created wheel for dlx: filename=dlx-1.0.4-py3-none-any.whl size=5719 sha256=7cc96e79bc1798836dc0f5d6c5f351c90e09f9c192a514b0572066399983cc0c\n",
            "  Stored in directory: /root/.cache/pip/wheels/78/55/c8/dc61e772445a566b7608a476d151e9dcaf4e092b01b0c4bc3c\n",
            "  Building wheel for docplex (setup.py) ... \u001b[?25l\u001b[?25hdone\n",
            "  Created wheel for docplex: filename=docplex-2.22.213-py3-none-any.whl size=696881 sha256=8faa8a1c2cd65a8a49d2c9d7a51cf958b5aedd9a61046de2159ce286a6c5c26a\n",
            "  Stored in directory: /root/.cache/pip/wheels/90/69/6b/1375c68a5b7ff94c40263b151c86f58bd72200bf0c465b5ba3\n",
            "  Building wheel for python-constraint (setup.py) ... \u001b[?25l\u001b[?25hdone\n",
            "  Created wheel for python-constraint: filename=python_constraint-1.4.0-py2.py3-none-any.whl size=24081 sha256=64ae286c8ef37ebabdd0951729b52507e0a65f96b08904700973a2ab323956fd\n",
            "  Stored in directory: /root/.cache/pip/wheels/07/27/db/1222c80eb1e431f3d2199c12569cb1cac60f562a451fe30479\n",
            "Successfully built qiskit dlx docplex python-constraint\n",
            "Installing collected packages: tweedledum, symengine, retworkx, python-constraint, ply, fastjsonschema, qiskit-terra, ntlm-auth, lxml, inflection, cryptography, yfinance, websocket-client, requests-ntlm, quandl, qiskit-ignis, docplex, dlx, qiskit-ibmq-provider, qiskit-aqua, qiskit-aer, qiskit\n",
            "  Attempting uninstall: lxml\n",
            "    Found existing installation: lxml 4.2.6\n",
            "    Uninstalling lxml-4.2.6:\n",
            "      Successfully uninstalled lxml-4.2.6\n",
            "Successfully installed cryptography-35.0.0 dlx-1.0.4 docplex-2.22.213 fastjsonschema-2.15.1 inflection-0.5.1 lxml-4.6.4 ntlm-auth-1.5.0 ply-3.11 python-constraint-1.4.0 qiskit-0.32.0 qiskit-aer-0.9.1 qiskit-aqua-0.9.5 qiskit-ibmq-provider-0.18.0 qiskit-ignis-0.6.0 qiskit-terra-0.18.3 quandl-3.7.0 requests-ntlm-1.1.0 retworkx-0.10.2 symengine-0.8.1 tweedledum-1.1.1 websocket-client-1.2.1 yfinance-0.1.66\n",
            "Collecting pylatexenc\n",
            "  Downloading pylatexenc-2.10.tar.gz (162 kB)\n",
            "\u001b[K     |████████████████████████████████| 162 kB 5.0 MB/s \n",
            "\u001b[?25hBuilding wheels for collected packages: pylatexenc\n",
            "  Building wheel for pylatexenc (setup.py) ... \u001b[?25l\u001b[?25hdone\n",
            "  Created wheel for pylatexenc: filename=pylatexenc-2.10-py3-none-any.whl size=136833 sha256=6602924c1ea488fd85901d972722d5635be4d14ab56a168df09742ee09f41dcb\n",
            "  Stored in directory: /root/.cache/pip/wheels/f1/8a/f5/33ee79d4473eb201b519fa40f989b842e373237395a3421f52\n",
            "Successfully built pylatexenc\n",
            "Installing collected packages: pylatexenc\n",
            "Successfully installed pylatexenc-2.10\n"
          ]
        }
      ]
    },
    {
      "cell_type": "code",
      "metadata": {
        "id": "Y2VYSHnWIowX"
      },
      "source": [
        "from qiskit import QuantumRegister, ClassicalRegister, QuantumCircuit\n",
        "from qiskit import Aer, execute"
      ],
      "execution_count": null,
      "outputs": []
    },
    {
      "cell_type": "markdown",
      "metadata": {
        "id": "0y4ApGj8RDsJ"
      },
      "source": [
        "### Load from Drive"
      ]
    },
    {
      "cell_type": "code",
      "metadata": {
        "colab": {
          "base_uri": "https://localhost:8080/"
        },
        "id": "fR0EXfCiRBIX",
        "outputId": "5661871d-a9d0-4fe7-d7a3-f722490cef9b"
      },
      "source": [
        "#Loading SpamBase dataset file\n",
        "!gdown --id 1Hdq-Svp31YkTj7wFZY3D2fsnBM1tbr_t"
      ],
      "execution_count": null,
      "outputs": [
        {
          "output_type": "stream",
          "name": "stdout",
          "text": [
            "Downloading...\n",
            "From: https://drive.google.com/uc?id=1Hdq-Svp31YkTj7wFZY3D2fsnBM1tbr_t\n",
            "To: /content/SpamBase.npy\n",
            "\r  0% 0.00/1.65M [00:00<?, ?B/s]\r100% 1.65M/1.65M [00:00<00:00, 52.5MB/s]\n"
          ]
        }
      ]
    },
    {
      "cell_type": "code",
      "metadata": {
        "colab": {
          "base_uri": "https://localhost:8080/"
        },
        "id": "yppxtf07RTH0",
        "outputId": "4e7f711b-1cb8-4a9c-f1cc-c989ed3493a0"
      },
      "source": [
        "#Loading Cardiotocography dataset file\n",
        "!gdown --id 1sVygYNPrTQI9d-8kVnx7w5nGWOSosveX"
      ],
      "execution_count": null,
      "outputs": [
        {
          "output_type": "stream",
          "name": "stdout",
          "text": [
            "Downloading...\n",
            "From: https://drive.google.com/uc?id=1sVygYNPrTQI9d-8kVnx7w5nGWOSosveX\n",
            "To: /content/Cardiotocography.npy\n",
            "\r  0% 0.00/379k [00:00<?, ?B/s]\r100% 379k/379k [00:00<00:00, 79.9MB/s]\n"
          ]
        }
      ]
    },
    {
      "cell_type": "code",
      "metadata": {
        "id": "l60lmoRVRiza"
      },
      "source": [
        "spambase = np.load(\"SpamBase.npy\")\n",
        "\n",
        "cardio = np.load(\"Cardiotocography.npy\")"
      ],
      "execution_count": null,
      "outputs": []
    },
    {
      "cell_type": "markdown",
      "metadata": {
        "id": "VJG7We1VUGcN"
      },
      "source": [
        "### Preprocessing\n",
        "\n",
        "This function extracts and separates the features and the labels from the whole dataset. We will apply it to both datasets. Normal data will be labeled as '1' and anomalies will be labeled as '0'."
      ]
    },
    {
      "cell_type": "code",
      "metadata": {
        "id": "EKGizkxFUIG3"
      },
      "source": [
        "from sklearn.preprocessing import MinMaxScaler\n",
        "\n",
        "def preprocessing(data):\n",
        "    features = data[:,:-1]\n",
        "    labels = data[:,-1]\n",
        "\n",
        "    scaler = MinMaxScaler()\n",
        "    scaler.fit(features)\n",
        "    features = scaler.transform(features)\n",
        "\n",
        "    labels = labels[:,np.newaxis]\n",
        "    labels[labels == -1] = 0\n",
        "\n",
        "    return features, labels"
      ],
      "execution_count": null,
      "outputs": []
    },
    {
      "cell_type": "code",
      "metadata": {
        "id": "y_TJE8UmcmTu"
      },
      "source": [
        "spam_X, spam_y = preprocessing(spambase)\n",
        "cardio_X, cardio_y = preprocessing(cardio)"
      ],
      "execution_count": null,
      "outputs": []
    },
    {
      "cell_type": "code",
      "metadata": {
        "colab": {
          "base_uri": "https://localhost:8080/"
        },
        "id": "UCcQ-W-aydmA",
        "outputId": "88caac71-3b77-43fa-9770-3daac6c8b5b8"
      },
      "source": [
        "spam_X.shape"
      ],
      "execution_count": null,
      "outputs": [
        {
          "output_type": "execute_result",
          "data": {
            "text/plain": [
              "(3485, 58)"
            ]
          },
          "metadata": {},
          "execution_count": 11
        }
      ]
    },
    {
      "cell_type": "code",
      "metadata": {
        "colab": {
          "base_uri": "https://localhost:8080/"
        },
        "id": "HYbaUuAVydvQ",
        "outputId": "b9d44e39-ce4c-4a63-c8ad-5178b7d4a506"
      },
      "source": [
        "cardio_X.shape"
      ],
      "execution_count": null,
      "outputs": [
        {
          "output_type": "execute_result",
          "data": {
            "text/plain": [
              "(2060, 22)"
            ]
          },
          "metadata": {},
          "execution_count": 12
        }
      ]
    },
    {
      "cell_type": "markdown",
      "metadata": {
        "id": "dEXbezv9yByk"
      },
      "source": [
        "## Random Fourier Features\n",
        "\n",
        "To perform dimensionality reduction, we will use Random Fourier Features, an approach stablished by Rahimi and Recht, 2007. RFF is a type of quantum feature map from data to quantum states, in such a way that it can fit more precisely the underlying probability distribution of data.\n"
      ]
    },
    {
      "cell_type": "code",
      "metadata": {
        "id": "Pj_0Fefdwu1c"
      },
      "source": [
        "from sklearn.kernel_approximation import RBFSampler\n",
        "\"\"\"\n",
        "  Code from https://arxiv.org/abs/2004.01227\n",
        "\"\"\"\n",
        "class QFeatureMap: \n",
        "\n",
        "  def get_dim(self, num_features):\n",
        "    pass\n",
        "\n",
        "  def batch2wf(self, X):\n",
        "    pass\n",
        "\n",
        "  def batch2dm(self, X):\n",
        "    pass\n",
        "\n",
        "  def batch2dm(self, X):\n",
        "    psi = self.batch2wf(X)\n",
        "    rho = np.einsum('...i,...j', psi, np.conj(psi))\n",
        "    return rho\n",
        "\n",
        "class QFeatureMap_rff(QFeatureMap):\n",
        "\n",
        "  def __init__(self, rbf_sampler):\n",
        "    self.rbf_sampler = rbf_sampler\n",
        "    self.weights = np.array(rbf_sampler.random_weights_)\n",
        "    self.offset = np.array(rbf_sampler.random_offset_)\n",
        "    self.dim = rbf_sampler.get_params()['n_components']\n",
        "\n",
        "  def get_dim(self, num_features):\n",
        "    return self.dim\n",
        "\n",
        "  def batch2wf(self, X):\n",
        "    vals = np.dot(X, self.weights) + self.offset\n",
        "    vals = np.cos(vals)\n",
        "    vals *= np.sqrt(2.) / np.sqrt(self.dim)\n",
        "    norms = np.linalg.norm(vals, axis=1)\n",
        "    psi = vals / norms[:, np.newaxis]\n",
        "    return psi"
      ],
      "execution_count": null,
      "outputs": []
    },
    {
      "cell_type": "markdown",
      "metadata": {
        "id": "8PyuskrqBpya"
      },
      "source": [
        "## Cardio 4x4 Mixed State\n",
        "\n",
        "First, we will work with Cardiotocography dataset.\n",
        "\n",
        "The number of RFF we will use depends on the size of the density matrix we will build. In this case, we will use a 4x4 density matrix, so we will reduce our samples to arrays of length 4. Transforming each sample will allow us to convert those values into two-qubit states. "
      ]
    },
    {
      "cell_type": "code",
      "metadata": {
        "colab": {
          "base_uri": "https://localhost:8080/"
        },
        "id": "JVe0Bjmiw7mO",
        "outputId": "d4a88804-ec67-43ee-9b7f-8b78dc35bfbc"
      },
      "source": [
        "# Create the RandomFourierFeature map\n",
        "dim = 4\n",
        "rm_state = 2\n",
        "sigma = 1.5  #dataset dependant\n",
        "gamma = 1 / (2 * sigma**2)\n",
        "\n",
        "feature_map_fourier = RBFSampler(gamma=gamma, n_components=dim, random_state=rm_state)\n",
        "X_feat_train = feature_map_fourier.fit(cardio_X)\n",
        "\n",
        "rffmap = QFeatureMap_rff(rbf_sampler=feature_map_fourier)\n",
        "\n",
        "Crff = rffmap.batch2wf(cardio_X)\n",
        "\n",
        "print(Crff.shape)"
      ],
      "execution_count": null,
      "outputs": [
        {
          "output_type": "stream",
          "name": "stdout",
          "text": [
            "(2060, 4)\n"
          ]
        }
      ]
    },
    {
      "cell_type": "markdown",
      "metadata": {
        "id": "AbWT58QPUt3l"
      },
      "source": [
        "Once our samples have been reduced, it's important to normalize them. Also we will split the dataset into three groups, a training partition with only normal data (70%), and a test partition with a group of normal data (10%) and a group of outlier data (20%)."
      ]
    },
    {
      "cell_type": "code",
      "metadata": {
        "colab": {
          "base_uri": "https://localhost:8080/"
        },
        "id": "tnHwP_JaIFJj",
        "outputId": "1d224b88-fd6a-4c38-f366-8e36a3d48af3"
      },
      "source": [
        "Cones = []\n",
        "Ctrain = []\n",
        "Ctest_zeros = []\n",
        "Ctest_ones = []\n",
        "\n",
        "for i in range(Crff.shape[0]):\n",
        "    if (cardio_y[i] == 1):\n",
        "        Cones.append(Crff[i] / np.linalg.norm(Crff[i]))\n",
        "    elif (cardio_y[i] == 0):\n",
        "        Ctest_zeros.append(Crff[i] / np.linalg.norm(Crff[i]))\n",
        "\n",
        "Ctest_ones = Cones[:len(Ctest_zeros)//2]\n",
        "Ctrain = Cones[len(Ctest_zeros)//2:]\n",
        "\n",
        "print(len(Ctrain))\n",
        "print(len(Ctest_zeros))\n",
        "print(len(Ctest_ones))"
      ],
      "execution_count": null,
      "outputs": [
        {
          "output_type": "stream",
          "name": "stdout",
          "text": [
            "1442\n",
            "412\n",
            "206\n"
          ]
        }
      ]
    },
    {
      "cell_type": "code",
      "metadata": {
        "colab": {
          "base_uri": "https://localhost:8080/"
        },
        "id": "fbqGfuJJIaT_",
        "outputId": "ab42f4e8-b550-48a6-b3fd-9c87c1ec4f08"
      },
      "source": [
        "print(Ctrain[0])\n",
        "print(sum(Ctrain[0]**2))"
      ],
      "execution_count": null,
      "outputs": [
        {
          "output_type": "stream",
          "name": "stdout",
          "text": [
            "[ 0.6607845   0.60963091 -0.29528374 -0.32329786]\n",
            "1.0000000000000002\n"
          ]
        }
      ]
    },
    {
      "cell_type": "markdown",
      "metadata": {
        "id": "sBs-KzjDXEPc"
      },
      "source": [
        "Now, we will define the training state using the Mixed State approach. We will use the density matrix corresponding to the training state, $\\rho_1$. So we have\n",
        "\n",
        "$$\n",
        "\\rho_1 = \\frac{1}{m} \\sum |\\phi_1 \\rangle \\langle \\phi_1 |\n",
        "$$\n",
        "\n",
        "being $|\\phi_1 \\rangle$ the states labeled with '1' (aka training normal data), and $m$ the amount of samples. To construct the density matrices, only train samples will be used."
      ]
    },
    {
      "cell_type": "code",
      "metadata": {
        "id": "HAizozoEPOwL"
      },
      "source": [
        "import copy\n",
        "def round_lambda(lambda_param_2):\n",
        "  lambda_param = copy.copy(lambda_param_2)\n",
        "  for i in range(4):\n",
        "    if lambda_param[i] < 0.00000001:\n",
        "      lambda_param[i] = 0.00000001\n",
        "  lambda_param[3] = 1 - lambda_param[0] - lambda_param[1] - lambda_param[2]\n",
        "  return lambda_param"
      ],
      "execution_count": null,
      "outputs": []
    },
    {
      "cell_type": "code",
      "metadata": {
        "colab": {
          "base_uri": "https://localhost:8080/"
        },
        "id": "-gOCxNehW41x",
        "outputId": "21751337-add2-4c68-cabf-891456c29740"
      },
      "source": [
        "Z_train = np.outer(np.abs(Ctrain[0]), np.abs(Ctrain[0]))\n",
        "for i in range(1, len(Ctrain)):\n",
        "    Z_train += np.outer(np.abs(Ctrain[i]), np.abs(Ctrain[i]))\n",
        "\n",
        "Z_train *= 1/len(Ctrain)\n",
        "print(Z_train)"
      ],
      "execution_count": null,
      "outputs": [
        {
          "output_type": "stream",
          "name": "stdout",
          "text": [
            "[[0.28539094 0.21797308 0.12163383 0.28368129]\n",
            " [0.21797308 0.20571635 0.10524944 0.25986083]\n",
            " [0.12163383 0.10524944 0.08864394 0.14422189]\n",
            " [0.28368129 0.25986083 0.14422189 0.42024877]]\n"
          ]
        }
      ]
    },
    {
      "cell_type": "code",
      "metadata": {
        "colab": {
          "base_uri": "https://localhost:8080/"
        },
        "id": "FXsLkY73W4-l",
        "outputId": "934d002b-ec9f-41b6-8eae-d5f8a89c20d7"
      },
      "source": [
        "lambda_P1_temp, U_train = np.linalg.eigh(Z_train)\n",
        "lambda_train = round_lambda(lambda_P1_temp)\n",
        "print(lambda_train)\n",
        "print(U_train)"
      ],
      "execution_count": null,
      "outputs": [
        {
          "output_type": "stream",
          "name": "stdout",
          "text": [
            "[0.01929039 0.02967972 0.06373443 0.88729546]\n",
            "[[ 0.41964602 -0.29678184 -0.67344497 -0.53130936]\n",
            " [-0.87135899 -0.04328634 -0.15939879 -0.46200847]\n",
            " [ 0.11676352  0.94808647 -0.13909626 -0.26105661]\n",
            " [ 0.22582516 -0.10573021  0.70831923 -0.66038473]]\n"
          ]
        }
      ]
    },
    {
      "cell_type": "code",
      "metadata": {
        "colab": {
          "base_uri": "https://localhost:8080/"
        },
        "id": "noHC2F3IVQvn",
        "outputId": "3ee9f47c-d493-4ec8-a230-a8658a6bdff8"
      },
      "source": [
        "lambda_train = lambda_train / np.linalg.norm(lambda_train)\n",
        "print(lambda_train)\n",
        "print((sum(lambda_train**2)))"
      ],
      "execution_count": null,
      "outputs": [
        {
          "output_type": "stream",
          "name": "stdout",
          "text": [
            "[0.02166764 0.0333373  0.07158875 0.99664145]\n",
            "0.9999999999999999\n"
          ]
        }
      ]
    },
    {
      "cell_type": "markdown",
      "metadata": {
        "id": "rpy9B8Yn7GuB"
      },
      "source": [
        "The quantum circuit we propose will be based in a Qiskit gate called `Isometry`, that allows to prepare arbitrary unitary rotations.\n",
        "\n",
        "We will need a different circuit for each sample $|x \\rangle$ in the test partition. To obtain a more accurate predicted value, we will run the circuit many shots, and then we will store the amount of $|00 \\rangle$ obtained. This value will be proportional to the density value estimated by the circuit."
      ]
    },
    {
      "cell_type": "code",
      "metadata": {
        "id": "MinF_Qc2YUAy"
      },
      "source": [
        "backend2 = Aer.get_backend('qasm_simulator')\n",
        "np.random.seed(1234)"
      ],
      "execution_count": null,
      "outputs": []
    },
    {
      "cell_type": "code",
      "metadata": {
        "colab": {
          "base_uri": "https://localhost:8080/"
        },
        "id": "1WICx_gvwlLv",
        "outputId": "539ec497-908a-47f5-a9b5-8b8b1aa4fbfd"
      },
      "source": [
        "## Density Estimation Approach matrices 4x4\n",
        "Cpred_ones = []\n",
        "\n",
        "for i in range(len(Ctest_ones)):\n",
        "\n",
        "    qc = QuantumCircuit(4, 2)\n",
        "\n",
        "    qc.initialize(Ctest_ones[i], [0, 1])\n",
        "    qc.initialize(lambda_train, [2, 3])\n",
        "    qc.isometry(U_train.T, [], [0, 1]) # ArbRot as a isometry\n",
        "\n",
        "    qc.cnot(3, 1)\n",
        "    qc.cnot(2, 0)\n",
        "\n",
        "    qc.measure(0, 0)\n",
        "    qc.measure(1, 1)\n",
        "\n",
        "    counts = execute(qc, backend2, shots=20000).result().get_counts()\n",
        "    Cpred_ones.append((counts['00'])/5000)\n",
        "\n",
        "print(Cpred_ones)\n",
        "\n",
        "# Works"
      ],
      "execution_count": null,
      "outputs": [
        {
          "output_type": "stream",
          "name": "stdout",
          "text": [
            "[0.214, 0.0926, 0.0502, 0.1488, 0.0394, 0.024, 1.7982, 0.139, 0.215, 0.0768, 0.8086, 0.0146, 1.2966, 0.3184, 0.5238, 0.0308, 1.652, 1.8776, 1.1904, 1.6002, 2.102, 1.6478, 2.3404, 3.03, 1.912, 0.6914, 2.5166, 0.8448, 1.0294, 1.9948, 1.7792, 2.6616, 0.1438, 0.2088, 0.365, 0.016, 0.0134, 0.0192, 0.0416, 0.0148, 0.0114, 0.4522, 0.0524, 0.0104, 0.025, 0.0088, 0.0356, 0.0512, 0.0162, 0.0168, 0.0122, 0.032, 0.0128, 0.0122, 0.0154, 0.0136, 0.0238, 0.023, 0.0346, 0.0196, 0.0152, 0.0166, 0.0266, 0.0202, 0.0176, 2.2426, 0.406, 0.7414, 0.1448, 0.3144, 0.185, 0.1002, 0.4938, 1.2452, 0.8562, 0.1414, 1.4406, 0.7256, 0.4566, 0.2614, 2.3354, 2.038, 0.7778, 0.8568, 1.2222, 2.0038, 1.44, 0.977, 1.8636, 0.0114, 0.0584, 0.0152, 0.0418, 0.0548, 0.0428, 0.0394, 0.07, 0.0514, 0.0114, 0.0216, 0.0282, 0.013, 0.0132, 0.012, 0.0152, 0.0102, 0.0154, 0.1048, 0.8522, 0.6226, 1.0562, 0.994, 0.9546, 2.4066, 1.6386, 1.971, 1.9234, 0.4604, 1.1696, 0.8214, 0.0248, 0.0176, 0.022, 0.0766, 1.7426, 1.5724, 1.8348, 0.6992, 0.6444, 1.223, 1.0258, 0.2486, 2.0646, 0.9304, 2.1496, 1.3494, 0.5732, 0.2638, 0.229, 0.4562, 0.0378, 0.0372, 0.016, 0.0148, 0.0144, 0.4088, 0.2708, 0.8768, 0.6712, 0.5704, 0.9874, 0.7964, 0.2752, 0.2256, 0.3818, 0.1682, 1.2658, 0.5136, 1.177, 0.2318, 0.1374, 0.3546, 0.219, 0.058, 0.3042, 0.3052, 0.0712, 0.4282, 0.3678, 0.3186, 0.104, 0.0922, 0.112, 0.29, 0.2824, 0.1354, 0.282, 0.1428, 0.273, 0.5684, 0.6214, 0.5926, 0.1006, 0.021, 0.0312, 0.2068, 1.466, 1.125, 2.0816, 2.0992, 2.9582, 3.4812, 0.2064, 0.6486, 0.8182, 0.8778, 0.581, 0.5314, 0.6316, 0.3652, 0.5612, 0.119, 1.982, 2.0294, 0.9474, 0.1484]\n"
          ]
        }
      ]
    },
    {
      "cell_type": "code",
      "metadata": {
        "id": "bERoCTqfXRZl"
      },
      "source": [
        "# Mixed state case\n",
        "Cpred_zeros = []\n",
        "\n",
        "for i in range(len(Ctest_zeros)):\n",
        "\n",
        "    qc = QuantumCircuit(4, 2)\n",
        "    \n",
        "    qc.initialize(Ctest_zeros[i], [0, 1])\n",
        "    qc.initialize(lambda_train, [2, 3])\n",
        "    qc.isometry(U_train.T, [], [0, 1]) # ArbRot as a isometry\n",
        "\n",
        "    qc.cnot(3, 1)\n",
        "    qc.cnot(2, 0)\n",
        "\n",
        "    qc.measure(0, 0)\n",
        "    qc.measure(1, 1)\n",
        "\n",
        "    counts = execute(qc, backend2, shots=20000).result().get_counts()\n",
        "    Cpred_zeros.append((counts['00'])/5000)\n",
        "\n",
        "print(Cpred_zeros)"
      ],
      "execution_count": null,
      "outputs": []
    },
    {
      "cell_type": "markdown",
      "metadata": {
        "id": "DTCZzj7tBTFO"
      },
      "source": [
        "Once we have obtained the predicted density values, we need to determine a threshold $t$ such that if a sample has a density value lower than $t$, it is classified as an outlier. For this, we will define a validation partition from our test groups, and we'll try to find the best possible value for $t$ using only validation samples (based on the best possible value of weighted F1-score). After that, we'll use this threshold to compare with all the remaining test samples. "
      ]
    },
    {
      "cell_type": "code",
      "metadata": {
        "id": "QdmZyAmIEj6D"
      },
      "source": [
        "Cpred_val = np.concatenate((Cpred_ones[:100], Cpred_zeros[:100]))\n",
        "print(Cpred_val.shape)\n",
        "\n",
        "Cy_val = np.concatenate((np.ones(100), np.zeros(100)))\n",
        "print(Cy_val.shape)"
      ],
      "execution_count": null,
      "outputs": []
    },
    {
      "cell_type": "code",
      "metadata": {
        "id": "wEyApEJ-XW_3"
      },
      "source": [
        "from sklearn.metrics import roc_curve, auc\n",
        "\n",
        "fpr, tpr, thresholds = roc_curve(Cy_val, Cpred_val, pos_label=1)\n",
        "\n",
        "plt.figure()\n",
        "lw = 2\n",
        "plt.plot(fpr, tpr, color=\"darkorange\",\n",
        "    lw=lw, label=\"ROC curve\")\n",
        "plt.plot([0, 1], [0, 1], color=\"navy\", lw=lw, linestyle=\"--\")\n",
        "print(auc(fpr, tpr))"
      ],
      "execution_count": null,
      "outputs": []
    },
    {
      "cell_type": "code",
      "metadata": {
        "id": "IiJowkQhFJiK"
      },
      "source": [
        "from sklearn.metrics import f1_score\n",
        "\n",
        "m, T = 0,0\n",
        "for t in thresholds:\n",
        "    preds = (Cpred_val > t).astype(int)\n",
        "    metric = f1_score(Cy_val, preds, average='weighted')\n",
        "    if (metric > m):    \n",
        "        m = metric\n",
        "        T = t\n",
        "\n",
        "print(T)"
      ],
      "execution_count": null,
      "outputs": []
    },
    {
      "cell_type": "markdown",
      "metadata": {
        "id": "_o4PBu4yITH7"
      },
      "source": [
        "We have obtained that our best threshold is at $t = 0.3655$. So we will use this threshold to compare all test samples and to calculate some metrics for our estimator."
      ]
    },
    {
      "cell_type": "code",
      "metadata": {
        "id": "ag0bkKU5IpnZ"
      },
      "source": [
        "Cpr_zeros = (np.array(Cpred_zeros) > T).astype(int)\n",
        "\n",
        "Cpr_ones = (np.array(Cpred_ones) > T).astype(int)"
      ],
      "execution_count": null,
      "outputs": []
    },
    {
      "cell_type": "code",
      "metadata": {
        "id": "8tdwSrz2NT3g"
      },
      "source": [
        "from sklearn.metrics import classification_report\n",
        "\n",
        "print(classification_report(\n",
        "        np.concatenate((np.ones(106), np.zeros(312))), \n",
        "        np.concatenate((Cpr_ones[100:], Cpr_zeros[100:])), digits=4))"
      ],
      "execution_count": null,
      "outputs": []
    },
    {
      "cell_type": "markdown",
      "metadata": {
        "id": "Ujr22778NUxp"
      },
      "source": [
        "## Cardio 4x4 Pure State\n",
        "\n",
        "\n",
        "Now, we will define another way to represent the training density matrix: the Pure State approach. First, we will define the state  $|\\psi_1 \\rangle$. \n",
        "\n",
        "$$\n",
        " |\\psi_1 \\rangle = \\frac {\\sum |\\phi_1 \\rangle} {\\left \\| \\sum |\\phi_1 \\rangle \\right \\|}\n",
        "$$\n",
        "\n",
        "being $|\\phi_1 \\rangle$ the states labeled with '1'. To construct this state, only train samples will be used.\n",
        "\n",
        "Once obtained this state, it represents all the information from training states. So we build the density matrix as\n",
        "\n",
        "$$\n",
        "\\rho_1 = |\\psi_1 \\rangle \\langle ψ_1 |\n",
        "$$"
      ]
    },
    {
      "cell_type": "code",
      "metadata": {
        "id": "k-LZFKgPLriU"
      },
      "source": [
        "# Given the eigenvalues this function return a Unitary gate which converts the |0> -> |lambda>\n",
        "def create_U_train(x_train_param, seed=0):\n",
        "  np.random.seed(seed)\n",
        "  size_U = len(x_train_param)\n",
        "  U_train = np.zeros((size_U, size_U))\n",
        "  x_1 = x_train_param\n",
        "  U_train[:, 0] = x_1\n",
        "  for i in range(1, size_U):\n",
        "    x_i = np.random.randn(size_U)\n",
        "    for j in range(0, i):\n",
        "      x_i -= x_i.dot(U_train[:, j]) * U_train[:, j]\n",
        "    x_i = x_i/np.linalg.norm(x_i)\n",
        "    U_train[:, i] = x_i\n",
        "  \n",
        "  return U_train"
      ],
      "execution_count": null,
      "outputs": []
    },
    {
      "cell_type": "code",
      "metadata": {
        "id": "pRk6QGdb9Jej"
      },
      "source": [
        "phi_train = np.sum(np.abs(Ctrain), axis=0)\n",
        "phi_train = phi_train / np.linalg.norm(phi_train)\n",
        "\n",
        "U_train = create_U_train(phi_train)\n",
        "\n",
        "print(U_train)"
      ],
      "execution_count": null,
      "outputs": []
    },
    {
      "cell_type": "markdown",
      "metadata": {
        "id": "ztv40G9s9Jem"
      },
      "source": [
        "We will need a different circuit for each sample $|x \\rangle$ in the test partition. To obtain a more accurate predicted value, we will run the circuit many shots, and then we will store the amount of $|00 \\rangle$ obtained."
      ]
    },
    {
      "cell_type": "code",
      "metadata": {
        "id": "2bSLFPei9Jen"
      },
      "source": [
        "backend = Aer.get_backend('qasm_simulator')\n",
        "np.random.seed(1234)"
      ],
      "execution_count": null,
      "outputs": []
    },
    {
      "cell_type": "code",
      "metadata": {
        "id": "rAfz68My9Jen",
        "colab": {
          "base_uri": "https://localhost:8080/"
        },
        "outputId": "d7833612-4cd7-42dd-ff6b-c6804aee504c"
      },
      "source": [
        "## Density Estimation Approach matrices 4x4\n",
        "Cpred_ones = []\n",
        "\n",
        "for i in range(len(Ctest_ones)):\n",
        "\n",
        "    qc = QuantumCircuit(2, 2)\n",
        "    qc.initialize(Ctest_ones[i], [0, 1])\n",
        "    qc.isometry(U_train.T, [], [0, 1]) # ArbRot as a isometry\n",
        "\n",
        "    qc.measure(0, 0)\n",
        "    qc.measure(1, 1)\n",
        "\n",
        "    counts = execute(qc, backend, shots=20000).result().get_counts()\n",
        "    try:\n",
        "        Cpred_ones.append((counts['00'])/5000)\n",
        "    except:\n",
        "        Cpred_ones.append(0)\n",
        "\n",
        "print(Cpred_ones)\n",
        "\n",
        "# Works"
      ],
      "execution_count": null,
      "outputs": [
        {
          "output_type": "stream",
          "name": "stdout",
          "text": [
            "[0.2015, 0.0845, 0.046, 0.126, 0.027, 0.0025, 1.7915, 0.132, 0.1895, 0.05, 0.7675, 0.0005, 1.3065, 0.283, 0.5565, 0.0245, 1.641, 1.893, 1.217, 1.596, 2.142, 1.6305, 2.354, 3.059, 1.9805, 0.698, 2.558, 0.855, 1.034, 2.024, 1.853, 2.6855, 0.1475, 0.198, 0.3525, 0.0105, 0.0025, 0.0105, 0.0315, 0.004, 0, 0.4475, 0.0385, 0.003, 0.014, 0.001, 0.0185, 0.0435, 0.003, 0.003, 0.001, 0.018, 0.002, 0, 0.0055, 0.0005, 0.0105, 0.009, 0.0235, 0.0075, 0.001, 0.0035, 0.015, 0.0065, 0.0075, 2.2975, 0.4105, 0.7435, 0.1265, 0.308, 0.195, 0.0805, 0.473, 1.2275, 0.8425, 0.136, 1.4455, 0.6975, 0.4515, 0.28, 2.296, 2.0645, 0.779, 0.892, 1.22, 2.009, 1.483, 0.936, 1.873, 0.0005, 0.0465, 0.0035, 0.028, 0.0425, 0.0355, 0.0275, 0.0755, 0.04, 0.0005, 0.0065, 0.0145, 0.001, 0, 0, 0.0015, 0.0015, 0.0015, 0.101, 0.9155, 0.6555, 1.039, 1.027, 0.9565, 2.4615, 1.702, 1.978, 1.9045, 0.481, 1.1325, 0.8745, 0.009, 0.0105, 0.0125, 0.064, 1.7515, 1.574, 1.853, 0.723, 0.67, 1.2235, 1.065, 0.2645, 2.0885, 0.945, 2.1515, 1.343, 0.587, 0.2705, 0.2, 0.4865, 0.015, 0.0265, 0.0055, 0.004, 0.005, 0.393, 0.274, 0.874, 0.6905, 0.5495, 0.9575, 0.772, 0.279, 0.2035, 0.365, 0.1675, 1.2655, 0.508, 1.1885, 0.229, 0.117, 0.354, 0.208, 0.0405, 0.3065, 0.306, 0.061, 0.4175, 0.3535, 0.3135, 0.085, 0.08, 0.0965, 0.2755, 0.293, 0.124, 0.302, 0.116, 0.275, 0.5605, 0.6465, 0.6215, 0.0775, 0.0185, 0.0235, 0.1995, 1.439, 1.109, 2.16, 2.141, 3.008, 3.5375, 0.203, 0.6175, 0.785, 0.8605, 0.5655, 0.4935, 0.619, 0.3445, 0.5535, 0.109, 2.0275, 2.0295, 0.954, 0.1315]\n"
          ]
        }
      ]
    },
    {
      "cell_type": "code",
      "metadata": {
        "id": "eYvwL3uB9Jeo",
        "colab": {
          "base_uri": "https://localhost:8080/"
        },
        "outputId": "4c57c6d1-f77d-46f8-9fb9-18928813d99d"
      },
      "source": [
        "# Pure state case\n",
        "Cpred_zeros = []\n",
        "\n",
        "for i in range(len(Ctest_zeros)):\n",
        "\n",
        "    qc = QuantumCircuit(2, 2)\n",
        "    qc.initialize(Ctest_zeros[i], [0, 1])\n",
        "    qc.isometry(U_train.T, [], [0, 1]) # ArbRot as a isometry\n",
        "\n",
        "    qc.measure(0, 0)\n",
        "    qc.measure(1, 1)\n",
        "\n",
        "    counts = execute(qc, backend, shots=20000).result().get_counts()\n",
        "    try:\n",
        "        Cpred_zeros.append((counts['00'])/5000)\n",
        "    except:\n",
        "        Cpred_zeros.append(0)\n",
        "\n",
        "print(Cpred_zeros)"
      ],
      "execution_count": null,
      "outputs": [
        {
          "output_type": "stream",
          "name": "stdout",
          "text": [
            "[0.054, 0.0995, 0.013, 0.006, 0.0005, 0.563, 0.8145, 0.0685, 0, 0.072, 1.2155, 0, 1.1995, 0.0085, 0.026, 0.1275, 0.36, 0.252, 0.2375, 0.2825, 0, 0.0065, 0.005, 0.5585, 0.1845, 0.007, 0.0005, 0.0055, 0.0075, 0.0225, 0.2835, 0.3345, 0.009, 0.781, 1.246, 0.525, 0.008, 0, 0.0485, 0.0205, 0.12, 0, 0.0125, 0.1005, 0.0375, 0.6595, 0, 0.2825, 0.0085, 0.061, 0.077, 0, 0.051, 0.3545, 0.0005, 0.3105, 0.0275, 0.1365, 0.066, 0.343, 0.0945, 0.0485, 0.588, 0.0135, 1.013, 0, 0.0015, 0.2535, 0.0035, 0.085, 1.1795, 0.5885, 0.0015, 0.869, 0.02, 0.018, 0.001, 0.0105, 0.413, 0.782, 0.3035, 0.0415, 1.5995, 0.7235, 0.128, 0.015, 0, 0.005, 0.874, 0.324, 0.006, 0.0035, 0.0025, 0.053, 0.049, 0.0915, 0.0415, 0.001, 0.0965, 1.4545, 0.0005, 0.229, 0.013, 0.0215, 0.0685, 0.366, 0, 0.074, 0.0105, 0.003, 0.01, 0.0375, 0.4805, 0.004, 0.0755, 0.008, 0.0395, 0.0575, 0.3215, 0.0085, 0.017, 0.0025, 0.4065, 0.0305, 0.0455, 0.11, 0.01, 0.017, 0.001, 0.111, 0.871, 0, 0.2715, 0.002, 0.0695, 0.0475, 0.005, 0.1125, 0.008, 0.0035, 0.1565, 0.6315, 0.04, 0.0145, 0.054, 1.4935, 0.0335, 0, 0.0065, 0.137, 0.2035, 0.018, 0.03, 0.2705, 0.0005, 0.001, 0.732, 0.019, 0.096, 0.0025, 0.004, 0.0245, 0.009, 0.0075, 0, 1.7035, 0.13, 0.0285, 0.0125, 0.0125, 0.0135, 0.984, 0.021, 1.0385, 0.003, 0.047, 0.001, 0.0005, 0.1355, 0.0065, 0.136, 0.257, 0.185, 0.0135, 0.073, 0.764, 0.0215, 0.0135, 0.0005, 0.0375, 1.263, 0.001, 0.277, 0.156, 0.003, 0.561, 0.052, 0.512, 1.6245, 0.1265, 0.0025, 0, 0.0005, 0.0915, 0.0135, 0.0775, 0.405, 0.01, 0.019, 0.1035, 0.576, 0.309, 0.0015, 0.21, 0.019, 0.042, 0.0015, 0.682, 0.2965, 0.189, 0.146, 0.848, 0.0445, 0, 0.844, 0.092, 0.0285, 0.0305, 0, 0.1245, 0.003, 0, 0.006, 1.512, 0.0015, 0.0095, 0, 0.0015, 0.2415, 0.163, 0.02, 0.0005, 0.0205, 0.038, 0.2855, 0.0175, 0, 0.1825, 0.052, 0.0485, 0.248, 0.136, 0.001, 0.363, 0.009, 0.063, 0.046, 0.901, 0.0315, 0.0075, 0.1915, 0.0075, 0.0365, 1.096, 0.037, 0.0105, 0.015, 0.047, 0.0085, 0.416, 0.021, 0.0005, 0.6875, 0.0035, 0.0015, 0.075, 0, 0.014, 0.0505, 0.092, 0.054, 0.5395, 0.007, 0.0365, 0, 0.1045, 0.095, 0.037, 0.06, 0.0135, 1.1825, 0.0075, 0.0165, 0.053, 0.28, 0.107, 0.4905, 0.687, 0.105, 0.0005, 0.097, 0.057, 0.048, 0.607, 0.3645, 0.0005, 0.0085, 0.048, 0.7885, 0, 0.048, 0.0395, 0.1635, 0.194, 0.1575, 0.0175, 0.0045, 0.195, 0.002, 0.1, 0.004, 0.006, 0.0075, 0.0685, 0.039, 0.12, 0.006, 0.17, 0.47, 0.1045, 0.841, 0.073, 0.023, 0.0135, 0.0155, 0.288, 0.001, 0.019, 0.565, 0.0595, 0.0065, 0.027, 0.0205, 0.0715, 0.0105, 0.1315, 0.0635, 0.05, 0.0055, 0.068, 0.0105, 0.0235, 0.05, 0.07, 0.106, 0.0015, 0.0035, 0, 0.0065, 0.0575, 0.0015, 0.104, 0.0705, 0.075, 0.0025, 0.228, 0.07, 0.099, 0.0015, 0.0035, 0.0085, 0.2305, 0.027, 0.008, 0.054, 0.0035, 0, 0.3575, 0.034, 0.41, 0.008, 0.273, 0.012, 0.0015, 0.1865, 2.475, 0.0135, 0.007, 0.176, 0.021, 0, 0.005, 0.0015, 0.0635, 0.3035, 0.621, 0.276, 1.2065, 0.3415, 0.002, 0.023, 0.001, 0.258, 0.003, 0.0265, 0.066, 0.0015, 0.025, 0.072, 0.016, 0, 0.229]\n"
          ]
        }
      ]
    },
    {
      "cell_type": "markdown",
      "metadata": {
        "id": "aCxP8lJ29Jep"
      },
      "source": [
        "Once we have obtained the predicted density values, we need to determine a threshold $t$ such that if a sample has a density lower than $t$, it is classified as an outlier. For this, we will define a validation partition from our test groups, and we'll try to find the best possible value for $t$ (based on weighted F1-score) using only validation samples. After that, we'll use this threshold to compare with all the remaining test samples. "
      ]
    },
    {
      "cell_type": "code",
      "metadata": {
        "id": "JN0LGRLd9Jep",
        "colab": {
          "base_uri": "https://localhost:8080/"
        },
        "outputId": "49c15085-8cf9-4dcb-9eef-a47cd57b9800"
      },
      "source": [
        "Cpred_val = np.concatenate((Cpred_ones[:100], Cpred_zeros[:100]))\n",
        "print(Cpred_val.shape)\n",
        "\n",
        "Cy_val = np.concatenate((np.ones(100), np.zeros(100)))\n",
        "print(Cy_val.shape)"
      ],
      "execution_count": null,
      "outputs": [
        {
          "output_type": "stream",
          "name": "stdout",
          "text": [
            "(200,)\n",
            "(200,)\n"
          ]
        }
      ]
    },
    {
      "cell_type": "code",
      "metadata": {
        "id": "BtjtpIqD9Jep",
        "colab": {
          "base_uri": "https://localhost:8080/",
          "height": 283
        },
        "outputId": "ffdadb74-6adf-49bc-8787-917cbf792114"
      },
      "source": [
        "from sklearn.metrics import roc_curve, auc\n",
        "\n",
        "fpr, tpr, thresholds = roc_curve(Cy_val, Cpred_val, pos_label=1)\n",
        "\n",
        "plt.figure()\n",
        "lw = 2\n",
        "plt.plot(fpr, tpr, color=\"darkorange\",\n",
        "    lw=lw, label=\"ROC curve\")\n",
        "plt.plot([0, 1], [0, 1], color=\"navy\", lw=lw, linestyle=\"--\")\n",
        "print(auc(fpr, tpr))"
      ],
      "execution_count": null,
      "outputs": [
        {
          "output_type": "stream",
          "name": "stdout",
          "text": [
            "0.5981\n"
          ]
        },
        {
          "output_type": "display_data",
          "data": {
            "image/png": "[encoded data removed]",
            "text/plain": [
              "<Figure size 432x288 with 1 Axes>"
            ]
          },
          "metadata": {
            "needs_background": "light"
          }
        }
      ]
    },
    {
      "cell_type": "code",
      "metadata": {
        "id": "nuuUoyue9Jeq",
        "colab": {
          "base_uri": "https://localhost:8080/"
        },
        "outputId": "2e037403-9b7f-47ab-c15d-47a839c20abf"
      },
      "source": [
        "from sklearn.metrics import f1_score\n",
        "\n",
        "m, T = 0,0\n",
        "for t in thresholds:\n",
        "    preds = (Cpred_val > t).astype(int)\n",
        "    metric = f1_score(Cy_val, preds, average='weighted')\n",
        "    if (metric > m):    \n",
        "        m = metric\n",
        "        T = t\n",
        "\n",
        "print(T)"
      ],
      "execution_count": null,
      "outputs": [
        {
          "output_type": "stream",
          "name": "stdout",
          "text": [
            "0.413\n"
          ]
        }
      ]
    },
    {
      "cell_type": "markdown",
      "metadata": {
        "id": "llMEHFKU9Jes"
      },
      "source": [
        "We have obtained that our best threshold is at $t = 0.413$. So we will use this threshold to compare all test samples and to calculate some metrics for our estimator."
      ]
    },
    {
      "cell_type": "code",
      "metadata": {
        "id": "zzJI_dLw9Jes"
      },
      "source": [
        "Cpr_zeros = (np.array(Cpred_zeros) > T).astype(int)\n",
        "\n",
        "Cpr_ones = (np.array(Cpred_ones) > T).astype(int)"
      ],
      "execution_count": null,
      "outputs": []
    },
    {
      "cell_type": "code",
      "metadata": {
        "id": "wN3WNRqs9Jes",
        "colab": {
          "base_uri": "https://localhost:8080/"
        },
        "outputId": "68ee8780-7818-4284-eb16-ea0060526c4f"
      },
      "source": [
        "from sklearn.metrics import classification_report\n",
        "\n",
        "print(classification_report(\n",
        "        np.concatenate((np.ones(106), np.zeros(312))), \n",
        "        np.concatenate((Cpr_ones[100:], Cpr_zeros[100:])), digits=4))"
      ],
      "execution_count": null,
      "outputs": [
        {
          "output_type": "stream",
          "name": "stdout",
          "text": [
            "              precision    recall  f1-score   support\n",
            "\n",
            "         0.0     0.8399    0.8910    0.8647       312\n",
            "         1.0     0.6092    0.5000    0.5492       106\n",
            "\n",
            "    accuracy                         0.7919       418\n",
            "   macro avg     0.7245    0.6955    0.7070       418\n",
            "weighted avg     0.7814    0.7919    0.7847       418\n",
            "\n"
          ]
        }
      ]
    },
    {
      "cell_type": "markdown",
      "metadata": {
        "id": "rXqcZ2UwO2Kp"
      },
      "source": [
        "## Cardio 8x8 Mixed State\n",
        "\n",
        "Now, we will use a 8x8 density matrix, so we will call a new RFF sampler to reduce our samples to arrays of length 8. Transforming each sample will allow us to convert those values into two-qubit states. "
      ]
    },
    {
      "cell_type": "code",
      "metadata": {
        "colab": {
          "base_uri": "https://localhost:8080/"
        },
        "id": "4KSsJ4NKO5VP",
        "outputId": "398cc267-f60d-4666-c948-3cb834adfcf8"
      },
      "source": [
        "# Create the RandomFourierFeature map\n",
        "dim = 8\n",
        "rm_state = 2\n",
        "sigma = 1.5  #dataset dependant\n",
        "gamma = 1 / (2 * sigma**2)\n",
        "\n",
        "feature_map_fourier = RBFSampler(gamma=gamma, n_components=dim, random_state=rm_state)\n",
        "X_feat_train = feature_map_fourier.fit(cardio_X)\n",
        "\n",
        "rffmap = QFeatureMap_rff(rbf_sampler=feature_map_fourier)\n",
        "\n",
        "Crff = rffmap.batch2wf(cardio_X)\n",
        "\n",
        "print(Crff.shape)"
      ],
      "execution_count": null,
      "outputs": [
        {
          "output_type": "stream",
          "name": "stdout",
          "text": [
            "(2060, 8)\n"
          ]
        }
      ]
    },
    {
      "cell_type": "code",
      "metadata": {
        "colab": {
          "base_uri": "https://localhost:8080/"
        },
        "id": "0Q_12GZ7PBrV",
        "outputId": "d6c6be7f-56df-4f23-b0a6-019ec3a97a09"
      },
      "source": [
        "Cones = []\n",
        "Ctrain = []\n",
        "Ctest_zeros = []\n",
        "Ctest_ones = []\n",
        "\n",
        "for i in range(Crff.shape[0]):\n",
        "    if (cardio_y[i] == 1):\n",
        "        Cones.append(Crff[i] / np.linalg.norm(Crff[i]))\n",
        "    elif (cardio_y[i] == 0):\n",
        "        Ctest_zeros.append(Crff[i] / np.linalg.norm(Crff[i]))\n",
        "\n",
        "Ctest_ones = Cones[:len(Ctest_zeros)//2]\n",
        "Ctrain = Cones[len(Ctest_zeros)//2:]\n",
        "\n",
        "print(len(Ctrain))\n",
        "print(len(Ctest_zeros))\n",
        "print(len(Ctest_ones))"
      ],
      "execution_count": null,
      "outputs": [
        {
          "output_type": "stream",
          "name": "stdout",
          "text": [
            "1442\n",
            "412\n",
            "206\n"
          ]
        }
      ]
    },
    {
      "cell_type": "code",
      "metadata": {
        "colab": {
          "base_uri": "https://localhost:8080/"
        },
        "id": "OL34_myvPBrZ",
        "outputId": "c740cbb4-be53-4814-e42d-a2979a5e7962"
      },
      "source": [
        "print(Ctrain[0])\n",
        "print(sum(Ctrain[0]**2))"
      ],
      "execution_count": null,
      "outputs": [
        {
          "output_type": "stream",
          "name": "stdout",
          "text": [
            "[ 0.45302627  0.48066672  0.39341633  0.02643167 -0.45585263  0.42733187\n",
            "  0.13250014  0.01677011]\n",
            "0.9999999999999999\n"
          ]
        }
      ]
    },
    {
      "cell_type": "code",
      "metadata": {
        "colab": {
          "base_uri": "https://localhost:8080/"
        },
        "id": "rGvIQijtPBre",
        "outputId": "fb6e22cf-d17a-4421-9f35-7b2fd3e450aa"
      },
      "source": [
        "Z_train = np.outer(np.abs(Ctrain[0]), np.abs(Ctrain[0]))\n",
        "for i in range(1, len(Ctrain)):\n",
        "    Z_train += np.outer(np.abs(Ctrain[i]), np.abs(Ctrain[i]))\n",
        "\n",
        "Z_train *= 1/len(Ctrain)\n",
        "print(Z_train)"
      ],
      "execution_count": null,
      "outputs": [
        {
          "output_type": "stream",
          "name": "stdout",
          "text": [
            "[[0.09403968 0.11342847 0.11443919 0.08022018 0.11041908 0.10061245\n",
            "  0.03776868 0.07929061]\n",
            " [0.11342847 0.1772893  0.17837182 0.11881422 0.17201055 0.15747309\n",
            "  0.05284141 0.11505695]\n",
            " [0.11443919 0.17837182 0.18674813 0.12177096 0.17508085 0.16288168\n",
            "  0.05327093 0.12032412]\n",
            " [0.08022018 0.11881422 0.12177096 0.10021428 0.11710474 0.11107623\n",
            "  0.03627804 0.07623142]\n",
            " [0.11041908 0.17201055 0.17508085 0.11710474 0.17365567 0.15717696\n",
            "  0.0512283  0.1112635 ]\n",
            " [0.10061245 0.15747309 0.16288168 0.11107623 0.15717696 0.15136805\n",
            "  0.04690002 0.10472527]\n",
            " [0.03776868 0.05284141 0.05327093 0.03627804 0.0512283  0.04690002\n",
            "  0.02382305 0.03774223]\n",
            " [0.07929061 0.11505695 0.12032412 0.07623142 0.1112635  0.10472527\n",
            "  0.03774223 0.09286184]]\n"
          ]
        }
      ]
    },
    {
      "cell_type": "code",
      "metadata": {
        "colab": {
          "base_uri": "https://localhost:8080/"
        },
        "id": "IMRL25dtPBrf",
        "outputId": "94e67a8b-35bf-441d-beba-eb99dab43fe5"
      },
      "source": [
        "lambda_P1_temp, U_train = np.linalg.eigh(Z_train)\n",
        "lambda_train = round_lambda(lambda_P1_temp)\n",
        "print(lambda_train)\n",
        "print(U_train)"
      ],
      "execution_count": null,
      "outputs": [
        {
          "output_type": "stream",
          "name": "stdout",
          "text": [
            "[0.00249992 0.00366071 0.00566582 0.98817355 0.01189256 0.01993744\n",
            " 0.02346068 0.92597342]\n",
            "[[-0.01908266 -0.10728949  0.09923328  0.2770666   0.37310267  0.46527216\n",
            "  -0.68053859  0.28756759]\n",
            " [ 0.69899499  0.06961987 -0.44261374 -0.18261394  0.26442004 -0.11875085\n",
            "   0.07720354  0.43280965]\n",
            " [-0.43307213 -0.64715466 -0.33970307  0.10127081 -0.04834919 -0.24078409\n",
            "   0.1023804   0.44405974]\n",
            " [-0.04540449  0.13002963 -0.17242185 -0.06056506 -0.49554992  0.72782953\n",
            "   0.28459714  0.30221221]\n",
            " [-0.47655819  0.59840474  0.09469492 -0.0740207   0.39542259 -0.11473368\n",
            "   0.22125313  0.42647635]\n",
            " [ 0.29721548 -0.20047704  0.74998691  0.23256838 -0.08768977 -0.08546069\n",
            "   0.28817368  0.39606364]\n",
            " [-0.07575347 -0.19022164  0.2772552  -0.89716308 -0.03936614  0.03101793\n",
            "  -0.23699     0.1327744 ]\n",
            " [ 0.01566788  0.33684065 -0.02829192  0.1072084  -0.61430518 -0.40034708\n",
            "  -0.50126668  0.291688  ]]\n"
          ]
        }
      ]
    },
    {
      "cell_type": "code",
      "metadata": {
        "colab": {
          "base_uri": "https://localhost:8080/"
        },
        "id": "rZ56QvaYPBrh",
        "outputId": "3b286001-fab1-404c-8444-99cfed444476"
      },
      "source": [
        "lambda_train = lambda_train / np.linalg.norm(lambda_train)\n",
        "print(lambda_train)\n",
        "print((sum(lambda_train**2)))"
      ],
      "execution_count": null,
      "outputs": [
        {
          "output_type": "stream",
          "name": "stdout",
          "text": [
            "[0.00184545 0.00270234 0.00418252 0.72947213 0.00877911 0.01471787\n",
            " 0.01731873 0.68355584]\n",
            "1.0\n"
          ]
        }
      ]
    },
    {
      "cell_type": "markdown",
      "metadata": {
        "id": "WuTdVw88PBrj"
      },
      "source": [
        "We will need a different circuit for each sample $|x \\rangle$ in the test partition. To obtain a more accurate predicted value, we will run the circuit many shots, and then we will store the amount of $|00 \\rangle$ obtained. This value will be proportional to the density estimated by the circuit."
      ]
    },
    {
      "cell_type": "code",
      "metadata": {
        "id": "4F4UAVy0PBrm"
      },
      "source": [
        "backend2 = Aer.get_backend('qasm_simulator')\n",
        "np.random.seed(1234)"
      ],
      "execution_count": null,
      "outputs": []
    },
    {
      "cell_type": "code",
      "metadata": {
        "colab": {
          "base_uri": "https://localhost:8080/"
        },
        "id": "EU69VIlQPZ_Q",
        "outputId": "4712074b-1857-4b9e-dc2a-347adb37871e"
      },
      "source": [
        "## Density Estimation Approach matrices 8x8\n",
        "Cpred_ones = []\n",
        "\n",
        "for i in range(len(Ctest_ones)):\n",
        "\n",
        "    qc = QuantumCircuit(6, 3)\n",
        "\n",
        "    qc.initialize(Ctest_ones[i], [0, 1, 2])\n",
        "    qc.initialize(lambda_train, [3, 4, 5])\n",
        "    qc.isometry(U_train.T, [], [0, 1, 2]) # ArbRot as a isometry\n",
        "\n",
        "    qc.cnot(5, 2)\n",
        "    qc.cnot(4, 1)\n",
        "    qc.cnot(3, 0)\n",
        "\n",
        "    qc.measure(0, 0)\n",
        "    qc.measure(1, 1)\n",
        "    qc.measure(2, 2)\n",
        "\n",
        "    counts = execute(qc, backend2, shots=8000).result().get_counts()\n",
        "    Cpred_ones.append((counts['000'])/2000)\n",
        "\n",
        "print(Cpred_ones)\n",
        "\n",
        "# Works"
      ],
      "execution_count": null,
      "outputs": [
        {
          "output_type": "stream",
          "name": "stdout",
          "text": [
            "[0.582, 0.7405, 0.7865, 0.6385, 0.6905, 0.586, 0.3845, 0.264, 0.4535, 0.4285, 0.376, 0.3655, 0.0745, 0.0975, 0.0175, 0.318, 0.2875, 0.249, 0.295, 0.227, 0.2865, 0.233, 0.262, 0.228, 0.316, 0.4455, 0.393, 0.1855, 0.138, 0.272, 0.1655, 0.0505, 1.365, 1.143, 0.1715, 0.8755, 0.85, 0.8845, 0.903, 0.8395, 0.5705, 0.796, 1.002, 0.8945, 1.0305, 0.762, 1.1015, 1.0065, 0.5605, 0.546, 0.5435, 0.551, 0.674, 0.691, 0.873, 0.7945, 0.6925, 0.695, 0.495, 0.821, 0.673, 0.6415, 0.5745, 0.8, 0.857, 0.298, 0.5055, 0.5565, 0.586, 0.5755, 0.5675, 0.429, 0.2455, 0.4565, 0.4155, 0.5925, 0.4605, 0.4665, 0.681, 0.649, 0.1535, 0.0795, 0.5395, 0.565, 0.504, 0.637, 0.444, 0.452, 0.438, 1.0905, 0.9435, 1.0945, 0.9705, 1.5125, 1.3825, 1.378, 0.9735, 0.3145, 0.6, 0.6865, 0.6615, 0.7725, 1.0325, 0.7715, 1.0605, 1.0665, 0.9755, 0.6535, 0.461, 0.5655, 0.585, 0.532, 0.5325, 0.2435, 0.5475, 0.3075, 0.3045, 0.4895, 0.4745, 0.5525, 0.543, 0.505, 0.639, 0.5205, 0.5155, 0.4435, 0.4815, 0.5985, 0.5615, 0.56, 0.5285, 0.591, 0.485, 0.5045, 0.39, 0.5445, 0.234, 0.28, 0.319, 0.2415, 0.3205, 0.4925, 0.656, 0.847, 0.752, 0.4895, 0.4565, 0.561, 0.6145, 0.641, 0.5575, 0.5985, 0.466, 0.4795, 0.5935, 0.6835, 0.4965, 0.5985, 0.355, 0.5195, 0.48, 0.5935, 0.551, 0.683, 0.632, 0.5625, 0.6255, 0.584, 0.5735, 0.5595, 0.4625, 0.522, 0.4895, 0.4835, 0.593, 0.574, 0.6095, 0.5675, 0.4895, 0.5975, 0.6185, 0.434, 0.65, 0.719, 0.6315, 0.663, 0.278, 0.365, 0.354, 0.267, 0.3, 0.2795, 0.2765, 0.4695, 0.53, 0.476, 0.39, 0.473, 0.49, 0.5265, 0.5865, 0.606, 0.432, 0.4165, 0.655, 0.605]\n"
          ]
        }
      ]
    },
    {
      "cell_type": "code",
      "metadata": {
        "colab": {
          "base_uri": "https://localhost:8080/"
        },
        "id": "XLjw-vNhPZ_V",
        "outputId": "889e9cf0-be62-43a3-e29d-9cb136eb28b5"
      },
      "source": [
        "# Mixed state case\n",
        "Cpred_zeros = []\n",
        "\n",
        "for i in range(len(Ctest_zeros)):\n",
        "\n",
        "    qc = QuantumCircuit(6, 3)\n",
        "\n",
        "    qc.initialize(Ctest_zeros[i], [0, 1, 2])\n",
        "    qc.initialize(lambda_train, [3, 4, 5])\n",
        "    qc.isometry(U_train.T, [], [0, 1, 2]) # ArbRot as a isometry\n",
        "\n",
        "    qc.cnot(5, 2)\n",
        "    qc.cnot(4, 1)\n",
        "    qc.cnot(3, 0)\n",
        "\n",
        "    qc.measure(0, 0)\n",
        "    qc.measure(1, 1)\n",
        "    qc.measure(2, 2)\n",
        "    counts = execute(qc, backend2, shots=8000).result().get_counts()\n",
        "    Cpred_zeros.append((counts['000'])/2000)\n",
        "\n",
        "print(Cpred_zeros)"
      ],
      "execution_count": null,
      "outputs": [
        {
          "output_type": "stream",
          "name": "stdout",
          "text": [
            "[1.289, 0.8135, 0.8265, 0.8385, 0.6745, 0.282, 0.406, 0.459, 0.8405, 0.2905, 0.421, 1.2525, 0.2025, 0.661, 0.67, 0.417, 0.409, 0.369, 0.277, 0.35, 0.7505, 0.823, 0.7235, 0.4875, 0.3795, 0.3525, 0.738, 0.8105, 0.379, 0.395, 0.571, 0.486, 0.427, 0.15, 0.2415, 0.193, 0.7945, 0.441, 0.3865, 0.3735, 0.632, 0.6295, 0.611, 0.5545, 0.3555, 0.5385, 0.66, 0.5935, 0.868, 0.5955, 0.588, 0.7985, 1.279, 0.487, 0.7705, 0.159, 0.5495, 0.2175, 0.799, 0.4585, 0.7815, 0.333, 0.4775, 0.6475, 0.3625, 0.316, 0.766, 0.47, 0.6195, 0.6305, 0.376, 0.48, 0.8625, 0.4095, 0.7575, 0.923, 0.572, 0.624, 0.2675, 0.44, 0.528, 0.7885, 0.3805, 0.467, 0.452, 0.726, 0.673, 0.7785, 0.4005, 0.4955, 0.895, 0.8355, 0.869, 0.767, 1.16, 0.331, 0.983, 0.7225, 0.745, 0.419, 0.837, 0.6305, 0.662, 0.3445, 0.4975, 0.478, 0.64, 0.5505, 0.756, 1.0525, 0.385, 0.6905, 0.3105, 0.861, 0.689, 0.9425, 1.1265, 0.6035, 0.3415, 0.8295, 0.321, 0.3915, 0.8405, 0.6795, 0.3545, 0.3255, 0.8415, 0.1805, 0.948, 0.4635, 0.5125, 0.777, 0.9665, 0.9265, 0.2725, 0.5575, 0.8455, 0.5215, 0.7815, 0.1775, 0.4445, 0.467, 1.027, 0.3335, 0.3185, 0.3525, 0.6775, 0.392, 0.656, 0.448, 0.5215, 1.02, 1.0045, 0.423, 0.838, 0.773, 0.424, 0.8085, 0.335, 0.701, 0.654, 0.941, 0.6295, 0.7595, 0.7965, 0.2625, 0.2275, 0.5585, 0.8495, 0.855, 0.3885, 0.629, 0.62, 0.34, 0.826, 0.393, 0.762, 0.07, 0.3295, 0.464, 0.34, 0.364, 0.3455, 0.785, 0.9985, 0.5615, 0.502, 0.435, 0.7775, 0.696, 0.256, 0.7765, 0.4425, 0.4305, 0.729, 0.9045, 0.1855, 0.0735, 0.382, 0.501, 0.769, 0.909, 0.4565, 0.2705, 0.365, 0.946, 0.427, 0.797, 0.432, 0.363, 0.1315, 0.3575, 0.84, 0.227, 0.687, 0.365, 0.645, 0.253, 0.524, 0.325, 0.0715, 0.47, 1.064, 0.6905, 0.4945, 0.539, 0.2235, 0.8345, 0.792, 0.6055, 0.7825, 0.3945, 0.746, 0.348, 0.3875, 0.9625, 0.48, 0.6775, 0.2905, 0.3555, 0.6955, 0.7295, 0.7555, 0.684, 0.4485, 0.8535, 1.1065, 0.45, 0.1605, 0.574, 0.577, 0.1895, 0.7265, 0.247, 0.3815, 0.3115, 0.609, 0.122, 0.7885, 0.814, 0.5565, 0.6915, 1.26, 0.293, 0.766, 0.556, 0.914, 0.306, 0.7155, 0.363, 0.6345, 0.7345, 0.455, 0.864, 0.746, 0.4015, 0.352, 0.33, 0.6885, 0.5405, 0.6005, 0.547, 0.3955, 0.859, 0.7815, 0.768, 0.519, 0.8505, 0.59, 0.263, 0.2955, 0.6735, 0.3535, 1.3705, 0.6785, 0.7795, 0.0865, 0.4785, 1.0665, 0.6195, 0.5425, 0.585, 0.3235, 0.302, 0.313, 0.4835, 0.6745, 0.3585, 0.4715, 0.7125, 0.6415, 0.432, 0.3165, 0.285, 0.4005, 0.8825, 0.75, 0.3605, 0.413, 0.8125, 0.3415, 0.2875, 0.6605, 0.3685, 0.338, 0.4485, 0.86, 0.523, 0.525, 0.5545, 0.267, 0.383, 0.613, 0.9235, 0.8335, 0.5125, 0.504, 0.331, 0.7855, 1.0185, 0.152, 0.6405, 0.926, 0.587, 0.656, 0.5725, 0.391, 0.5025, 0.448, 1.0585, 0.7395, 0.351, 0.195, 0.6505, 0.345, 0.503, 0.7335, 0.839, 0.5875, 0.612, 0.804, 0.548, 0.6835, 0.1885, 0.776, 0.2865, 0.4335, 0.384, 0.289, 0.4115, 0.488, 0.537, 0.4165, 0.7635, 0.578, 0.4035, 0.6985, 0.3165, 0.433, 0.551, 0.8735, 0.4905, 0.8995, 0.8715, 0.3925, 0.7915, 0.166, 0.8535, 0.9685, 0.3295, 0.627, 0.5365, 0.6755, 0.802, 0.4415, 0.447, 0.234, 0.366, 0.254, 0.6935, 1.279, 0.52, 0.6115, 0.7105, 0.445, 0.706, 0.749, 0.3525, 0.9705, 0.907, 0.885, 0.5895]\n"
          ]
        }
      ]
    },
    {
      "cell_type": "markdown",
      "metadata": {
        "id": "2MfuQbiXPBrs"
      },
      "source": [
        "Once we have obtained the predicted density values, we need to determine a threshold $t$ such that if a sample has a density lower than $t$, it is classified as an outlier. For this, we will define a validation partition from our test groups, and we'll try to find the best possible value for $t$ using only validation samples. After that, we'll use this threshold to compare with all the remaining test samples. "
      ]
    },
    {
      "cell_type": "code",
      "metadata": {
        "colab": {
          "base_uri": "https://localhost:8080/"
        },
        "id": "e2uBLeFEPBrs",
        "outputId": "3a3c0185-7dfb-46b9-825d-262a2af022a3"
      },
      "source": [
        "Cpred_val = np.concatenate((Cpred_ones[:100], Cpred_zeros[:100]))\n",
        "print(Cpred_val.shape)\n",
        "\n",
        "Cy_val = np.concatenate((np.ones(100), np.zeros(100)))\n",
        "print(Cy_val.shape)"
      ],
      "execution_count": null,
      "outputs": [
        {
          "output_type": "stream",
          "name": "stdout",
          "text": [
            "(200,)\n",
            "(200,)\n"
          ]
        }
      ]
    },
    {
      "cell_type": "code",
      "metadata": {
        "colab": {
          "base_uri": "https://localhost:8080/",
          "height": 283
        },
        "id": "jkx-DKtWPBrt",
        "outputId": "061f2ae4-faf0-4e1e-a3c4-e02bc03a6ccc"
      },
      "source": [
        "from sklearn.metrics import roc_curve, auc\n",
        "\n",
        "fpr, tpr, thresholds = roc_curve(Cy_val, Cpred_val, pos_label=1)\n",
        "\n",
        "plt.figure()\n",
        "lw = 2\n",
        "plt.plot(fpr, tpr, color=\"darkorange\",\n",
        "    lw=lw, label=\"ROC curve\")\n",
        "plt.plot([0, 1], [0, 1], color=\"navy\", lw=lw, linestyle=\"--\")\n",
        "print(auc(fpr, tpr))"
      ],
      "execution_count": null,
      "outputs": [
        {
          "output_type": "stream",
          "name": "stdout",
          "text": [
            "0.49595\n"
          ]
        },
        {
          "output_type": "display_data",
          "data": {
            "image/png": "[encoded data removed]",
            "text/plain": [
              "<Figure size 432x288 with 1 Axes>"
            ]
          },
          "metadata": {
            "needs_background": "light"
          }
        }
      ]
    },
    {
      "cell_type": "code",
      "metadata": {
        "colab": {
          "base_uri": "https://localhost:8080/"
        },
        "id": "fJAvDZCWPBru",
        "outputId": "920b4143-e29d-416d-de57-3d6ccf2db901"
      },
      "source": [
        "from sklearn.metrics import f1_score\n",
        "\n",
        "m, T = 0,0\n",
        "for t in thresholds:\n",
        "    preds = (Cpred_val > t).astype(int)\n",
        "    metric = f1_score(Cy_val, preds, average='weighted')\n",
        "    if (metric > m):    \n",
        "        m = metric\n",
        "        T = t\n",
        "\n",
        "print(T)"
      ],
      "execution_count": null,
      "outputs": [
        {
          "output_type": "stream",
          "name": "stdout",
          "text": [
            "0.4955\n"
          ]
        }
      ]
    },
    {
      "cell_type": "markdown",
      "metadata": {
        "id": "ZfnYKo6WPBrv"
      },
      "source": [
        "We have obtained that our best threshold is at $t = 0.4955$. So we will use this threshold to compare all test samples and to calculate some metrics for our estimator."
      ]
    },
    {
      "cell_type": "code",
      "metadata": {
        "id": "xp108yjcPBrw"
      },
      "source": [
        "Cpr_zeros = (np.array(Cpred_zeros) > T).astype(int)\n",
        "\n",
        "Cpr_ones = (np.array(Cpred_ones) > T).astype(int)"
      ],
      "execution_count": null,
      "outputs": []
    },
    {
      "cell_type": "code",
      "metadata": {
        "colab": {
          "base_uri": "https://localhost:8080/"
        },
        "id": "q3YvV4AIPBrx",
        "outputId": "03d21e00-0365-483b-d0a8-149acfe3339b"
      },
      "source": [
        "from sklearn.metrics import classification_report\n",
        "\n",
        "print(classification_report(\n",
        "        np.concatenate((np.ones(106), np.zeros(312))), \n",
        "        np.concatenate((Cpr_ones[100:], Cpr_zeros[100:])), digits=4))"
      ],
      "execution_count": null,
      "outputs": [
        {
          "output_type": "stream",
          "name": "stdout",
          "text": [
            "              precision    recall  f1-score   support\n",
            "\n",
            "         0.0     0.7630    0.4231    0.5443       312\n",
            "         1.0     0.2653    0.6132    0.3704       106\n",
            "\n",
            "    accuracy                         0.4713       418\n",
            "   macro avg     0.5142    0.5181    0.4574       418\n",
            "weighted avg     0.6368    0.4713    0.5002       418\n",
            "\n"
          ]
        }
      ]
    },
    {
      "cell_type": "markdown",
      "metadata": {
        "id": "5tRJqJF8PBry"
      },
      "source": [
        "## Cardio 8x8 Pure State"
      ]
    },
    {
      "cell_type": "code",
      "metadata": {
        "id": "RymAuutiPBry"
      },
      "source": [
        "# Given the eigenvalues this function return a Unitary gate which converts the |0> -> |lambda>\n",
        "def create_U_train(x_train_param, seed=0):\n",
        "  np.random.seed(seed)\n",
        "  size_U = len(x_train_param)\n",
        "  U_train = np.zeros((size_U, size_U))\n",
        "  x_1 = x_train_param\n",
        "  U_train[:, 0] = x_1\n",
        "  for i in range(1, size_U):\n",
        "    x_i = np.random.randn(size_U)\n",
        "    for j in range(0, i):\n",
        "      x_i -= x_i.dot(U_train[:, j]) * U_train[:, j]\n",
        "    x_i = x_i/np.linalg.norm(x_i)\n",
        "    U_train[:, i] = x_i\n",
        "  \n",
        "  return U_train"
      ],
      "execution_count": null,
      "outputs": []
    },
    {
      "cell_type": "code",
      "metadata": {
        "colab": {
          "base_uri": "https://localhost:8080/"
        },
        "id": "lcW2hHKMPBrz",
        "outputId": "8fb1c0ea-1b75-4e2c-c0a0-f8c031c629e9"
      },
      "source": [
        "phi_train = np.sum(np.abs(Ctrain), axis=0)\n",
        "phi_train = phi_train / np.linalg.norm(phi_train)\n",
        "\n",
        "U_train = create_U_train(phi_train)\n",
        "\n",
        "print(U_train)"
      ],
      "execution_count": null,
      "outputs": [
        {
          "output_type": "stream",
          "name": "stdout",
          "text": [
            "[[ 0.28684681  0.36163466 -0.64907043  0.3039476   0.29823376 -0.3628901\n",
            "   0.15672877 -0.16752971]\n",
            " [ 0.43304774 -0.19150853  0.0425077   0.01946241 -0.66638594 -0.35659966\n",
            "  -0.20048597 -0.40271614]\n",
            " [ 0.44413513 -0.01120385 -0.3346563   0.02332315 -0.35547746  0.59271958\n",
            "   0.24672536  0.38926279]\n",
            " [ 0.30137368  0.50622778  0.63860468  0.26581483  0.02231948  0.06976633\n",
            "   0.39028257 -0.1294136 ]\n",
            " [ 0.42656204  0.29150598  0.0298679  -0.72831994  0.27817334  0.09661608\n",
            "  -0.32529554 -0.09588955]\n",
            " [ 0.39638647 -0.61313144  0.11383773  0.26809529  0.49785862  0.24052065\n",
            "  -0.04173887 -0.27323611]\n",
            " [ 0.13336378  0.21047524  0.11205656  0.46037306  0.02482021  0.01655667\n",
            "  -0.74680723  0.39345019]\n",
            " [ 0.29196429 -0.26635886  0.17516306 -0.14753714  0.1194335  -0.5634755\n",
            "   0.23825873  0.6346844 ]]\n"
          ]
        }
      ]
    },
    {
      "cell_type": "markdown",
      "metadata": {
        "id": "gMnQAcdWPBr0"
      },
      "source": [
        "We will need a different circuit for each sample $|x \\rangle$ in the test partition. To obtain a more accurate predicted value, we will run the circuit many shots, and then we will store the amount of $|00 \\rangle$ obtained."
      ]
    },
    {
      "cell_type": "code",
      "metadata": {
        "id": "DtbhFpLQPBr0"
      },
      "source": [
        "backend = Aer.get_backend('qasm_simulator')\n",
        "np.random.seed(1234)"
      ],
      "execution_count": null,
      "outputs": []
    },
    {
      "cell_type": "code",
      "metadata": {
        "colab": {
          "base_uri": "https://localhost:8080/"
        },
        "id": "NRXLTbWcT_Je",
        "outputId": "a69f5afd-3be7-43f5-9ac2-837558853e1c"
      },
      "source": [
        "## Density Estimation Approach matrices 8x8\n",
        "Cpred_ones = []\n",
        "\n",
        "for i in range(len(Ctest_ones)):\n",
        "\n",
        "    qc = QuantumCircuit(3, 3)\n",
        "    qc.initialize(Ctest_ones[i], [0, 1, 2])\n",
        "    qc.isometry(U_train.T, [], [0, 1, 2]) # ArbRot as a isometry\n",
        "\n",
        "    qc.measure(0, 0)\n",
        "    qc.measure(1, 1)\n",
        "    qc.measure(2, 2)\n",
        "\n",
        "    counts = execute(qc, backend, shots=8000).result().get_counts()\n",
        "    try:\n",
        "        Cpred_ones.append((counts['000'])/2000)\n",
        "    except:\n",
        "        Cpred_ones.append(0)\n",
        "\n",
        "print(Cpred_ones)\n",
        "\n",
        "# Works"
      ],
      "execution_count": null,
      "outputs": [
        {
          "output_type": "stream",
          "name": "stdout",
          "text": [
            "[0.944, 1.046, 1.618, 1.398, 1.4315, 0.99, 0.6885, 0.545, 0.922, 0.7625, 0.8095, 0.778, 0.0855, 0.189, 0.003, 0.6985, 0.482, 0.5125, 0.5885, 0.5135, 0.5615, 0.449, 0.5245, 0.4645, 0.554, 0.9335, 0.833, 0.2405, 0.221, 0.554, 0.3775, 0.0965, 2.651, 2.077, 0.369, 1.5015, 1.5525, 1.63, 1.706, 1.483, 0.9735, 1.723, 2.146, 1.6355, 2.2055, 1.169, 2.0875, 1.8345, 0.581, 0.709, 0.731, 0.8895, 1.0095, 1.4225, 1.255, 1.598, 1.3985, 1.2505, 0.917, 1.2905, 1.103, 1.091, 0.762, 1.195, 1.477, 0.575, 0.822, 1.178, 1.1725, 0.9355, 1.1505, 0.5525, 0.4035, 0.933, 0.7345, 1.2295, 0.979, 0.981, 1.176, 1.241, 0.2265, 0.196, 0.97, 0.9505, 0.897, 1.2865, 0.946, 0.94, 0.9065, 1.9495, 1.5245, 1.618, 1.6215, 2.8385, 2.482, 2.5285, 1.47, 0.6085, 1.237, 1.5035, 1.0695, 1.6945, 1.8315, 1.4275, 2.2175, 2.072, 2.0455, 1.3085, 0.512, 0.7275, 0.993, 1.0445, 0.9225, 0.3225, 0.921, 0.4145, 0.4395, 0.864, 0.8245, 1.1585, 0.367, 0.343, 0.4515, 0.694, 1.0725, 0.887, 0.944, 0.915, 0.953, 1.07, 0.87, 1.099, 0.8865, 0.9175, 0.8445, 1.0645, 0.473, 0.55, 0.5525, 0.5145, 0.4625, 0.9925, 1.025, 1.503, 1.0705, 1.0125, 0.9765, 1.041, 1.017, 0.997, 1.049, 0.9675, 1.0025, 0.918, 1.2725, 1.152, 1.0465, 1.0125, 0.698, 0.966, 0.964, 1.0405, 1.2, 0.9785, 1.298, 1.106, 1.246, 0.929, 1.072, 1.0885, 0.8025, 0.869, 0.8605, 1.086, 1.153, 0.9755, 1.09, 1.017, 0.8665, 1.0055, 0.9395, 0.903, 1.0645, 1.2845, 0.949, 1.4065, 0.515, 0.698, 0.697, 0.592, 0.553, 0.5345, 0.5985, 0.74, 0.875, 0.986, 0.7285, 1.0525, 1.006, 1.123, 0.984, 0.9695, 0.656, 0.837, 1.3365, 1.2175]\n"
          ]
        }
      ]
    },
    {
      "cell_type": "code",
      "metadata": {
        "colab": {
          "base_uri": "https://localhost:8080/"
        },
        "id": "FiVamnA-T_Jj",
        "outputId": "ac770d71-36fd-4ebd-cf10-600de6a4eec8"
      },
      "source": [
        "# Pure state case\n",
        "Cpred_zeros = []\n",
        "\n",
        "for i in range(len(Ctest_zeros)):\n",
        "\n",
        "    qc = QuantumCircuit(3, 3)\n",
        "    qc.initialize(Ctest_zeros[i], [0, 1, 2])\n",
        "    qc.isometry(U_train.T, [], [0, 1, 2]) # ArbRot as a isometry\n",
        "\n",
        "    qc.measure(0, 0)\n",
        "    qc.measure(1, 1)\n",
        "    qc.measure(2, 2)\n",
        "\n",
        "    counts = execute(qc, backend, shots=8000).result().get_counts()\n",
        "    try:\n",
        "        Cpred_zeros.append((counts['000'])/2000)\n",
        "    except:\n",
        "        Cpred_zeros.append(0)\n",
        "\n",
        "print(Cpred_zeros)"
      ],
      "execution_count": null,
      "outputs": [
        {
          "output_type": "stream",
          "name": "stdout",
          "text": [
            "[1.968, 1.55, 1.1885, 1.5635, 1.008, 0.488, 0.8315, 0.012, 1.689, 0.4935, 0.219, 2.0725, 0.2575, 0.9815, 1.1325, 0.098, 0.0375, 0.5835, 0.0615, 0.707, 1.4355, 1.0385, 1.277, 0.8905, 0.8135, 0.71, 1.422, 1.3475, 0.4865, 0.716, 1.028, 0.9545, 0.006, 0.0725, 0.4385, 0.112, 1.4745, 0.5075, 0.678, 0.766, 1.22, 0.994, 1.1465, 1.0155, 0.529, 1.1415, 1.0565, 1.0785, 1.36, 1.0815, 1.0735, 1.382, 1.48, 0.921, 1.346, 0.172, 1.1, 0.3365, 1.5455, 0.9065, 1.401, 0.5875, 1.0055, 1.0735, 0.1675, 0.089, 1.5525, 1.0075, 1.044, 1.129, 0.264, 1.0665, 1.698, 0.807, 1.311, 1.5445, 1.1695, 1.1995, 0.4315, 0.798, 1.0855, 1.0635, 0.793, 0.8285, 0.5295, 1.35, 1.2945, 1.282, 0.8765, 0.9765, 1.9335, 1.71, 1.6965, 1.431, 1.822, 0.7005, 1.79, 1.156, 1.4425, 0.869, 0.9945, 1.2915, 1.114, 0.687, 0.896, 0.387, 1.2025, 1.0415, 1.157, 2.2335, 0.007, 1.1475, 0.5355, 1.2675, 1.499, 1.951, 1.7705, 1.073, 0.389, 1.6075, 0.694, 0.838, 1.59, 1.4195, 0.2455, 0.61, 1.766, 0.0085, 1.942, 0.925, 1.09, 1.3635, 1.983, 1.6115, 0.4035, 0.6035, 1.4205, 0.4835, 0.9595, 0.0005, 0.53, 0.975, 1.91, 0.0815, 0.6035, 0.764, 1.1235, 0.045, 1.2515, 0.162, 0.9385, 2.0655, 2.13, 0.722, 1.695, 1.496, 0.8535, 1.387, 0.5015, 1.197, 1.2885, 1.5055, 1.156, 1.437, 1.641, 0.466, 0.4895, 1.1805, 1.8845, 1.6775, 0.818, 1.0015, 1.176, 0.333, 1.5175, 0.749, 1.5115, 0.068, 0.6565, 0.63, 0.6445, 0.2575, 0.6335, 1.656, 2.042, 1.2445, 0.884, 0.848, 1.1365, 1.3575, 0.481, 1.3315, 0.0005, 0.5265, 1.56, 1.1385, 0.288, 0.0535, 0.782, 0.8485, 1.579, 1.5765, 0.0725, 0.3715, 0.5725, 1.6085, 0.531, 1.601, 0.021, 0.5965, 0.106, 0.671, 1.674, 0.451, 1.0595, 0.2935, 1.162, 0.5365, 0.934, 0.586, 0.1485, 0.971, 2.225, 1.442, 1.0705, 0.671, 0.049, 1.6895, 1.396, 1.002, 1.47, 0.2685, 1.0165, 0.6335, 0.01, 1.386, 0.53, 1.009, 0.571, 0.735, 1.4835, 1.5975, 1.2645, 1.321, 0.757, 1.3085, 2.2905, 0.902, 0.049, 0.7505, 1.0145, 0.4545, 1.055, 0.2325, 0.004, 0.1105, 1.05, 0.0255, 1.5245, 1.609, 0.995, 1.031, 1.941, 0.1785, 0.718, 0.861, 1.6505, 0.142, 1.1105, 0.7525, 1.364, 1.4645, 0.8915, 1.6115, 1.3205, 0.7875, 0.638, 0.21, 1.126, 0.8875, 1.0845, 0.7355, 0.761, 1.388, 1.533, 1.6745, 1.0045, 1.496, 1.087, 0.0265, 0.2, 1.2855, 0.426, 1.8475, 1.4745, 1.5705, 0.1415, 0.9295, 2.1775, 1.2945, 0.903, 1.2955, 0.582, 0.3235, 0.58, 0.993, 1.2465, 0.398, 0.8025, 1.2855, 1.2005, 0.966, 0.6235, 0.51, 0.7205, 1.794, 1.439, 0.011, 0.076, 1.554, 0.4815, 0.3225, 1.1105, 0.635, 0.594, 0.9045, 1.7985, 1.0305, 1.0975, 0.9795, 0.266, 0.533, 1.193, 1.975, 1.7485, 1.0365, 0.792, 0.0555, 1.5645, 2.074, 0.032, 1.1275, 1.688, 1.2185, 1.2, 1.1535, 0.053, 0.9835, 0.0065, 2.1905, 1.1425, 0.091, 0.1535, 1.3365, 0.6545, 0.071, 1.2905, 1.73, 1.3295, 1.078, 1.665, 1.0515, 1.168, 0.2585, 1.39, 0.511, 0.003, 0.6825, 0.6125, 0.567, 0.692, 0.9535, 0.8465, 0.855, 1.1445, 0.0005, 1.2795, 0.764, 0.901, 1.042, 1.2425, 0.975, 1.7075, 1.5215, 0.433, 1.221, 0.172, 1.682, 1.937, 0.4575, 1.1205, 0.8835, 1.2825, 1.7075, 0.933, 0.899, 0.0945, 0.754, 0.2515, 1.2905, 1.619, 0.577, 1.3015, 1.366, 0.898, 1.4445, 1.6195, 0.66, 1.943, 1.2055, 1.444, 1.2325]\n"
          ]
        }
      ]
    },
    {
      "cell_type": "markdown",
      "metadata": {
        "id": "1vFw5IqlPBr3"
      },
      "source": [
        "Once we have obtained the predicted density values, we need to determine a threshold $t$ such that if a sample has a density lower than $t$, it is classified as an outlier. For this, we will define a validation partition from our test groups, and we'll try to find the best possible value for $t$ using only validation samples. After that, we'll use this threshold to compare with all the remaining test samples. "
      ]
    },
    {
      "cell_type": "code",
      "metadata": {
        "colab": {
          "base_uri": "https://localhost:8080/"
        },
        "id": "SXvG4bPBPBr3",
        "outputId": "de2abd9c-c975-43b9-d1e6-41fa1f3f7002"
      },
      "source": [
        "Cpred_val = np.concatenate((Cpred_ones[:100], Cpred_zeros[:100]))\n",
        "print(Cpred_val.shape)\n",
        "\n",
        "Cy_val = np.concatenate((np.ones(100), np.zeros(100)))\n",
        "print(Cy_val.shape)"
      ],
      "execution_count": null,
      "outputs": [
        {
          "output_type": "stream",
          "name": "stdout",
          "text": [
            "(200,)\n",
            "(200,)\n"
          ]
        }
      ]
    },
    {
      "cell_type": "code",
      "metadata": {
        "colab": {
          "base_uri": "https://localhost:8080/",
          "height": 283
        },
        "id": "fLX1Uz1VPBr4",
        "outputId": "8130b0de-00c3-4478-b8dc-cb4f1a0d8a96"
      },
      "source": [
        "from sklearn.metrics import roc_curve, auc\n",
        "\n",
        "fpr, tpr, thresholds = roc_curve(Cy_val, Cpred_val, pos_label=1)\n",
        "\n",
        "plt.figure()\n",
        "lw = 2\n",
        "plt.plot(fpr, tpr, color=\"darkorange\",\n",
        "    lw=lw, label=\"ROC curve\")\n",
        "plt.plot([0, 1], [0, 1], color=\"navy\", lw=lw, linestyle=\"--\")\n",
        "print(auc(fpr, tpr))"
      ],
      "execution_count": null,
      "outputs": [
        {
          "output_type": "stream",
          "name": "stdout",
          "text": [
            "0.5209\n"
          ]
        },
        {
          "output_type": "display_data",
          "data": {
            "image/png": "[encoded data removed]",
            "text/plain": [
              "<Figure size 432x288 with 1 Axes>"
            ]
          },
          "metadata": {
            "needs_background": "light"
          }
        }
      ]
    },
    {
      "cell_type": "code",
      "metadata": {
        "colab": {
          "base_uri": "https://localhost:8080/"
        },
        "id": "ErcsDaUVPBr5",
        "outputId": "d66da845-0ceb-4cf7-fc21-489b5a29c91a"
      },
      "source": [
        "from sklearn.metrics import f1_score\n",
        "\n",
        "m, T = 0,0\n",
        "for t in thresholds:\n",
        "    preds = (Cpred_val > t).astype(int)\n",
        "    metric = f1_score(Cy_val, preds, average='weighted')\n",
        "    if (metric > m):    \n",
        "        m = metric\n",
        "        T = t\n",
        "\n",
        "print(T)"
      ],
      "execution_count": null,
      "outputs": [
        {
          "output_type": "stream",
          "name": "stdout",
          "text": [
            "1.156\n"
          ]
        }
      ]
    },
    {
      "cell_type": "markdown",
      "metadata": {
        "id": "vXwfL6sfPBr5"
      },
      "source": [
        "We have obtained that our best threshold is at $t = 1.156$. So we will use this threshold to compare all test samples and to calculate some metrics for our estimator."
      ]
    },
    {
      "cell_type": "code",
      "metadata": {
        "id": "yoXXasqxPBr6"
      },
      "source": [
        "Cpr_zeros = (np.array(Cpred_zeros) > T).astype(int)\n",
        "\n",
        "Cpr_ones = (np.array(Cpred_ones) > T).astype(int)"
      ],
      "execution_count": null,
      "outputs": []
    },
    {
      "cell_type": "code",
      "metadata": {
        "colab": {
          "base_uri": "https://localhost:8080/"
        },
        "id": "qrQAeHXTPBr6",
        "outputId": "07a6e0f4-06bb-4df6-e087-6e7e92271a88"
      },
      "source": [
        "from sklearn.metrics import classification_report\n",
        "\n",
        "print(classification_report(\n",
        "        np.concatenate((np.ones(106), np.zeros(312))), \n",
        "        np.concatenate((Cpr_ones[100:], Cpr_zeros[100:])), digits=4))"
      ],
      "execution_count": null,
      "outputs": [
        {
          "output_type": "stream",
          "name": "stdout",
          "text": [
            "              precision    recall  f1-score   support\n",
            "\n",
            "         0.0     0.6833    0.6154    0.6476       312\n",
            "         1.0     0.1241    0.1604    0.1399       106\n",
            "\n",
            "    accuracy                         0.5000       418\n",
            "   macro avg     0.4037    0.3879    0.3937       418\n",
            "weighted avg     0.5415    0.5000    0.5188       418\n",
            "\n"
          ]
        }
      ]
    },
    {
      "cell_type": "markdown",
      "metadata": {
        "id": "-fA-THWjWJcy"
      },
      "source": [
        "## SpamBase 4x4 Mixed State"
      ]
    },
    {
      "cell_type": "code",
      "metadata": {
        "colab": {
          "base_uri": "https://localhost:8080/"
        },
        "id": "1ZEykAr4WJc1",
        "outputId": "e4be41db-5e0f-4a03-886f-2f6888f99765"
      },
      "source": [
        "# Create the RandomFourierFeature map\n",
        "dim = 4\n",
        "rm_state = 2\n",
        "sigma = 1  #dataset dependant\n",
        "gamma = 1 / (2 * sigma**2)\n",
        "\n",
        "feature_map_fourier = RBFSampler(gamma=gamma, n_components=dim, random_state=rm_state)\n",
        "X_feat_train = feature_map_fourier.fit(spam_X)\n",
        "\n",
        "rffmap = QFeatureMap_rff(rbf_sampler=feature_map_fourier)\n",
        "\n",
        "Srff = rffmap.batch2wf(spam_X)\n",
        "\n",
        "print(Srff.shape)"
      ],
      "execution_count": null,
      "outputs": [
        {
          "output_type": "stream",
          "name": "stdout",
          "text": [
            "(3485, 4)\n"
          ]
        }
      ]
    },
    {
      "cell_type": "code",
      "metadata": {
        "colab": {
          "base_uri": "https://localhost:8080/"
        },
        "id": "JyB1rcPCWJc4",
        "outputId": "168a5537-7495-4b2a-de7d-ae071405a000"
      },
      "source": [
        "Sones = []\n",
        "Strain = []\n",
        "Stest_zeros = []\n",
        "Stest_ones = []\n",
        "\n",
        "for i in range(Srff.shape[0]):\n",
        "    if (spam_y[i] == 1):\n",
        "        Sones.append(Srff[i] / np.linalg.norm(Srff[i]))\n",
        "    elif (spam_y[i] == 0):\n",
        "        Stest_zeros.append(Srff[i] / np.linalg.norm(Srff[i]))\n",
        "\n",
        "Stest_ones = Sones[:len(Stest_zeros)//2]\n",
        "Strain = Sones[len(Stest_zeros)//2:]\n",
        "\n",
        "print(len(Strain))\n",
        "print(len(Stest_zeros))\n",
        "print(len(Stest_ones))"
      ],
      "execution_count": null,
      "outputs": [
        {
          "output_type": "stream",
          "name": "stdout",
          "text": [
            "2440\n",
            "697\n",
            "348\n"
          ]
        }
      ]
    },
    {
      "cell_type": "code",
      "metadata": {
        "colab": {
          "base_uri": "https://localhost:8080/"
        },
        "id": "lyeniPpcWJc7",
        "outputId": "faeb13c4-56b6-4a4f-f06d-f6f07be0ffd9"
      },
      "source": [
        "print(Strain[0])\n",
        "print(sum(Strain[0]**2))"
      ],
      "execution_count": null,
      "outputs": [
        {
          "output_type": "stream",
          "name": "stdout",
          "text": [
            "[ 0.35145319 -0.48431271 -0.78982361  0.13453817]\n",
            "1.0\n"
          ]
        }
      ]
    },
    {
      "cell_type": "code",
      "metadata": {
        "colab": {
          "base_uri": "https://localhost:8080/"
        },
        "id": "3XnAwpy-WJc9",
        "outputId": "b578f513-d851-4c3a-8d78-84929cff91a8"
      },
      "source": [
        "Z_train = np.outer(np.abs(Strain[0]), np.abs(Strain[0]))\n",
        "for i in range(1, len(Strain)):\n",
        "    Z_train += np.outer(np.abs(Strain[i]), np.abs(Strain[i]))\n",
        "\n",
        "Z_train *= 1/len(Strain)\n",
        "print(Z_train)"
      ],
      "execution_count": null,
      "outputs": [
        {
          "output_type": "stream",
          "name": "stdout",
          "text": [
            "[[0.16023957 0.0855305  0.2371648  0.12718549]\n",
            " [0.0855305  0.08410164 0.15276087 0.08057598]\n",
            " [0.2371648  0.15276087 0.54511706 0.26604072]\n",
            " [0.12718549 0.08057598 0.26604072 0.21054174]]\n"
          ]
        }
      ]
    },
    {
      "cell_type": "code",
      "metadata": {
        "colab": {
          "base_uri": "https://localhost:8080/"
        },
        "id": "fxcpxfruWJc-",
        "outputId": "de22a334-5441-4d27-f570-73fddee116d5"
      },
      "source": [
        "lambda_P1_temp, U_train = np.linalg.eigh(Z_train)\n",
        "lambda_train = round_lambda(lambda_P1_temp)\n",
        "print(lambda_train)\n",
        "print(U_train)"
      ],
      "execution_count": null,
      "outputs": [
        {
          "output_type": "stream",
          "name": "stdout",
          "text": [
            "[0.02850307 0.05355448 0.06531519 0.85262726]\n",
            "[[-5.62804417e-01  6.84628757e-01 -2.68617322e-01 -3.77331933e-01]\n",
            " [ 8.26111187e-01  4.61515842e-01 -2.13519697e-01 -2.42801922e-01]\n",
            " [-3.94849885e-04 -5.47471817e-01 -2.93903994e-01 -7.83514452e-01]\n",
            " [ 2.81307491e-02  1.36239504e-01  8.92117994e-01 -4.29852234e-01]]\n"
          ]
        }
      ]
    },
    {
      "cell_type": "code",
      "metadata": {
        "colab": {
          "base_uri": "https://localhost:8080/"
        },
        "id": "KVL03ILsWJc_",
        "outputId": "9d0b5df5-a68a-431f-8cfe-0e5da74fe7ac"
      },
      "source": [
        "lambda_train = lambda_train / np.linalg.norm(lambda_train)\n",
        "print(lambda_train)\n",
        "print((sum(lambda_train**2)))"
      ],
      "execution_count": null,
      "outputs": [
        {
          "output_type": "stream",
          "name": "stdout",
          "text": [
            "[0.03324847 0.06247062 0.07618934 0.99457888]\n",
            "1.0\n"
          ]
        }
      ]
    },
    {
      "cell_type": "markdown",
      "metadata": {
        "id": "122aXDU8WJdA"
      },
      "source": [
        "We will need a different circuit for each sample $|x \\rangle$ in the test partition. To obtain a more accurate predicted value, we will run the circuit many shots, and then we will store the amount of $|00 \\rangle$ obtained. This value will be proportional to the density estimated by the circuit."
      ]
    },
    {
      "cell_type": "code",
      "metadata": {
        "id": "IU3Y-_WWWJdB"
      },
      "source": [
        "from qiskit import QuantumRegister, ClassicalRegister, QuantumCircuit\n",
        "from qiskit import Aer, execute"
      ],
      "execution_count": null,
      "outputs": []
    },
    {
      "cell_type": "code",
      "metadata": {
        "id": "u7PPaqaBWJdB"
      },
      "source": [
        "backend2 = Aer.get_backend('qasm_simulator')\n",
        "np.random.seed(1234)"
      ],
      "execution_count": null,
      "outputs": []
    },
    {
      "cell_type": "code",
      "metadata": {
        "colab": {
          "base_uri": "https://localhost:8080/"
        },
        "id": "ibjwyETcWJdC",
        "outputId": "41cbd901-2c67-4423-c5e3-66d618572580"
      },
      "source": [
        "## Density Estimation Approach matrices 4x4\n",
        "Spred_ones = []\n",
        "\n",
        "for i in range(len(Stest_ones)):\n",
        "\n",
        "    qc = QuantumCircuit(4, 2)\n",
        "\n",
        "    qc.initialize(Stest_ones[i], [0, 1])\n",
        "    qc.initialize(lambda_train, [2, 3])\n",
        "    qc.isometry(U_train.T, [], [0, 1]) # ArbRot as a isometry\n",
        "\n",
        "    qc.cnot(3, 1)\n",
        "    qc.cnot(2, 0)\n",
        "\n",
        "    qc.measure(0, 0)\n",
        "    qc.measure(1, 1)\n",
        "\n",
        "    counts = execute(qc, backend2, shots=8000).result().get_counts()\n",
        "    Spred_ones.append((counts['00'])/2000)\n",
        "\n",
        "print(Spred_ones)\n",
        "\n",
        "# Works"
      ],
      "execution_count": null,
      "outputs": [
        {
          "output_type": "stream",
          "name": "stdout",
          "text": [
            "[0.9955, 0.023, 0.018, 0.926, 0.731, 0.148, 0.5245, 0.475, 0.8075, 0.552, 0.1715, 0.9935, 2.4755, 0.523, 0.3935, 1.1695, 2.549, 0.1335, 1.653, 0.035, 0.5735, 0.043, 0.829, 1.4005, 1.522, 0.2355, 0.836, 0.658, 0.753, 0.0225, 0.1275, 0.9965, 1.0055, 1.4595, 1.143, 0.2895, 0.303, 1.7035, 0.7015, 1.918, 0.6515, 1.722, 0.4915, 0.181, 1.678, 0.431, 1.074, 0.1005, 1.0735, 1.4355, 1.3465, 1.7665, 1.247, 0.6265, 1.725, 0.6235, 2.107, 0.8265, 0.26, 0.977, 0.168, 0.4435, 0.4385, 0.458, 0.304, 0.387, 0.646, 0.0585, 2.008, 0.6515, 0.977, 0.023, 0.283, 0.562, 0.7075, 0.061, 0.5115, 0.82, 0.4335, 1.072, 1.1805, 1.0475, 0.3145, 0.773, 0.8145, 0.5735, 1.0595, 0.846, 0.716, 1.0455, 0.2415, 1.783, 1.3605, 1.0745, 0.086, 0.5675, 1.6, 0.694, 1.5675, 1.58, 1.0805, 1.2845, 1.215, 1.0395, 2.116, 0.3215, 0.4505, 1.28, 0.3045, 0.3525, 0.1935, 1.16, 0.529, 0.594, 1.763, 2.2465, 0.715, 1.781, 1.125, 0.0435, 1.1035, 1.3185, 0.5825, 1.264, 1.761, 0.6805, 0.381, 1.135, 0.677, 0.4885, 2.4415, 0.57, 2.5765, 0.494, 0.561, 0.613, 0.9015, 0.954, 0.3515, 0.7095, 0.092, 0.513, 0.953, 0.328, 0.085, 0.37, 0.89, 0.789, 0.5435, 2.2875, 0.813, 0.9105, 0.0875, 0.3505, 0.778, 0.8945, 0.638, 0.0585, 1.0055, 0.6245, 0.877, 0.714, 0.6205, 0.1465, 2.4795, 0.325, 0.9025, 2.628, 0.8815, 0.463, 0.6865, 0.711, 0.9455, 0.3275, 0.2685, 0.952, 0.962, 0.649, 0.745, 2.321, 1.6315, 1.378, 0.301, 0.7745, 0.1075, 0.4005, 0.919, 1.5555, 0.9345, 1.0315, 0.5765, 1.5285, 0.7045, 0.7225, 0.1175, 0.503, 0.9195, 1.1955, 0.1595, 0.3015, 0.9425, 0.0395, 1.9245, 0.708, 0.6665, 0.277, 1.422, 0.0465, 1.203, 0.61, 0.927, 0.5545, 0.749, 0.8205, 2.7785, 1.5545, 0.123, 2.3655, 0.255, 0.9975, 2.3085, 0.795, 1.4755, 0.738, 0.2005, 1.375, 0.4465, 1.494, 0.0315, 0.936, 2.114, 0.5715, 2.163, 0.0055, 1.3715, 1.059, 0.5435, 0.8565, 0.6345, 0.8095, 1.7555, 1.3105, 0.166, 0.2785, 1.7225, 1.2775, 0.181, 0.518, 0.4425, 1.6265, 0.6685, 0.0165, 0.069, 0.1515, 0.629, 0.7175, 1.142, 0.6525, 0.8585, 0.977, 0.3235, 0.718, 3.4965, 0.122, 0.347, 0.9995, 2.028, 0.9745, 1.0405, 0.4015, 0.013, 0.985, 1.9325, 0.7035, 0.958, 1.4395, 0.094, 0.0885, 0.5785, 1.6185, 0.6655, 0.712, 0.8865, 0.751, 0.5, 0.7465, 0.8965, 0.27, 0.941, 0.6985, 0.3605, 2.002, 0.341, 0.902, 0.904, 2.132, 2.097, 0.8755, 0.175, 0.2455, 1.014, 0.684, 0.6665, 0.238, 0.816, 1.0265, 0.885, 0.9795, 0.8165, 1.2775, 1.313, 2.124, 0.1805, 0.971, 0.09, 0.2445, 0.1075, 0.937, 2.1015, 0.7365, 1.4975, 0.277, 0.8615, 0.9205, 0.0105, 0.52, 0.155, 1.7805, 0.902, 1.0895, 0.4575, 0.1225, 0.691, 0.717, 0.3395, 0.101, 1.1725, 0.0935, 1.5875, 0.4245, 0.0115, 0.446, 1.787, 0.0155, 0.8645, 0.847, 1.2845, 0.264]\n"
          ]
        }
      ]
    },
    {
      "cell_type": "code",
      "metadata": {
        "colab": {
          "base_uri": "https://localhost:8080/"
        },
        "id": "xzwXlERVWJdC",
        "outputId": "fe0c3285-cf2e-4f1a-8be2-41029b35c3ba"
      },
      "source": [
        "# Mixed state case\n",
        "Spred_zeros = []\n",
        "\n",
        "for i in range(len(Stest_zeros)):\n",
        "\n",
        "    qc = QuantumCircuit(4, 2)\n",
        "    \n",
        "    qc.initialize(Stest_zeros[i], [0, 1])\n",
        "    qc.initialize(lambda_train, [2, 3])\n",
        "    qc.isometry(U_train.T, [], [0, 1]) # ArbRot as a isometry\n",
        "\n",
        "    qc.cnot(3, 1)\n",
        "    qc.cnot(2, 0)\n",
        "\n",
        "    qc.measure(0, 0)\n",
        "    qc.measure(1, 1)\n",
        "\n",
        "    counts = execute(qc, backend2, shots=8000).result().get_counts()\n",
        "    Spred_zeros.append((counts['00'])/2000)\n",
        "\n",
        "print(Spred_zeros)"
      ],
      "execution_count": null,
      "outputs": [
        {
          "output_type": "stream",
          "name": "stdout",
          "text": [
            "[0.209, 0.3425, 0.048, 0.14, 0.1905, 0.195, 0.023, 3.1215, 0.124, 0.3255, 0.4035, 0.3435, 0.2245, 0.408, 0.028, 0.783, 0.063, 0.529, 0.4485, 0.023, 0.4315, 0.0485, 0.0185, 0.14, 0.687, 0.064, 0.7725, 0.5445, 0.0575, 0.067, 0.8165, 0.2665, 0.024, 0.3735, 0.433, 0.27, 0.326, 0.6495, 0.0715, 0.0235, 1.8155, 0.7465, 0.025, 0.012, 1.08, 0.397, 1.008, 1.305, 0.0485, 0.0975, 0.048, 0.058, 0.125, 0.7555, 0.466, 0.496, 0.0215, 1.3665, 0.1375, 1.172, 0.008, 0.3435, 0.091, 0.031, 0.541, 0.3625, 0.986, 0.2615, 0.0925, 0.087, 0.272, 0.352, 0.9765, 0.5005, 0.785, 0.405, 0.5805, 0.678, 1.0265, 1.206, 0.8585, 0.96, 0.046, 0.511, 0.155, 0.064, 0.182, 0.0355, 0.147, 0.4305, 0.041, 0.017, 0.354, 0.0105, 0.133, 0.016, 0.539, 0.024, 0.9735, 1.091, 0.075, 0.187, 0.2895, 0.35, 0.3825, 0.0355, 0.0735, 0.424, 1.231, 0.589, 0.402, 0.413, 0.0985, 0.017, 0.6255, 0.044, 0.021, 0.03, 0.0125, 0.1565, 0.5305, 0.339, 0.3235, 0.03, 0.099, 0.346, 0.4105, 0.03, 0.178, 0.1265, 0.149, 0.517, 0.0445, 0.0365, 0.433, 0.239, 0.4815, 0.4375, 0.1375, 0.0735, 0.0325, 0.0995, 0.9885, 1.0025, 0.696, 0.035, 0.2845, 0.303, 0.1165, 0.7045, 0.0625, 0.391, 0.086, 0.238, 0.0935, 0.0495, 0.2705, 0.0245, 1.6765, 0.894, 0.322, 1.502, 0.2245, 0.0125, 0.308, 0.5715, 0.5795, 0.066, 0.243, 0.0105, 0.1505, 0.693, 0.8595, 0.973, 0.093, 0.065, 0.5825, 0.0075, 0.118, 0.634, 0.428, 0.2695, 0.0955, 1.202, 0.314, 0.3665, 0.09, 0.102, 0.116, 0.0235, 0.345, 0.6005, 0.0115, 0.272, 0.006, 0.0565, 0.3025, 0.027, 0.2025, 0.248, 0.036, 0.9735, 0.284, 0.091, 0.2565, 0.2295, 0.133, 0.12, 0.665, 0.0845, 0.7055, 0.218, 0.025, 0.1445, 0.06, 0.0455, 0.0065, 0.2705, 0.211, 0.1335, 0.3585, 0.039, 0.8675, 0.3495, 0.4005, 0.2085, 0.335, 0.382, 0.3075, 0.0595, 0.0835, 0.477, 0.096, 0.277, 0.103, 0.1765, 0.0525, 0.296, 0.263, 0.267, 0.0275, 0.434, 0.07, 0.6745, 0.63, 0.1265, 0.352, 0.4945, 0.3895, 0.491, 0.3115, 0.134, 0.026, 0.626, 0.4475, 0.153, 0.183, 0.0195, 0.505, 0.211, 0.6335, 0.562, 0.1855, 0.1065, 0.017, 1.9025, 0.768, 0.135, 0.726, 0.1165, 0.007, 0.1685, 0.465, 0.6625, 0.5385, 0.0645, 0.591, 0.4585, 0.022, 0.399, 0.6635, 0.716, 0.614, 0.0465, 0.67, 0.5665, 0.199, 0.019, 0.1595, 0.737, 0.3695, 0.0335, 0.119, 0.0805, 0.735, 0.762, 0.011, 0.1175, 0.4125, 0.0085, 0.8015, 0.4675, 0.0185, 0.0165, 0.284, 0.2105, 0.302, 0.0895, 1.0275, 0.3825, 0.364, 0.0535, 0.09, 0.608, 0.3925, 0.1365, 0.2185, 0.1115, 0.1, 0.573, 0.73, 0.048, 1.012, 0.192, 0.1905, 0.339, 0.0075, 0.4985, 0.011, 0.212, 0.037, 0.0265, 0.249, 0.4275, 0.45, 0.222, 0.759, 0.434, 0.0385, 0.2835, 0.577, 0.9935, 0.2155, 0.3915, 0.166, 0.301, 0.27, 0.731, 0.282, 2.2445, 0.269, 0.3805, 1.5555, 0.3515, 0.3715, 0.2695, 0.75, 0.61, 0.235, 0.7745, 0.4325, 0.1965, 0.674, 0.139, 0.2685, 0.521, 0.72, 0.0165, 1.132, 0.0075, 0.1695, 0.072, 0.0115, 0.0185, 0.733, 0.382, 0.1965, 1.016, 0.4005, 0.064, 0.2515, 0.6085, 1.8065, 0.6005, 0.0715, 0.0305, 0.526, 0.041, 0.0405, 0.313, 0.028, 0.2795, 0.999, 0.2065, 0.1315, 0.3755, 0.306, 0.065, 0.5885, 0.4935, 0.4315, 0.1875, 0.018, 0.0135, 0.268, 0.146, 0.0225, 0.4165, 0.6915, 0.118, 0.737, 0.195, 0.506, 0.365, 0.016, 0.4355, 0.8375, 0.02, 0.012, 0.077, 0.349, 0.0895, 0.801, 0.1485, 0.1445, 0.772, 0.057, 1.1665, 0.955, 0.218, 0.778, 0.093, 0.681, 1.0095, 0.626, 0.197, 0.0545, 0.1775, 1.6385, 0.3775, 0.4955, 0.473, 0.9815, 0.192, 0.007, 0.052, 0.6065, 0.8475, 0.5185, 0.037, 0.0475, 0.1055, 0.379, 0.6235, 0.515, 0.0545, 0.082, 0.032, 0.114, 0.154, 0.3545, 0.7875, 0.416, 0.192, 0.4765, 0.411, 0.535, 0.4965, 0.5975, 0.365, 0.017, 0.354, 0.414, 0.343, 0.074, 0.8035, 0.193, 1.1035, 0.0695, 1.7935, 0.2105, 0.1685, 0.3545, 0.2895, 0.0525, 0.147, 0.988, 0.058, 0.092, 1.0915, 0.0835, 0.227, 0.0615, 0.3875, 0.0535, 0.3925, 0.46, 0.049, 0.0285, 0.052, 0.0335, 0.855, 0.383, 0.1015, 0.015, 0.3075, 0.291, 0.3155, 0.157, 0.945, 0.0185, 0.877, 0.635, 0.2675, 0.6795, 0.223, 0.4355, 0.788, 0.1825, 0.5345, 0.5935, 0.0385, 0.2385, 0.7855, 0.9695, 0.0575, 0.013, 0.602, 0.488, 0.7815, 0.7475, 1.319, 0.24, 0.729, 0.3285, 0.017, 0.22, 0.6, 0.013, 0.665, 0.0725, 0.485, 0.124, 0.118, 0.658, 0.408, 0.73, 0.461, 0.2065, 0.045, 0.012, 1.0625, 0.405, 0.02, 0.869, 0.6235, 0.0565, 0.9395, 0.729, 0.3925, 0.037, 0.037, 0.0945, 0.125, 0.059, 0.4335, 0.5805, 0.015, 0.633, 0.2035, 1.089, 0.028, 0.0965, 0.1035, 0.195, 0.201, 0.3045, 0.051, 0.2235, 0.0185, 0.116, 0.107, 0.7425, 0.0435, 0.139, 0.063, 0.0125, 0.1915, 0.9285, 0.3905, 0.6095, 0.6915, 0.294, 0.371, 0.185, 0.0195, 0.0595, 0.366, 0.622, 0.0115, 0.275, 0.026, 0.8815, 0.0825, 0.169, 0.54, 0.2055, 0.3695, 0.224, 0.8105, 0.169, 0.51, 0.3965, 0.096, 0.4825, 0.2065, 0.0215, 0.8495, 0.365, 0.29, 0.5515, 0.336, 0.168, 0.2135, 0.537, 0.618, 0.035, 0.083, 0.2245, 0.268, 0.1885, 0.8335, 1.142, 0.0185, 0.215, 0.6285, 0.006, 0.4055, 0.721, 1.404, 0.8305, 0.7235, 0.603, 0.155, 0.489, 0.2565, 0.693, 0.033, 0.103, 0.4645, 0.514, 0.406, 0.182, 0.2645, 0.028, 0.222, 0.4165, 0.028, 0.612, 0.635, 0.416, 1.0775, 0.5795, 0.491, 0.1565, 0.366, 1.448, 1.105, 0.458, 0.0985, 0.7755, 0.0325, 0.361, 0.011, 0.2485, 1.66, 0.848, 0.4645, 0.238, 0.683, 0.649, 0.527, 0.1135, 0.7255, 0.0195, 0.225, 0.015, 0.188, 0.298, 0.6545, 0.2935, 0.5595, 0.6185, 0.3635, 0.031, 0.013, 0.0165]\n"
          ]
        }
      ]
    },
    {
      "cell_type": "markdown",
      "metadata": {
        "id": "zz1yrberWJdD"
      },
      "source": [
        "Once we have obtained the predicted density values, we need to determine a threshold $t$ such that if a sample has a density lower than $t$, it is classified as an outlier. For this, we will define a validation partition from our test groups, and we'll try to find the best possible value for $t$ using only validation samples. After that, we'll use this threshold to compare with all the remaining test samples. "
      ]
    },
    {
      "cell_type": "code",
      "metadata": {
        "colab": {
          "base_uri": "https://localhost:8080/"
        },
        "id": "Ms1-0bx0WJdD",
        "outputId": "0ad829bb-29de-437f-8caa-6cd157c2d13b"
      },
      "source": [
        "Spred_val = np.concatenate((Spred_ones[:100], Spred_zeros[:100]))\n",
        "print(Spred_val.shape)\n",
        "\n",
        "Sy_val = np.concatenate((np.ones(100), np.zeros(100)))\n",
        "print(Sy_val.shape)"
      ],
      "execution_count": null,
      "outputs": [
        {
          "output_type": "stream",
          "name": "stdout",
          "text": [
            "(200,)\n",
            "(200,)\n"
          ]
        }
      ]
    },
    {
      "cell_type": "code",
      "metadata": {
        "colab": {
          "base_uri": "https://localhost:8080/",
          "height": 283
        },
        "id": "-yFbL-BWWJdE",
        "outputId": "850762ca-feea-43d2-c07f-f7d944a15502"
      },
      "source": [
        "from sklearn.metrics import roc_curve, auc\n",
        "\n",
        "fpr, tpr, thresholds = roc_curve(Sy_val, Spred_val, pos_label=1)\n",
        "\n",
        "plt.figure()\n",
        "lw = 2\n",
        "plt.plot(fpr, tpr, color=\"darkorange\",\n",
        "    lw=lw, label=\"ROC curve\")\n",
        "plt.plot([0, 1], [0, 1], color=\"navy\", lw=lw, linestyle=\"--\")\n",
        "print(auc(fpr, tpr))"
      ],
      "execution_count": null,
      "outputs": [
        {
          "output_type": "stream",
          "name": "stdout",
          "text": [
            "0.728\n"
          ]
        },
        {
          "output_type": "display_data",
          "data": {
            "image/png": "[encoded data removed]",
            "text/plain": [
              "<Figure size 432x288 with 1 Axes>"
            ]
          },
          "metadata": {
            "needs_background": "light"
          }
        }
      ]
    },
    {
      "cell_type": "code",
      "metadata": {
        "colab": {
          "base_uri": "https://localhost:8080/"
        },
        "id": "m08s4e7hWJdE",
        "outputId": "4aaa838b-72ee-48cc-c3ab-09489d039d43"
      },
      "source": [
        "from sklearn.metrics import f1_score\n",
        "\n",
        "m, T = 0,0\n",
        "for t in thresholds:\n",
        "    preds = (Spred_val > t).astype(int)\n",
        "    metric = f1_score(Sy_val, preds, average='weighted')\n",
        "    if (metric > m):    \n",
        "        m = metric\n",
        "        T = t\n",
        "\n",
        "print(T)"
      ],
      "execution_count": null,
      "outputs": [
        {
          "output_type": "stream",
          "name": "stdout",
          "text": [
            "0.4335\n"
          ]
        }
      ]
    },
    {
      "cell_type": "markdown",
      "metadata": {
        "id": "P09E0UDdWJdF"
      },
      "source": [
        "We have obtained that our best threshold is at $t = 0.4355$. So we will use this threshold to compare all test samples and to calculate some metrics for our estimator."
      ]
    },
    {
      "cell_type": "code",
      "metadata": {
        "id": "pNN9kPyOWJdF"
      },
      "source": [
        "Spr_zeros = (np.array(Spred_zeros) > T).astype(int)\n",
        "\n",
        "Spr_ones = (np.array(Spred_ones) > T).astype(int)"
      ],
      "execution_count": null,
      "outputs": []
    },
    {
      "cell_type": "code",
      "metadata": {
        "colab": {
          "base_uri": "https://localhost:8080/"
        },
        "id": "VZgbWb86WJdF",
        "outputId": "6a3a9728-7d40-44c2-dd6d-348c3a405186"
      },
      "source": [
        "from sklearn.metrics import classification_report\n",
        "\n",
        "print(classification_report(\n",
        "        np.concatenate((np.ones(248), np.zeros(597))), \n",
        "        np.concatenate((Spr_ones[100:], Spr_zeros[100:])), digits=4))"
      ],
      "execution_count": null,
      "outputs": [
        {
          "output_type": "stream",
          "name": "stdout",
          "text": [
            "              precision    recall  f1-score   support\n",
            "\n",
            "         0.0     0.8590    0.6734    0.7549       597\n",
            "         1.0     0.4828    0.7339    0.5824       248\n",
            "\n",
            "    accuracy                         0.6911       845\n",
            "   macro avg     0.6709    0.7036    0.6687       845\n",
            "weighted avg     0.7486    0.6911    0.7043       845\n",
            "\n"
          ]
        }
      ]
    },
    {
      "cell_type": "markdown",
      "metadata": {
        "id": "Ra3hq6fNWJdG"
      },
      "source": [
        "## SpamBase 4x4 Pure State"
      ]
    },
    {
      "cell_type": "code",
      "metadata": {
        "id": "2428NwyGWJdG"
      },
      "source": [
        "# Given the eigenvalues this function return a Unitary gate which converts the |0> -> |lambda>\n",
        "def create_U_train(x_train_param, seed=0):\n",
        "  np.random.seed(seed)\n",
        "  size_U = len(x_train_param)\n",
        "  U_train = np.zeros((size_U, size_U))\n",
        "  x_1 = x_train_param\n",
        "  U_train[:, 0] = x_1\n",
        "  for i in range(1, size_U):\n",
        "    x_i = np.random.randn(size_U)\n",
        "    for j in range(0, i):\n",
        "      x_i -= x_i.dot(U_train[:, j]) * U_train[:, j]\n",
        "    x_i = x_i/np.linalg.norm(x_i)\n",
        "    U_train[:, i] = x_i\n",
        "  \n",
        "  return U_train"
      ],
      "execution_count": null,
      "outputs": []
    },
    {
      "cell_type": "code",
      "metadata": {
        "colab": {
          "base_uri": "https://localhost:8080/"
        },
        "id": "ZMBobuzdWJdH",
        "outputId": "7a6ea750-4419-474f-9c8b-fce5d017e841"
      },
      "source": [
        "phi_train = np.sum(np.abs(Strain), axis=0)\n",
        "phi_train = phi_train / np.linalg.norm(phi_train)\n",
        "\n",
        "U_train = create_U_train(phi_train)\n",
        "\n",
        "print(U_train)"
      ],
      "execution_count": null,
      "outputs": [
        {
          "output_type": "stream",
          "name": "stdout",
          "text": [
            "[[ 0.37950892  0.47081098  0.63630529 -0.47898392]\n",
            " [ 0.24651561 -0.12507789 -0.6121573  -0.74084345]\n",
            " [ 0.77958893 -0.56123548  0.13372207  0.24366829]\n",
            " [ 0.43294818  0.66910932 -0.44999715  0.40292823]]\n"
          ]
        }
      ]
    },
    {
      "cell_type": "markdown",
      "metadata": {
        "id": "YQeK9RCuWJdH"
      },
      "source": [
        "We will need a different circuit for each sample $|x \\rangle$ in the test partition. To obtain a more accurate predicted value, we will run the circuit many shots, and then we will store the amount of $|00 \\rangle$ obtained."
      ]
    },
    {
      "cell_type": "code",
      "metadata": {
        "id": "hdiTncOvWJdH"
      },
      "source": [
        "backend = Aer.get_backend('qasm_simulator')\n",
        "np.random.seed(1234)"
      ],
      "execution_count": null,
      "outputs": []
    },
    {
      "cell_type": "code",
      "metadata": {
        "colab": {
          "base_uri": "https://localhost:8080/"
        },
        "id": "pd5oCdZoWJdI",
        "outputId": "f56fd5bd-e236-4373-ae9f-cc2a85bf7765"
      },
      "source": [
        "## Density Estimation Approach matrices 4x4\n",
        "Spred_ones = []\n",
        "\n",
        "for i in range(len(Stest_ones)):\n",
        "\n",
        "    qc = QuantumCircuit(2, 2)\n",
        "    qc.initialize(Stest_ones[i], [0, 1])\n",
        "    qc.isometry(U_train.T, [], [0, 1]) # ArbRot as a isometry\n",
        "\n",
        "    qc.measure(0, 0)\n",
        "    qc.measure(1, 1)\n",
        "\n",
        "    counts = execute(qc, backend, shots=8000).result().get_counts()\n",
        "    try:\n",
        "        Spred_ones.append((counts['00'])/2000)\n",
        "    except:\n",
        "        Spred_ones.append(0)\n",
        "\n",
        "print(Spred_ones)\n",
        "\n",
        "# Works"
      ],
      "execution_count": null,
      "outputs": [
        {
          "output_type": "stream",
          "name": "stdout",
          "text": [
            "[0.9695, 0.0135, 0, 0.9415, 0.717, 0.1385, 0.523, 0.481, 0.799, 0.53, 0.1395, 0.985, 2.417, 0.553, 0.3805, 1.175, 2.601, 0.1205, 1.627, 0.0195, 0.5285, 0.0175, 0.8075, 1.415, 1.499, 0.234, 0.8345, 0.604, 0.7245, 0, 0.114, 1.007, 1.0005, 1.471, 1.077, 0.2565, 0.298, 1.731, 0.6725, 1.943, 0.652, 1.7375, 0.4705, 0.1555, 1.6355, 0.411, 1.0835, 0.0815, 1.0705, 1.463, 1.3495, 1.803, 1.2195, 0.588, 1.719, 0.628, 2.07, 0.856, 0.2635, 0.9635, 0.152, 0.409, 0.4265, 0.435, 0.2885, 0.344, 0.6655, 0.0505, 2.046, 0.652, 0.9145, 0.012, 0.256, 0.5485, 0.7215, 0.039, 0.527, 0.8125, 0.422, 1.0955, 1.1475, 1.0205, 0.32, 0.7485, 0.797, 0.5945, 1.07, 0.839, 0.6775, 1.0445, 0.2335, 1.753, 1.3645, 1.13, 0.057, 0.546, 1.6005, 0.6895, 1.503, 1.5705, 1.0355, 1.2775, 1.194, 1.0575, 2.0825, 0.3025, 0.4575, 1.318, 0.309, 0.363, 0.176, 1.1935, 0.563, 0.56, 1.8125, 2.1995, 0.6985, 1.7225, 1.1045, 0.0415, 1.0925, 1.3435, 0.5555, 1.29, 1.8095, 0.6765, 0.38, 1.14, 0.6565, 0.473, 2.453, 0.551, 2.533, 0.5055, 0.563, 0.632, 0.929, 0.9435, 0.34, 0.684, 0.0835, 0.501, 0.9535, 0.339, 0.078, 0.341, 0.8715, 0.7775, 0.54, 2.243, 0.8455, 0.923, 0.0545, 0.3575, 0.743, 0.8755, 0.6095, 0.0375, 0.991, 0.596, 0.865, 0.6895, 0.645, 0.1435, 2.4795, 0.3025, 0.9135, 2.599, 0.926, 0.446, 0.6595, 0.729, 0.923, 0.276, 0.2725, 0.913, 0.949, 0.662, 0.692, 2.319, 1.5875, 1.314, 0.2685, 0.7755, 0.0935, 0.3745, 0.9505, 1.512, 0.968, 1.035, 0.5925, 1.533, 0.714, 0.7035, 0.1085, 0.516, 0.8815, 1.1825, 0.1335, 0.272, 0.9215, 0.0265, 1.895, 0.692, 0.619, 0.232, 1.419, 0.04, 1.179, 0.627, 0.937, 0.524, 0.7025, 0.817, 2.868, 1.609, 0.1205, 2.343, 0.224, 0.995, 2.312, 0.7915, 1.4635, 0.727, 0.1805, 1.3145, 0.425, 1.518, 0.011, 0.918, 2.0935, 0.5455, 2.154, 0.0005, 1.3545, 1.059, 0.5305, 0.846, 0.608, 0.787, 1.761, 1.333, 0.146, 0.291, 1.726, 1.2705, 0.1695, 0.4955, 0.4525, 1.6215, 0.6705, 0.0005, 0.0775, 0.158, 0.622, 0.701, 1.0925, 0.6225, 0.879, 0.9705, 0.3305, 0.709, 3.535, 0.1145, 0.3235, 0.995, 1.988, 0.981, 1.1065, 0.3625, 0.008, 0.947, 1.8865, 0.706, 0.9085, 1.3835, 0.0765, 0.09, 0.5815, 1.6245, 0.6855, 0.6865, 0.87, 0.748, 0.468, 0.7395, 0.928, 0.227, 0.9415, 0.6755, 0.344, 2.019, 0.325, 0.8875, 0.8915, 2.0485, 2.08, 0.8945, 0.1645, 0.239, 0.9975, 0.66, 0.7005, 0.232, 0.7755, 1.055, 0.8815, 0.945, 0.822, 1.2685, 1.3145, 2.165, 0.1635, 0.901, 0.0705, 0.2325, 0.0985, 0.934, 2.102, 0.7295, 1.4745, 0.28, 0.8635, 0.917, 0, 0.488, 0.1405, 1.809, 0.9265, 1.11, 0.4425, 0.094, 0.6795, 0.646, 0.324, 0.0735, 1.1485, 0.0745, 1.5645, 0.413, 0.0025, 0.4595, 1.752, 0, 0.851, 0.8925, 1.3135, 0.26]\n"
          ]
        }
      ]
    },
    {
      "cell_type": "code",
      "metadata": {
        "colab": {
          "base_uri": "https://localhost:8080/"
        },
        "id": "u1_PgKjfWJdI",
        "outputId": "fb8841f7-c965-4745-dbc6-d452a6411397"
      },
      "source": [
        "# Pure state case\n",
        "Spred_zeros = []\n",
        "\n",
        "for i in range(len(Stest_zeros)):\n",
        "\n",
        "    qc = QuantumCircuit(2, 2)\n",
        "    qc.initialize(Stest_zeros[i], [0, 1])\n",
        "    qc.isometry(U_train.T, [], [0, 1]) # ArbRot as a isometry\n",
        "\n",
        "    qc.measure(0, 0)\n",
        "    qc.measure(1, 1)\n",
        "\n",
        "    counts = execute(qc, backend, shots=8000).result().get_counts()\n",
        "    try:\n",
        "        Spred_zeros.append((counts['00'])/2000)\n",
        "    except:\n",
        "        Spred_zeros.append(0)\n",
        "\n",
        "print(Spred_zeros)"
      ],
      "execution_count": null,
      "outputs": [
        {
          "output_type": "stream",
          "name": "stdout",
          "text": [
            "[0.1965, 0.3145, 0.0345, 0.152, 0.202, 0.2015, 0, 3.169, 0.118, 0.33, 0.3685, 0.3185, 0.2015, 0.3915, 0.009, 0.8, 0.0525, 0.5215, 0.4585, 0.0045, 0.426, 0.035, 0.0045, 0.121, 0.684, 0.0685, 0.7815, 0.51, 0.0525, 0.0565, 0.8245, 0.2465, 0.008, 0.3715, 0.4265, 0.2885, 0.3505, 0.674, 0.053, 0.0095, 1.8145, 0.787, 0.0175, 0.0035, 1.106, 0.389, 0.9925, 1.3535, 0.038, 0.075, 0.03, 0.0535, 0.1135, 0.748, 0.4475, 0.521, 0.002, 1.3545, 0.117, 1.15, 0.0015, 0.31, 0.0865, 0.0225, 0.5395, 0.3495, 0.9845, 0.2635, 0.0815, 0.081, 0.2665, 0.3605, 0.901, 0.49, 0.811, 0.3945, 0.548, 0.6915, 1.0115, 1.2205, 0.8645, 0.985, 0.05, 0.529, 0.1755, 0.0535, 0.156, 0.027, 0.171, 0.404, 0.0205, 0.005, 0.393, 0, 0.1065, 0.0065, 0.5175, 0.0045, 0.9535, 1.147, 0.062, 0.1895, 0.2845, 0.3535, 0.378, 0.0285, 0.059, 0.415, 1.2695, 0.598, 0.387, 0.4005, 0.091, 0.0095, 0.637, 0.0355, 0.009, 0.021, 0.0005, 0.154, 0.521, 0.336, 0.319, 0.008, 0.09, 0.34, 0.385, 0.014, 0.175, 0.1055, 0.149, 0.506, 0.0305, 0.0155, 0.442, 0.223, 0.4885, 0.436, 0.113, 0.061, 0.0305, 0.088, 0.995, 0.995, 0.6695, 0.0265, 0.2825, 0.2835, 0.1025, 0.747, 0.0495, 0.3765, 0.0605, 0.2315, 0.082, 0.0425, 0.2825, 0.021, 1.649, 0.928, 0.3, 1.4575, 0.2035, 0.0015, 0.313, 0.5805, 0.583, 0.0645, 0.221, 0.0015, 0.126, 0.6945, 0.865, 0.961, 0.082, 0.0485, 0.585, 0, 0.106, 0.6435, 0.4045, 0.2525, 0.0725, 1.216, 0.299, 0.38, 0.0785, 0.1065, 0.094, 0.0125, 0.3045, 0.587, 0.001, 0.279, 0.0035, 0.047, 0.305, 0.0135, 0.1805, 0.239, 0.0115, 1.03, 0.2935, 0.091, 0.2435, 0.1885, 0.1165, 0.096, 0.6365, 0.077, 0.7305, 0.2065, 0.002, 0.1205, 0.0545, 0.0285, 0.001, 0.2675, 0.2025, 0.119, 0.3515, 0.023, 0.862, 0.35, 0.436, 0.187, 0.3585, 0.3415, 0.2995, 0.0435, 0.069, 0.4775, 0.1065, 0.27, 0.111, 0.154, 0.044, 0.2785, 0.2555, 0.243, 0.007, 0.401, 0.0545, 0.624, 0.644, 0.129, 0.3425, 0.4795, 0.39, 0.516, 0.2995, 0.118, 0.0215, 0.629, 0.493, 0.1545, 0.1725, 0.006, 0.4885, 0.194, 0.6785, 0.559, 0.166, 0.0845, 0.0055, 1.966, 0.7405, 0.1195, 0.71, 0.0945, 0, 0.1345, 0.4795, 0.6325, 0.499, 0.071, 0.567, 0.455, 0.0065, 0.3745, 0.7115, 0.7305, 0.6455, 0.0295, 0.6585, 0.548, 0.1825, 0.0055, 0.1515, 0.733, 0.3435, 0.03, 0.107, 0.0645, 0.6985, 0.7485, 0.0015, 0.1265, 0.411, 0, 0.809, 0.4815, 0.0145, 0.0055, 0.2925, 0.179, 0.2865, 0.0865, 1.007, 0.3585, 0.3605, 0.0455, 0.085, 0.6035, 0.4065, 0.134, 0.2075, 0.1125, 0.099, 0.5685, 0.7655, 0.056, 1.0675, 0.1755, 0.1695, 0.327, 0, 0.471, 0.0005, 0.1925, 0.017, 0.013, 0.238, 0.4375, 0.437, 0.208, 0.77, 0.46, 0.037, 0.293, 0.5975, 1.0125, 0.187, 0.359, 0.1255, 0.246, 0.2375, 0.788, 0.2705, 2.2185, 0.231, 0.3485, 1.5075, 0.3665, 0.336, 0.2595, 0.781, 0.6145, 0.2195, 0.7715, 0.3995, 0.202, 0.6465, 0.132, 0.251, 0.4995, 0.7145, 0.0045, 1.1175, 0, 0.1515, 0.047, 0.006, 0.0035, 0.739, 0.416, 0.206, 1.048, 0.3975, 0.0575, 0.2085, 0.61, 1.8635, 0.595, 0.0665, 0.0335, 0.525, 0.0175, 0.0355, 0.2845, 0.0185, 0.3005, 0.97, 0.197, 0.1315, 0.3585, 0.298, 0.061, 0.571, 0.5065, 0.4515, 0.1935, 0.008, 0, 0.2685, 0.1205, 0, 0.4015, 0.737, 0.1, 0.7215, 0.1835, 0.5235, 0.3525, 0.007, 0.4295, 0.8605, 0.015, 0.0035, 0.0755, 0.3255, 0.0905, 0.7455, 0.143, 0.142, 0.78, 0.044, 1.165, 0.96, 0.2045, 0.7725, 0.094, 0.691, 1.041, 0.665, 0.197, 0.0515, 0.1625, 1.678, 0.3905, 0.497, 0.449, 0.939, 0.163, 0.002, 0.035, 0.605, 0.815, 0.4765, 0.032, 0.0355, 0.1005, 0.3795, 0.66, 0.506, 0.046, 0.074, 0.018, 0.103, 0.151, 0.3705, 0.7475, 0.4135, 0.1745, 0.451, 0.401, 0.51, 0.4695, 0.508, 0.3375, 0.0145, 0.3585, 0.4015, 0.338, 0.0575, 0.806, 0.1645, 1.126, 0.069, 1.8745, 0.205, 0.142, 0.3275, 0.262, 0.0445, 0.1425, 0.986, 0.053, 0.096, 1.0885, 0.0825, 0.2, 0.0525, 0.365, 0.0465, 0.385, 0.4745, 0.027, 0.016, 0.0595, 0.0155, 0.849, 0.3735, 0.0765, 0, 0.307, 0.288, 0.3235, 0.152, 0.9455, 0.0045, 0.8475, 0.653, 0.2445, 0.644, 0.199, 0.4265, 0.748, 0.1885, 0.5405, 0.596, 0.0295, 0.224, 0.75, 0.96, 0.0545, 0.0125, 0.58, 0.461, 0.7605, 0.8015, 1.3175, 0.2085, 0.7215, 0.3235, 0.003, 0.2115, 0.6235, 0.002, 0.7055, 0.0665, 0.4685, 0.108, 0.104, 0.65, 0.4, 0.73, 0.457, 0.184, 0.024, 0.001, 1.0845, 0.415, 0.002, 0.8515, 0.62, 0.0325, 0.93, 0.725, 0.39, 0.014, 0.0265, 0.0895, 0.1065, 0.044, 0.424, 0.5495, 0.008, 0.6435, 0.1815, 1.0715, 0.0075, 0.0875, 0.072, 0.1925, 0.1965, 0.273, 0.026, 0.204, 0.0015, 0.088, 0.101, 0.7505, 0.035, 0.129, 0.056, 0.006, 0.1905, 0.932, 0.3455, 0.556, 0.653, 0.3405, 0.368, 0.1885, 0.009, 0.0295, 0.3805, 0.655, 0.0035, 0.299, 0.011, 0.856, 0.0665, 0.1745, 0.5275, 0.1975, 0.365, 0.2015, 0.837, 0.153, 0.5535, 0.3775, 0.0985, 0.4665, 0.1885, 0.001, 0.87, 0.353, 0.2765, 0.5805, 0.3255, 0.157, 0.194, 0.5405, 0.6205, 0.0205, 0.0725, 0.227, 0.2475, 0.1835, 0.795, 1.12, 0.013, 0.204, 0.6315, 0, 0.3545, 0.697, 1.429, 0.832, 0.705, 0.5675, 0.1235, 0.49, 0.2265, 0.694, 0.021, 0.0865, 0.47, 0.5015, 0.3795, 0.1655, 0.2395, 0.015, 0.2015, 0.414, 0.011, 0.602, 0.618, 0.43, 1.0615, 0.5975, 0.4495, 0.15, 0.3745, 1.407, 1.1735, 0.418, 0.0835, 0.806, 0.0155, 0.3415, 0, 0.2535, 1.654, 0.8035, 0.497, 0.241, 0.685, 0.6295, 0.4855, 0.1095, 0.716, 0.003, 0.2255, 0.0035, 0.204, 0.269, 0.634, 0.2795, 0.537, 0.604, 0.361, 0.025, 0.0065, 0.007]\n"
          ]
        }
      ]
    },
    {
      "cell_type": "markdown",
      "metadata": {
        "id": "K_qYBoQ8WJdJ"
      },
      "source": [
        "Once we have obtained the predicted density values, we need to determine a threshold $t$ such that if a sample has a density lower than $t$, it is classified as an outlier. For this, we will define a validation partition from our test groups, and we'll try to find the best possible value for $t$ using only validation samples. After that, we'll use this threshold to compare with all the remaining test samples. "
      ]
    },
    {
      "cell_type": "code",
      "metadata": {
        "colab": {
          "base_uri": "https://localhost:8080/"
        },
        "id": "Ya9nYLkWWJdJ",
        "outputId": "ca21bc2e-5105-4432-c417-efe7ac42b1cd"
      },
      "source": [
        "Spred_val = np.concatenate((Spred_ones[:100], Spred_zeros[:100]))\n",
        "print(Spred_val.shape)\n",
        "\n",
        "Sy_val = np.concatenate((np.ones(100), np.zeros(100)))\n",
        "print(Sy_val.shape)"
      ],
      "execution_count": null,
      "outputs": [
        {
          "output_type": "stream",
          "name": "stdout",
          "text": [
            "(200,)\n",
            "(200,)\n"
          ]
        }
      ]
    },
    {
      "cell_type": "code",
      "metadata": {
        "colab": {
          "base_uri": "https://localhost:8080/",
          "height": 283
        },
        "id": "7h-g6b70WJdJ",
        "outputId": "4a320786-c12a-4eea-bec1-713afe7dddaa"
      },
      "source": [
        "from sklearn.metrics import roc_curve, auc\n",
        "\n",
        "fpr, tpr, thresholds = roc_curve(Sy_val, Spred_val, pos_label=1)\n",
        "\n",
        "plt.figure()\n",
        "lw = 2\n",
        "plt.plot(fpr, tpr, color=\"darkorange\",\n",
        "    lw=lw, label=\"ROC curve\")\n",
        "plt.plot([0, 1], [0, 1], color=\"navy\", lw=lw, linestyle=\"--\")\n",
        "print(auc(fpr, tpr))"
      ],
      "execution_count": null,
      "outputs": [
        {
          "output_type": "stream",
          "name": "stdout",
          "text": [
            "0.72315\n"
          ]
        },
        {
          "output_type": "display_data",
          "data": {
            "image/png": "[encoded data removed]",
            "text/plain": [
              "<Figure size 432x288 with 1 Axes>"
            ]
          },
          "metadata": {
            "needs_background": "light"
          }
        }
      ]
    },
    {
      "cell_type": "code",
      "metadata": {
        "colab": {
          "base_uri": "https://localhost:8080/"
        },
        "id": "jRrGKf3ZWJdK",
        "outputId": "237c0b7a-510a-465e-c565-d01406f108c6"
      },
      "source": [
        "from sklearn.metrics import f1_score\n",
        "\n",
        "m, T = 0,0\n",
        "for t in thresholds:\n",
        "    preds = (Spred_val > t).astype(int)\n",
        "    metric = f1_score(Sy_val, preds, average='weighted')\n",
        "    if (metric > m):    \n",
        "        m = metric\n",
        "        T = t\n",
        "\n",
        "print(T)"
      ],
      "execution_count": null,
      "outputs": [
        {
          "output_type": "stream",
          "name": "stdout",
          "text": [
            "0.523\n"
          ]
        }
      ]
    },
    {
      "cell_type": "markdown",
      "metadata": {
        "id": "FdMj5RHMWJdK"
      },
      "source": [
        "We have obtained that our best threshold is at $t = 0.523$. So we will use this threshold to compare all test samples and to calculate some metrics for our estimator."
      ]
    },
    {
      "cell_type": "code",
      "metadata": {
        "id": "zeYlJEGaWJdK"
      },
      "source": [
        "Spr_zeros = (np.array(Spred_zeros) > T).astype(int)\n",
        "\n",
        "Spr_ones = (np.array(Spred_ones) > T).astype(int)"
      ],
      "execution_count": null,
      "outputs": []
    },
    {
      "cell_type": "code",
      "metadata": {
        "colab": {
          "base_uri": "https://localhost:8080/"
        },
        "id": "UfNU-Y9fWJdL",
        "outputId": "da8c806f-e9e0-4f86-f9a8-c6e9206229b1"
      },
      "source": [
        "from sklearn.metrics import classification_report\n",
        "\n",
        "print(classification_report(\n",
        "        np.concatenate((np.ones(248), np.zeros(597))), \n",
        "        np.concatenate((Spr_ones[100:], Spr_zeros[100:])), digits=4))"
      ],
      "execution_count": null,
      "outputs": [
        {
          "output_type": "stream",
          "name": "stdout",
          "text": [
            "              precision    recall  f1-score   support\n",
            "\n",
            "         0.0     0.8487    0.7420    0.7918       597\n",
            "         1.0     0.5232    0.6815    0.5919       248\n",
            "\n",
            "    accuracy                         0.7243       845\n",
            "   macro avg     0.6859    0.7117    0.6919       845\n",
            "weighted avg     0.7531    0.7243    0.7331       845\n",
            "\n"
          ]
        }
      ]
    },
    {
      "cell_type": "markdown",
      "metadata": {
        "id": "C0oEmLjoWJdL"
      },
      "source": [
        "## SpamBase 8x8 Mixed State"
      ]
    },
    {
      "cell_type": "code",
      "metadata": {
        "colab": {
          "base_uri": "https://localhost:8080/"
        },
        "id": "9g0b4tw1WJdM",
        "outputId": "b64f02fb-2c7d-44a2-cc3c-48f1b7b02570"
      },
      "source": [
        "# Create the RandomFourierFeature map\n",
        "dim = 8\n",
        "rm_state = 2\n",
        "sigma = 1  #dataset dependant\n",
        "gamma = 1 / (2 * sigma**2)\n",
        "\n",
        "feature_map_fourier = RBFSampler(gamma=gamma, n_components=dim, random_state=rm_state)\n",
        "X_feat_train = feature_map_fourier.fit(spam_X)\n",
        "\n",
        "rffmap = QFeatureMap_rff(rbf_sampler=feature_map_fourier)\n",
        "\n",
        "Srff = rffmap.batch2wf(spam_X)\n",
        "\n",
        "print(Srff.shape)"
      ],
      "execution_count": null,
      "outputs": [
        {
          "output_type": "stream",
          "name": "stdout",
          "text": [
            "(3485, 8)\n"
          ]
        }
      ]
    },
    {
      "cell_type": "code",
      "metadata": {
        "colab": {
          "base_uri": "https://localhost:8080/"
        },
        "id": "DS4XghfwWJdM",
        "outputId": "36ee1891-3b32-4214-d789-82f5db5c57b7"
      },
      "source": [
        "Sones = []\n",
        "Strain = []\n",
        "Stest_zeros = []\n",
        "Stest_ones = []\n",
        "\n",
        "for i in range(Srff.shape[0]):\n",
        "    if (spam_y[i] == 1):\n",
        "        Sones.append(Srff[i] / np.linalg.norm(Srff[i]))\n",
        "    elif (spam_y[i] == 0):\n",
        "        Stest_zeros.append(Srff[i] / np.linalg.norm(Srff[i]))\n",
        "\n",
        "Stest_ones = Sones[:len(Stest_zeros)//2]\n",
        "Strain = Sones[len(Stest_zeros)//2:]\n",
        "\n",
        "print(len(Strain))\n",
        "print(len(Stest_zeros))\n",
        "print(len(Stest_ones))"
      ],
      "execution_count": null,
      "outputs": [
        {
          "output_type": "stream",
          "name": "stdout",
          "text": [
            "2440\n",
            "697\n",
            "348\n"
          ]
        }
      ]
    },
    {
      "cell_type": "code",
      "metadata": {
        "colab": {
          "base_uri": "https://localhost:8080/"
        },
        "id": "53OI4ahrWJdN",
        "outputId": "d21d326f-4192-47b3-e537-e2aaf4a4a39e"
      },
      "source": [
        "print(Strain[0])\n",
        "print(sum(Strain[0]**2))"
      ],
      "execution_count": null,
      "outputs": [
        {
          "output_type": "stream",
          "name": "stdout",
          "text": [
            "[-0.34027012 -0.40001974 -0.05008387 -0.25346561  0.53922711  0.19674345\n",
            "  0.2569611  -0.51180502]\n",
            "1.0\n"
          ]
        }
      ]
    },
    {
      "cell_type": "code",
      "metadata": {
        "colab": {
          "base_uri": "https://localhost:8080/"
        },
        "id": "UzpaWRoPWJdN",
        "outputId": "0d6cd780-cb69-41aa-bf2b-f51400821fdd"
      },
      "source": [
        "Z_train = np.outer(np.abs(Strain[0]), np.abs(Strain[0]))\n",
        "for i in range(1, len(Strain)):\n",
        "    Z_train += np.outer(np.abs(Strain[i]), np.abs(Strain[i]))\n",
        "\n",
        "Z_train *= 1/len(Strain)\n",
        "print(Z_train)"
      ],
      "execution_count": null,
      "outputs": [
        {
          "output_type": "stream",
          "name": "stdout",
          "text": [
            "[[0.06931959 0.08300347 0.04808967 0.04941927 0.09431502 0.07784292\n",
            "  0.08019314 0.10130139]\n",
            " [0.08300347 0.15444103 0.07054571 0.07575444 0.15514609 0.13318578\n",
            "  0.12967983 0.17259092]\n",
            " [0.04808967 0.07054571 0.05230964 0.042946   0.07962232 0.06815874\n",
            "  0.06656479 0.08509469]\n",
            " [0.04941927 0.07575444 0.042946   0.06060161 0.08260872 0.07388889\n",
            "  0.07581426 0.09218323]\n",
            " [0.09431502 0.15514609 0.07962232 0.08260872 0.17952542 0.14453548\n",
            "  0.14385772 0.18738437]\n",
            " [0.07784292 0.13318578 0.06815874 0.07388889 0.14453548 0.13756255\n",
            "  0.12806829 0.15965701]\n",
            " [0.08019314 0.12967983 0.06656479 0.07581426 0.14385772 0.12806829\n",
            "  0.13534703 0.15830969]\n",
            " [0.10130139 0.17259092 0.08509469 0.09218323 0.18738437 0.15965701\n",
            "  0.15830969 0.21089312]]\n"
          ]
        }
      ]
    },
    {
      "cell_type": "code",
      "metadata": {
        "colab": {
          "base_uri": "https://localhost:8080/"
        },
        "id": "bl4hScZtWJdO",
        "outputId": "7792e5a8-5455-4286-fad6-7c15370dd683"
      },
      "source": [
        "lambda_P1_temp, U_train = np.linalg.eigh(Z_train)\n",
        "lambda_train = round_lambda(lambda_P1_temp)\n",
        "print(lambda_train)\n",
        "print(U_train)"
      ],
      "execution_count": null,
      "outputs": [
        {
          "output_type": "stream",
          "name": "stdout",
          "text": [
            "[0.00549852 0.00671934 0.00996441 0.97781773 0.01365931 0.01958209\n",
            " 0.02544983 0.90645963]\n",
            "[[ 0.00771802  0.15422668  0.42740079 -0.35756528 -0.30143132 -0.48259314\n",
            "  -0.53267092  0.24111181]\n",
            " [-0.38476255 -0.19726171  0.43203748 -0.1121561   0.51696029 -0.16943225\n",
            "   0.40003892  0.39727051]\n",
            " [ 0.07079513 -0.30775459 -0.04294226  0.73889489  0.23821596 -0.24075563\n",
            "  -0.44276533  0.20424057]\n",
            " [-0.05922746  0.22554943 -0.22932215 -0.31234088  0.5380915   0.44017573\n",
            "  -0.51343091  0.22037617]\n",
            " [-0.39890327  0.27235547 -0.64369821  0.03250565 -0.19428076 -0.32603283\n",
            "   0.13665694  0.4342547 ]\n",
            " [ 0.00397229  0.54380302  0.37682723  0.41728872 -0.2362154   0.42731713\n",
            "   0.09596151  0.37487011]\n",
            " [-0.17092392 -0.64697815 -0.03151477 -0.13364449 -0.44248959  0.43475375\n",
            "  -0.10042811  0.37209755]\n",
            " [ 0.8093354  -0.05689074 -0.1374779  -0.15165173  0.07913371 -0.09365077\n",
            "   0.24209212  0.47560492]]\n"
          ]
        }
      ]
    },
    {
      "cell_type": "code",
      "metadata": {
        "colab": {
          "base_uri": "https://localhost:8080/"
        },
        "id": "wqONqtqvWJdO",
        "outputId": "bcbc70fa-bdbd-4604-a3af-8e60629e16f5"
      },
      "source": [
        "lambda_train = lambda_train / np.linalg.norm(lambda_train)\n",
        "print(lambda_train)\n",
        "print((sum(lambda_train**2)))"
      ],
      "execution_count": null,
      "outputs": [
        {
          "output_type": "stream",
          "name": "stdout",
          "text": [
            "[0.00412226 0.00503751 0.00747034 0.7330724  0.01024042 0.01468074\n",
            " 0.0190798  0.67957505]\n",
            "1.0\n"
          ]
        }
      ]
    },
    {
      "cell_type": "markdown",
      "metadata": {
        "id": "ljDYB_XvWJdO"
      },
      "source": [
        "We will need a different circuit for each sample $|x \\rangle$ in the test partition. To obtain a more accurate predicted value, we will run the circuit many shots, and then we will store the amount of $|00 \\rangle$ obtained. This value will be proportional to the density estimated by the circuit."
      ]
    },
    {
      "cell_type": "code",
      "metadata": {
        "id": "SK0nGakPWJdP"
      },
      "source": [
        "backend2 = Aer.get_backend('qasm_simulator')\n",
        "np.random.seed(1234)"
      ],
      "execution_count": null,
      "outputs": []
    },
    {
      "cell_type": "code",
      "metadata": {
        "colab": {
          "base_uri": "https://localhost:8080/"
        },
        "id": "o9C425k7WJdP",
        "outputId": "ddc6e94c-0975-4f94-e6a2-0c1dfa95f7bb"
      },
      "source": [
        "## Density Estimation Approach matrices 8x8\n",
        "Spred_ones = []\n",
        "\n",
        "for i in range(len(Stest_ones)):\n",
        "\n",
        "    qc = QuantumCircuit(6, 3)\n",
        "\n",
        "    qc.initialize(Stest_ones[i], [0, 1, 2])\n",
        "    qc.initialize(lambda_train, [3, 4, 5])\n",
        "    qc.isometry(U_train.T, [], [0, 1, 2]) # ArbRot as a isometry\n",
        "\n",
        "    qc.cnot(5, 2)\n",
        "    qc.cnot(4, 1)\n",
        "    qc.cnot(3, 0)\n",
        "\n",
        "    qc.measure(0, 0)\n",
        "    qc.measure(1, 1)\n",
        "    qc.measure(2, 2)\n",
        "\n",
        "    counts = execute(qc, backend2, shots=8000).result().get_counts()\n",
        "    Spred_ones.append((counts['000'])/2000)\n",
        "\n",
        "print(Spred_ones)\n",
        "\n",
        "# Works"
      ],
      "execution_count": null,
      "outputs": [
        {
          "output_type": "stream",
          "name": "stdout",
          "text": [
            "[0.039, 0.0435, 1.117, 0.3255, 0.045, 0.123, 0.14, 0.163, 0.026, 0.0255, 0.561, 0.1335, 0.185, 0.165, 0.0225, 0.242, 0.206, 0.159, 0.0565, 0.0465, 0.2335, 0.818, 0.092, 0.058, 0.1775, 0.366, 0.0165, 0.137, 0.0375, 0.5825, 0.085, 0.0255, 0.034, 0.026, 0.0685, 0.3805, 0.115, 0.239, 0.045, 0.1455, 0.872, 0.0365, 0.125, 0.3515, 0.207, 0.0025, 0.4415, 0.4365, 0.3965, 0.2615, 0.005, 0.0065, 0.0915, 0.0755, 0.057, 0.042, 0.2875, 0.186, 0.1915, 0.127, 0.835, 0.0455, 0.0295, 0.145, 0.172, 0.6405, 0.2565, 0.807, 0.049, 0.5165, 0.1025, 0.1315, 0.401, 0.0375, 0.1015, 0.3975, 0.159, 0.258, 0.068, 0.189, 0.075, 0.0555, 0.1655, 0.0305, 0.04, 0.027, 0.452, 0.077, 0.186, 0.4705, 0.3295, 0.044, 0.168, 0.9085, 1.1565, 0.131, 0.0275, 0.245, 0.036, 0.243, 0.443, 0.0145, 0.135, 0.0385, 0.01, 0.1245, 0.2615, 0.2425, 0.643, 0.582, 0.792, 0.009, 0.1535, 0.0635, 0.064, 0.02, 0.052, 0.028, 0.1135, 0.9465, 0.135, 0.034, 0.0615, 0.084, 0.173, 0.021, 0.06, 0.0955, 0.1095, 0.0105, 0.012, 0.1365, 0.0565, 0.031, 0.0805, 0.127, 0.1225, 0.1335, 0.153, 0.061, 0.478, 0.153, 0.3155, 0.9495, 0.374, 0.6635, 0.146, 0.0745, 0.251, 0.381, 0.07, 0.745, 1.0875, 0.069, 0.227, 0.264, 0.055, 0.4045, 0.1205, 0.0485, 0.0265, 0.0415, 0.0445, 0.4015, 0.2995, 0.241, 0.149, 0.011, 0.281, 0.368, 0.3135, 0.2955, 0.023, 0.034, 0.409, 0.0415, 0.057, 0.372, 0.2105, 0.031, 0.05, 0.158, 0.4445, 0.083, 0.5915, 0.0295, 0.3, 0.014, 0.1275, 0.0375, 0.1445, 0.044, 0.6885, 0.115, 0.2285, 0.34, 0.6005, 0.0345, 0.375, 0.46, 0.0985, 0.719, 0.134, 0.011, 0.1285, 0.2025, 0.1855, 0.547, 0.1035, 0.138, 0.1815, 0.0765, 0.065, 0.1305, 0.096, 0.0705, 0.189, 0.252, 0.9175, 0.295, 0.003, 0.172, 0.094, 0.1375, 0.5535, 0.062, 0.1635, 0.125, 0.1995, 0.0975, 0.046, 0.0055, 0.414, 0.25, 0.1185, 0.064, 0.44, 0.1575, 0.0355, 0.751, 0.1025, 0.0555, 0.9695, 0.466, 0.0565, 0.024, 0.2545, 0.1865, 0.162, 0.0055, 0.1355, 0.0575, 0.1685, 0.358, 0.1135, 0.0205, 0.135, 0.153, 0.0515, 0.0335, 0.418, 0.0145, 0.158, 0.474, 1.0965, 0.1255, 0.052, 0.082, 0.1435, 0.2005, 0.069, 0.164, 0.0015, 0.1215, 0.1245, 0.0765, 0.7695, 0.204, 0.052, 0.03, 0.163, 0.056, 0.006, 0.4125, 0.086, 0.1315, 0.065, 0.9355, 0.006, 0.0985, 0.336, 0.1215, 0.3195, 0.179, 0.1835, 0.0565, 0.4455, 0.045, 0.957, 0.884, 0.077, 0.063, 0.0595, 0.206, 0.0415, 0.04, 0.0825, 0.147, 0.1195, 0.0705, 0.201, 0.079, 1.0035, 0.051, 0.215, 0.0555, 0.1965, 0.0695, 0.042, 0.4715, 0.0475, 0.2525, 0.1495, 0.2555, 0.0195, 0.494, 0.4245, 0.1715, 0.065, 0.067, 0.031, 0.229, 0.136, 0.1355, 0.0565, 1.042, 0.079, 0.621, 0.724, 0.327, 0.428, 0.5275, 1.185, 0.692, 0.457, 0.2015, 0.1705, 0.0615]\n"
          ]
        }
      ]
    },
    {
      "cell_type": "code",
      "metadata": {
        "colab": {
          "base_uri": "https://localhost:8080/"
        },
        "id": "DVpQFUwjWJdP",
        "outputId": "421365c3-fa3f-48d7-da12-14c075ecc29f"
      },
      "source": [
        "# Mixed state case\n",
        "Spred_zeros = []\n",
        "\n",
        "for i in range(len(Stest_zeros)):\n",
        "\n",
        "    qc = QuantumCircuit(6, 3)\n",
        "\n",
        "    qc.initialize(Stest_zeros[i], [0, 1, 2])\n",
        "    qc.initialize(lambda_train, [3, 4, 5])\n",
        "    qc.isometry(U_train.T, [], [0, 1, 2]) # ArbRot as a isometry\n",
        "\n",
        "    qc.cnot(5, 2)\n",
        "    qc.cnot(4, 1)\n",
        "    qc.cnot(3, 0)\n",
        "\n",
        "    qc.measure(0, 0)\n",
        "    qc.measure(1, 1)\n",
        "    qc.measure(2, 2)\n",
        "    counts = execute(qc, backend2, shots=8000).result().get_counts()\n",
        "    try:\n",
        "        Spred_zeros.append((counts['000'])/2000)\n",
        "    except:\n",
        "        Spred_zeros.append(0)\n",
        "\n",
        "print(Spred_zeros)"
      ],
      "execution_count": null,
      "outputs": [
        {
          "output_type": "stream",
          "name": "stdout",
          "text": [
            "[0.064, 0.0195, 0.0715, 0.1255, 0.2005, 0.086, 0.901, 0.131, 0.0415, 0.024, 0.262, 0.0095, 0.013, 0.265, 0.1805, 0.1265, 0.414, 0.045, 0.2035, 0.427, 0.0435, 0.3365, 0.209, 0.1085, 0.135, 0.211, 0.0175, 0.0505, 0.3345, 0.293, 0.0125, 0.0145, 0.877, 0.0535, 0.049, 0.0165, 0.5055, 0.104, 0.132, 0.39, 0.008, 0.282, 0.005, 0.1105, 0.0425, 0.0005, 0.6415, 0.0595, 0.014, 0.5745, 0.0425, 0.153, 0.117, 0.3375, 0.02, 0.174, 0.085, 0.0245, 0.3095, 0.203, 0.304, 0.4415, 0.0025, 0.0065, 0.0115, 0.6535, 0.2605, 0.0135, 0.1065, 0.0885, 0.1245, 0.0535, 0.102, 0.1705, 0.003, 0.0655, 0.007, 0.025, 0.8185, 0.0335, 0.113, 0.4615, 0.108, 0.04, 0.257, 0.085, 0.0185, 0.2515, 0.289, 0.1195, 0.0955, 0.139, 0.0465, 0.114, 0, 0.0365, 0.098, 0.6135, 0.742, 0.1475, 0.1695, 0.1005, 0.039, 0.1555, 0.1395, 0.068, 0.332, 0.107, 0.161, 0.018, 0.0705, 0.061, 0.0315, 0.043, 0.0345, 0.088, 0.397, 0.066, 0.0825, 0.051, 0.0775, 0.109, 0.03, 0.0765, 0.123, 0.475, 0.004, 0.023, 0.2185, 0.025, 0.029, 0.0415, 0.652, 0.558, 0.0935, 0.002, 0.0445, 0.028, 0.072, 0.068, 0.8065, 0.027, 0.042, 0.453, 0.254, 0.005, 0.6025, 0.1805, 0.0615, 0.266, 0.738, 0.0015, 0.633, 0.184, 0.03, 0.0305, 0.062, 0.1515, 0.0015, 0.674, 0.143, 0.087, 0.104, 0.3655, 0.0135, 0.0265, 0.0505, 0.1655, 0.0065, 0.0455, 0.079, 0.027, 0.8345, 0.3525, 0.003, 1.2075, 0.0465, 0.018, 0.0275, 0.0175, 0.4375, 0.1755, 0.0815, 0.708, 0.235, 0.02, 0.3545, 0.097, 0.1195, 0.6705, 0.135, 0.0365, 0.048, 0.0185, 0.165, 0.236, 0.4765, 0.023, 0.0115, 0.0335, 0.3315, 0.0355, 0.153, 0.0345, 0.3065, 0.059, 0.1205, 0.081, 0.084, 0.046, 0.0115, 0.728, 0.036, 0.112, 0.047, 0.161, 0.5275, 0.6055, 0.014, 0.4975, 0.176, 0.011, 0.03, 1.4575, 0.0265, 0.0245, 0.009, 1.238, 0.092, 0.3995, 0.6715, 0.196, 0.1225, 0.005, 0.039, 0.8075, 0.052, 0.019, 0.039, 0.0405, 0.2745, 0.0665, 0.0605, 0.093, 0.4295, 0.1325, 0.0525, 0.022, 0.071, 0.0495, 0.0675, 0.7475, 0.069, 0.007, 0.054, 0.041, 0.0115, 0.0395, 0.9355, 0.169, 0.082, 0.019, 0.0495, 0.1015, 0.1645, 0.3495, 0.006, 0.492, 0.1175, 0.4635, 0.015, 0.1525, 0.0555, 0.146, 0.898, 0.039, 0.032, 0.009, 0.7295, 0.002, 0.088, 0.057, 0.987, 0.177, 0.259, 0.0445, 0.2375, 0.177, 0.361, 0.2935, 0.7485, 0.0225, 0.037, 0.3665, 0.03, 0.01, 0.055, 0.1275, 0.5375, 0.0275, 0.021, 0.0215, 0.023, 0.03, 0.0435, 0.1875, 0.307, 0.159, 0.37, 0.602, 0.001, 0.1475, 0.113, 0.094, 0.12, 0.076, 0.246, 0.038, 0.057, 0.3645, 0.129, 0.1045, 0.373, 0.1255, 0.7805, 0.095, 0.029, 0.0215, 0.1445, 0.725, 0.0625, 0.0925, 0.0915, 0.027, 0.0455, 0.123, 0.1345, 0.0685, 0.43, 0.0085, 0.37, 0.9385, 0.0155, 0.0015, 0.025, 0.028, 0.471, 0.4565, 0.1585, 0.0245, 0.307, 0.745, 0.0825, 0.1685, 0.213, 0.2765, 0.627, 0.93, 0.006, 0.255, 0.0035, 0.0865, 0.09, 0.0775, 0.019, 0.1635, 0.141, 0.1745, 0.7245, 0.187, 0.4145, 0.627, 0.083, 0.094, 0.073, 0.023, 0.0145, 0.5625, 0.0435, 0.13, 0.1135, 0.1185, 0.177, 0.256, 0.288, 0.326, 0.0675, 0.1325, 0.101, 0.155, 0.349, 1.315, 0.0075, 0.1995, 0.0865, 0.2175, 0.0275, 0.16, 0.051, 0.094, 0.008, 0.1155, 0.0305, 0.0885, 0.0365, 0.792, 0.4395, 0.0285, 0.0315, 0.0405, 0.0245, 0.1315, 0.532, 0.157, 0.1145, 0.025, 0.143, 0.142, 0.128, 0.0455, 0.7425, 0.047, 0.1425, 0.128, 0.1675, 0.0075, 0.2535, 0.378, 0.1205, 0.028, 0.06, 0.122, 0.026, 0.2775, 0.0085, 0.4385, 0.0385, 0.1155, 0.0905, 0.5655, 0.1235, 0.0445, 0.3535, 0.3555, 0.1545, 0.003, 0.0075, 0.146, 0.062, 0.235, 0.214, 0.118, 0.0825, 0.0345, 0.0825, 0.161, 0.0335, 0.062, 0.182, 0.0575, 0.091, 0.024, 0.2635, 0.085, 0.018, 0.0645, 0.058, 0.122, 0.036, 0.778, 0.0085, 0.111, 0.09, 0.1645, 0.6375, 0.0255, 0.039, 0.8045, 0.081, 0.1555, 0.0635, 0.199, 0.1785, 0.0445, 0.07, 0.0635, 0.6715, 0.2525, 0.0765, 0.1635, 0.0075, 0.111, 0.192, 0.0635, 0.052, 0.1005, 0.0635, 0.3705, 0.0325, 0.0455, 0.256, 0.006, 0.2465, 0.589, 0.0715, 0.1155, 0.0525, 0.032, 0.1595, 0.13, 0.079, 0.7345, 0.009, 0.141, 0.009, 0.4935, 0.0085, 0.0215, 0.7725, 0.1275, 0.1105, 0.813, 0.0065, 0.004, 0.3245, 0.334, 0.415, 0.08, 0.047, 0.3205, 1.0435, 0.673, 0.5955, 0.2965, 0.058, 0.0225, 0.2055, 0.0235, 0.069, 0.43, 0.3645, 0.119, 0.587, 0.1175, 0.0775, 0.0195, 0.0135, 0.553, 0.718, 0.6095, 0.2445, 0.81, 0.2775, 0.1815, 0.01, 0.0985, 0.054, 0.091, 0.03, 0.0325, 0.1095, 0.151, 0.1135, 0.0605, 0.06, 0.0235, 0.007, 0.088, 0.0945, 0.0745, 0.4035, 0.277, 0.0465, 0.663, 0.106, 0.243, 0.073, 0.203, 0.2135, 0.1955, 0.0855, 0.413, 0.0655, 0.015, 0.016, 0.6445, 0.009, 0.0195, 0.068, 0.075, 0.0475, 0.031, 0.473, 0.082, 0.269, 0.2885, 0.1265, 0.043, 0.155, 0.014, 0.0865, 0.253, 0.005, 0.548, 0.3585, 0.096, 0.0115, 0.0585, 0.0425, 0.019, 0.546, 0.023, 0.0755, 0.0565, 0.1345, 0.7285, 0.1005, 0.1285, 0.0795, 0.015, 0.033, 0.0845, 0.035, 0.053, 0.036, 0.017, 0.1145, 0.013, 0.0515, 0.0865, 0.007, 0.417, 0.091, 0.0525, 0.034, 0.014, 0.189, 0.1455, 0.015, 0.2715, 0.1555, 0.696, 0.0295, 0.172, 0.0345, 0.066, 0.0665, 0.328, 1.1645, 0.0515, 0.4745, 0.006, 0.062, 0.013, 0.16, 0.199, 0.0455, 0.576, 0.1035, 0.9535, 0.305, 0.2935, 0.03, 0.0125, 0.0735, 0.123, 0.065, 0.151, 0.01, 0.0995, 0.1895, 0.5835, 0.0615, 0.555, 0.005, 0.2385, 0.1115, 0.18, 0.1185, 0.6335, 0.06, 0.0415, 0.406, 0.001, 0.183, 0.0035, 0.1185, 0.091, 0.0765, 0.138, 0.032, 1.2235, 0.142, 0.093, 0.0095, 0.1025, 0.034]\n"
          ]
        }
      ]
    },
    {
      "cell_type": "markdown",
      "metadata": {
        "id": "X7ebrv2NWJdQ"
      },
      "source": [
        "Once we have obtained the predicted density values, we need to determine a threshold $t$ such that if a sample has a density lower than $t$, it is classified as an outlier. For this, we will define a validation partition from our test groups, and we'll try to find the best possible value for $t$ using only validation samples. After that, we'll use this threshold to compare with all the remaining test samples. "
      ]
    },
    {
      "cell_type": "code",
      "metadata": {
        "colab": {
          "base_uri": "https://localhost:8080/"
        },
        "id": "2FRvcQOTWJdQ",
        "outputId": "589f9ba9-d67b-4c42-ec6a-d4489fd38f5a"
      },
      "source": [
        "Spred_val = np.concatenate((Spred_ones[:100], Spred_zeros[:100]))\n",
        "print(Spred_val.shape)\n",
        "\n",
        "Sy_val = np.concatenate((np.ones(100), np.zeros(100)))\n",
        "print(Sy_val.shape)"
      ],
      "execution_count": null,
      "outputs": [
        {
          "output_type": "stream",
          "name": "stdout",
          "text": [
            "(200,)\n",
            "(200,)\n"
          ]
        }
      ]
    },
    {
      "cell_type": "code",
      "metadata": {
        "colab": {
          "base_uri": "https://localhost:8080/",
          "height": 283
        },
        "id": "xQdYXo1LWJdR",
        "outputId": "8dcb89c5-093b-4751-90f5-9b5fe8bcfdac"
      },
      "source": [
        "from sklearn.metrics import roc_curve, auc\n",
        "\n",
        "fpr, tpr, thresholds = roc_curve(Sy_val, Spred_val, pos_label=1)\n",
        "\n",
        "plt.figure()\n",
        "lw = 2\n",
        "plt.plot(fpr, tpr, color=\"darkorange\",\n",
        "    lw=lw, label=\"ROC curve\")\n",
        "plt.plot([0, 1], [0, 1], color=\"navy\", lw=lw, linestyle=\"--\")\n",
        "print(auc(fpr, tpr))"
      ],
      "execution_count": null,
      "outputs": [
        {
          "output_type": "stream",
          "name": "stdout",
          "text": [
            "0.56485\n"
          ]
        },
        {
          "output_type": "display_data",
          "data": {
            "image/png": "[encoded data removed]",
            "text/plain": [
              "<Figure size 432x288 with 1 Axes>"
            ]
          },
          "metadata": {
            "needs_background": "light"
          }
        }
      ]
    },
    {
      "cell_type": "code",
      "metadata": {
        "colab": {
          "base_uri": "https://localhost:8080/"
        },
        "id": "0B05qLIxWJdR",
        "outputId": "ff4acbd1-a3b8-40de-e782-e241ad082460"
      },
      "source": [
        "from sklearn.metrics import f1_score\n",
        "\n",
        "m, T = 0,0\n",
        "for t in thresholds:\n",
        "    preds = (Spred_val > t).astype(int)\n",
        "    metric = f1_score(Sy_val, preds, average='weighted')\n",
        "    if (metric > m):    \n",
        "        m = metric\n",
        "        T = t\n",
        "\n",
        "print(T)"
      ],
      "execution_count": null,
      "outputs": [
        {
          "output_type": "stream",
          "name": "stdout",
          "text": [
            "0.1245\n"
          ]
        }
      ]
    },
    {
      "cell_type": "markdown",
      "metadata": {
        "id": "7lNuMwTDWJdS"
      },
      "source": [
        "We have obtained that our best threshold is at $t = 0.1245$. So we will use this threshold to compare all test samples and to calculate some metrics for our estimator."
      ]
    },
    {
      "cell_type": "code",
      "metadata": {
        "id": "yJ6kzaQvWJdS"
      },
      "source": [
        "Spr_zeros = (np.array(Spred_zeros) > T).astype(int)\n",
        "\n",
        "Spr_ones = (np.array(Spred_ones) > T).astype(int)"
      ],
      "execution_count": null,
      "outputs": []
    },
    {
      "cell_type": "code",
      "metadata": {
        "colab": {
          "base_uri": "https://localhost:8080/"
        },
        "id": "wDfukg8yWJdT",
        "outputId": "d6412e6c-ad91-4996-aa35-1bc94be2ae2a"
      },
      "source": [
        "from sklearn.metrics import classification_report\n",
        "\n",
        "print(classification_report(\n",
        "        np.concatenate((np.ones(248), np.zeros(597))), \n",
        "        np.concatenate((Spr_ones[100:], Spr_zeros[100:])), digits=4))"
      ],
      "execution_count": null,
      "outputs": [
        {
          "output_type": "stream",
          "name": "stdout",
          "text": [
            "              precision    recall  f1-score   support\n",
            "\n",
            "         0.0     0.7559    0.5913    0.6635       597\n",
            "         1.0     0.3545    0.5403    0.4281       248\n",
            "\n",
            "    accuracy                         0.5763       845\n",
            "   macro avg     0.5552    0.5658    0.5458       845\n",
            "weighted avg     0.6381    0.5763    0.5944       845\n",
            "\n"
          ]
        }
      ]
    },
    {
      "cell_type": "markdown",
      "metadata": {
        "id": "r8cOCPlYWJdT"
      },
      "source": [
        "## SpamBase 8x8 Pure State"
      ]
    },
    {
      "cell_type": "code",
      "metadata": {
        "colab": {
          "base_uri": "https://localhost:8080/"
        },
        "id": "q8gbcByCWJdU",
        "outputId": "bf9bf62b-d656-401d-f994-869b7cf23b4e"
      },
      "source": [
        "phi_train = np.sum(np.abs(Strain), axis=0)\n",
        "phi_train = phi_train / np.linalg.norm(phi_train)\n",
        "\n",
        "U_train = create_U_train(phi_train)\n",
        "\n",
        "print(U_train)"
      ],
      "execution_count": null,
      "outputs": [
        {
          "output_type": "stream",
          "name": "stdout",
          "text": [
            "[[ 2.42533676e-01  3.92465306e-01 -6.70307607e-01  2.91091225e-01\n",
            "   2.67895241e-01 -4.20590156e-01 -6.43884790e-02 -1.70937208e-02]\n",
            " [ 3.96977281e-01 -1.22555550e-01  3.64045805e-02  2.60429951e-02\n",
            "  -6.95863502e-01 -2.91149292e-01 -5.06351380e-01 -3.63535790e-05]\n",
            " [ 2.06555201e-01  1.73205406e-01 -2.28882531e-01  7.00712557e-02\n",
            "  -2.51969816e-01  5.40217153e-01  1.42867681e-01 -7.03066929e-01]\n",
            " [ 2.22028386e-01  5.51803480e-01  6.94026834e-01  2.93379612e-01\n",
            "   1.23616632e-01 -1.80470956e-01  3.93990677e-02 -1.70494422e-01]\n",
            " [ 4.33649605e-01  3.06048557e-01 -5.08853786e-03 -7.41394147e-01\n",
            "   2.34198061e-01  2.05822626e-01 -2.12803105e-01  1.61537237e-01]\n",
            " [ 3.73541690e-01 -5.31680987e-01  1.05928774e-01  2.79501890e-01\n",
            "   5.36466451e-01  1.51244397e-01 -3.80668763e-01 -1.81272982e-01]\n",
            " [ 3.71143602e-01  6.25581780e-02 -4.59237958e-02  3.98627595e-01\n",
            "  -1.48527718e-01  4.65894247e-01  2.29219143e-01  6.36919617e-01]\n",
            " [ 4.75701431e-01 -3.40881226e-01  4.41153768e-02 -1.92134164e-01\n",
            "  -2.30390559e-02 -3.62817311e-01  6.89030956e-01 -1.08238517e-01]]\n"
          ]
        }
      ]
    },
    {
      "cell_type": "markdown",
      "metadata": {
        "id": "oQ6KG1LsWJdU"
      },
      "source": [
        "We will need a different circuit for each sample $|x \\rangle$ in the test partition. To obtain a more accurate predicted value, we will run the circuit many shots, and then we will store the amount of $|00 \\rangle$ obtained."
      ]
    },
    {
      "cell_type": "code",
      "metadata": {
        "id": "V0D8fGj7WJdV"
      },
      "source": [
        "backend = Aer.get_backend('qasm_simulator')\n",
        "np.random.seed(1234)"
      ],
      "execution_count": null,
      "outputs": []
    },
    {
      "cell_type": "code",
      "metadata": {
        "colab": {
          "base_uri": "https://localhost:8080/"
        },
        "id": "9je3R2YuWJdV",
        "outputId": "e289ebb0-d7c6-4a87-b782-5aa62372fb53"
      },
      "source": [
        "## Density Estimation Approach matrices 8x8\n",
        "Spred_ones = []\n",
        "\n",
        "for i in range(len(Stest_ones)):\n",
        "\n",
        "    qc = QuantumCircuit(3, 3)\n",
        "    qc.initialize(Stest_ones[i], [0, 1, 2])\n",
        "    qc.isometry(U_train.T, [], [0, 1, 2]) # ArbRot as a isometry\n",
        "\n",
        "    qc.measure(0, 0)\n",
        "    qc.measure(1, 1)\n",
        "    qc.measure(2, 2)\n",
        "\n",
        "    counts = execute(qc, backend, shots=8000).result().get_counts()\n",
        "    try:\n",
        "        Spred_ones.append((counts['000'])/2000)\n",
        "    except:\n",
        "        Spred_ones.append(0)\n",
        "\n",
        "print(Spred_ones)\n",
        "\n",
        "# Works"
      ],
      "execution_count": null,
      "outputs": [
        {
          "output_type": "stream",
          "name": "stdout",
          "text": [
            "[0.0275, 0, 0.0505, 0.002, 0.0015, 0.065, 0.017, 0.0085, 0.0015, 0.022, 0.0045, 0.0005, 0.0895, 0.032, 0.024, 0.155, 0.4805, 0.0435, 0.128, 0.0895, 0.4935, 1.6055, 0.001, 0.137, 0.008, 0.01, 0.0175, 0.0055, 0.0075, 0.744, 0.0205, 0.055, 0.0175, 0.0045, 0.0095, 0.0015, 0, 0.0155, 0.0835, 0.221, 0.1505, 0.0055, 0.0505, 0.0055, 0.0855, 0.0055, 0.8515, 0.522, 0.073, 0.515, 0.0015, 0, 0.021, 0.027, 0.061, 0.0035, 0.2645, 0.004, 0.005, 0.238, 1.5505, 0.021, 0.0235, 0.0015, 0, 1.054, 0.0375, 1.4595, 0.075, 0.074, 0.0065, 0.0115, 0.019, 0.014, 0.0065, 0.076, 0.007, 0.3075, 0.0085, 0.0165, 0.001, 0, 0.023, 0.051, 0.017, 0.0065, 0.8465, 0.128, 0.0415, 0.8345, 0.0265, 0.014, 0.3315, 0.0095, 1.8025, 0.0085, 0.011, 0.03, 0.007, 0.0635, 0.817, 0.001, 0.076, 0.0085, 0.008, 0.001, 0.001, 0.072, 0.5335, 1.0365, 1.1715, 0.0115, 0.2505, 0.096, 0.0155, 0.0435, 0.02, 0.0485, 0.0955, 1.228, 0.059, 0.0145, 0.001, 0.027, 0.0035, 0.004, 0.016, 0.1, 0.0055, 0.012, 0.0205, 0.0055, 0.0005, 0.061, 0.0125, 0.01, 0.003, 0.05, 0.025, 0.003, 0.0165, 0.001, 0, 1.6385, 0.005, 0.513, 0.003, 0.003, 0.126, 0.0695, 0.0015, 0.5505, 0.069, 0.006, 0.1085, 0.025, 0.111, 0.024, 0.004, 0.0225, 0, 0.019, 0.0015, 0.022, 0.3175, 0.0035, 0.319, 0.0095, 0.069, 0.1655, 0.4895, 0.0125, 0.0005, 0.051, 0, 0.023, 0.0015, 0.0475, 0.092, 0.0415, 0, 0.0015, 0.2365, 0.0105, 0.822, 0.002, 0.0155, 0.0025, 0.0015, 0, 0.002, 0.0835, 0.466, 0.0105, 0.4215, 0.001, 0.311, 0, 0.7275, 0.2385, 0.0855, 0.0025, 0, 0.017, 0.205, 0.1555, 0.0095, 0.0495, 0.0255, 0.003, 0.0135, 0, 0.014, 0.003, 0.1405, 0.019, 0.022, 0.1465, 0.055, 0.0155, 0, 0.0005, 0.0045, 0.007, 0.5385, 0.001, 0.0385, 0.0005, 0.173, 0.0005, 0.0015, 0.01, 0.0035, 0.1895, 0.0785, 0.017, 0.131, 0.0025, 0.0125, 0.2235, 0.1145, 0.0385, 0.062, 0.1255, 0.0065, 0.06, 0.255, 0, 0.034, 0.0145, 0.003, 0.1345, 0.0095, 0.068, 0.003, 0.013, 0.047, 0.0025, 0.0785, 0.017, 0.132, 0.0225, 0.3465, 0.0835, 0, 0.0205, 0, 0, 0.0045, 0.198, 0.067, 0.0015, 0.002, 0.0005, 0.0115, 0.0235, 0.017, 0.056, 0.133, 0.0385, 0.0285, 0.0275, 0.007, 0, 0.0135, 0.001, 0.002, 0.0605, 0.01, 0.018, 0.6835, 0.147, 0.0125, 0.002, 0.007, 0, 0.3005, 0.105, 0.068, 0.055, 0.003, 0.014, 0.0195, 0.039, 0.007, 0.0035, 0.1835, 0.191, 0.005, 0.055, 0.0135, 0.024, 0.063, 0.0025, 0.026, 0.095, 0.1945, 0.002, 0.0735, 0.8665, 0.01, 0.1015, 0.0065, 0.0065, 0.016, 0.0015, 0.036, 0.029, 0, 0.012, 0.0385, 0.1555, 0.003, 0.004, 0.057, 0.074, 0, 0.5585, 0.166, 0.003, 0.058, 0.878, 1.4335, 0.0375, 0.007, 0.355, 0.084, 0.023]\n"
          ]
        }
      ]
    },
    {
      "cell_type": "code",
      "metadata": {
        "colab": {
          "base_uri": "https://localhost:8080/"
        },
        "id": "N9DCF6HCWJdV",
        "outputId": "4fa314c9-54ea-4b59-eb09-e8cfb3ae9760"
      },
      "source": [
        "# Pure state case\n",
        "Spred_zeros = []\n",
        "\n",
        "for i in range(len(Stest_zeros)):\n",
        "\n",
        "    qc = QuantumCircuit(3, 3)\n",
        "    qc.initialize(Stest_zeros[i], [0, 1, 2])\n",
        "    qc.isometry(U_train.T, [], [0, 1, 2]) # ArbRot as a isometry\n",
        "\n",
        "    qc.measure(0, 0)\n",
        "    qc.measure(1, 1)\n",
        "    qc.measure(2, 2)\n",
        "\n",
        "    counts = execute(qc, backend, shots=8000).result().get_counts()\n",
        "    try:\n",
        "        Spred_zeros.append((counts['000'])/2000)\n",
        "    except:\n",
        "        Spred_zeros.append(0)\n",
        "\n",
        "print(Spred_zeros)"
      ],
      "execution_count": null,
      "outputs": [
        {
          "output_type": "stream",
          "name": "stdout",
          "text": [
            "[0.061, 0.0225, 0.0355, 0.037, 0.0105, 0.04, 0.0135, 0.126, 0.0425, 0, 0.025, 0.0005, 0.0035, 0.2895, 0.0555, 0.067, 0.2375, 0.07, 0.0405, 0.042, 0.0635, 0.0015, 0.012, 0.053, 0.094, 0.092, 0.026, 0.083, 0.006, 0, 0.0005, 0.0255, 0.0015, 0.1215, 0.001, 0.026, 0.1305, 0.035, 0.001, 0.059, 0.007, 0.0665, 0.012, 0.002, 0, 0, 0.1135, 0.0205, 0.017, 0.109, 0.004, 0.0015, 0.0005, 0.1435, 0.001, 0, 0.0185, 0.001, 0.0535, 0.399, 0.0505, 0.121, 0.0045, 0.0015, 0, 0.069, 0.048, 0.012, 0, 0.0765, 0.162, 0.0185, 0.209, 0.0335, 0.008, 0.11, 0.01, 0.039, 0.0395, 0.001, 0.0285, 0.0575, 0.0175, 0.071, 0.031, 0.033, 0.001, 0.03, 0.0175, 0.001, 0.0255, 0.018, 0.004, 0.2395, 0, 0.0585, 0.1205, 0.273, 0.022, 0.292, 0.0685, 0.1775, 0, 0.0485, 0.0535, 0.084, 0.016, 0.001, 0.2905, 0.0075, 0.116, 0.101, 0, 0.083, 0.0235, 0.071, 0.6065, 0.0695, 0.0665, 0, 0.003, 0.0115, 0.005, 0.0235, 0.0185, 0.9595, 0.0005, 0.0095, 0.1295, 0.02, 0.002, 0.098, 0.021, 0.2765, 0.058, 0.009, 0.029, 0.032, 0.0045, 0.126, 0.1055, 0.0545, 0.0835, 0.1565, 0.563, 0.0135, 0.294, 0.012, 0.1165, 0.0015, 1.194, 0, 0.1895, 0.064, 0.0005, 0.048, 0, 0.0565, 0.0045, 0.025, 0.0005, 0.134, 0.0625, 0.0785, 0.032, 0.0085, 0, 0.0365, 0.0065, 0.0495, 0.0305, 0.0485, 0.023, 0.401, 0.001, 0.005, 0.0305, 0.0405, 0.0395, 0.011, 0.2, 0.048, 0.006, 0.037, 0.044, 0.035, 0.077, 0.0095, 0.0145, 0.022, 0.0105, 0.0055, 0.0225, 0.001, 0.338, 0.452, 0.006, 0.0195, 0.0135, 0.0145, 0.3515, 0.025, 0.0465, 0.0515, 0.014, 0.099, 0.01, 0.001, 0.165, 0.0645, 0.0305, 0.185, 0.013, 0.069, 0.0205, 0.0075, 0.001, 0.13, 0.0205, 0.238, 0, 0.0065, 0.07, 0.0805, 0, 0.028, 0.0195, 0.762, 0.079, 0.282, 0.212, 0.028, 0.0005, 0.0015, 0.0605, 1.0805, 0.011, 0.043, 0.078, 0.043, 0.1205, 0.005, 0.0945, 0.0265, 0.0035, 0.0315, 0.022, 0.0565, 0.0295, 0.005, 0.1285, 0.182, 0.023, 0.0045, 0.1175, 0.019, 0.0185, 0.0025, 0.003, 0.008, 0, 0.001, 0.0125, 0.035, 0.0005, 0.261, 0.0155, 0.2165, 0.058, 0.049, 0.034, 0.0365, 0, 0.2785, 0.0085, 0.021, 0.0275, 0.015, 0.0015, 0, 0.1735, 0.077, 0.0035, 0.0425, 0.551, 0.095, 0.0105, 0.1835, 0.001, 0.41, 0.4065, 0.024, 0.073, 0.002, 0.04, 0.0025, 0.017, 0.06, 0.5385, 0.0415, 0.028, 0.0035, 0.039, 0.014, 0, 0.005, 0.019, 0.014, 0.1635, 0.0245, 0, 0.039, 0.219, 0.1625, 0.062, 0.098, 0.056, 0.0545, 0.0095, 0.08, 0.2785, 0, 0.1285, 0.0325, 0.1465, 0.0945, 0.0475, 0.013, 0.065, 0.136, 0.051, 0.044, 0.0245, 0.009, 0.0655, 0.001, 0.2925, 0.103, 0.8825, 0.0235, 0.829, 0.035, 0.054, 0, 0, 0, 0.1085, 0.025, 0.0525, 0.0305, 0.669, 0.386, 0.171, 0.001, 0.0085, 0.2575, 0.0255, 0.003, 0.0085, 0.4795, 0.0045, 0.038, 0.192, 0.12, 0.022, 0.0715, 0.0085, 0, 0, 0.062, 0.0605, 0.1805, 0.006, 0.019, 0.068, 0.0065, 0.02, 0.116, 0.009, 0.056, 0.002, 0.131, 0.1385, 0.0055, 0.0005, 0.1075, 0.0625, 0.165, 0.0635, 0.1515, 0.057, 0.077, 0.005, 0.013, 0.058, 0.049, 0, 0.185, 0.0735, 0.06, 0.0055, 0.0385, 0.0155, 0.1735, 0.085, 0.103, 0.827, 0.0405, 0.0045, 0.027, 0.0445, 0.0385, 0.109, 0.0005, 0.1105, 0.003, 0.292, 0, 0.235, 0.0235, 0.4285, 0.118, 0.0045, 0.085, 0.0665, 0.0055, 0.0025, 0.008, 0.22, 0.0055, 0.111, 0.135, 0.051, 0.1225, 0.01, 0.178, 0.0035, 0.0475, 0.005, 0.0035, 0, 0.051, 0.4, 0.0085, 0.005, 0.0025, 0.0135, 0.0035, 0.121, 0.0075, 0.006, 0.0105, 0.027, 0.048, 0.117, 0.073, 0.0585, 0.07, 0.0435, 0.0135, 0, 0, 0.0615, 0, 0.0005, 0.1425, 0.127, 0, 0.059, 0.4295, 0.0185, 0.017, 0.038, 0, 0.22, 0.0125, 0.0135, 0.1075, 0.053, 0.229, 0.016, 0.1045, 0, 0.075, 0.032, 0.0505, 0.01, 0, 0.019, 0.14, 0, 0.054, 0.0535, 0.049, 0.1025, 0.0235, 0.002, 0.3195, 0.051, 0.04, 0.0025, 0.013, 0.048, 0.116, 0.127, 0.1665, 0.0085, 0, 0.013, 0.281, 0.174, 0.0065, 0.0005, 0, 0.015, 0.1375, 0.014, 0.043, 0.0775, 0.0375, 0.001, 0.103, 0.007, 0.01, 0.0375, 0.0055, 0.0095, 0.0145, 0.005, 0.18, 0.247, 0.0465, 0.06, 0.003, 0.108, 0.0105, 0.3415, 0.049, 0.0155, 0.966, 0.5885, 0.022, 0.002, 0.035, 0.0685, 0.0305, 0.0415, 0.552, 0.136, 0.141, 0.0345, 0.0125, 0.0415, 0.077, 0.0175, 0.1515, 0.0015, 0.1035, 0.047, 0.0025, 0.004, 0.0025, 0.104, 0.11, 0.0395, 0.015, 0.01, 0.144, 0.0165, 0.066, 0, 0.1595, 0.026, 0.433, 0.0985, 0.0525, 0.0755, 0.009, 0.018, 0.0745, 0.0505, 0.3105, 0.1475, 0.03, 0.0405, 0.1655, 0.022, 0.0065, 0.106, 0.1155, 0.0275, 0.021, 0.13, 0.0475, 0.172, 0.0045, 0.2145, 0.096, 0.002, 0.002, 0.0575, 0.0945, 0.007, 0.0715, 0.4175, 0.142, 0.035, 0.008, 0.0985, 0.0275, 0, 0.0095, 0.04, 0.0415, 0.052, 0.1275, 0.0255, 0.2965, 0, 0.0275, 0, 0.028, 0.006, 0.012, 0.0025, 0.035, 0.0045, 0.04, 0.0025, 0.1095, 0.011, 0.1525, 0.1195, 0.1, 0.001, 0.011, 0.032, 0.0015, 0.0085, 0.5015, 0.13, 0.0375, 0.0775, 0.027, 0.0095, 0.022, 0, 0.0495, 1.8035, 0.0055, 0.037, 0.011, 0, 0.029, 0.0345, 0.0115, 0.0985, 0.3525, 0.1685, 0.002, 0.379, 0.1455, 0.01, 0.019, 0.139, 0.0005, 0.0235, 0.2815, 0.005, 0.0025, 0.017, 0.002, 0.046, 0.406, 0.0025, 0.148, 0.2, 0.0335, 0.0115, 0.3325, 0.131, 0.0075, 0, 0.001, 0.0015, 0.0065, 0.0005, 0.0915, 0.0305, 0.286, 0.033, 0.453, 0.051, 0.007, 0.025, 0.1735, 0.0035]\n"
          ]
        }
      ]
    },
    {
      "cell_type": "markdown",
      "metadata": {
        "id": "Ph47ekHrWJdW"
      },
      "source": [
        "Once we have obtained the predicted density values, we need to determine a threshold $t$ such that if a sample has a density lower than $t$, it is classified as an outlier. For this, we will define a validation partition from our test groups, and we'll try to find the best possible value for $t$ using only validation samples. After that, we'll use this threshold to compare with all the remaining test samples. "
      ]
    },
    {
      "cell_type": "code",
      "metadata": {
        "colab": {
          "base_uri": "https://localhost:8080/"
        },
        "id": "bmQ8B25vWJdW",
        "outputId": "f7ec8356-165b-426f-8a73-ceb16f92c6a2"
      },
      "source": [
        "Spred_val = np.concatenate((Spred_ones[:100], Spred_zeros[:100]))\n",
        "print(Spred_val.shape)\n",
        "\n",
        "Sy_val = np.concatenate((np.ones(100), np.zeros(100)))\n",
        "print(Sy_val.shape)"
      ],
      "execution_count": null,
      "outputs": [
        {
          "output_type": "stream",
          "name": "stdout",
          "text": [
            "(200,)\n",
            "(200,)\n"
          ]
        }
      ]
    },
    {
      "cell_type": "code",
      "metadata": {
        "colab": {
          "base_uri": "https://localhost:8080/",
          "height": 283
        },
        "id": "zyDQbZtKWJdX",
        "outputId": "27efcf44-9118-40d2-e70e-bd0ae5d9d3a0"
      },
      "source": [
        "from sklearn.metrics import roc_curve, auc\n",
        "\n",
        "fpr, tpr, thresholds = roc_curve(Sy_val, Spred_val, pos_label=1)\n",
        "\n",
        "plt.figure()\n",
        "lw = 2\n",
        "plt.plot(fpr, tpr, color=\"darkorange\",\n",
        "    lw=lw, label=\"ROC curve\")\n",
        "plt.plot([0, 1], [0, 1], color=\"navy\", lw=lw, linestyle=\"--\")\n",
        "print(auc(fpr, tpr))"
      ],
      "execution_count": null,
      "outputs": [
        {
          "output_type": "stream",
          "name": "stdout",
          "text": [
            "0.5305\n"
          ]
        },
        {
          "output_type": "display_data",
          "data": {
            "image/png": "[encoded data removed]",
            "text/plain": [
              "<Figure size 432x288 with 1 Axes>"
            ]
          },
          "metadata": {
            "needs_background": "light"
          }
        }
      ]
    },
    {
      "cell_type": "code",
      "metadata": {
        "colab": {
          "base_uri": "https://localhost:8080/"
        },
        "id": "4Vdi14naWJdX",
        "outputId": "60bb0816-edbb-4e9d-93cd-3ba613459cb4"
      },
      "source": [
        "from sklearn.metrics import f1_score\n",
        "\n",
        "m, T = 0,0\n",
        "for t in thresholds:\n",
        "    preds = (Spred_val > t).astype(int)\n",
        "    metric = f1_score(Sy_val, preds, average='weighted')\n",
        "    if (metric > m):    \n",
        "        m = metric\n",
        "        T = t\n",
        "\n",
        "print(T)"
      ],
      "execution_count": null,
      "outputs": [
        {
          "output_type": "stream",
          "name": "stdout",
          "text": [
            "0.073\n"
          ]
        }
      ]
    },
    {
      "cell_type": "markdown",
      "metadata": {
        "id": "sxU-HzQLWJdY"
      },
      "source": [
        "We have obtained that our best threshold is at $t = 0.073$. So we will use this threshold to compare all test samples and to calculate some metrics for our estimator."
      ]
    },
    {
      "cell_type": "code",
      "metadata": {
        "id": "zJGBLxkpWJdY"
      },
      "source": [
        "Spr_zeros = (np.array(Spred_zeros) > T).astype(int)\n",
        "\n",
        "Spr_ones = (np.array(Spred_ones) > T).astype(int)"
      ],
      "execution_count": null,
      "outputs": []
    },
    {
      "cell_type": "code",
      "metadata": {
        "colab": {
          "base_uri": "https://localhost:8080/"
        },
        "id": "c5RjZrvWWJdY",
        "outputId": "2df9d55a-bbfb-4de4-b886-7aded2147a10"
      },
      "source": [
        "from sklearn.metrics import classification_report\n",
        "\n",
        "print(classification_report(\n",
        "        np.concatenate((np.ones(248), np.zeros(597))), \n",
        "        np.concatenate((Spr_ones[100:], Spr_zeros[100:])), digits=4))"
      ],
      "execution_count": null,
      "outputs": [
        {
          "output_type": "stream",
          "name": "stdout",
          "text": [
            "              precision    recall  f1-score   support\n",
            "\n",
            "         0.0     0.6971    0.6901    0.6936       597\n",
            "         1.0     0.2717    0.2782    0.2749       248\n",
            "\n",
            "    accuracy                         0.5692       845\n",
            "   macro avg     0.4844    0.4842    0.4843       845\n",
            "weighted avg     0.5723    0.5692    0.5707       845\n",
            "\n"
          ]
        }
      ]
    },
    {
      "cell_type": "markdown",
      "metadata": {
        "id": "nVKLAsxHTOLb"
      },
      "source": [
        "## Acknowledgements\n",
        "\n",
        "The team thanks specially to our mentor Fabio González for his valuable help and support. Also, we acknowledge the use of IBM Quantum services."
      ]
    },
    {
      "cell_type": "markdown",
      "metadata": {
        "id": "hwS8L9fRRtKY"
      },
      "source": [
        "## References\n",
        "\n",
        "[González2021] Fabio  A.  González,  Alejandro  Gallego,  Santiago  Toledo-Cortés,  and Vladimir Vargas-Calderón.  Learning with Density Matrices and Random Features.  2021.  URL http://arxiv.org/abs/2102.04394.\n",
        "\n",
        "[QTML2021] Fabio A. González,  Vladimir Vargas-Calderón, Alejandro Gallego, Herbert Vinck-Posada. NON-PARAMETRIC MULTIVARIATE CONTINUOUS DENSITY ESTIMATION IN A QUANTUM COMPUTER. 2021.\n",
        "\n",
        "[Useche2021] Diego H Useche, Andres Giraldo-Carvajal, Hernan M Zuluaga-Bucheli, Jose A Jaramillo-Villegas, and Fabio A González. Quantum measurement classification with qudits. arXiv preprint arXiv:2107.09781, 2021.\n",
        "\n",
        "[Parzen1962] Parzen, E. On estimation of a probability density function and mode. The annals of mathematical statistics, 33(3): 1065–1076, 1962\t\n",
        "\n",
        "[Rahimi2007] Rahimi, A. and Recht, B. Random features for large-scale kernel machines. In Proceedings of the 20th International Conference on Neural Information Processing Systems, NIPS’07, pp. 1177–1184, Red Hook, NY, USA, 2007. Curran Associates Inc. ISBN 9781605603520."
      ]
    }
  ]
}